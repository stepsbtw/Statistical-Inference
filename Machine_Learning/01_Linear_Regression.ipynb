{
  "nbformat": 4,
  "nbformat_minor": 0,
  "metadata": {
    "colab": {
      "provenance": [],
      "authorship_tag": "ABX9TyNzZgQSnA2XL6tg/U1K2lNT",
      "include_colab_link": true
    },
    "kernelspec": {
      "name": "python3",
      "display_name": "Python 3"
    },
    "language_info": {
      "name": "python"
    }
  },
  "cells": [
    {
      "cell_type": "markdown",
      "metadata": {
        "id": "view-in-github",
        "colab_type": "text"
      },
      "source": [
        "<a href=\"https://colab.research.google.com/github/stepsbtw/Statistics-Inference-AI-and-ML/blob/main/01_Linear_Regression.ipynb\" target=\"_parent\"><img src=\"https://colab.research.google.com/assets/colab-badge.svg\" alt=\"Open In Colab\"/></a>"
      ]
    },
    {
      "cell_type": "markdown",
      "source": [
        "All machine Learning Algorithms follow a certain pipeline.\n",
        "\n",
        "DATA:\n",
        "-  Define Database\n",
        "- PreProcess the Data\n",
        "- Choose your Features (X)\n",
        "- Add the Labels (Y)"
      ],
      "metadata": {
        "id": "rsAmeDz9bU6g"
      }
    },
    {
      "cell_type": "markdown",
      "source": [
        "Machine Learning Algorithm\n",
        "- Hypothesis Representation (Inductive Bias)\n",
        "- Loss Function\n",
        "- Parameter Fitting (Learning)"
      ],
      "metadata": {
        "id": "elBof-LZcdJ7"
      }
    },
    {
      "cell_type": "markdown",
      "source": [
        "Hypothesis => The model itself\n",
        "A hypothesis is a function PARAMETRIZED by the (Theta Parameter : what we want to optmize)\n",
        "\n",
        "In a supervised algorithm, we already have Labels and Features, so we only evaluate how well that model is predicting.\n",
        "\n",
        "How come? Loss Function. Calculates a certain \"distance\" from the optimal. Compare it with other Hypothesis, choose the best one.\n",
        "\n",
        "Optimizing the Hypothesis - Loss Function parameter Fitting."
      ],
      "metadata": {
        "id": "K5Nfp2aSdnX7"
      }
    },
    {
      "cell_type": "markdown",
      "source": [
        "LINEAR REGRESSION\n",
        "- Inductive Bias : Linear, that is, the hypothesis is represented by a line, a plane, even a hyperplane.\n",
        "\n",
        "- Loss Function : Mean Squared Error\n",
        "\n",
        "- Fitting : Gradient Descent"
      ],
      "metadata": {
        "id": "Rw9JR_bzgvll"
      }
    },
    {
      "cell_type": "markdown",
      "source": [
        "For Machine Learning, we will use Scikit-Learn Framework.\n",
        "Which already implements multiple kinds of Machine Learning Algorithms.\n",
        "( Classification, Regression, Clustering, Model Selection, Reduction of Dimensionality, Preprocessing )"
      ],
      "metadata": {
        "id": "DI6d85xEtO2t"
      }
    },
    {
      "cell_type": "markdown",
      "source": [
        "Representing the Hypothesis:\n",
        "```\n",
        "(.,.) => dot product\n",
        "X => vector of features => dim(X) = dim(Θ)-1, so add 1 column.\n",
        "x0 = 1\n",
        "Θ => vector of parameters\n",
        "```\n",
        "![image.png](data:image/png;base64,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)\n"
      ],
      "metadata": {
        "id": "GG3iJZTuvR6u"
      }
    },
    {
      "cell_type": "markdown",
      "source": [
        "For this implementation we will be using Synthetic Data."
      ],
      "metadata": {
        "id": "gfpQthwaxJDc"
      }
    },
    {
      "cell_type": "markdown",
      "source": [
        "# Generating the data :\n",
        "We will use the case of Area x Cost of a property."
      ],
      "metadata": {
        "id": "jaBdo9ipxM1Y"
      }
    },
    {
      "cell_type": "code",
      "source": [
        "import numpy as np"
      ],
      "metadata": {
        "id": "W_Mh16YA0UUA"
      },
      "execution_count": null,
      "outputs": []
    },
    {
      "cell_type": "code",
      "source": [
        "np.random.seed(42) # setting a seed for repeating the results.\n",
        "\n",
        "# my feature is only the area\n",
        "area = np.random.uniform(500,4000,100) # this creates a distribution(start,finish,quantity) for the random elements.\n",
        "'''\n",
        "  this distribution could be lots of different things.\n",
        "    np.random.normal()\n",
        "    np.random.poisson()\n",
        "    np.random.exponential()\n",
        "  and the list goes on...\n",
        "'''\n",
        "\n",
        "# Now we define the relationship between Area and Price (for generating the data.)\n",
        "base_price = 50000\n",
        "price_per_area = 300\n",
        "\n",
        "# generate the labels (targets) with some noise.\n",
        "noise = np.random.normal(0, 100000, 100) # just to add some randomness\n",
        "\n",
        "total_price = base_price + (price_per_area * area) + noise"
      ],
      "metadata": {
        "id": "5DsLAR2oh5G9"
      },
      "execution_count": null,
      "outputs": []
    },
    {
      "cell_type": "markdown",
      "source": [
        "###Lets check how is our data:"
      ],
      "metadata": {
        "id": "d5aHOX1K0E9m"
      }
    },
    {
      "cell_type": "code",
      "source": [
        "import matplotlib.pyplot as plt"
      ],
      "metadata": {
        "id": "emA7-2mL0KpX"
      },
      "execution_count": null,
      "outputs": []
    },
    {
      "cell_type": "code",
      "source": [
        "# lets plot the data points.\n",
        "\n",
        "plt.scatter(area, total_price, color=\"blue\", label=\"Sinthetic Data\", alpha = 0.6)\n",
        "plt.xlabel(\"Area in squared units\")\n",
        "plt.ylabel(\"Price of the Property\")\n",
        "plt.legend() # it does automatically\n",
        "\n",
        "plt.show()"
      ],
      "metadata": {
        "colab": {
          "base_uri": "https://localhost:8080/",
          "height": 465
        },
        "id": "fKp4-yC00Z_j",
        "outputId": "91737251-22b0-432c-9516-499b062c4401"
      },
      "execution_count": null,
      "outputs": [
        {
          "output_type": "display_data",
          "data": {
            "text/plain": [
              "<Figure size 640x480 with 1 Axes>"
            ],
            "image/png": "[encoded data removed]"
          },
          "metadata": {}
        }
      ]
    },
    {
      "cell_type": "markdown",
      "source": [
        "###That is a Nice indicator of using Linear Regression.\n",
        "We could use the Formula of the NORMAL EQUATION to generate the Model ANALICALLY. Usually, this approach is not that viable because Inverting Matrices is kinda pricy."
      ],
      "metadata": {
        "id": "9W-ED05F1QbG"
      }
    },
    {
      "cell_type": "markdown",
      "source": [
        "![image.png](data:image/png;base64,iVBORw0KGgoAAAANSUhEUgAAALsAAAAmCAYAAACcaOr3AAAEBUlEQVR4Xu1bu5JbIQzdbbeza9f+/+9x7dql22SUGe1oCaAncO8id8kV6OjoAEIkn5fL5c9H/pKBDRj4TLFvkOUM8R8DKfYUwjYMpNi3SXUGmmJPDWzDQIp9m1RnoCn21MA2DKTYBal+vV6s1fV6ZW1WG0AcM3Aela8UO6PA5/P5cb/fv63gz7fb7cco+LsZIrIuFsAHv6+vr+E4j8xXir2jIEzc+/3+tqrtjrN2TKvYQeTwG70oj87X6cU+UmgSYdcSbBUlHTcirhFzcphLn6P4knCuFjvWY0c5trkEtupHxN/7Djsi3dWB0NJfzQbtagmQ+K35kSSTs+G48uL28MVhj/guFjvWfVi/Ph6P/2rXCECaOSS7BB7heIxjvY0ipkc8rcVLkeN4iL/2rcTt9QvjozmWiN2Lm/IgyY8m315bsdiBKBADJlpCnBdcb7yFSMAM+GsXTImIrTFb/bYEb+12aPFbcWPetP5G6gXmFoldevEYDZarDzn/tRJMs2isyfP4tfqscaGdy4N7VCnG5bj3nRV7Swxa4jwgIxIHc8BOSTsSGqFrbGsljdVvJM/auVbxFa0VnI8Ve4sgLXGRAXiEh0cz4OFKF7yn4EKhtXpZCnHxafzSuSJqd9pnxxik+DW4I/ni+LR8P6XYPQsNdyt6/7AQpx3j8euJV4uzdSqN5KvX4YuMXST2WveB2xWxZrOQzbU1vQS0Ll4WrJoxVr/eeDUYWyVj7WLvnRfG0xfXWvcpMvau2MunXwxO+hJH21gaYrjWnocAwI64uEWlwczZevx64uVwcd89uCVz002zFmdk7F2xH7FexxPDIlS6eKULlkuY5LvXb2TCJXjppobvKiP4oo9QtXuY525Wi3MbsZfEWUsKjVjoMU3fJ7QlwQqxz+Zr9K4OuVCLXbPa6O1cIxKuU6BNfuudADBZTghpLFF+tfFK8bXsonBLccxqb6vErhG6NFCLnSb5LczYHdHuslK8kX418UrxaYQOtiP5qsWHd4VyM/JwIRZ7y7mXXMt4TcA9217Ly4KLjon0q4n3SLilWMr4UGtlu9Orwa7Y8UEDQONFheuUSAP02HEPLbXHDVoa0UcWwKF9aOntivgNL18RfkeLfRVflCtoO+IPtFa7EHtPF7bP7hHlyLGjBTASu2buo5SOGswWW9qmBuG3/ldV+U8YNL5S7Bq2FtjusKhhQdMTEGLuvdhaOTmt2LlSZoEuw13usKvTGLGc6r3Oezg5rdhBWdYVHq7KQRP+9viANs290CN08HVqsf/m3d2b2EHr79TTnlrsp2Y+wU9nIMU+nfJ0uIqBFPsq5tPvdAZS7NMpT4erGEixr2I+/U5nIMU+nfJ0uIqBFPsq5tPvdAb+Am906sDrUtFQAAAAAElFTkSuQmCC)\n",
        "\n",
        "This formula optimizes the line analytically.\n",
        "- Inverting a n x n Matrix is O(n^3)\n",
        "- This formula is derived from the assumption of a QUADRATIC error function."
      ],
      "metadata": {
        "id": "py7qsYl5Cw-6"
      }
    },
    {
      "cell_type": "code",
      "source": [
        "print(area.shape)\n",
        "\n",
        "X = np.column_stack((np.ones(area.shape[0]), area)) # adding the \"ones\" column for x0\n",
        "# y = np.transpose(total_price)\n",
        "y = total_price.reshape(-1,1) # column vector\n",
        "\n",
        "# NORMAL EQUATION find the parameters!\n",
        "theta = (np.linalg.inv(X.transpose().dot(X))).dot(X.transpose().dot(y))\n",
        "\n",
        "#print(theta)\n",
        "print(f\"Theta_0 : {theta[0][0]} constant (where intersects)\")\n",
        "print(f\"Theta_1 : {theta[1][0]} inclination (slope) of the line\")"
      ],
      "metadata": {
        "id": "yozv-uh21WqO",
        "colab": {
          "base_uri": "https://localhost:8080/"
        },
        "outputId": "598a62be-18bf-4f11-cc5b-c32f5dbcf541"
      },
      "execution_count": null,
      "outputs": [
        {
          "output_type": "stream",
          "name": "stdout",
          "text": [
            "(100,)\n",
            "Theta_0 : 78077.80471357683 constant (where intersects)\n",
            "Theta_1 : 286.86362208219845 inclination (slope) of the line\n"
          ]
        }
      ]
    },
    {
      "cell_type": "markdown",
      "source": [
        "## Now we use the trained model to predict !"
      ],
      "metadata": {
        "id": "2ua-Y6KeHGMo"
      }
    },
    {
      "cell_type": "code",
      "source": [
        "def predict(area):\n",
        "  return theta[0][0] + (theta[1][0] * area)\n",
        "\n",
        "# example:\n",
        "test = area[50]\n",
        "prediction = predict(test)\n",
        "print(f\"Preco previsto : {prediction}, Preco real: {total_price[50]}\")"
      ],
      "metadata": {
        "colab": {
          "base_uri": "https://localhost:8080/"
        },
        "id": "3TinKWusHL0t",
        "outputId": "cb8ab758-80a9-40a3-94bf-42b2b2355ea3"
      },
      "execution_count": null,
      "outputs": [
        {
          "output_type": "stream",
          "name": "stdout",
          "text": [
            "Preco previsto : 1194994.5695798409, Preco real: 1119010.2266397176\n"
          ]
        }
      ]
    },
    {
      "cell_type": "markdown",
      "source": [
        "## Cool! Now how to measure the accuracy?"
      ],
      "metadata": {
        "id": "os8tNCSLIoH_"
      }
    },
    {
      "cell_type": "code",
      "source": [],
      "metadata": {
        "id": "wFTpXwrsIrzj"
      },
      "execution_count": null,
      "outputs": []
    }
  ]
}