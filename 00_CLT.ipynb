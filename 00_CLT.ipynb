{
  "nbformat": 4,
  "nbformat_minor": 0,
  "metadata": {
    "colab": {
      "provenance": [],
      "authorship_tag": "ABX9TyPyzoWZGhAcLC97SqCiACvn",
      "include_colab_link": true
    },
    "kernelspec": {
      "name": "python3",
      "display_name": "Python 3"
    },
    "language_info": {
      "name": "python"
    }
  },
  "cells": [
    {
      "cell_type": "markdown",
      "metadata": {
        "id": "view-in-github",
        "colab_type": "text"
      },
      "source": [
        "<a href=\"https://colab.research.google.com/github/stepsbtw/Statistics-Inference-AI-and-ML/blob/main/00_CLT.ipynb\" target=\"_parent\"><img src=\"https://colab.research.google.com/assets/colab-badge.svg\" alt=\"Open In Colab\"/></a>"
      ]
    },
    {
      "cell_type": "markdown",
      "source": [
        "# CENTRAL LIMIT THEOREM\n",
        "\n",
        "- Consider a Population with mean μ e variance σ².\n",
        "\n",
        "- The theorem afirms that for size of the sample (n) -> INF :"
      ],
      "metadata": {
        "id": "k4DRLL6BrOA4"
      }
    },
    {
      "cell_type": "markdown",
      "source": [
        "1.   The **Sampling Distribution** of the sample mean ̅x, approximate itself to a normal distribution.\n",
        "\n",
        "  ![image.png](data:image/png;base64,iVBORw0KGgoAAAANSUhEUgAAAJMAAAAqCAYAAAC3IGmoAAADAUlEQVR4Xu2aYW7rMAyD1yO09z9jr7AhBVwYhm2RtJKsKfdzcSSR+iw7e+92v99/f/xjBxIcuBmmBBcd4uWAYTIIaQ4YpjQrHcgwmYE0BwxTmpUOZJjMQJoDhinNys8K9Hw+3wU/Ho+U4g2TaOPWjKwmiCXIr7W197Qo+gyT0BLFaCHNbq+UqVQ2w0gPq/PrYWLHPWvwbkQsBO5Npi1cb9Iyei8HEyOeBWkznIm/0O9DX51pYvROYarNRtT9hzsEKh5dV+tW3kF8O3tNpCt6Xuq/5GQajexVMFBTz4aDyY9oQtZsOb8SJtScVfiYpp6xlvEBWXspmIrgSHj0vNdY5Z0zAEFzIn8eYDfTZWGaHXUKGMo7aGOPXte7C0f3XUQ/DFPvy6f8LirkKLNqwSPxiCltvYzOXnwlp+JZ9MG00ifEAwim3kisdz5qVg/IkWlozNEoPgOmzJwsTHtDnAJTVCTa9D3O6NmZPhKP1tvGXvlCVHIyMB0BcQpMGZdRVqxifgR90aHGVmFS8mWAtMXIzL0LTEjQ3p1jdF6jEEQGj+Iox7F6Z8rSEmlFv7I+Aib2IheJai+OWfFb8KM6Zve3aDKx07eelCW2Up+alwG2TLnIg/ACjjREMYEVM1s/y1/Xr9aJTOOoqdHUqjdUu5kifav/QIv0AvEAgqn+rwotnWqDEAEoQJHZKzsfvWv1Nl1d/wwQtP7Z5Kzj79ETJGYIU2/EzXbRKiTI++yxiOyqKC/acGSSM3dK9IhResJM7TSYIqPPeM4AghgRaYhgYu95o0t0dFxGdaLP6zwIiIiH0GRCC7zyumyYetM1OwdyLCKQlOkYbRjDROyA7KlR4kVTFm04IeW9FImNrNkCGiaiAz1TIxCI8N2laCPVPO1xt/JlaJjILuzdXLIcaTlzxDJ6DZPQDsZgIfwhryBHLKvTMAmtY00WUpz+inJ8Gyaxbd8AFGuNYWId8/qhA4bJcKQ5YJjSrHQgw2QG0hwwTGlWOpBhMgNpDhimNCsdyDCZgTQH/gBWEbd9TXb3dwAAAABJRU5ErkJggg==)\n",
        "\n",
        "2. This sampling distribution (aproximatedly normal) has it mean aproximating the mean of the population.\n",
        "\n",
        "  ![image.png](data:image/png;base64,iVBORw0KGgoAAAANSUhEUgAAAJ0AAAAjCAYAAACO5gjTAAACk0lEQVR4Xu2ZYXIDIQiFmyMk9z9jrtBO0rFDnRUeyLpqXv+lCsrjEzG53e/37y/+UYGBCtwI3UC1udRbAUJHEIYrQOiGS84FCR0ZGK4AoRsuORckdGRguAKEbrjkXJDQORh4Pp9/sx+Ph8Pyd2qvvXvBSQ0+DjqZeCsnNVgv2whs9TpZfqz9zzr+cdCVRBT4WhAdgZEFS5afWaGy9kXolGuyhuPosyWwHC+AE7oP/e3VqnSlB5OVMAuWLD8e4Geay0rXUemiiSR0rHT/2JFAWNfrKOjqx4/2mFkB6HClO7PRjibTY9e6XrWkWWNlfdm7vf7X8wr26hyBzruGR+ejuSHoWoFFAm4F4Plq46hZt4TR/HtetK3eT8IWrZgW5D0wy1f8UbyZuaxzMS10FjS941mVzqoS1rgWh5V4z7WrHe5lobME6oUk2x6FTuvxvIm0qkt2jIi/nkOB+D/1et0FulokL3QtmKVfr1aeihbxnXFNewB0X68j+rnSJ3kCqZt4yxaBo+7XkIRmzdGqorfX81ZkJAZLX208HbpWuS6N9dkBoWIg0CEPgNoPcl2hGnjhQv1a13zx4/WHah+Crn6ZycW0Ui2viYwfztEgj+ZlQqd9RYJA6K1EEhpNe0ufowPT489ar4y7oJOb9J7ws04NGmgrUZY98jOYlrzRL0MrnlqH1/6QXKJ+kXlu6KIVahboEFGilQf1PYMWV+7hEuiuDBgFo3UlRw+d9DdD/Ffu4VToZA8320MiAl9WorL8RGKwHhE9PlFbGDqk8daqQ9QeDWTEvCxYsvxEY746FzB00QB3sut9fffa76IlodslkwvFQegWStYuWyV0u2RyoTgI3ULJ2mWrhG6XTC4UB6FbKFm7bPUHuu80GIdH1pMAAAAASUVORK5CYII=)\n",
        "\n",
        "3. The variance of that sample's mean, approximates the variance of the population, divided by the size of the samples (n : number of individuals)\n",
        "\n",
        "  ![image.png](data:image/png;base64,iVBORw0KGgoAAAANSUhEUgAAALIAAABCCAYAAADzGIxxAAAERklEQVR4Xu2bW27cMAxFmyXM7H+Ns4UWDuDWFfQgKZKWlZOvBCPzcXkkURrn6/V6/f7FDwo8XIEvQH54BQn/WwFABoQtFADkLcpIEoAMA1soAMhblJEkABkGtlAAkLcoI0kAMgxsoQAgb1FGkgBkGFhGgc/n8zeW9/utiguQVXIxOEqBA+IrvOXfI7+APFKIz1MUOFfjE2ZATpEdJ94K1Fbkw4e0xWBF9q4I9lwUYEV2kREjdysAyHdXAP/TCmghPhzSWkzLjgFPBSwQA7JnBbBVVeB6N1wb0Lty00DNigyAYQrUQGzBWQNeemPBihxWQgz3gNUAKlWSFVmqFOPECvRaAk27IHbIYU8jFWOlCmwF8swLIFLBGLemAtltRViPPPsCyJrlISqpAluBfCRtfQFEKtjTx83uWrPPR+qXvZiFHPZmXwCJELh1n1meoGevgTSxex18vOxoYpeMzZxoISCXSa4kdPm6YKsgGTF7+fCyI4Fz1TGAXKlMFhitnUsKC63bP6XCQc6CQlp8yYqcFbOXHy87Ug1XHBcK8ooCj0DOjNnLl5edFQGVxhQGcvapVZpwD+RsILz8ae2UB9reV8Za29I6eI9Tg9w6/Z+BHaJknvwtgrRg1hRNsrKXV5DXv4/fe/5qJ36vuGs3NS2YNZpYauH1jArkWlLeiY4mSitxzYsoNSA0eVzHtoArJ3TtYNbyWdvNyklh+Y/j0cTRAO4FoJcdMchS0b0Ci7RTgmyF+Iyx1UaN/EgXhnLiWIEb5alpOSLrY7EtAlk7ky2BZD4zAqwVi3Qyn+Mk4Eh2Ei87mRpn+/rxII8guRZECnJrpS6LK/Hd6oslcfUm5PUzj8OetSXUAN+LcwpkSSE0gZ4HIO0z5SFq9PwVDmkOLaBmdiuJb68xvck1k8NI66zPlwM5I/HaAU3id9TTtnplTasiaXu0fiQ7xCg3iT53jhGBfK6UlpPyncmNtlZJf9rbwnsru3UlLQ925W4zA9wopu0Pe9cZff6uhWA1oEdFHU2CK2BWuHo9d2m/p7s1l9VqMhOPeEW2OLH0ohY/Kz4jgUsyRpKblx2Jr1XHhIFc2yK1h7JVRfOKywtALzteed1hJwTkEuKntyFRhfEC0MtOVJ4ZdkNA7h2QMpJ6ig8vAL3sPEW3WpypICP4/yWwXgPuePienUQhINeucYB4tlQ831MgBOTD4QluecFPOX6uArUve3rXihqlwkDWBMHY/RWwfNGjUQWQNWox1qSA5Cv12dYTkE2l4SGrAr1vM2euaQHZWhGeMykAyCbZeGg1BazvpYzyYEUeKcTnrgqMQLb2yoDsWiaM9RRoXcVer2qtfTIgw16aAr3V1roSn8EDcloZcRSpACBHqovtNAUAOU1qHEUqAMiR6mI7TQFATpMaR5EKAHKkuthOUwCQ06TGUaQCgBypLrbTFADkNKlxFKkAIEeqi+00Bf4AYtAlVPdh+Q4AAAAASUVORK5CYII=)\n",
        "\n"
      ],
      "metadata": {
        "id": "zn0f8Izjrzd1"
      }
    },
    {
      "cell_type": "markdown",
      "source": [
        "### OBSERVATIONS:\n",
        "- The CLT only afirms this, for samples large enough (n > 30)\n",
        "- In the case that we are assuming the Theorical Sampling Distribution (all possible samples), the means are equal. ![image.png](data:image/png;base64,iVBORw0KGgoAAAANSUhEUgAAAEsAAAAZCAYAAAB5CNMWAAABEUlEQVRYR+2YUQ6EIAxE9Qhy/zNyhd1g0gTZAp0yhv2oPyY6tp1HqdHzuq7PEYeJwBmwTJxuUcCyswpYAKuAFbAQAoA2ZlbAAggA0ugsFqyc85FSeoTTrgH5tkkZXrqd1YPChlXieY52EUcxWF62w/KAQp/ZAovdVahpr56xBYefO6wEXoPM51he1G3IaluL4bdnFtOLC9aogAKoDN9/2bIzWEidXVhiupzb1dfeRHXSWo+8tSydiGqkFqmj58UC7QdWHVxLZAG1G5AARby4Ya2YtSRFu8OrZ9eidhYLFrtYFBo7PwWWNgfYhaKgZNauLHyb8wGrnVFIgQJnJQaSb6Z9o4746zCjXt0PWAELIABIv12H4Py5mq3YAAAAAElFTkSuQmCC)\n",
        "  - That is rarely the case, so we need a **large** number of samples to approximate well!\n",
        "\n",
        "- Just to note, as seem in item 3,\n",
        "\n",
        "  ![image.png](data:image/png;base64,iVBORw0KGgoAAAANSUhEUgAAAHkAAAAhCAYAAAD9JwTTAAAB+UlEQVRoQ+2YUY7DIAxE2yMk9z9jrrCrrIREEcHj8SwpkfPZYjOeh4HkvW3bzyufRzvwTsiP5vtXXEJ+PuOEfAfj4zhe+75Pmzo7GbRaCebM5X0iiyIhg26rIKvygLLzTPYYpYKjyuPRnp0MuKUCo8oDSP4YkpABx1RwVHkAyQnZa5ICjiKHV3cZn51sOKeCo8rDgDYhW9f9yNWeEczGsHUo4IxyFF3Fx1qnytsh5J44RdEtKAvAFVjUhEgdinqvctS/t7DPmhVzDz9rIsLYrpoZF6kDMdkag84fWYiWn91OtrYXtIOsyf/7/2gdCMCzhpEfVo5RxyKxiIcJ+cIla4EUuNY4pCHQbkeA9sa4ICMrqz5bkPFlJTMFWAZGzPNq72nx5Gjj0VjENynk3kXC2s4QkeyYGZCvtlsPJOs89uSCO7kn3JqoBWx1GQvOG9fqtupgbrWRm3Evttag8NV8hSqmeqAhRnphRcYXI9FdhdHPwvCc6Yyu4StU1NT65d6zQCLzqmIZM1nIKs2jPOYXL1RE3S3IzRPNO3scA7i9PH7bopZBbs8RdGucDdGaj4XMnOWWFtX/UsgqUXfmSch3uj9h7gjgCfLoKbKTaevWCUzI67CilSZk2rp1AhPyOqxopQmZtm6dwIS8DitaaUKmrVsnMCGvw4pW+gsOSpWj89qvoAAAAABJRU5ErkJggg==)"
      ],
      "metadata": {
        "id": "_3LGGcuBtaD_"
      }
    },
    {
      "cell_type": "code",
      "source": [
        "import matplotlib.pyplot as plt\n",
        "\n",
        "data = [1,2,3,4,5,6] # range(1,6)\n",
        "freq = [1/6] * 6\n",
        "\n",
        "plt.bar(data,freq)\n",
        "plt.gca().set_xticks(data) # gca() stands for get current axis.\n",
        "plt.show()"
      ],
      "metadata": {
        "colab": {
          "base_uri": "https://localhost:8080/",
          "height": 430
        },
        "id": "w2Isyb-OrkNz",
        "outputId": "583a5c85-a3f4-440d-910b-4689604b2cf2"
      },
      "execution_count": null,
      "outputs": [
        {
          "output_type": "display_data",
          "data": {
            "text/plain": [
              "<Figure size 640x480 with 1 Axes>"
            ],
            "image/png": "[encoded data removed]"
          },
          "metadata": {}
        }
      ]
    },
    {
      "cell_type": "code",
      "source": [
        "import numpy as np\n",
        "print(f\"média: {np.mean(data)}\")\n",
        "print(f\"variancia: {np.var(data)}\") # oq essa variancia significa? o que posso inferir sobre?\n",
        "print(f\"desvio padrão: {np.std(data)}\")"
      ],
      "metadata": {
        "colab": {
          "base_uri": "https://localhost:8080/"
        },
        "id": "dKIGP5-Luhbn",
        "outputId": "da0c079b-55a9-472f-a193-432aab088b3b"
      },
      "execution_count": null,
      "outputs": [
        {
          "output_type": "stream",
          "name": "stdout",
          "text": [
            "média: 3.5\n",
            "variancia: 2.9166666666666665\n",
            "desvio padrão: 1.707825127659933\n"
          ]
        }
      ]
    },
    {
      "cell_type": "markdown",
      "source": [
        "O valor do desvio padrão ser aprox 1.71, diz que a maioria dos valores estão\n",
        "\n",
        "- À uma distancia de 1.71 da média 3.5 !"
      ],
      "metadata": {
        "id": "jN0AfMfzx_VP"
      }
    },
    {
      "cell_type": "code",
      "source": [
        "n = 50\n",
        "\n",
        "# generate a sample with 50 rolls of a dice\n",
        "rolls = np.random.randint(1, 7, 50) # [lower,upper) * times\n",
        "\n",
        "print(rolls)"
      ],
      "metadata": {
        "colab": {
          "base_uri": "https://localhost:8080/"
        },
        "id": "SxW0Iw3-yMgZ",
        "outputId": "55a63569-07cf-4df9-f6cd-6d33d7e417eb"
      },
      "execution_count": null,
      "outputs": [
        {
          "output_type": "stream",
          "name": "stdout",
          "text": [
            "[6 3 5 3 4 3 2 6 3 2 3 6 2 5 1 6 5 4 4 2 2 5 3 4 6 5 3 3 1 6 2 6 4 4 3 4 5\n",
            " 4 4 4 1 5 3 2 3 3 4 1 1 6]\n"
          ]
        }
      ]
    },
    {
      "cell_type": "markdown",
      "source": [
        "Lets test the **Distribution of a Sample** to look at the CLT's affirmations.\n",
        "\n",
        "- This distribution with size 10**6 should look preety similar to the population distribution."
      ],
      "metadata": {
        "id": "CfXMneZC0RoZ"
      }
    },
    {
      "cell_type": "code",
      "source": [
        "# set the seed\n",
        "np.random.seed(42)\n",
        "\n",
        "n = 10**6 # size of the sample\n",
        "sample = np.random.randint(1, 7, n) # generating the sample\n",
        "\n",
        "labels, counts = np.unique(sample,return_counts=True) # it returns sorted unique elements of an array.\n",
        "# it can return counts: the number of times each unique element shows up.\n",
        "\n",
        "probs = counts/n\n",
        "plt.bar(labels, probs)\n",
        "plt.gca().set_xticks(labels)\n",
        "plt.show()"
      ],
      "metadata": {
        "colab": {
          "base_uri": "https://localhost:8080/",
          "height": 430
        },
        "id": "MIwgGYJ10aWQ",
        "outputId": "0eb1ccf7-5871-4b24-831f-2802ab5b45e3"
      },
      "execution_count": null,
      "outputs": [
        {
          "output_type": "display_data",
          "data": {
            "text/plain": [
              "<Figure size 640x480 with 1 Axes>"
            ],
            "image/png": "[encoded data removed]"
          },
          "metadata": {}
        }
      ]
    },
    {
      "cell_type": "markdown",
      "source": [
        "As result, it is indeed really like the original population.\n",
        "- It approximates really well the mean and the std."
      ],
      "metadata": {
        "id": "cuEa2ac42yWT"
      }
    },
    {
      "cell_type": "code",
      "source": [
        "# original population : mean = 3.5 and std ~= 1.706\n",
        "print(f\"sample mean : {np.mean(sample)}\")\n",
        "print(f\"sample std : {np.std(sample)}\")"
      ],
      "metadata": {
        "colab": {
          "base_uri": "https://localhost:8080/"
        },
        "id": "Cltu-YBx3Gw6",
        "outputId": "60402735-ccee-436c-e7db-f7b5054d1d7c"
      },
      "execution_count": null,
      "outputs": [
        {
          "output_type": "stream",
          "name": "stdout",
          "text": [
            "sample mean : 3.500194\n",
            "sample std : 1.7073722389578667\n"
          ]
        }
      ]
    },
    {
      "cell_type": "markdown",
      "source": [
        "It is actually near perfect. But in practice, we get really good results with a **Sampling Distribution**, each sample of size 30."
      ],
      "metadata": {
        "id": "-BouoxCb3v9-"
      }
    },
    {
      "cell_type": "code",
      "source": [
        "# this shows ONE possible value of the SAMPLES MEANS\n",
        "sample = np.random.randint(1, 7, 30)\n",
        "print(f\"sample mean (size 30) : {np.mean(sample)}\")"
      ],
      "metadata": {
        "colab": {
          "base_uri": "https://localhost:8080/"
        },
        "id": "5iy6X42N343p",
        "outputId": "76bce804-0097-4216-df60-4283cbb80623"
      },
      "execution_count": null,
      "outputs": [
        {
          "output_type": "stream",
          "name": "stdout",
          "text": [
            "sample mean (size 30) : 3.6666666666666665\n",
            "sample std (size 30) : 1.6397831834998458\n"
          ]
        }
      ]
    },
    {
      "cell_type": "code",
      "source": [
        "# The Theoretical Mean Sampling Distribution => Generates ALL POSSIBLE MEAN VALUES, which is kinda insane.\n",
        "# So we do it empirically:\n",
        "\n",
        "np.random.seed(42)\n",
        "n = 30 # size of the sample\n",
        "N = 10**4 # qt samples\n",
        "\n",
        "# \"all possible means\" => calculating the value of the mean in each (10**4) sample.\n",
        "means = [np.mean(np.random.randint(1,7,n)) for _ in range(N)]\n",
        "\n",
        "plt.hist(means)\n",
        "plt.show()"
      ],
      "metadata": {
        "colab": {
          "base_uri": "https://localhost:8080/",
          "height": 430
        },
        "id": "feve57_74VOv",
        "outputId": "70da0d4d-73f6-4244-f967-edf09c67d88d"
      },
      "execution_count": null,
      "outputs": [
        {
          "output_type": "display_data",
          "data": {
            "text/plain": [
              "<Figure size 640x480 with 1 Axes>"
            ],
            "image/png": "[encoded data removed]"
          },
          "metadata": {}
        }
      ]
    },
    {
      "cell_type": "markdown",
      "source": [
        "Yeah, as we said, the sample distribution of the mean looks like a normal.\n",
        "\n",
        "AND, the CLT affirms that the Mean of that Mean Sample Distribution should be EQUAL (n->inf) the original population mean.\n",
        "- μx = μ\n",
        "\n",
        "AND, the CLT also affirms that the std deviation should look like:\n",
        "- std/sqrt(n)"
      ],
      "metadata": {
        "id": "rU4evKQt5_Z5"
      }
    },
    {
      "cell_type": "code",
      "source": [
        "print(f\"média populacao: {np.mean(data)}\")\n",
        "print(f\"variancia populacao: {np.var(data)}\")\n",
        "print(f\"desvio padrão populacao: {np.std(data)}\")\n",
        "\n",
        "print(f\"\\nDISTRIBUICAO AMOSTRAL DA MEDIA: (com n=30)\\n\")\n",
        "print(f\"media da distribuicao: {np.mean(means)}\")\n",
        "print(f\"variancia da distribuicao: {np.var(means) * n}\")\n",
        "print(f\"desvio padrao da distribuicao: {np.std(means) * np.sqrt(n)}\")"
      ],
      "metadata": {
        "colab": {
          "base_uri": "https://localhost:8080/"
        },
        "id": "bdWDrPUe6jfD",
        "outputId": "bdf7a17b-7791-47ef-d26e-4bb4f24a9aec"
      },
      "execution_count": null,
      "outputs": [
        {
          "output_type": "stream",
          "name": "stdout",
          "text": [
            "média populacao: 3.5\n",
            "variancia populacao: 2.9166666666666665\n",
            "desvio padrão populacao: 1.707825127659933\n",
            "\n",
            "DISTRIBUICAO AMOSTRAL DA MEDIA: (com n=30)\n",
            "\n",
            "media da distribuicao: 3.50078\n",
            "variancia da distribuicao: 2.9010684146666668\n",
            "desvio padrao da distribuicao: 1.7032523050525037\n"
          ]
        }
      ]
    }
  ]
}