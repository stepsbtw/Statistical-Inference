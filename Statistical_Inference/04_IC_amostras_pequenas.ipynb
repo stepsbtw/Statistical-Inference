{
  "nbformat": 4,
  "nbformat_minor": 0,
  "metadata": {
    "colab": {
      "provenance": [],
      "authorship_tag": "ABX9TyPoIVhVwCF6humiIzEVc9fJ",
      "include_colab_link": true
    },
    "kernelspec": {
      "name": "python3",
      "display_name": "Python 3"
    },
    "language_info": {
      "name": "python"
    }
  },
  "cells": [
    {
      "cell_type": "markdown",
      "metadata": {
        "id": "view-in-github",
        "colab_type": "text"
      },
      "source": [
        "<a href=\"https://colab.research.google.com/github/stepsbtw/Statistics-Inference-AI-and-ML/blob/main/Statistical_Inference/04_IC_amostras_pequenas.ipynb\" target=\"_parent\"><img src=\"https://colab.research.google.com/assets/colab-badge.svg\" alt=\"Open In Colab\"/></a>"
      ]
    },
    {
      "cell_type": "markdown",
      "source": [
        "# Estimação Intervalar com n<=30\n",
        "\n",
        "Quando a amostra é grande, NÃO IMPORTA qual é a distribuição de população para determinar a estimativa intervalar para a média populacional.\n",
        "\n",
        "- Porque o **TLC** garante que X̅ será aproximadamente distribuída como normal.\n",
        "\n",
        "Mas, quando a amostra é pequena (n<=30), não temos essa garantia. E portanto não há uma maneira de estimar apartir de uma amostra de uma distribuição aleatória.\n",
        "\n",
        "- Entretanto, se a amostra é retirada de uma distribuição que é **aproximadamente normal** podemos estimar semelhantemente a n>30.\n",
        "\n",
        "Com uma principal diferença: ao invés dos z-scores (valores críticos da Normal Padrão) utilizamos os t-scores (valores da **Distribuição t de Student**) que a aproxima.\n",
        "\n",
        "- t-scores = ![image.png](data:image/png;base64,iVBORw0KGgoAAAANSUhEUgAAAEIAAAAdCAYAAAAejLrKAAABK0lEQVRYR+2YWQ7DIAxEyRHC/c/IFVqhBCm4XsaINo1wviKxePwYmzbbvu+vFE/aAsThggBxVkOACBB9YxQdUUpJOedl2miA0EpjNTeIt8bSIGry3LNKn/joEQ3IUwGMuvlWEKOitauM7nl1una4LIhvuwEV5727OQgtFwv6LSBagpa4GSDqHgiMDgRKdFYfQUGg8TT9FYgWTwRxXdTeqSA0EelkkfWSDlq+3r2oJlezRIhrdvaKlxof18MsENY4/O/TguCtZ8uq3LiUjJWkNe76HiGBQIKMlgYaU9PAlRanZ9gRyIlqAOiY1NnpVcslrTlFimP2iBGLz17jcZlnrqYTdsTsZD2/DmfNfRQI7wl750sw/tIRv3RfixUgThIBIkD0BRiOCEf0jngDUbQV14yHHroAAAAASUVORK5CYII=)\n",
        "\n",
        "Este valor delimita uma área α/2 na cauda da distribuição t."
      ],
      "metadata": {
        "id": "RI1IGbFkkgFU"
      }
    },
    {
      "cell_type": "markdown",
      "source": [
        "### Desvio AMOSTRAL x POPULACIONAL\n",
        "![image.png](data:image/png;base64,iVBORw0KGgoAAAANSUhEUgAAARAAAAC4CAYAAAArMrMiAAANrUlEQVR4Xu2dYYLkpg4GkyPs3P+Mc4UkncRZltgGhD4k7Ho/34BAJVFt053k9x8/fvzxG/+DAAQgYCDwOwIxUGMKBCDwNwEEQiNAAAJmAgjEjI6JEIAAAqEHIAABMwEEYkbHRAhAAIHQAxCAgJkAAjGjYyIEIIBA6AEIQMBMAIGY0TERAhBAIPQABCBgJoBAzOiYCAEIIBB6AAIQMBNAIGZ0TIQABBDITQ98f3/TIRDYnsDX15csBwTSEIgSvqyqBIbAIgIIBIEsajWWeSIBBIJAntjX5LSIAAJBIItajWWeSACBIJAn9jU5LSKAQBDIolZjmScSQCAI5Il9TU6LCCAQBLKo1VjmiQQQCAJ5Yl+T0yICCASBLGo1lnkiAQSCQKb6+vNz/+PXusdP//n17hTSrSYjEARibthDHrU4SqmYgzNxCwIIBIFMN2otDAQyjXSbAAgkuUCyH0bksc1Zl2wUgSQUSP2vEch8p3AlkOzik5ymFwZFIAkFcmxph0vJM1Egj/eYBIEgkPd0O5m6E0AgCMS9qQj4HgIIBIG8p9sfnml5d7bq3gyBIJCHH6t3pFf/oA+BJKh79GVg5CWq8l8ovaq5E7TQsi1E/ZiPJxCeQC4JeD4Se8Zadio3Wijq9zgIBIHcHhPvg299qop+Gox0iSV3yxxLjggEgSwVyGex0eYeHW85CNnnjDAYGTubNwJJKJCr+4eouwPvp5BRibQOxBmv+p8QLsscxXHmsLYYHLF7x83spZyLQBIKxKu4nnEUEunZ38iBuHo9GonRs6eoMa08Ir6JQSAIpOs8IJAuTNJBdwK5ewpTbgqBIJDu/oqQSOtTt9581LcR3RAnBo6ymFiqeyoCQSDdzXLcXRwT1HcJlgNTvsZY5g/BCBicLaflArF+jRdQq+FvCyL2GLHmqicR62HJ3mP1/kb2a2Wi6pOlAom45JkBl61YM7l4zt1BIOqnIyvP+gx84pTfGLX2na0nlwnE8m56djHUKlyrAK355d+zFWtk7+qxKyRi5T/yia7mdNdPlg9UKxNVniECyVrg1oWcqgi7xlVLxHJYjjmWuavrYNmjZY4yr2UCKS/gPJ8SlHB6imV5SlLueTT2bC2UEunhf/UJ3/sh1bPGSI1HePasnf1DbalAdpOIpcCjB3j38b0H1ZLnCP+zV+TyfsGyvnrOSH7HXixzlHksEYjl/qOUzQiAkU+AVtxsxWrtN+LvSka9sa/G3c3vje3JtJTt2fo9e+oZ47nnViy5QKzyaG18xd+zFWtFziNrqPn0xG9J4uwp5JijfHo641jutV67J9fjQ9XzQ3Kk3mdj5QKpnySyJN9TsJ4xswXYdf4KNndPFjW3sq+Ow3k3Juownolj5FVrBfeRnlwikJENrRrbU4ieMav2m2mdlVyUayljK+qVcb8I5KbSGQtmbUyvXLzi9OahWk8Vtzcvy7iMe36lQMpH3LtXqowFG2m8+lHe4/VxNRPleqvvQEZq17pDmY3lNf91Aqkvsp4skKNJvA6K52EeiTUy1utgZIuTlQEC+fq67BVL0WpBHcE9Pv2tTe0hEAuLq/2Oxhodb+WUeV5WBq8TSNkkrYM1WrRj/Fnc0ViezdzKs7WW596te/HcQyvfbH/PnPurBdL6Km+kcK1Xo5FY3g1sPbQtPiP79LiPiWQ4kqvn2Ow5I5Dv7//+ceq68Nbinc2zxvJoRqtA6kPvsZdPjMjXOa8ciPMPAQTyl0Cumtp66GcEMnJoew+iRSAj+xg9TL37Ho3L+PUEXi+Qu8d0i0Bm5KEqv0Ugqr0Q91kEEMhf9bwShUIglpizLYdAZgky/4oAAvlXIGevMZbDfvcEYonn0boIxIMiMc4IIJB/qXi9eng+zcy27NU9RsQdRJQ8Zxky/54AAnEWyJMbziKBUmIR4npyPTLkhkAKgdSvMZYDk6GoGfcAy4xVmd8TAikY1k1O0/8Dx4ODR4z5dieCNwEEgkBue+o4+PVFbOt3IvXrCgLxPro54iGQSiDlawxN/xPOLIvZ+TmOC7uoCSCQikjZ6DQ9AkEZfAsz1AMI5P+4rr7ivgPLK8xQ2207mCeQkyeQ4zWGJ5Bfn0DK17vejj+7K+Hr3F56+cchkJMalReHNHv+JmaHcQQQCAKJ6z5W3p4AArkQyPF/8wSyfY+TgJAAArmAyz+AJuw6Qj+GAAJBII9pZhJZTwCBIJD1XceKjyGAQG5Kyde4j+lzEhERQCAIRNRahH0DAQSCQN7Q5+QoIoBARGAJC4E3EEAgb6gyOUJARACBiMASFgJvIIBA3lBlcoSAiAACEYElLATeQACBvKHK5AgBEQEEIgJLWAi8gQACeUOVyRECIgIIRASWsBB4AwEE8oYqkyMERAQQiAgsYSHwBgII5A1VJkcIiAggEBFYwkLgDQQQyBuqTI4QEBFAICKwhIXAGwggkDdUmRwhICKAQERgCQuBNxBAIG+oMjlCQEQAgYjAEhYCbyCAQN5QZXKEgIgAAhGBPcKe/dfpxUsS/oEEsv4nVhGIuNn4b8uIARM+lAACEeNHIGLAhA8lgEDE+BGIGDDhQwkgEDF+BCIGTPhQAghEjB+BiAETPpQAAhHjRyBiwIQPJYBAxPgRiBgw4UMJIBAxfgQiBkz4UAIIRIwfgYgBEz6UAAIR40cgYsCEDyWAQMT4swuk3N/xs/usP5sWl4rwBgIIxABtZEpmgRx7q8WRec8j7BmrJ4BAxIx3OIz1HnfYs7hshO8kgEA6QVmHeRxGjxhX+0ce1soy70MAgYj7wHr4638NgOpe4kog1n2LcRI+GQEEIi7I7EFUX2ye7W92z2KkhE9EAIGIizF7GNUCEadP+IcTQCDiAiMQMWDChxJAIGL8CEQM+GHhy7sv1b2XJzIE4knzJBYCEQN+UPj6R30I5EHFtaYSKZD6mxxrDmfzdmhuz3xXxNrxB308gYg7I1Ign9Q8H4k9Y4mxbxl+x9/kIBBxq0ULxFsiZbyRp5BZDuIyycNb8rfMkSdSLYBAxMRnm8Dja1zFk8NIXiNjxeUIDT/CYWRsZFIIREzf2ghX9xcjn/plapESaTE4y/XI8+5v4tK5h29xOBbsHee+QUNABGKANjIlUzMoJNJiMZL/1dPWSIzWfqL/3sql/HtrbHQun/URiLgKmZoAgYiL3RH+rh92fNpCIB1FnxmSSSCKC9UWm9H86/Gj81v7if770/JBIOKOytgwq55ELLmXrzGW+eJyuoR/Ul4IxKUlroNkbZYVErHmfnUXIi7VUPiz3Hrz7R03tKGgwVsJ5Owd8cPN+s3ECuZZmyW7QDLX9HgVrPfYW+vecSv6c3aNLQRy9onUW4Qr6dyB82ze3n3OFtIyXy0Ra+48gViqGTNnG4FYbR+D9eeq1kO0at9KiVhyP+ZY5q5kNtOPmXMbZZheIFewdylCzz4tT0lHoT2ellQS6cm9bNhyfO9TSM8aI3x7eM7cf1y9/owe3CzjEYi4Ej0NLt5CM3zvYW0GqgaM5F6PVe1pNIez8QjkJ5UtBTLamKNN0/Mp1BtzZK+9Mb3HqfbYG9fylNkb25vV3QXq5289vRO5d28e2wkkE/yevfSM8S7qSDzl/npi3425ego55kQ8pdRr1q9HCGSk+xaNVb2jz25/9oDMrj87v2f/M2vcPVnUccuDd3VnMXNxOZPH2T3NmUh65MEdiFclHhCn5wD2jIlAsWpfynWUsa9qMrvm7PyIXrlbM/0rTDZgx356n4oyNszKPanWUsVt9dvsurPzW/tb/XcEYiBeNkGrIVp/Nyw/PWXlnpRrrb4D8cjFI8Z0AzgGQCAGmDsLxLOBe2P1jjOUYumU2Txm5y9NtnMxBNIJ6u6d+PO3qws0S9PUgjrW7r2kU72/n10m9uCzMOiJu9uYJ3JAIA5deNcYo01zjD97PB+NZT3wLSSWV4eZvbf2s8Pfn5o/AnHoPi+BtF6NrE1onVejOcRhfSLy2odDyZaGeHLeCMShle4+ka3NczbPEqs+9A7p/h1i9nXKax/EiSWAQJz4Xx1uy6H/bMlDICp5IBCnpnlAGATiVERPgXjIwyktwkDglgACcWqQq9cYyxNISyCWmE5pEgYCvxBAII4N0Tr4vUvdxUEevRQZt4IAAnGkrBTI1b2I4/aboZBXE9HrBiAQx5J7/3bDcWv/hbJIoLyM5dsXRVX2jYlAnGtXH1DLgXXeklu4J+XiBuXlgRCIcwNkFYjH4feI4YybcMEEEIhzAerXmAyH7thDubfWb0TOXlUy5OJcLsJNEkAgkwDPppcHLdOhm93L7HwBakIGE0AgggIgEAFUQqYkgEAEZalfFTJ8c3F2N3OXOq8wgsZ4YEgEIipqee+QQSCfNK9+LdtCcHZfkiWn1t75u5YAAhHxzSgQUaqEfTEBBCIqPj++EoElbCoCCERYDusrg3BLhIaAKwEE4orz12AIRAiX0CkIIBBhGRCIEC6hUxBAIOIy8OMrMWDChxJAIGL8CEQMmPChBBCIGD8CEQMmfCgBBBKKn8UhsDcBBLJ3/dg9BEIJIJBQ/CwOgb0JIJC968fuIRBKAIGE4mdxCOxNAIHsXT92D4FQAggkFD+LQ2BvAghk7/qxewiEEkAgofhZHAJ7E0Age9eP3UMglAACCcXP4hDYmwAC2bt+7B4CoQQQSCh+FofA3gT+BErmsSGROEHaAAAAAElFTkSuQmCC)\n",
        "\n",
        "Na prática: TOMAR CUIDADO COM A **VARIÂNCIA / DESVIO PADRÃO**\n",
        "- Note que se utiliza 1/n-1 multiplicando o somatório, e não o comum 1/n.\n",
        "\n",
        "Portanto, pra realizar o cálculo de maneira correta, devemos usar um argumento das funções var e std no python.\n",
        "\n",
        "![image.png](data:image/png;base64,iVBORw0KGgoAAAANSUhEUgAAAQkAAAAZCAYAAAAiydtLAAADJ0lEQVR4Xu1awWodMRBLrvmVdwwU8nf5u0Ihv5NryhZcHDNjabyerbfWuySws7akkWU7ec+Px+PrSR8pIAWkgKPAs0JC3pACUqCngEJC/pACUqCrgEJCBpECUkAhsboHPj5+Pr2+vq0OU/j+MwVY3+kkkdx41Aj0PBneVsMzWjM1PdGO9+vP6uHP8FVIBJcJI2o9ZK++GGp1IxU+Ue5BadPLGfxMjQf0zLsZ5H+9v/wZ9sf7pzs840GFRLA7USOgkLhLQBwyRbkHpU0vZ/AzNXcIiSMgjnAoP9Hpp+dDhUTQmlETefVMggehpZdHuacDCk7A4GdqVg+JOhjYkDg4eUHxLSRWuk+VZtWYWhJWTY8sStPeXbLVJlJric+YEXH3+Fg6ncHLcmd6Vk4kBU/2SYrx9NkaT59sbkxGMiGBTol/Q4IxLQOKNRQay9ppW4xeTTQoItxRrYVxJCTQODX39vd6PqQZ4lP3CdWyPevhQ76IPEcaWovD4og0LJiQPgj7rLVTzzM9JKKLC5E+85xt1sgCbHFZ5h45UjKYRw3VM3z9zPvdW+yzuHu7EVo46Pmoh5hejNaMch3lcua9qSHRHgP/dWDMbiASuk1x76jYMzWDmQ0Ja1fxduAzIRHpO1rQ6Lk1V5bPmF6M1mwdEtYOG71XzToyzW4gCgmW+xUhEeV+NiRmcPcWDrquMMES7R27iKM6Z3OZtXbSrhtWI7IayDR9tIEe5roBTPChcbxrTr0z9o7y6Fl7amh3XCYYrDmYno5wHwkJpEHxCdMvK+hQL9r5Pb162qPgYLyeWcNcN3p9OLB9+8NlC3akObMIsyHBYu6FBDraewa0TNzOEz15lDHROExIlIVb40f/+WgXRJQ78gzi5fEf8RUzV7Smpw8TwCM8ou+UL1FZ71lfrEK4b/09CUQuKu7V9SjBr8az2nzSJ78jjMYKifw+dGe4e9BlyceYN2vuncZl/KeQWMARTKMWgHkZBAXENVKzvrt1SFwjpWaRAnsroJDYu/9iLwWgAgoJKJEKpMDeCigk9u6/2EsBqIBCAkqkAimwtwIKib37L/ZSACrwGxe+NMduFVcbAAAAAElFTkSuQmCC)"
      ],
      "metadata": {
        "id": "NhTbn4fCuwfX"
      }
    },
    {
      "cell_type": "markdown",
      "source": [
        "### Correção de Bessel\n",
        "O uso de n-1 em vez de n nas fórmulas é devido a um **enviesamento** (bias) na estimação da variância populaiconal.\n",
        "\n",
        "- Essa correção tende a aumentar o Desvio Padrão das estimações."
      ],
      "metadata": {
        "id": "_4CGx3sOvFcm"
      }
    },
    {
      "cell_type": "markdown",
      "source": [
        "## Calcular o IC para μ (n<=30):\n",
        "- O nosso IC depende do Nível de Confiança (1-α)%\n",
        "\n",
        "1. Calcular a média da amostra:\n",
        "\n",
        "  ![image.png](data:image/png;base64,iVBORw0KGgoAAAANSUhEUgAAAO0AAABECAYAAABtXrKpAAAEj0lEQVR4Xu2cUXLcIBBE7SPY9z+jr5CUUqWUQpBomAHNSM9/yQ7QvJ5e0K7Ln19fX78++IEABNIQ+CS0abxCKAT+ECC0NAIEkhEgtMkMQy4ECC09AIFkBAhtMsOQCwFCSw9AIBkBQpvMMORCgNDSAxBIRoDQJjMMuRAgtPQABJIRILTJDEMuBAgtPQCBZAQIbTLDkAuBR4X25+fn4/v7+z9Xt/8vf/a6q9eitEd2/VE4qjpm8j7rUVXbVveY0CowdjPKYCtje6DOqs2ufxaXWfPO4m3tt0eEVoUwy4RZTVPOm13/Kk5e68zkrfZsbS+vCu0GoIRlgac2h+caq/V7ald5Wes8Nc/ibdH4ytBuTbFdkS3gehrLc53ju7/nvGf7WbFGD0ul1lPzLN4WjelDO7L5s2uP0hAjNSMar9ZZqd9b+wi/3jHemmfxHtX52tDWPmXubQ61ftScCKeft3aVmaXOW7P3fPveRud9bWj3K7KlOdSxo+ZchXaVfm/tKjNLnbdmTlqLG5WxvQbt9T3jempr27OOP87Zo39vNkvAR7W3Gt36euvxwesm1cO7t7VH2b7qpD1CajXNZkBv0x/rVQN7mqtHf1nbWsdbe6shra+X/tzNW12/9gbcO/Y1oS2bRAmt9dnDa/zeoMfgtfSXr7dCEuH5ubd5Z2q29Iu6j1FPXhHaMzgqNLVuVhON6K81Xeu0nX21V5vZWjfLr9a8PTeh2huxuu/Hh/YKdOu08jopW2aPPp+p+i0NYtGuNqF3nUXzaL/s43puOKM6Hxna2vNZ7WpZNsvZSTQKdzT0kfRb9+4dSGW+Xs2evHtuOL06972nD63lFFEawGP+UXNUfaMntTL/ndoVfZGu9CsCu+2X0AqdYW1c63hBYrWkfMbimXaUpDbuLLQ1/y098YjQepyGZ+/Y6hVas3VdVevKt07Je1ZSw2kJ7GNO2lmhfU+7sdOVBJaEtvaJ2LbJkevWTDhWGDO1MTcEvA6X5vW4fC46hpWQ0IgQWE/gMrRXn4Ypga09V7W2GO30bunldQisJtA8aY+ClKCu3gDrQeBtBNKFduT0fpup7DcvAeWmmS60ee1AOQR8CDSfafcPntTvoMrrdK9M5Z2md07qIfAkAs3Qln/U+/hvAvakVmAvWQg0r8dZvqPNAhydELASaIbWugDjIQABXwKE1pcns0FgOgFCOx0xC0DAlwCh9eXJbBCYToDQTkeca4Ha75pvO+Cbgjg+Eto4XtyuZA9s+Y3BJoxfYb3dnr8CCG0cL25V0vorF4T2Vnv+WZzQxvEijJKR334LI/4FQgjtC0zu3SKh7SW2tp7QruUdfjUCG96iZ/w1xviY8yhshZZn2/u95KS934NQCq5CS2BjWEVoY/gQRsVZMAlsGIu4HsexAiUQ0Ahw0mqcqIJAGAKENowVCIGARoDQapyogkAYAoQ2jBUIgYBGgNBqnKiCQBgChDaMFQiBgEaA0GqcqIJAGAKENowVCIGARoDQapyogkAYAoQ2jBUIgYBGgNBqnKiCQBgChDaMFQiBgEaA0GqcqIJAGAK/AcYMG7pmUAVOAAAAAElFTkSuQmCC)\n",
        "\n",
        "2. Calcular o Desvio Padrão da Amostra:\n",
        "\n",
        "  ![image.png](data:image/png;base64,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)\n",
        "\n",
        "3. Determinar o t-score, ![image.png](data:image/png;base64,iVBORw0KGgoAAAANSUhEUgAAAD4AAAAbCAYAAAAkoDzBAAABG0lEQVRYR+2XXRLCIAyE6RHK/c/IFXR4yAzG/GxEbAX6nIb9dhOqx3mej7Tgc2zwxVLfiS8WeFITL6WknPO0fmzwNtrZ066sYuJLgVdY6Zl1z98SJwP+FRid1kvBUZGRT0vbs51iHqQIPjptS1AEktdyaOKQDL4EnAR/O3EpbQ3+BZwLsRys4nsnAwVH7x1Nb9XKz1LBpSZcACpcG1/kfU0HN93rZYKTM1qa3kRY+ylNR1SslbzVC9pxNB1PNHJJeT0so9FfmtoZ8N9STYQn3jLAexc9U+tj7fzH4NKFgaTcrlNbX1dBAqDxpvXTaqSd53raGhgcheqt86bA+nZHzt7gEbdG1UbT7lm32yU+ylTed4P/yum7nLNs4k+D7xNxPJwDpQAAAABJRU5ErkJggg==), o valor que delimita a área de α/2 no lado direito da curva. (ppf)\n",
        "\n",
        "4. Computar os extremos do intervalo de confiança:\n",
        "\n",
        "  ![image.png](data:image/png;base64,iVBORw0KGgoAAAANSUhEUgAAAKQAAAA/CAYAAABuFGPBAAADgUlEQVR4Xu2aa24DIQyE2yMk9z9jrtBqIyEhBNiGYXeWnf6qEtaMx1/MI/l9vV5/P/qTAyQO/ApIkkpIxtcBASkQqBwQkFTlkBgBKQaoHBCQVOWQGAEpBqgcEJBU5ZAYASkGqBwQkFTlkBgBKQaoHBCQVOW4h5jP5/MV+n6/4YIFJNzSvQMeMCYQ8/9RWQtIlJMPiFMCKCAfUHTmFMvuuGLZVodkJoBQ28r945GugCQsOruklVAKSPbqk+g7Y/+oDklSbHYZZ8EoINlJINKXlukVB5k8zdOX7BVXBUR1k5RJB24HpICerDj54wKSvEBPk3crINUd98fTBWR57zRzDzUD1cyzdy+llbv1/l3yN4HsfV00YkL0mfx0l5u64pcm7EVreRf1lDnPLpC9+yfLhBZIPTN6kM10ZYYCWH55NZ55J+jVhBxndsh8MoSpozHOBHJUY68wNZDS+Gi3T7FGdY40CxR0Vq63AtJKZta0VZe/MytNK6dRGGc9Wv28gKw4jC52qzuO/tB1tkOuhmomvrmHTF8V1Yo0UjjEM+VBKy8s4qstr0bvNsLa93nnO3KzYs3AwPCsCWSr2BETZ/ehPQAPfSUYo9qSTs/zNU2jH1rPfDUYI3oZYPNoMJfsWrE9XWhk4zx6yrb2aNGTvQWItQRHPoDWXF7ovHE8UFw5xgTySnGeuVcsYVZxvXNG43jyZRoTaTreA+m2QFowRK5oyrEtIL2glsvvjNarAF2leTsge3stq3i1T3zao5af8Hxsb0ytM7TmsfSxvL8KxiO/2wN5VpGiRYiOPysPxDwrcxOQzgpFixAd75Rx+bDVeQlIR4lHijDyjEPK5UNW5yUgLy/xfQS0YMxfL/fW0ewEZNSxB4+vAZleSyDmh7iRbiogHwxYJPUejK2bDQEZcVhjQw5YcFnAeidTh/Q6tfm4HnAWjOqQm8Nxdnq1/V+uwQIS1R11MX525Qnn6x1KWp2vTMMC0gI6j6clmxCSqyRZYLV0Wadv7w8r1CGvqjzpvEggvd21tEIdkhSOq2SVl9yR7obQLCARLm4UQ0BuVMxdUrFO3SvzVIdc6e5NY0dOxegUBSTa0Q3iCcgNiqgUMA6oQ2J8VBSQAwISZKTCYBwQkBgfFQXkgIAEGakwGAcEJMZHRQE5ICBBRioMxgEBifFRUUAOCEiQkQqDcUBAYnxUFJAD/+LHlKwFIkllAAAAAElFTkSuQmCC)"
      ],
      "metadata": {
        "id": "x2Ff1APXs8vJ"
      }
    },
    {
      "cell_type": "markdown",
      "source": [
        "# Sobre a estimativa da proporção populacional ρ:\n",
        "\n",
        "![image.png](data:image/png;base64,iVBORw0KGgoAAAANSUhEUgAAAMsAAABCCAYAAAD5RCIjAAAFQ0lEQVR4Xu1dUXIdIQxLj5Dc/4y5QtvNZFO6s2DJ2CzwlL9kbSPLEiyvb6a/3t/ff7/pRwyIAZOBXzKLyZECxMAXAzKLhCAGQAZkFpAohYkBmUUaEAMgAzILSJTCxIDMIg2IAZABmQUkSmFiQGYJ0MDn5+fbx8dHQKXYErPianXJYmbjexiWWXrY+5s7clgM1FlxIT0w2JlYZO1WjMzSweDIQTEwEVxIDLNmdCyDj4ntwSmzONkbNSAPvBq24+/lz4yvjic+ll823sOrzOJgbcRgHLB+Uix8p2l2MsvRvNV3D6dHrsziYDB7KHeQrgKvCR7B9qRZ0D484kd6d4z7J0VmIdnLHkjNKOcpcCe28oRA8D1llhKb1YfHLN4cVAIyC8rUdxwiRrKkGX6uebf29W8IvqfNgvThFT7Sv0l4JUBmIZjLHAQCoyayI7c8eay7yFNmaV3e7zB5+fbmWTOQWSyGiudZQ0AhIDsygpE1yxmP4LSMWjsxkN6Q9b0nElJbZkFY+huDiBAs5Q5DBIXgZM3iBlxJRProFT3CA9uXzAIylkE+uPRXWKTAnjQL2ofMwqhjstgZzHK9m5S/t+4DVyqfNgvSh8wyoQHuBHcHcwazHPcBS+gtnLW7B3LPiBrdic/qY1uzPC2kcpAIllI0iFCQmlFiqtVhMDCx2bjvTrVRnEfz0HVnue5UCAmZw8naraJJ93DAYGBiPVh6clBsaFwLS0SNsr7LLDVRImLtIdrKRdb3EOjJsbAyzz3re3IYTJ5YFBMaZ2GIqnOuQ5sFAYCI1mrU8xxZF8HvfXXwYLZyvKe3p08LS89zpo8o7FF13GbpISw717qLeMnz5mX3a9VfEXck5shaB9f0yXIkXXdwZEe3Btv7vCSmRpKHPLa3Gbnp5XbVfHZ2Vp+0Wa6iPBZgvpdkAfI+n8Ess3Lj5XT1vGnMcrdLozu39bp0Dgmtd552ta+xe+qVOeWG0BLQibeHm9UFOhP+x83SEh4C7iqkliG8Zrma5+53dKhIT9daNbOgpitfdVGcrxSH/hOFZ3YtHunXMMssrUZad4mrkHqMMqtZ0CG/kvAze93SLNdXHmYHrp0adxdtj1g9hOs1LNMCeG3P7MJPltnEgHz6xZxUJWEs4bNxg0trv0h2dhYDrtewu12bPQ0sYNbz1mW696TqNUvJRW1gXvNavOj5PwamMQvyDdiswZWfplkmjSCMEXZp4hq2CExZ3O5Ul5kb0rf7ZPG8/yOA0BhUcBGEMTWyYlFeFPf/yRKp02XNMlIUWQZg6o7sd5e1ovmlzRINYIXBoD2jcbVP8FbgYiWMzDyQviizMHcFZPFVYhDSWW6QmqvwMyvOaI4ps8xKSjYu9H6UjWNk/VJo5UYQeQfI7CdjZjILOLHoXQpc9pGw1id6q/CQgVNmAeWYQT649NCw64lyPUlW4SEDp8wCSjGDfHDpx8Luel6FhwycMgshxYwBEMsPD13VLFlzklkICWYNgYAwLHRVo2R+LC+zEPKTWf79r8wzc5GFTWYhzJK5a5Ew0sNbJ0uWGCOaysQms5ATyhwGCSU1vNbn7P1n4pNZHJLLHIgDjlK+Gciei8zilFr2YJywXjZtxDxkFqe8RgzHCe0l00bMQ2bpkNaIAXXAe5nUUXOQWTolNWpQnTC3TR/Jv8yyrYzUWDQDMks0o6q3LQMyy7ajVWPRDMgs0Yyq3rYMyCzbjlaNRTMgs0QzqnrbMiCzbDtaNRbNgMwSzajqbcuAzLLtaNVYNAMySzSjqrctAzLLtqNVY9EMyCzRjKretgz8AaYOGGMKp3uLAAAAAElFTkSuQmCC)\n",
        "\n",
        "![image.png](data:image/png;base64,iVBORw0KGgoAAAANSUhEUgAAAH4AAAAlCAYAAACEal28AAACGUlEQVR4Xu2abVLGIAyEfY/Q3v+MvYJOncHJxAIbFmhT4i99JXR3n/BRx8+2bd9f8bVcAp8AvxzzX8MBfk3uAX5R7gE+wK+awKK+44wP8HwCx3H8TbLvOz9hzDAsgW4r/oSeYMvvhymPiakEuoI/lXiE77FRWc1dwcvtnRVGtbOh2IvOK0uM9m7gtTBGlIEbNRTRiIyhRJDFrfqGgG8VQ2ZgLs/plJdUeXyZHzChoDXr7uBbhUzI6N8jalpTAzz5DaXmIZdrV/BPuNlrWDl4SGB3gkd9nGARL7oBYPB6+0sTyVu8nnz2StGNV3rLQMK6C7zFxzDwV+aR0JCtO9dMpdpSMyVdV/r0Z4iHu8EjPoaC12EjoSHgR43JBWb9O8Nd4FMuiI8h4Eu33tnbuKVJkJWCNK8VvGUHQ/JDfAR40RlIYCPAW5oTGYv4mAYeCQwxlQSjY/VlMlfXMyzrird6KY1HfUwB3xN6z5DkXBpWDh7i5W7w+k4if9aekaND1lRf5+S5ZZ18FFxkpdSglcDnzuqZ/uUbSg546RJYy74KvjbB036PrGQmsFl+UR/oOK07wD/0H0ZQoOi4V4NvCaGlZvSqRzWh4670vmbF63MZPY+Z8EY0gMUHo/014BkITIDMc5laVnOAZ9J3XBvgHcNjpAd4Jj3HtQHeMTxGeoBn0nNcG+Adw2OkB3gmPce1Ad4xPEZ6gGfSc1z7A18brG82HT59AAAAAElFTkSuQmCC)"
      ],
      "metadata": {
        "id": "ipXMxI6azTS_"
      }
    },
    {
      "cell_type": "markdown",
      "source": [
        "### Como escolher o tamanho da amostra (n) dado que tenho um Nível de Confiança?"
      ],
      "metadata": {
        "id": "kuhGlUjDzkf1"
      }
    }
  ]
}