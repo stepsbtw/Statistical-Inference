{
  "nbformat": 4,
  "nbformat_minor": 0,
  "metadata": {
    "colab": {
      "provenance": [],
      "authorship_tag": "ABX9TyNfn03FsfUEGgX1LfZ/Mg60",
      "include_colab_link": true
    },
    "kernelspec": {
      "name": "python3",
      "display_name": "Python 3"
    },
    "language_info": {
      "name": "python"
    }
  },
  "cells": [
    {
      "cell_type": "markdown",
      "metadata": {
        "id": "view-in-github",
        "colab_type": "text"
      },
      "source": [
        "<a href=\"https://colab.research.google.com/github/stepsbtw/Statistics-Inference-AI-and-ML/blob/main/Statistical_Inference/00_LLN.ipynb\" target=\"_parent\"><img src=\"https://colab.research.google.com/assets/colab-badge.svg\" alt=\"Open In Colab\"/></a>"
      ]
    },
    {
      "cell_type": "markdown",
      "source": [
        "# Law of the Large Numbers\n",
        "The value of the empirical mean (sample mean) converges to the populational mean as we do more and more realizations of a random experiment."
      ],
      "metadata": {
        "id": "0cyrTuDU866S"
      }
    },
    {
      "cell_type": "markdown",
      "source": [
        "![image.png](data:image/png;base64,iVBORw0KGgoAAAANSUhEUgAAAQAAAAA2CAYAAAAoJkdiAAAE5klEQVR4Xu2cW3LkIAxFkyWk97/GbGGmnIqrGAbQA2HZzclnY4R0JC7yo/L59fX154M/CEBgSwKfCMCWeSdoCPwQQAAoBAhsTAAB2Dj5hA4BBIAagMDGBBCAjZNP6BBAAKgBCGxMAAHYOPmEDgEEgBqAwMYEEICNk0/oEEAAqAEIbEwAAQhK/vf398fr9frHWuu3oOUeZeZJHJ7ka0QRhArAAe/8qzdDhLMeG6VPvfkRviIA/ew8aVM9yVfPfqjnhArAafyOm+EUgtZmH41pIPeKZrdi6rF6Goe7+Ttbn6MavlQADkciTlvNpqyvkSB6kz6aV49pupHS7yxWHr6jOV620X5Y7GX73KqVFfVwmQAc8DOh3kEALAX4Ttdm5t3L8U4+S7XrjfGYd6kAzDg6O1eCKI172ts7FdEsv5n5qzh4c6aJZZXPmrWt3avH5jnnMgEok1W3N0drU/5Wtjq9361BS8VSJrxeszdXKhJp3BrDU6+P5iDlMopTtN9ev1bGe5kAtG4BRpv+FIVaDLz3QRLEVrJbomXxZ1RArdglH70FtGpej9mq16ERfFqHj6e7W8W0ZTci7p6/txCAVsEcDkcW0gjiqhO+JwD17/X6dzl5RkWuja0l/JbNE9UB9vyQRFo6cGpB0cYm2S3tIAC/NGZAjBLVS4a0ET3j0qkp2dQW2OrrVgvATK57p6hl080KVyT/aBalb4/rAFqdgQa2B6K0GWfHT78lO5r4Rm2sdb5mo0hCVp9gGpvnpvPmWOpY6nHJp5V5seTEU7ta+wjAgJRUALPjKwteWwDe61YJwIqTV8rTSDwlkfDys8xDAAJvASwJlQpndnxFsVsKy3utpf33xhhV9FKOpK5BqheeATQIagukl2Tr75pC9hSUVDye8doP6SQtxz0xaNhYr5HyW49LnKRNeI5Lm7FlR1p7NC7NtXLzXr8y79wCXHwLIG3oerz8RuLcANmF2RKxEmPk25v6WYLn+YAkWNwCeKWpmtdqh+qPfIKW+jGjORF6Ldpobi8O6wkzKrzS/3K91ncGkSfqLP9y82u6Ge8tgKYr0OT/tGPJaTnHssYs25bY9WxG+bWkA4gEcXdbV7SQra4gi4un+/DM0cS3sjVe5bMmriuvQQAmaa8WgN7pn1WgnnU9cybTMj39iT57gkYAPNQatz6tliyiiBCAgAQZTUTkzbhk2uUIQAB670MmzdIt21kF6m25s/zV8LU+1/HavOs8BCAoM3faqEEhhZl5kgA8ydeIBKULwG7AI5KGDQhEEXALQP1k+nDI82pCEoBR2+ltSaPgYQcCTyfgEoBz02rfA0uQNPfQ5VpR60p+MQ6BdycwLQCWf5Axgtl72l3OkboBTwfy7gkmPgiMCLgE4DRY3wb0/rGHJQXS566absGyHtdCYGcCbgGIfj+t7QDOT4tXfW++czEQ+34EbiEAmlN9dN8vPUjcL61EDAEdgTABOJbzbERpjnTf7337oMPDVRB4bwJuAYjCIglA1DrYgQAE/ieQLgAkBQIQyCOAAOSxZ2UIpBNAANJTgAMQyCOAAOSxZ2UIpBNAANJTgAMQyCOAAOSxZ2UIpBNAANJTgAMQyCOAAOSxZ2UIpBNAANJTgAMQyCOAAOSxZ2UIpBNAANJTgAMQyCOAAOSxZ2UIpBNAANJTgAMQyCPwF9GHEv8fDBdyAAAAAElFTkSuQmCC)\n",
        "\n",
        "The LLN affirms that ̅xn converges to μ as n (size of the samples) get bigger."
      ],
      "metadata": {
        "id": "bW2MuKnM9WY6"
      }
    },
    {
      "cell_type": "markdown",
      "source": [
        "## Demonstration:\n",
        "=> Chebyshev's inequality!\n",
        "\n",
        "# So, there is much more to the Sampling Distributions fundamentals!\n",
        "I will Continue LATER!"
      ],
      "metadata": {
        "id": "gkeDWb-H9uEQ"
      }
    }
  ]
}