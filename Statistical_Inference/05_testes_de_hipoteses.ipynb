{
  "nbformat": 4,
  "nbformat_minor": 0,
  "metadata": {
    "colab": {
      "provenance": [],
      "authorship_tag": "ABX9TyOIrjiKS0Me34zWEeI1nVlp",
      "include_colab_link": true
    },
    "kernelspec": {
      "name": "python3",
      "display_name": "Python 3"
    },
    "language_info": {
      "name": "python"
    }
  },
  "cells": [
    {
      "cell_type": "markdown",
      "metadata": {
        "id": "view-in-github",
        "colab_type": "text"
      },
      "source": [
        "<a href=\"https://colab.research.google.com/github/stepsbtw/Statistical-Inference/blob/main/Statistical_Inference/05_testes_de_hipoteses.ipynb\" target=\"_parent\"><img src=\"https://colab.research.google.com/assets/colab-badge.svg\" alt=\"Open In Colab\"/></a>"
      ]
    },
    {
      "cell_type": "markdown",
      "source": [
        "# Teste de Hipóteses\n",
        "Também chamado de **teste de significância**, é um procedimento para verificar uma afirmação sobre o valor de algum parâmetro populacional. Essa verificação é realizada usando **evidências** obtidas a partir de dados contidos em uma (ou mais) amostra(s) da população.\n",
        "\n",
        "Antes de testar uma hipótese estatística, é importante declarar a natureza da afirmação sendo testada. Para isso seguimos um procedimento de quatro etapas:\n",
        "\n",
        "1. Formular hipóteses **nula e alternativa**\n",
        "2. Computar a estatística de teste\n",
        "3. Computar o p-valor\n",
        "4. Interpretar o resultado\n",
        "\n",
        "## Hipótese Nula e Alternativa\n",
        "- A hipótese nula, denotada por H0, é uma afirmação que denota \"nenhuma mudança na população\", manutenção do \"status quo\".\n",
        "- A hipótese alternativa, detonada por Ha, afirma que \"H0 é falsa\".\n",
        "\n",
        "A hipótese nula é uma afirmação que representa alguma igualdade. Essa hipótese é definida mencionando o valor de um parâmetro populacional.\n",
        "\n",
        "A hipótese alternativa é excludente à hipótese nula. Afirmativa que deve ser verdadeira se H0 é falsa, normalmente representa uma desigualdade.\n",
        "\n",
        "![image.png](data:image/png;base64,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)\n",
        "\n",
        "## Evidência\n",
        "No teste de hipóteses buscamos **evidencia** (na amostra) **contra** H0 a fim de dar suporte à Ha.\n",
        "- Se a evidência for forte, rejeitamos a hipótese nula\n",
        "- Se for fraca, aceitamos a hipótese nula\n",
        "\n",
        "## Tipos de amostra\n",
        "Dependendo do objetivo, abordagens diferentes são usadas para realizar o teste de hipóteses.\n",
        "- Amostra Única : Apenas um grupo de indivíduos\n",
        "- Amostras Pareadas : Duas amostras, com associação um-pra-um entre cada ponto da amostra.\n",
        "- Amostras Indenpendentes : Duas amostras, grupos separados (não relacionados)\n",
        "\n",
        "## Estatística de Teste\n",
        "A variável aleatória (estatística) usada para determinar se rejeitamos ou não a hipótese nula.\n",
        "\n",
        "Em geral, a magnitude do valor da estatística demonstra a força da evidência **contra** H0.\n",
        "\n",
        "Em cada teste usamos uma estatística diferente:\n",
        "\n",
        "![image.png](data:image/png;base64,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)\n",
        "\n",
        "## p-valor\n",
        "Probabilidade de se obter um valor igual ou ainda mais extremo para a estatística de teste, presumindo que a H0 é verdadeira.\n",
        "\n",
        "- Quanto menor o p-valor, + evidência contra H0.\n",
        "\n",
        "## Erro\n",
        "As vezes, por puro acaso pode ocorrer de uma amostra não ser representativa da população, o que pode levar a uma inferência incorreta.\n",
        "\n",
        "Não podemos evitar completamente o erro, porém podemos **reduzir sua probabilidade** - **aumentando o tamanho da amostra** - quanto maior a amostra, menor a chance de ela diferir muito da população.\n",
        "\n",
        "## Nível de Significância\n",
        "Denotado por α é a probabilidade de rejeitarmos **erroneamente** a H0, um erro de tipo 1.\n",
        "\n",
        "Diz-se então que há significância estatística no resultado de um teste quando o p-valor observado é menor do que o nível de significância definido para o estudo. ( tradicionalmente 0.05 ).\n",
        "\n",
        "Decisão:\n",
        "- Rejeitar H0 quando 𝑝 <= α\n",
        "- Não rejeitar H0 quanto 𝑝 > α\n",
        "\n",
        "Afirmações equivalentes:\n",
        "- Se o 𝑝-valor for menor que α, o resultado do teste é **estatísticamente significativo**.\n",
        "- Se o 𝑝-valor for menor que α, **o intervalo de confiança não conterá o valor do parâmetro presumido pela hipótese nula**.\n",
        "- Se o intervalo de confiança não contiver o valor do parâmetro presumido pela hipótese nula, o resultado do teste é **estatísticamente significativo**."
      ],
      "metadata": {
        "id": "gcnzQAbzqmqY"
      }
    }
  ]
}