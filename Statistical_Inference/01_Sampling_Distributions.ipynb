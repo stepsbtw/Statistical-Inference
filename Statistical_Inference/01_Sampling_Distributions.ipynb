{
  "nbformat": 4,
  "nbformat_minor": 0,
  "metadata": {
    "colab": {
      "provenance": [],
      "authorship_tag": "ABX9TyNey8pgYK99aqLRAI+2ihA8",
      "include_colab_link": true
    },
    "kernelspec": {
      "name": "python3",
      "display_name": "Python 3"
    },
    "language_info": {
      "name": "python"
    }
  },
  "cells": [
    {
      "cell_type": "markdown",
      "metadata": {
        "id": "view-in-github",
        "colab_type": "text"
      },
      "source": [
        "<a href=\"https://colab.research.google.com/github/stepsbtw/Statistics-Inference-AI-and-ML/blob/main/01_Sampling_Distributions.ipynb\" target=\"_parent\"><img src=\"https://colab.research.google.com/assets/colab-badge.svg\" alt=\"Open In Colab\"/></a>"
      ]
    },
    {
      "cell_type": "markdown",
      "source": [
        "A Sampling Distribution models a statistic. It approximates a Parameter from the Population.\n",
        "\n",
        "In theory, a Sampling Distribution should represent all possible Simple Random Samples of that statistic.\n",
        "\n",
        "( A Distribution models a function of probability f(x) - The probability of being value x )\n",
        "\n",
        "In practice, we choose a fixed number N of Samples to approximate that theorical Sampling Distribution. ( It should be Large enough to represent well )\n",
        "\n",
        "Sampling Distribution != Distribution of a Sample\n",
        "The distribution of a Sample generally should represent the proportions of the original Population Sample.\n",
        "\n",
        "With that, the size of the Samples are important too. The larger they are, more it resembles the Population Distribution."
      ],
      "metadata": {
        "id": "HK7jk7XKRFVi"
      }
    },
    {
      "cell_type": "code",
      "execution_count": null,
      "metadata": {
        "id": "INwaR9_FQxov"
      },
      "outputs": [],
      "source": [
        "import numpy as np\n",
        "import pandas as pd"
      ]
    },
    {
      "cell_type": "code",
      "source": [
        "df = pd.read_csv()"
      ],
      "metadata": {
        "id": "AEdEGYmbaoX_"
      },
      "execution_count": null,
      "outputs": []
    }
  ]
}