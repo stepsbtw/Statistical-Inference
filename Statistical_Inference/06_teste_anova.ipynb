{
  "nbformat": 4,
  "nbformat_minor": 0,
  "metadata": {
    "colab": {
      "provenance": [],
      "authorship_tag": "ABX9TyMiupkbl7cb0C7DbIC/fYC3",
      "include_colab_link": true
    },
    "kernelspec": {
      "name": "python3",
      "display_name": "Python 3"
    },
    "language_info": {
      "name": "python"
    }
  },
  "cells": [
    {
      "cell_type": "markdown",
      "metadata": {
        "id": "view-in-github",
        "colab_type": "text"
      },
      "source": [
        "<a href=\"https://colab.research.google.com/github/stepsbtw/Statistical-Inference/blob/main/Statistical_Inference/06_teste_anova.ipynb\" target=\"_parent\"><img src=\"https://colab.research.google.com/assets/colab-badge.svg\" alt=\"Open In Colab\"/></a>"
      ]
    },
    {
      "cell_type": "markdown",
      "source": [
        "# Teste ANOVA (ANalysis Of VAriance)\n",
        "Usado para comparar **múltiplas** médias (três ou mais) e verificar se a diferença entre as médias amostrais é significante.\n",
        "\n",
        "É um teste estatístico para determinar se as médias de vários grupos são iguais. Uma **generalização do t-teste** para os casos com mais de dois grupos.\n",
        "\n",
        "Para cada elemento nas amostras:\n",
        "- A variável independente é discreta\n",
        "- A variável dependente é contínua\n",
        "\n",
        "## Hipóteses\n",
        "- H0 : μ1 = μ2 = ... = μk\n",
        "- Ha : existe i e j tal que μi != μj\n",
        "\n",
        "## Distribuição F"
      ],
      "metadata": {
        "id": "NxBMgS7aPjj9"
      }
    }
  ]
}