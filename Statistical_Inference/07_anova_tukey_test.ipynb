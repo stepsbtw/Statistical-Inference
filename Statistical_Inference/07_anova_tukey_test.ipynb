{
  "cells": [
    {
      "cell_type": "markdown",
      "metadata": {
        "id": "view-in-github",
        "colab_type": "text"
      },
      "source": [
        "<a href=\"https://colab.research.google.com/github/stepsbtw/Statistical-Inference/blob/main/anova_tukey_test.ipynb\" target=\"_parent\"><img src=\"https://colab.research.google.com/assets/colab-badge.svg\" alt=\"Open In Colab\"/></a>"
      ]
    },
    {
      "cell_type": "markdown",
      "metadata": {
        "id": "h_SXxOM6YyA5"
      },
      "source": [
        "# Exemplos\n",
        "\n",
        "Nesta seção, apresentamos exemplos de aplicação do teste ANOVA. Nesses exemplos, considere $\\alpha=0.05$.\n",
        "\n",
        "## Exemplo 1\n",
        "\n",
        "Neste exemplo, vamos usar o conjunto de dados [PlantGrowth](https://vincentarelbundock.github.io/Rdatasets/doc/datasets/PlantGrowth.html). A situação-problema que vamos considerar é descrita abaixo.\n",
        "\n",
        "> Durante o cultivo de uma certa uma plantação, dois tratamentos foram aplicados. Deseja-se investigar a efetividade desses tratamentos no peso médio final dos frutos obtidos na colheita. Além disso, algumas plantas foram selecionadas (também de forma aleatória) para não receber tratamento algum, como forma de controle. Após a colheita, o peso médio do frutos foi calculado. A pergunta de pesquisa é a seguinte: há diferença significativa do ponto de vista estatístico entre os pesos médios da colheita em cada um dos três grupos (primeiro tratamento, segundo tratamento, grupo de controle)?\n",
        "\n",
        "**Solução**\n",
        "\n",
        "Vamos resolver essa situação-problema com base nos princípios do teste ANOVA de uma via, já que queremos comparar as médias de três grupos independentes:\n",
        "- Tratamento 1\n",
        "- Tratamento 2\n",
        "- Controle (sem tratamento)\n",
        "\n",
        "Repare que na situação-problema acima, a variável independente é o tipo de tratamento, com valores trt1, trt2 e ctrl. Há também a variável dependente, peso dos frutos.\n",
        "\n",
        "A célula de código abaixo faz a carga das observações realizadas. As colunas `group` e `weight` correspondem às variáveis independente e dependente, respectivamente."
      ]
    },
    {
      "cell_type": "code",
      "execution_count": null,
      "metadata": {
        "colab": {
          "base_uri": "https://localhost:8080/",
          "height": 996
        },
        "id": "MgqJoi6Xk559",
        "outputId": "0a598ed5-f640-404b-f0b5-099d5d3247cc"
      },
      "outputs": [
        {
          "name": "stdout",
          "output_type": "stream",
          "text": [
            "(30, 3)\n"
          ]
        },
        {
          "data": {
            "text/html": [
              "<div>\n",
              "<style scoped>\n",
              "    .dataframe tbody tr th:only-of-type {\n",
              "        vertical-align: middle;\n",
              "    }\n",
              "\n",
              "    .dataframe tbody tr th {\n",
              "        vertical-align: top;\n",
              "    }\n",
              "\n",
              "    .dataframe thead th {\n",
              "        text-align: right;\n",
              "    }\n",
              "</style>\n",
              "<table border=\"1\" class=\"dataframe\">\n",
              "  <thead>\n",
              "    <tr style=\"text-align: right;\">\n",
              "      <th></th>\n",
              "      <th>rownames</th>\n",
              "      <th>weight</th>\n",
              "      <th>group</th>\n",
              "    </tr>\n",
              "  </thead>\n",
              "  <tbody>\n",
              "    <tr>\n",
              "      <th>0</th>\n",
              "      <td>1</td>\n",
              "      <td>4.17</td>\n",
              "      <td>ctrl</td>\n",
              "    </tr>\n",
              "    <tr>\n",
              "      <th>1</th>\n",
              "      <td>2</td>\n",
              "      <td>5.58</td>\n",
              "      <td>ctrl</td>\n",
              "    </tr>\n",
              "    <tr>\n",
              "      <th>2</th>\n",
              "      <td>3</td>\n",
              "      <td>5.18</td>\n",
              "      <td>ctrl</td>\n",
              "    </tr>\n",
              "    <tr>\n",
              "      <th>3</th>\n",
              "      <td>4</td>\n",
              "      <td>6.11</td>\n",
              "      <td>ctrl</td>\n",
              "    </tr>\n",
              "    <tr>\n",
              "      <th>4</th>\n",
              "      <td>5</td>\n",
              "      <td>4.50</td>\n",
              "      <td>ctrl</td>\n",
              "    </tr>\n",
              "    <tr>\n",
              "      <th>5</th>\n",
              "      <td>6</td>\n",
              "      <td>4.61</td>\n",
              "      <td>ctrl</td>\n",
              "    </tr>\n",
              "    <tr>\n",
              "      <th>6</th>\n",
              "      <td>7</td>\n",
              "      <td>5.17</td>\n",
              "      <td>ctrl</td>\n",
              "    </tr>\n",
              "    <tr>\n",
              "      <th>7</th>\n",
              "      <td>8</td>\n",
              "      <td>4.53</td>\n",
              "      <td>ctrl</td>\n",
              "    </tr>\n",
              "    <tr>\n",
              "      <th>8</th>\n",
              "      <td>9</td>\n",
              "      <td>5.33</td>\n",
              "      <td>ctrl</td>\n",
              "    </tr>\n",
              "    <tr>\n",
              "      <th>9</th>\n",
              "      <td>10</td>\n",
              "      <td>5.14</td>\n",
              "      <td>ctrl</td>\n",
              "    </tr>\n",
              "    <tr>\n",
              "      <th>10</th>\n",
              "      <td>11</td>\n",
              "      <td>4.81</td>\n",
              "      <td>trt1</td>\n",
              "    </tr>\n",
              "    <tr>\n",
              "      <th>11</th>\n",
              "      <td>12</td>\n",
              "      <td>4.17</td>\n",
              "      <td>trt1</td>\n",
              "    </tr>\n",
              "    <tr>\n",
              "      <th>12</th>\n",
              "      <td>13</td>\n",
              "      <td>4.41</td>\n",
              "      <td>trt1</td>\n",
              "    </tr>\n",
              "    <tr>\n",
              "      <th>13</th>\n",
              "      <td>14</td>\n",
              "      <td>3.59</td>\n",
              "      <td>trt1</td>\n",
              "    </tr>\n",
              "    <tr>\n",
              "      <th>14</th>\n",
              "      <td>15</td>\n",
              "      <td>5.87</td>\n",
              "      <td>trt1</td>\n",
              "    </tr>\n",
              "    <tr>\n",
              "      <th>15</th>\n",
              "      <td>16</td>\n",
              "      <td>3.83</td>\n",
              "      <td>trt1</td>\n",
              "    </tr>\n",
              "    <tr>\n",
              "      <th>16</th>\n",
              "      <td>17</td>\n",
              "      <td>6.03</td>\n",
              "      <td>trt1</td>\n",
              "    </tr>\n",
              "    <tr>\n",
              "      <th>17</th>\n",
              "      <td>18</td>\n",
              "      <td>4.89</td>\n",
              "      <td>trt1</td>\n",
              "    </tr>\n",
              "    <tr>\n",
              "      <th>18</th>\n",
              "      <td>19</td>\n",
              "      <td>4.32</td>\n",
              "      <td>trt1</td>\n",
              "    </tr>\n",
              "    <tr>\n",
              "      <th>19</th>\n",
              "      <td>20</td>\n",
              "      <td>4.69</td>\n",
              "      <td>trt1</td>\n",
              "    </tr>\n",
              "    <tr>\n",
              "      <th>20</th>\n",
              "      <td>21</td>\n",
              "      <td>6.31</td>\n",
              "      <td>trt2</td>\n",
              "    </tr>\n",
              "    <tr>\n",
              "      <th>21</th>\n",
              "      <td>22</td>\n",
              "      <td>5.12</td>\n",
              "      <td>trt2</td>\n",
              "    </tr>\n",
              "    <tr>\n",
              "      <th>22</th>\n",
              "      <td>23</td>\n",
              "      <td>5.54</td>\n",
              "      <td>trt2</td>\n",
              "    </tr>\n",
              "    <tr>\n",
              "      <th>23</th>\n",
              "      <td>24</td>\n",
              "      <td>5.50</td>\n",
              "      <td>trt2</td>\n",
              "    </tr>\n",
              "    <tr>\n",
              "      <th>24</th>\n",
              "      <td>25</td>\n",
              "      <td>5.37</td>\n",
              "      <td>trt2</td>\n",
              "    </tr>\n",
              "    <tr>\n",
              "      <th>25</th>\n",
              "      <td>26</td>\n",
              "      <td>5.29</td>\n",
              "      <td>trt2</td>\n",
              "    </tr>\n",
              "    <tr>\n",
              "      <th>26</th>\n",
              "      <td>27</td>\n",
              "      <td>4.92</td>\n",
              "      <td>trt2</td>\n",
              "    </tr>\n",
              "    <tr>\n",
              "      <th>27</th>\n",
              "      <td>28</td>\n",
              "      <td>6.15</td>\n",
              "      <td>trt2</td>\n",
              "    </tr>\n",
              "    <tr>\n",
              "      <th>28</th>\n",
              "      <td>29</td>\n",
              "      <td>5.80</td>\n",
              "      <td>trt2</td>\n",
              "    </tr>\n",
              "    <tr>\n",
              "      <th>29</th>\n",
              "      <td>30</td>\n",
              "      <td>5.26</td>\n",
              "      <td>trt2</td>\n",
              "    </tr>\n",
              "  </tbody>\n",
              "</table>\n",
              "</div>"
            ],
            "text/plain": [
              "    rownames  weight group\n",
              "0          1    4.17  ctrl\n",
              "1          2    5.58  ctrl\n",
              "2          3    5.18  ctrl\n",
              "3          4    6.11  ctrl\n",
              "4          5    4.50  ctrl\n",
              "5          6    4.61  ctrl\n",
              "6          7    5.17  ctrl\n",
              "7          8    4.53  ctrl\n",
              "8          9    5.33  ctrl\n",
              "9         10    5.14  ctrl\n",
              "10        11    4.81  trt1\n",
              "11        12    4.17  trt1\n",
              "12        13    4.41  trt1\n",
              "13        14    3.59  trt1\n",
              "14        15    5.87  trt1\n",
              "15        16    3.83  trt1\n",
              "16        17    6.03  trt1\n",
              "17        18    4.89  trt1\n",
              "18        19    4.32  trt1\n",
              "19        20    4.69  trt1\n",
              "20        21    6.31  trt2\n",
              "21        22    5.12  trt2\n",
              "22        23    5.54  trt2\n",
              "23        24    5.50  trt2\n",
              "24        25    5.37  trt2\n",
              "25        26    5.29  trt2\n",
              "26        27    4.92  trt2\n",
              "27        28    6.15  trt2\n",
              "28        29    5.80  trt2\n",
              "29        30    5.26  trt2"
            ]
          },
          "execution_count": 1,
          "metadata": {},
          "output_type": "execute_result"
        }
      ],
      "source": [
        "import pandas as pd\n",
        "import numpy as np\n",
        "\n",
        "frutos_df = pd.read_csv('https://vincentarelbundock.github.io/Rdatasets/csv/datasets/PlantGrowth.csv')\n",
        "print(frutos_df.shape)\n",
        "frutos_df.head(30)"
      ]
    },
    {
      "cell_type": "code",
      "execution_count": null,
      "metadata": {
        "colab": {
          "base_uri": "https://localhost:8080/"
        },
        "id": "nfRNXrhrltze",
        "outputId": "573c6f55-e2a0-4bb9-9a02-cfa568cffd26"
      },
      "outputs": [
        {
          "data": {
            "text/plain": [
              "array(['ctrl', 'trt1', 'trt2'], dtype=object)"
            ]
          },
          "execution_count": 2,
          "metadata": {},
          "output_type": "execute_result"
        }
      ],
      "source": [
        "frutos_df.group.unique()"
      ]
    },
    {
      "cell_type": "code",
      "execution_count": null,
      "metadata": {
        "colab": {
          "base_uri": "https://localhost:8080/"
        },
        "id": "uaWddRlDmUr3",
        "outputId": "f21d36c8-d150-4a09-ab83-b8cefaa1572b"
      },
      "outputs": [
        {
          "name": "stdout",
          "output_type": "stream",
          "text": [
            "<class 'pandas.core.frame.DataFrame'>\n",
            "RangeIndex: 30 entries, 0 to 29\n",
            "Data columns (total 3 columns):\n",
            " #   Column    Non-Null Count  Dtype  \n",
            "---  ------    --------------  -----  \n",
            " 0   rownames  30 non-null     int64  \n",
            " 1   weight    30 non-null     float64\n",
            " 2   group     30 non-null     object \n",
            "dtypes: float64(1), int64(1), object(1)\n",
            "memory usage: 852.0+ bytes\n"
          ]
        }
      ],
      "source": [
        "frutos_df.info()"
      ]
    },
    {
      "cell_type": "markdown",
      "metadata": {
        "id": "zwhYIpasdQpo"
      },
      "source": [
        "\n",
        "Antes da aplicação do ANOVA, devemos verificar se as condições de aplicabilidade se verificam.\n",
        "\n",
        "A primeira condição de aplicabilidade que vamos verificar diz respeito a igualdade das variâncias das amostras. Há vários teste que podem ser aplicados para realizar essa verificação. Um deles é denominado [teste de Levene](https://en.wikipedia.org/wiki/Levene%27s_test). Esse teste serve para verificar a hipótese nula de que as variâncias de duas ou mais populações são iguais (essa propriedade é conhecida como *homocedasticidade*). Se o valor $p$ resultante do teste de Levene for menor do que algum nível de significância (normalmente 0,05), é improvável que as diferenças obtidas nas variâncias das amostras tenham ocorrido com base na amostragem aleatória de uma população com variâncias iguais. Se esse for o caso, a hipótese nula (que alega que as variâncias são iguais) é rejeitada e conclui-se que existe uma diferença entre as variâncias na população.\n",
        "\n",
        "A célula de código a seguir aplica o [teste de Levene](https://en.wikipedia.org/wiki/Levene%27s_test) para verificar se cada uma das três amostras é aproximadamente normalmente distribuída."
      ]
    },
    {
      "cell_type": "code",
      "execution_count": null,
      "metadata": {
        "colab": {
          "base_uri": "https://localhost:8080/"
        },
        "id": "FfQ0K85ccgHU",
        "outputId": "05df9b48-bd9f-4544-fe13-4547489903be"
      },
      "outputs": [
        {
          "name": "stdout",
          "output_type": "stream",
          "text": [
            "Levene’s test statistic = 1.237, p-value = 0.306\n"
          ]
        }
      ],
      "source": [
        "import numpy as np\n",
        "from scipy.stats import levene\n",
        "\n",
        "trt1 = frutos_df['weight'][frutos_df.group == 'trt1']\n",
        "trt2 = frutos_df['weight'][frutos_df.group == 'trt2']\n",
        "ctrl = frutos_df['weight'][frutos_df.group == 'ctrl']\n",
        "\n",
        "# Levene's test for homogeneity of variance\n",
        "stat, p = levene(trt1, trt2, ctrl, center = 'mean')\n",
        "print('Levene’s test statistic = %.3f, p-value = %.3f' % (stat, p))"
      ]
    },
    {
      "cell_type": "markdown",
      "metadata": {
        "id": "XD42eqpkeSS9"
      },
      "source": [
        "Pelo valor obtido para $p$ (aproximadamente $0.30$), podemos concluir, no nível de significância de 5% que devemos aceitar a hipótese nula: não há diferença significativa entre as variâncias das três populações.\n",
        "\n",
        "De fato, as variâncias das amostras, apresentadas a seguir, estão na mesma ordem de grandeza."
      ]
    },
    {
      "cell_type": "code",
      "execution_count": null,
      "metadata": {
        "colab": {
          "base_uri": "https://localhost:8080/"
        },
        "id": "MmPLKNjzmcPT",
        "outputId": "c6986014-6ced-43e2-c35b-dae7da1334a1"
      },
      "outputs": [
        {
          "data": {
            "text/plain": [
              "[0.6299211111111114, 0.19587111111111105, 0.3399955555555556]"
            ]
          },
          "execution_count": 5,
          "metadata": {},
          "output_type": "execute_result"
        }
      ],
      "source": [
        "[np.var(x, ddof=1) for x in [trt1, trt2, ctrl]]"
      ]
    },
    {
      "cell_type": "markdown",
      "metadata": {
        "id": "0zHXn1VFfEt2"
      },
      "source": [
        "Outra condição de aplicabilidade a ser verificada diz respeito à **normalidade**. Mais especificamente, devemos verificar se as amostras usadas são provenientes de populações aproximadamente normais. Para isso, aplicamos a função [scipy.stats.normtest](https://docs.scipy.org/doc/scipy/reference/generated/scipy.stats.normaltest.html). Veja a célula de código abaixo."
      ]
    },
    {
      "cell_type": "code",
      "execution_count": null,
      "metadata": {
        "colab": {
          "base_uri": "https://localhost:8080/"
        },
        "id": "PiJ7hfkBjmyy",
        "outputId": "2900cd69-290f-44af-bac3-598b9c332639"
      },
      "outputs": [
        {
          "name": "stdout",
          "output_type": "stream",
          "text": [
            "p = 0.616393\n",
            "A hipótese nula pode NÃO ser rejeitada\n",
            "p = 0.602548\n",
            "A hipótese nula pode NÃO ser rejeitada\n",
            "p = 0.88981\n",
            "A hipótese nula pode NÃO ser rejeitada\n"
          ]
        },
        {
          "name": "stderr",
          "output_type": "stream",
          "text": [
            "/home/ebezerra/anaconda3/envs/gcc1625/lib/python3.13/site-packages/scipy/stats/_axis_nan_policy.py:430: UserWarning: `kurtosistest` p-value may be inaccurate with fewer than 20 observations; only n=10 observations were given.\n",
            "  return hypotest_fun_in(*args, **kwds)\n"
          ]
        },
        {
          "data": {
            "text/plain": [
              "[None, None, None]"
            ]
          },
          "execution_count": 6,
          "metadata": {},
          "output_type": "execute_result"
        }
      ],
      "source": [
        "from scipy import stats\n",
        "\n",
        "np.random.seed(28041990)\n",
        "\n",
        "def apply_normaltest(x):\n",
        "  k2, p = stats.normaltest(x)\n",
        "  alpha = .05\n",
        "  print(\"p = {:g}\".format(p))\n",
        "\n",
        "  if p < alpha:  # H_0: x é proveniente de uma distribuição normal\n",
        "    print(\"A hipótese nula pode ser rejeitada\")\n",
        "  else:\n",
        "    print(\"A hipótese nula pode NÃO ser rejeitada\")\n",
        "\n",
        "[apply_normaltest(x) for x in [trt1, trt2, ctrl]]"
      ]
    },
    {
      "cell_type": "markdown",
      "metadata": {
        "id": "_zgefqTnoj4m"
      },
      "source": [
        "Considerando no nível de significância $\\alpha=0.05$, os três valores obtidos para $p$ (todos maiores do que $\\alpha$) nos levam a concluir que a hipótese nula não pode ser rejeitada, i.e., há evidências para concluir que as amostras são provenientes de distribuições aproximadamente normais."
      ]
    },
    {
      "cell_type": "markdown",
      "metadata": {
        "id": "3JfCiEdwfWZk"
      },
      "source": [
        "Após a verificação das condições de aplicabilidade (normalidade das amostras e igualdade da variâncias), podemos finalmente aplicar o ANOVA. Para isso, vamos usar a função [scipy.stats.f_oneway](https://docs.scipy.org/doc/scipy/reference/generated/scipy.stats.f_oneway.html). Essa função encapsula parte do procedimento de aplicação do ANOVA. Para invocar essa função, basta passar cada grupo (amostra) como um array numpy. Essa função retorna o valor da estatística $F$ e o valor de $p$ correspondente."
      ]
    },
    {
      "cell_type": "code",
      "execution_count": null,
      "metadata": {
        "colab": {
          "base_uri": "https://localhost:8080/"
        },
        "id": "P8vGPrp0fSR0",
        "outputId": "4a89030c-8879-4aa7-f6b6-54debcdabae8"
      },
      "outputs": [
        {
          "name": "stdout",
          "output_type": "stream",
          "text": [
            "Resultado da ANOVA:\n",
            "F = 4.8461\n",
            "valor-p = 0.0159\n"
          ]
        }
      ],
      "source": [
        "from scipy.stats import f_oneway\n",
        "\n",
        "f_stat, p_value = f_oneway(trt1, trt2, ctrl)\n",
        "\n",
        "print(\"Resultado da ANOVA:\")\n",
        "print(f\"F = {f_stat:.4f}\")\n",
        "print(f\"valor-p = {p_value:.4f}\")"
      ]
    },
    {
      "cell_type": "markdown",
      "metadata": {
        "id": "CPgm0bSgnbQR"
      },
      "source": [
        "O valor obtido para $p$ (aproximadamente $0.016$) nos leva a concluir que, no nível de significância de 5%, podemos rejeitar a hipótese nula (que alega que as médias dos três tratamentos são iguais). Portanto, há evidência estatística de que pelo menos um grupo apresenta peso médio diferente.\n",
        "\n",
        "---"
      ]
    },
    {
      "cell_type": "markdown",
      "metadata": {
        "id": "EsQdD6SJrsX0"
      },
      "source": [
        "## Exemplo 2\n",
        "\n",
        "Durante um experimento para estudar o comportamento de formigas, pesquisadores preparam sanduíches com diferentes tipos de recheio: Ham & Pickles, Peanut Butter e Vegemite. O número de formigas atraídas por cada sanduíche é registrado. A pergunta de pesquisa é:\n",
        "\n",
        "> O tipo de recheio influencia significativamente o número médio de formigas atraídas?\n",
        "\n",
        "**Solução**\n",
        "\n"
      ]
    },
    {
      "cell_type": "code",
      "execution_count": null,
      "metadata": {
        "colab": {
          "base_uri": "https://localhost:8080/",
          "height": 206
        },
        "id": "P-ycUJMerjH_",
        "outputId": "e19f05fd-e017-4d57-ee99-f7a3d53a04ad"
      },
      "outputs": [
        {
          "data": {
            "text/html": [
              "<div>\n",
              "<style scoped>\n",
              "    .dataframe tbody tr th:only-of-type {\n",
              "        vertical-align: middle;\n",
              "    }\n",
              "\n",
              "    .dataframe tbody tr th {\n",
              "        vertical-align: top;\n",
              "    }\n",
              "\n",
              "    .dataframe thead th {\n",
              "        text-align: right;\n",
              "    }\n",
              "</style>\n",
              "<table border=\"1\" class=\"dataframe\">\n",
              "  <thead>\n",
              "    <tr style=\"text-align: right;\">\n",
              "      <th></th>\n",
              "      <th>rownames</th>\n",
              "      <th>Trial</th>\n",
              "      <th>Bread</th>\n",
              "      <th>Filling</th>\n",
              "      <th>Butter</th>\n",
              "      <th>Ants</th>\n",
              "    </tr>\n",
              "  </thead>\n",
              "  <tbody>\n",
              "    <tr>\n",
              "      <th>0</th>\n",
              "      <td>1</td>\n",
              "      <td>1</td>\n",
              "      <td>WholeWheat</td>\n",
              "      <td>HamPickles</td>\n",
              "      <td>no</td>\n",
              "      <td>34</td>\n",
              "    </tr>\n",
              "    <tr>\n",
              "      <th>1</th>\n",
              "      <td>2</td>\n",
              "      <td>2</td>\n",
              "      <td>MultiGrain</td>\n",
              "      <td>PeanutButter</td>\n",
              "      <td>yes</td>\n",
              "      <td>47</td>\n",
              "    </tr>\n",
              "    <tr>\n",
              "      <th>2</th>\n",
              "      <td>3</td>\n",
              "      <td>3</td>\n",
              "      <td>Rye</td>\n",
              "      <td>HamPickles</td>\n",
              "      <td>yes</td>\n",
              "      <td>67</td>\n",
              "    </tr>\n",
              "    <tr>\n",
              "      <th>3</th>\n",
              "      <td>4</td>\n",
              "      <td>4</td>\n",
              "      <td>MultiGrain</td>\n",
              "      <td>HamPickles</td>\n",
              "      <td>yes</td>\n",
              "      <td>63</td>\n",
              "    </tr>\n",
              "    <tr>\n",
              "      <th>4</th>\n",
              "      <td>5</td>\n",
              "      <td>5</td>\n",
              "      <td>WholeWheat</td>\n",
              "      <td>HamPickles</td>\n",
              "      <td>no</td>\n",
              "      <td>65</td>\n",
              "    </tr>\n",
              "  </tbody>\n",
              "</table>\n",
              "</div>"
            ],
            "text/plain": [
              "   rownames  Trial       Bread       Filling Butter  Ants\n",
              "0         1      1  WholeWheat    HamPickles     no    34\n",
              "1         2      2  MultiGrain  PeanutButter    yes    47\n",
              "2         3      3         Rye    HamPickles    yes    67\n",
              "3         4      4  MultiGrain    HamPickles    yes    63\n",
              "4         5      5  WholeWheat    HamPickles     no    65"
            ]
          },
          "execution_count": 8,
          "metadata": {},
          "output_type": "execute_result"
        }
      ],
      "source": [
        "import pandas as pd\n",
        "import numpy as np\n",
        "\n",
        "# Read data source\n",
        "df_sandwichAnts = pd.read_csv('../data/SandwichAnts.csv')\n",
        "df_sandwichAnts.head()"
      ]
    },
    {
      "cell_type": "code",
      "execution_count": null,
      "metadata": {
        "colab": {
          "base_uri": "https://localhost:8080/"
        },
        "id": "sOS8MNoIuCuk",
        "outputId": "02bdb824-6aa2-4259-d315-122c5c733404"
      },
      "outputs": [
        {
          "name": "stdout",
          "output_type": "stream",
          "text": [
            "Mean number of ants for each sandwich filling:\n",
            "Filling\n",
            "HamPickles      55.500\n",
            "PeanutButter    40.375\n",
            "Vegemite        34.625\n",
            "Name: Ants, dtype: float64\n",
            "\n",
            "Standard deviation of ants for each sandwich filling:\n",
            "Filling\n",
            "HamPickles      12.055428\n",
            "PeanutButter    14.183911\n",
            "Vegemite        11.158704\n",
            "Name: Ants, dtype: float64\n"
          ]
        }
      ],
      "source": [
        "# Calculate mean and standard deviation for each sandwich filling\n",
        "means = df_sandwichAnts.groupby('Filling')['Ants'].mean()\n",
        "std_devs = df_sandwichAnts.groupby('Filling')['Ants'].std()\n",
        "\n",
        "print(\"Mean number of ants for each sandwich filling:\")\n",
        "print(means)\n",
        "\n",
        "print(\"\\nStandard deviation of ants for each sandwich filling:\")\n",
        "print(std_devs)"
      ]
    },
    {
      "cell_type": "code",
      "execution_count": null,
      "metadata": {
        "id": "Ij9CqOn9tm9S",
        "outputId": "8eff88b9-bf65-4191-877c-57dabd70892b"
      },
      "outputs": [
        {
          "name": "stdout",
          "output_type": "stream",
          "text": [
            "Sample sizes (HamPickles/PeanutButter/Vegemite): 16, 16, 16\n"
          ]
        }
      ],
      "source": [
        "df_HamPickles = df_sandwichAnts['Ants'][df_sandwichAnts.Filling == 'HamPickles']\n",
        "df_PeanutButter = df_sandwichAnts['Ants'][df_sandwichAnts.Filling == 'PeanutButter']\n",
        "df_Vegemite = df_sandwichAnts['Ants'][df_sandwichAnts.Filling == 'Vegemite']\n",
        "\n",
        "print(f'Sample sizes (HamPickles/PeanutButter/Vegemite): {df_HamPickles.shape[0]}, {df_PeanutButter.shape[0]}, {df_Vegemite.shape[0]}')"
      ]
    },
    {
      "cell_type": "code",
      "execution_count": null,
      "metadata": {
        "colab": {
          "base_uri": "https://localhost:8080/"
        },
        "id": "lELde2UouSoM",
        "outputId": "b80358e7-9f8d-4314-ed82-e4f895fde19e"
      },
      "outputs": [
        {
          "name": "stdout",
          "output_type": "stream",
          "text": [
            "F = 11.8479\n",
            "valor-p = 0.0001\n"
          ]
        }
      ],
      "source": [
        "from scipy.stats import f_oneway\n",
        "f_stat, p_value = f_oneway(df_HamPickles, df_PeanutButter, df_Vegemite)\n",
        "print(f\"F = {f_stat:.4f}\")\n",
        "print(f\"valor-p = {p_value:.4f}\")"
      ]
    },
    {
      "cell_type": "markdown",
      "metadata": {
        "id": "FhL_E_4K9E0H"
      },
      "source": [
        "Foi aplicado um teste ANOVA de uma via comparando os grupos definidos por `Filling`. O resultado foi:\n",
        "\n",
        "- Estatística F = 11.85\n",
        "- Valor-p = 0.00007\n",
        "\n",
        "Como o valor-p é muito menor que 0.05, rejeitamos a hipótese nula:\n",
        "> Há evidência estatística de que o tipo de recheio influencia o número médio de formigas.\n",
        "___"
      ]
    },
    {
      "cell_type": "markdown",
      "metadata": {
        "id": "b4nBadLj9E0I"
      },
      "source": [
        "## Exemplo 3"
      ]
    },
    {
      "cell_type": "markdown",
      "metadata": {
        "id": "Ss99KMSh9E0I"
      },
      "source": [
        "Neste exemplo, vamos aplicar o teste de Tukey sobre o problema relativo ao dataset SandwichAnts."
      ]
    },
    {
      "cell_type": "code",
      "execution_count": null,
      "metadata": {
        "id": "FYIlMJoS9E0I"
      },
      "outputs": [],
      "source": [
        "# pip install statsmodels"
      ]
    },
    {
      "cell_type": "code",
      "execution_count": null,
      "metadata": {
        "id": "bQj7RdvT9E0J",
        "outputId": "bb4a4e5f-e091-4178-91db-fdd0557f4f63"
      },
      "outputs": [
        {
          "name": "stdout",
          "output_type": "stream",
          "text": [
            "Resumo do Teste de Tukey:\n"
          ]
        },
        {
          "data": {
            "text/html": [
              "<div>\n",
              "<style scoped>\n",
              "    .dataframe tbody tr th:only-of-type {\n",
              "        vertical-align: middle;\n",
              "    }\n",
              "\n",
              "    .dataframe tbody tr th {\n",
              "        vertical-align: top;\n",
              "    }\n",
              "\n",
              "    .dataframe thead th {\n",
              "        text-align: right;\n",
              "    }\n",
              "</style>\n",
              "<table border=\"1\" class=\"dataframe\">\n",
              "  <thead>\n",
              "    <tr style=\"text-align: right;\">\n",
              "      <th></th>\n",
              "      <th>group1</th>\n",
              "      <th>group2</th>\n",
              "      <th>meandiff</th>\n",
              "      <th>p-adj</th>\n",
              "      <th>lower</th>\n",
              "      <th>upper</th>\n",
              "      <th>reject</th>\n",
              "    </tr>\n",
              "  </thead>\n",
              "  <tbody>\n",
              "    <tr>\n",
              "      <th>0</th>\n",
              "      <td>HamPickles</td>\n",
              "      <td>PeanutButter</td>\n",
              "      <td>-15.125</td>\n",
              "      <td>0.0038</td>\n",
              "      <td>-25.862</td>\n",
              "      <td>-4.388</td>\n",
              "      <td>True</td>\n",
              "    </tr>\n",
              "    <tr>\n",
              "      <th>1</th>\n",
              "      <td>HamPickles</td>\n",
              "      <td>Vegemite</td>\n",
              "      <td>-20.875</td>\n",
              "      <td>0.0001</td>\n",
              "      <td>-31.612</td>\n",
              "      <td>-10.138</td>\n",
              "      <td>True</td>\n",
              "    </tr>\n",
              "    <tr>\n",
              "      <th>2</th>\n",
              "      <td>PeanutButter</td>\n",
              "      <td>Vegemite</td>\n",
              "      <td>-5.750</td>\n",
              "      <td>0.4037</td>\n",
              "      <td>-16.487</td>\n",
              "      <td>4.987</td>\n",
              "      <td>False</td>\n",
              "    </tr>\n",
              "  </tbody>\n",
              "</table>\n",
              "</div>"
            ],
            "text/plain": [
              "         group1        group2  meandiff   p-adj   lower   upper  reject\n",
              "0    HamPickles  PeanutButter   -15.125  0.0038 -25.862  -4.388    True\n",
              "1    HamPickles      Vegemite   -20.875  0.0001 -31.612 -10.138    True\n",
              "2  PeanutButter      Vegemite    -5.750  0.4037 -16.487   4.987   False"
            ]
          },
          "execution_count": 13,
          "metadata": {},
          "output_type": "execute_result"
        }
      ],
      "source": [
        "from statsmodels.stats.multicomp import pairwise_tukeyhsd\n",
        "\n",
        "# Teste de Tukey\n",
        "tukey = pairwise_tukeyhsd(endog=df_sandwichAnts[\"Ants\"], groups=df_sandwichAnts[\"Filling\"], alpha=0.05)\n",
        "\n",
        "dataframe=pd.DataFrame(data=tukey.summary().data[1:], columns=tukey.summary().data[0])\n",
        "\n",
        "print(\"Resumo do Teste de Tukey:\")\n",
        "dataframe.head()"
      ]
    },
    {
      "cell_type": "markdown",
      "metadata": {
        "id": "sklKe5xb9E0J"
      },
      "source": [
        "Com base na variável **Filling** (recheio do sanduíche) e o número de **formigas atraídas**, temos:\n",
        "\n",
        "| Grupo 1      | Grupo 2      | Diferença de médias | Valor-p ajustado | IC Inferior | IC Superior | Diferença significativa? |\n",
        "| ------------ | ------------ | ------------------- | ---------------- | ----------- | ----------- | ------------------------ |\n",
        "| HamPickles   | PeanutButter | -15.125             | 0.0038           | -25.862     | -4.388      | ✅ Sim                    |\n",
        "| HamPickles   | Vegemite     | -20.875             | 0.0001           | -31.612     | -10.138     | ✅ Sim                    |\n",
        "| PeanutButter | Vegemite     | -5.750              | 0.4037           | -16.487     | 4.987       | ❌ Não                    |\n",
        "\n",
        "**Conclusão**:\n",
        "\n",
        "* **Sanduíches com *Ham & Pickles*** atraíram significativamente **mais formigas** do que os com *Peanut Butter* e *Vegemite*.\n",
        "* A diferença entre *Peanut Butter* e *Vegemite* **não é estatisticamente significativa**.\n",
        "\n",
        "Isso sugere que o tipo de recheio afeta o número de formigas, especialmente quando *Ham & Pickles* está envolvido."
      ]
    },
    {
      "cell_type": "markdown",
      "metadata": {
        "id": "ygC15dr19E0K"
      },
      "source": [
        "Vamos criar um gráfico para ilustrar o resultado do teste de Tukey. Nesse gráfico, a **linha vertical zero** representa o ponto de **\"diferença de médias igual a zero\"**, isto é:\n",
        "\n",
        "$$\n",
        "\\bar{x}_i - \\bar{x}_j = 0\n",
        "$$\n",
        "\n",
        "Essa linha é o **referencial neutro**: se o **intervalo de confiança da diferença de médias** entre dois grupos **inclui o zero**, isso significa que **não podemos afirmar que a diferença entre os grupos é estatisticamente significativa** — o zero está dentro do intervalo de plausibilidade.\n",
        "\n",
        "**Interpretar**:\n",
        "\n",
        "* Se a **barra horizontal (intervalo de confiança)** **cruza a linha vertical zero**, então **não há diferença significativa**.\n",
        "* Se a **barra está totalmente à esquerda ou à direita** da linha zero (sem tocá-la), então há **diferença significativa** entre os grupos.\n",
        "\n",
        "No gráfico fornecido:\n",
        "\n",
        "* A linha vertical que passa por zero é desenhada como referência — ela **não é uma linha de dados**, mas um **marcador visual** para saber se um intervalo de confiança inclui ou não o valor nulo (diferença zero).\n",
        "* Ela está localizada no centro do eixo horizontal, geralmente não rotulada explicitamente como \"0\", mas é ali que você deve procurar se os **ICs das comparações cruzam ou não zero**."
      ]
    },
    {
      "cell_type": "code",
      "execution_count": null,
      "metadata": {
        "id": "p7_gRhgq9E0K",
        "outputId": "447a6db7-dea0-4882-fa2a-0a2d71d9241d"
      },
      "outputs": [
        {
          "data": {
            "image/png": "[encoded data removed]",
            "text/plain": [
              "<Figure size 800x450 with 1 Axes>"
            ]
          },
          "metadata": {},
          "output_type": "display_data"
        }
      ],
      "source": [
        "from matplotlib import pyplot as plt\n",
        "\n",
        "# Cria um gráfico customizado com destaque na linha zero e intervalos de confiança\n",
        "\n",
        "# Extrair dados do objeto tukey\n",
        "tukey_df = pd.DataFrame(data=tukey.summary().data[1:], columns=tukey.summary().data[0])\n",
        "\n",
        "# Definir posição no eixo y para cada comparação\n",
        "tukey_df[\"comparison\"] = tukey_df[\"group1\"] + \" vs \" + tukey_df[\"group2\"]\n",
        "tukey_df = tukey_df.sort_values(\"meandiff\", ascending=True).reset_index(drop=True)\n",
        "tukey_df[\"ypos\"] = range(len(tukey_df))\n",
        "\n",
        "# Criar o gráfico\n",
        "plt.figure(figsize=(8, 4.5))\n",
        "for i, row in tukey_df.iterrows():\n",
        "    plt.plot([row[\"lower\"], row[\"upper\"]], [row[\"ypos\"]]*2, color=\"black\")\n",
        "    plt.plot(row[\"meandiff\"], row[\"ypos\"], \"o\", color=\"red\")\n",
        "\n",
        "# Linha vertical no zero\n",
        "plt.axvline(x=0, color=\"blue\", linestyle=\"--\", label=\"Diferença = 0\")\n",
        "\n",
        "# Customizações\n",
        "plt.yticks(tukey_df[\"ypos\"], tukey_df[\"comparison\"])\n",
        "plt.xlabel(\"Diferença de Médias (Número de Formigas)\")\n",
        "plt.title(\"Intervalos de Confiança - Teste de Tukey (Comparações de Recheios)\")\n",
        "plt.legend()\n",
        "plt.grid(True, axis='x')\n",
        "plt.tight_layout()\n",
        "plt.show()\n"
      ]
    },
    {
      "cell_type": "markdown",
      "metadata": {
        "id": "Ku0drIcM9E0L"
      },
      "source": [
        "# Exercícios Propostos\n",
        "\n",
        "A seguir estão três exercícios propostos. Cada uma envolve **comparação de médias entre três ou mais grupos**. Resolva esses exercícios usando os dados fornecidos nos arquivos `anova/MetodoEstudo.csv`, `anova/Fertilizante.csv` e `SatisfacaoCelular.csv`.\n",
        "\n",
        "###  Exercício 1 – Efeitos de Diferentes Métodos de Estudo\n",
        "\n",
        "**Contexto:**\n",
        "Uma professora quer investigar se diferentes métodos de estudo afetam o desempenho dos alunos em uma prova final. Ela divide os alunos aleatoriamente em três grupos:\n",
        "\n",
        "* **Grupo 1:** Estudo individual em casa\n",
        "* **Grupo 2:** Estudo em grupo na biblioteca\n",
        "* **Grupo 3:** Aulas de revisão com o professor\n",
        "\n",
        "Após a prova, ela coleta as notas dos alunos de cada grupo.\n",
        "\n",
        "**Pergunta de pesquisa:**\n",
        "\n",
        "> Existe diferença estatisticamente significativa entre as **médias das notas** dos alunos que utilizaram os diferentes métodos de estudo?\n",
        "\n",
        "Aplique ANOVA de uma via e, se necessário, o teste de Tukey para identificar **quais métodos diferem entre si**."
      ]
    },
    {
      "cell_type": "code",
      "source": [
        "import pandas as pd\n",
        "\n",
        "df = pd.read_csv(\"https://raw.githubusercontent.com/AILAB-CEFET-RJ/gcc1625/refs/heads/main/data/anova/MetodoEstudo.csv\")\n",
        "df[\"Metodo\"].unique()\n",
        "df"
      ],
      "metadata": {
        "colab": {
          "base_uri": "https://localhost:8080/",
          "height": 424
        },
        "id": "JzGwhAxX9d3j",
        "outputId": "ebfebb78-c049-4a21-b9f5-8614320a7fe6"
      },
      "execution_count": null,
      "outputs": [
        {
          "output_type": "execute_result",
          "data": {
            "text/plain": [
              "        Metodo      Nota\n",
              "0   Individual  5.414369\n",
              "1   Individual  7.497345\n",
              "2   Individual  6.782978\n",
              "3   Individual  4.993705\n",
              "4   Individual  5.921400\n",
              "..         ...       ...\n",
              "85     Revisao  7.131278\n",
              "86     Revisao  7.414030\n",
              "87     Revisao  7.029981\n",
              "88     Revisao  9.669691\n",
              "89     Revisao  8.131553\n",
              "\n",
              "[90 rows x 2 columns]"
            ],
            "text/html": [
              "\n",
              "  <div id=\"df-eccbd92e-c133-43ce-9ae7-bb9b86548d5f\" class=\"colab-df-container\">\n",
              "    <div>\n",
              "<style scoped>\n",
              "    .dataframe tbody tr th:only-of-type {\n",
              "        vertical-align: middle;\n",
              "    }\n",
              "\n",
              "    .dataframe tbody tr th {\n",
              "        vertical-align: top;\n",
              "    }\n",
              "\n",
              "    .dataframe thead th {\n",
              "        text-align: right;\n",
              "    }\n",
              "</style>\n",
              "<table border=\"1\" class=\"dataframe\">\n",
              "  <thead>\n",
              "    <tr style=\"text-align: right;\">\n",
              "      <th></th>\n",
              "      <th>Metodo</th>\n",
              "      <th>Nota</th>\n",
              "    </tr>\n",
              "  </thead>\n",
              "  <tbody>\n",
              "    <tr>\n",
              "      <th>0</th>\n",
              "      <td>Individual</td>\n",
              "      <td>5.414369</td>\n",
              "    </tr>\n",
              "    <tr>\n",
              "      <th>1</th>\n",
              "      <td>Individual</td>\n",
              "      <td>7.497345</td>\n",
              "    </tr>\n",
              "    <tr>\n",
              "      <th>2</th>\n",
              "      <td>Individual</td>\n",
              "      <td>6.782978</td>\n",
              "    </tr>\n",
              "    <tr>\n",
              "      <th>3</th>\n",
              "      <td>Individual</td>\n",
              "      <td>4.993705</td>\n",
              "    </tr>\n",
              "    <tr>\n",
              "      <th>4</th>\n",
              "      <td>Individual</td>\n",
              "      <td>5.921400</td>\n",
              "    </tr>\n",
              "    <tr>\n",
              "      <th>...</th>\n",
              "      <td>...</td>\n",
              "      <td>...</td>\n",
              "    </tr>\n",
              "    <tr>\n",
              "      <th>85</th>\n",
              "      <td>Revisao</td>\n",
              "      <td>7.131278</td>\n",
              "    </tr>\n",
              "    <tr>\n",
              "      <th>86</th>\n",
              "      <td>Revisao</td>\n",
              "      <td>7.414030</td>\n",
              "    </tr>\n",
              "    <tr>\n",
              "      <th>87</th>\n",
              "      <td>Revisao</td>\n",
              "      <td>7.029981</td>\n",
              "    </tr>\n",
              "    <tr>\n",
              "      <th>88</th>\n",
              "      <td>Revisao</td>\n",
              "      <td>9.669691</td>\n",
              "    </tr>\n",
              "    <tr>\n",
              "      <th>89</th>\n",
              "      <td>Revisao</td>\n",
              "      <td>8.131553</td>\n",
              "    </tr>\n",
              "  </tbody>\n",
              "</table>\n",
              "<p>90 rows × 2 columns</p>\n",
              "</div>\n",
              "    <div class=\"colab-df-buttons\">\n",
              "\n",
              "  <div class=\"colab-df-container\">\n",
              "    <button class=\"colab-df-convert\" onclick=\"convertToInteractive('df-eccbd92e-c133-43ce-9ae7-bb9b86548d5f')\"\n",
              "            title=\"Convert this dataframe to an interactive table.\"\n",
              "            style=\"display:none;\">\n",
              "\n",
              "  <svg xmlns=\"http://www.w3.org/2000/svg\" height=\"24px\" viewBox=\"0 -960 960 960\">\n",
              "    <path d=\"M120-120v-720h720v720H120Zm60-500h600v-160H180v160Zm220 220h160v-160H400v160Zm0 220h160v-160H400v160ZM180-400h160v-160H180v160Zm440 0h160v-160H620v160ZM180-180h160v-160H180v160Zm440 0h160v-160H620v160Z\"/>\n",
              "  </svg>\n",
              "    </button>\n",
              "\n",
              "  <style>\n",
              "    .colab-df-container {\n",
              "      display:flex;\n",
              "      gap: 12px;\n",
              "    }\n",
              "\n",
              "    .colab-df-convert {\n",
              "      background-color: #E8F0FE;\n",
              "      border: none;\n",
              "      border-radius: 50%;\n",
              "      cursor: pointer;\n",
              "      display: none;\n",
              "      fill: #1967D2;\n",
              "      height: 32px;\n",
              "      padding: 0 0 0 0;\n",
              "      width: 32px;\n",
              "    }\n",
              "\n",
              "    .colab-df-convert:hover {\n",
              "      background-color: #E2EBFA;\n",
              "      box-shadow: 0px 1px 2px rgba(60, 64, 67, 0.3), 0px 1px 3px 1px rgba(60, 64, 67, 0.15);\n",
              "      fill: #174EA6;\n",
              "    }\n",
              "\n",
              "    .colab-df-buttons div {\n",
              "      margin-bottom: 4px;\n",
              "    }\n",
              "\n",
              "    [theme=dark] .colab-df-convert {\n",
              "      background-color: #3B4455;\n",
              "      fill: #D2E3FC;\n",
              "    }\n",
              "\n",
              "    [theme=dark] .colab-df-convert:hover {\n",
              "      background-color: #434B5C;\n",
              "      box-shadow: 0px 1px 3px 1px rgba(0, 0, 0, 0.15);\n",
              "      filter: drop-shadow(0px 1px 2px rgba(0, 0, 0, 0.3));\n",
              "      fill: #FFFFFF;\n",
              "    }\n",
              "  </style>\n",
              "\n",
              "    <script>\n",
              "      const buttonEl =\n",
              "        document.querySelector('#df-eccbd92e-c133-43ce-9ae7-bb9b86548d5f button.colab-df-convert');\n",
              "      buttonEl.style.display =\n",
              "        google.colab.kernel.accessAllowed ? 'block' : 'none';\n",
              "\n",
              "      async function convertToInteractive(key) {\n",
              "        const element = document.querySelector('#df-eccbd92e-c133-43ce-9ae7-bb9b86548d5f');\n",
              "        const dataTable =\n",
              "          await google.colab.kernel.invokeFunction('convertToInteractive',\n",
              "                                                    [key], {});\n",
              "        if (!dataTable) return;\n",
              "\n",
              "        const docLinkHtml = 'Like what you see? Visit the ' +\n",
              "          '<a target=\"_blank\" href=https://colab.research.google.com/notebooks/data_table.ipynb>data table notebook</a>'\n",
              "          + ' to learn more about interactive tables.';\n",
              "        element.innerHTML = '';\n",
              "        dataTable['output_type'] = 'display_data';\n",
              "        await google.colab.output.renderOutput(dataTable, element);\n",
              "        const docLink = document.createElement('div');\n",
              "        docLink.innerHTML = docLinkHtml;\n",
              "        element.appendChild(docLink);\n",
              "      }\n",
              "    </script>\n",
              "  </div>\n",
              "\n",
              "\n",
              "    <div id=\"df-abbd7f57-a52c-4023-929d-39be8b1d042a\">\n",
              "      <button class=\"colab-df-quickchart\" onclick=\"quickchart('df-abbd7f57-a52c-4023-929d-39be8b1d042a')\"\n",
              "                title=\"Suggest charts\"\n",
              "                style=\"display:none;\">\n",
              "\n",
              "<svg xmlns=\"http://www.w3.org/2000/svg\" height=\"24px\"viewBox=\"0 0 24 24\"\n",
              "     width=\"24px\">\n",
              "    <g>\n",
              "        <path d=\"M19 3H5c-1.1 0-2 .9-2 2v14c0 1.1.9 2 2 2h14c1.1 0 2-.9 2-2V5c0-1.1-.9-2-2-2zM9 17H7v-7h2v7zm4 0h-2V7h2v10zm4 0h-2v-4h2v4z\"/>\n",
              "    </g>\n",
              "</svg>\n",
              "      </button>\n",
              "\n",
              "<style>\n",
              "  .colab-df-quickchart {\n",
              "      --bg-color: #E8F0FE;\n",
              "      --fill-color: #1967D2;\n",
              "      --hover-bg-color: #E2EBFA;\n",
              "      --hover-fill-color: #174EA6;\n",
              "      --disabled-fill-color: #AAA;\n",
              "      --disabled-bg-color: #DDD;\n",
              "  }\n",
              "\n",
              "  [theme=dark] .colab-df-quickchart {\n",
              "      --bg-color: #3B4455;\n",
              "      --fill-color: #D2E3FC;\n",
              "      --hover-bg-color: #434B5C;\n",
              "      --hover-fill-color: #FFFFFF;\n",
              "      --disabled-bg-color: #3B4455;\n",
              "      --disabled-fill-color: #666;\n",
              "  }\n",
              "\n",
              "  .colab-df-quickchart {\n",
              "    background-color: var(--bg-color);\n",
              "    border: none;\n",
              "    border-radius: 50%;\n",
              "    cursor: pointer;\n",
              "    display: none;\n",
              "    fill: var(--fill-color);\n",
              "    height: 32px;\n",
              "    padding: 0;\n",
              "    width: 32px;\n",
              "  }\n",
              "\n",
              "  .colab-df-quickchart:hover {\n",
              "    background-color: var(--hover-bg-color);\n",
              "    box-shadow: 0 1px 2px rgba(60, 64, 67, 0.3), 0 1px 3px 1px rgba(60, 64, 67, 0.15);\n",
              "    fill: var(--button-hover-fill-color);\n",
              "  }\n",
              "\n",
              "  .colab-df-quickchart-complete:disabled,\n",
              "  .colab-df-quickchart-complete:disabled:hover {\n",
              "    background-color: var(--disabled-bg-color);\n",
              "    fill: var(--disabled-fill-color);\n",
              "    box-shadow: none;\n",
              "  }\n",
              "\n",
              "  .colab-df-spinner {\n",
              "    border: 2px solid var(--fill-color);\n",
              "    border-color: transparent;\n",
              "    border-bottom-color: var(--fill-color);\n",
              "    animation:\n",
              "      spin 1s steps(1) infinite;\n",
              "  }\n",
              "\n",
              "  @keyframes spin {\n",
              "    0% {\n",
              "      border-color: transparent;\n",
              "      border-bottom-color: var(--fill-color);\n",
              "      border-left-color: var(--fill-color);\n",
              "    }\n",
              "    20% {\n",
              "      border-color: transparent;\n",
              "      border-left-color: var(--fill-color);\n",
              "      border-top-color: var(--fill-color);\n",
              "    }\n",
              "    30% {\n",
              "      border-color: transparent;\n",
              "      border-left-color: var(--fill-color);\n",
              "      border-top-color: var(--fill-color);\n",
              "      border-right-color: var(--fill-color);\n",
              "    }\n",
              "    40% {\n",
              "      border-color: transparent;\n",
              "      border-right-color: var(--fill-color);\n",
              "      border-top-color: var(--fill-color);\n",
              "    }\n",
              "    60% {\n",
              "      border-color: transparent;\n",
              "      border-right-color: var(--fill-color);\n",
              "    }\n",
              "    80% {\n",
              "      border-color: transparent;\n",
              "      border-right-color: var(--fill-color);\n",
              "      border-bottom-color: var(--fill-color);\n",
              "    }\n",
              "    90% {\n",
              "      border-color: transparent;\n",
              "      border-bottom-color: var(--fill-color);\n",
              "    }\n",
              "  }\n",
              "</style>\n",
              "\n",
              "      <script>\n",
              "        async function quickchart(key) {\n",
              "          const quickchartButtonEl =\n",
              "            document.querySelector('#' + key + ' button');\n",
              "          quickchartButtonEl.disabled = true;  // To prevent multiple clicks.\n",
              "          quickchartButtonEl.classList.add('colab-df-spinner');\n",
              "          try {\n",
              "            const charts = await google.colab.kernel.invokeFunction(\n",
              "                'suggestCharts', [key], {});\n",
              "          } catch (error) {\n",
              "            console.error('Error during call to suggestCharts:', error);\n",
              "          }\n",
              "          quickchartButtonEl.classList.remove('colab-df-spinner');\n",
              "          quickchartButtonEl.classList.add('colab-df-quickchart-complete');\n",
              "        }\n",
              "        (() => {\n",
              "          let quickchartButtonEl =\n",
              "            document.querySelector('#df-abbd7f57-a52c-4023-929d-39be8b1d042a button');\n",
              "          quickchartButtonEl.style.display =\n",
              "            google.colab.kernel.accessAllowed ? 'block' : 'none';\n",
              "        })();\n",
              "      </script>\n",
              "    </div>\n",
              "\n",
              "  <div id=\"id_226b3dd3-1469-416e-a308-bdbabc75e38f\">\n",
              "    <style>\n",
              "      .colab-df-generate {\n",
              "        background-color: #E8F0FE;\n",
              "        border: none;\n",
              "        border-radius: 50%;\n",
              "        cursor: pointer;\n",
              "        display: none;\n",
              "        fill: #1967D2;\n",
              "        height: 32px;\n",
              "        padding: 0 0 0 0;\n",
              "        width: 32px;\n",
              "      }\n",
              "\n",
              "      .colab-df-generate:hover {\n",
              "        background-color: #E2EBFA;\n",
              "        box-shadow: 0px 1px 2px rgba(60, 64, 67, 0.3), 0px 1px 3px 1px rgba(60, 64, 67, 0.15);\n",
              "        fill: #174EA6;\n",
              "      }\n",
              "\n",
              "      [theme=dark] .colab-df-generate {\n",
              "        background-color: #3B4455;\n",
              "        fill: #D2E3FC;\n",
              "      }\n",
              "\n",
              "      [theme=dark] .colab-df-generate:hover {\n",
              "        background-color: #434B5C;\n",
              "        box-shadow: 0px 1px 3px 1px rgba(0, 0, 0, 0.15);\n",
              "        filter: drop-shadow(0px 1px 2px rgba(0, 0, 0, 0.3));\n",
              "        fill: #FFFFFF;\n",
              "      }\n",
              "    </style>\n",
              "    <button class=\"colab-df-generate\" onclick=\"generateWithVariable('df')\"\n",
              "            title=\"Generate code using this dataframe.\"\n",
              "            style=\"display:none;\">\n",
              "\n",
              "  <svg xmlns=\"http://www.w3.org/2000/svg\" height=\"24px\"viewBox=\"0 0 24 24\"\n",
              "       width=\"24px\">\n",
              "    <path d=\"M7,19H8.4L18.45,9,17,7.55,7,17.6ZM5,21V16.75L18.45,3.32a2,2,0,0,1,2.83,0l1.4,1.43a1.91,1.91,0,0,1,.58,1.4,1.91,1.91,0,0,1-.58,1.4L9.25,21ZM18.45,9,17,7.55Zm-12,3A5.31,5.31,0,0,0,4.9,8.1,5.31,5.31,0,0,0,1,6.5,5.31,5.31,0,0,0,4.9,4.9,5.31,5.31,0,0,0,6.5,1,5.31,5.31,0,0,0,8.1,4.9,5.31,5.31,0,0,0,12,6.5,5.46,5.46,0,0,0,6.5,12Z\"/>\n",
              "  </svg>\n",
              "    </button>\n",
              "    <script>\n",
              "      (() => {\n",
              "      const buttonEl =\n",
              "        document.querySelector('#id_226b3dd3-1469-416e-a308-bdbabc75e38f button.colab-df-generate');\n",
              "      buttonEl.style.display =\n",
              "        google.colab.kernel.accessAllowed ? 'block' : 'none';\n",
              "\n",
              "      buttonEl.onclick = () => {\n",
              "        google.colab.notebook.generateWithVariable('df');\n",
              "      }\n",
              "      })();\n",
              "    </script>\n",
              "  </div>\n",
              "\n",
              "    </div>\n",
              "  </div>\n"
            ],
            "application/vnd.google.colaboratory.intrinsic+json": {
              "type": "dataframe",
              "variable_name": "df",
              "summary": "{\n  \"name\": \"df\",\n  \"rows\": 90,\n  \"fields\": [\n    {\n      \"column\": \"Metodo\",\n      \"properties\": {\n        \"dtype\": \"category\",\n        \"num_unique_values\": 3,\n        \"samples\": [\n          \"Individual\",\n          \"Grupo\",\n          \"Revisao\"\n        ],\n        \"semantic_type\": \"\",\n        \"description\": \"\"\n      }\n    },\n    {\n      \"column\": \"Nota\",\n      \"properties\": {\n        \"dtype\": \"number\",\n        \"std\": 1.193327852983141,\n        \"min\": 4.073320756606925,\n        \"max\": 9.669690687670547,\n        \"num_unique_values\": 90,\n        \"samples\": [\n          6.475170133740946,\n          5.5641661315976085,\n          8.162384372481913\n        ],\n        \"semantic_type\": \"\",\n        \"description\": \"\"\n      }\n    }\n  ]\n}"
            }
          },
          "metadata": {},
          "execution_count": 48
        }
      ]
    },
    {
      "cell_type": "code",
      "source": [
        "individual = df[df[\"Metodo\"]==\"Individual\"][\"Nota\"]\n",
        "revisao = df[df[\"Metodo\"]==\"Revisao\"][\"Nota\"]\n",
        "grupo = df[df[\"Metodo\"]==\"Grupo\"][\"Nota\"]\n",
        "\n",
        "print(individual.mean(), revisao.mean(), grupo.mean())\n",
        "print(individual.std(), revisao.std(), grupo.std())"
      ],
      "metadata": {
        "colab": {
          "base_uri": "https://localhost:8080/"
        },
        "id": "QIIa9e5v99CT",
        "outputId": "bb5c1f4f-b825-4624-ff00-1fe100a97734"
      },
      "execution_count": null,
      "outputs": [
        {
          "output_type": "stream",
          "name": "stdout",
          "text": [
            "6.54471397096187 7.9369304474340785 7.327336723847698\n",
            "1.1872005911396053 0.8499438326003719 1.1093870996669042\n"
          ]
        }
      ]
    },
    {
      "cell_type": "code",
      "source": [
        "import scipy\n",
        "from statsmodels.stats.multicomp import pairwise_tukeyhsd\n",
        "\n",
        "f, p = scipy.stats.f_oneway(individual, revisao, grupo)\n",
        "f, p"
      ],
      "metadata": {
        "colab": {
          "base_uri": "https://localhost:8080/"
        },
        "id": "wE-7z-Vn-4Hx",
        "outputId": "9f4383b0-9110-4a0a-8441-0ac463047a7c"
      },
      "execution_count": null,
      "outputs": [
        {
          "output_type": "execute_result",
          "data": {
            "text/plain": [
              "(np.float64(13.03624602107877), np.float64(1.1170164324897913e-05))"
            ]
          },
          "metadata": {},
          "execution_count": 50
        }
      ]
    },
    {
      "cell_type": "code",
      "source": [
        "result = pairwise_tukeyhsd(endog=df[\"Nota\"], groups=df[\"Metodo\"])\n",
        "\n",
        "print(result)"
      ],
      "metadata": {
        "colab": {
          "base_uri": "https://localhost:8080/"
        },
        "id": "AUbm5VikDJL4",
        "outputId": "6db02077-8a96-4c13-ba8f-81967b0e519c"
      },
      "execution_count": null,
      "outputs": [
        {
          "output_type": "stream",
          "name": "stdout",
          "text": [
            "    Multiple Comparison of Means - Tukey HSD, FWER=0.05     \n",
            "============================================================\n",
            "  group1     group2   meandiff p-adj   lower   upper  reject\n",
            "------------------------------------------------------------\n",
            "     Grupo Individual  -0.7826 0.0144 -1.4344 -0.1308   True\n",
            "     Grupo    Revisao   0.6096 0.0718 -0.0422  1.2614  False\n",
            "Individual    Revisao   1.3922    0.0  0.7404   2.044   True\n",
            "------------------------------------------------------------\n"
          ]
        }
      ]
    },
    {
      "cell_type": "markdown",
      "source": [
        "estudar idnvidual ~e ruim!"
      ],
      "metadata": {
        "id": "Sum-vpuCCdkp"
      }
    },
    {
      "cell_type": "markdown",
      "source": [
        "###  Exercício 2 – Crescimento de Plantas com Diferentes Fertilizantes\n",
        "\n",
        "**Contexto:**\n",
        "Um agrônomo testa três tipos de fertilizantes (A, B e C) no cultivo de alface. Cada tipo é aplicado em uma amostra diferente de plantas, e o crescimento (em centímetros) é medido após 30 dias.\n",
        "\n",
        "**Pergunta de pesquisa:**\n",
        "\n",
        "> O tipo de fertilizante influencia significativamente a **altura média das plantas**?\n",
        "\n",
        "Use o teste ANOVA para comparar as médias das alturas. Caso haja diferença significativa, aplique o teste de Tukey para indicar **quais fertilizantes** proporcionaram maior crescimento."
      ],
      "metadata": {
        "id": "kyysACeQ9a_c"
      }
    },
    {
      "cell_type": "code",
      "source": [
        "df = pd.read_csv(\"https://raw.githubusercontent.com/AILAB-CEFET-RJ/gcc1625/refs/heads/main/data/anova/Fertilizante.csv\")\n",
        "df"
      ],
      "metadata": {
        "colab": {
          "base_uri": "https://localhost:8080/",
          "height": 424
        },
        "id": "MrdYNirJCgfw",
        "outputId": "713fe0ec-e770-4a4d-f806-e4b9df24e932"
      },
      "execution_count": null,
      "outputs": [
        {
          "output_type": "execute_result",
          "data": {
            "text/plain": [
              "   Metodo       Nota\n",
              "0       A  13.725308\n",
              "1       A  10.098972\n",
              "2       A  12.271553\n",
              "3       A  13.766793\n",
              "4       A  11.497484\n",
              "..    ...        ...\n",
              "70      C  15.526411\n",
              "71      C  15.247847\n",
              "72      C  15.674235\n",
              "73      C  16.415816\n",
              "74      C  16.365349\n",
              "\n",
              "[75 rows x 2 columns]"
            ],
            "text/html": [
              "\n",
              "  <div id=\"df-d828515f-cab7-43a8-a9f3-a8ee22c86613\" class=\"colab-df-container\">\n",
              "    <div>\n",
              "<style scoped>\n",
              "    .dataframe tbody tr th:only-of-type {\n",
              "        vertical-align: middle;\n",
              "    }\n",
              "\n",
              "    .dataframe tbody tr th {\n",
              "        vertical-align: top;\n",
              "    }\n",
              "\n",
              "    .dataframe thead th {\n",
              "        text-align: right;\n",
              "    }\n",
              "</style>\n",
              "<table border=\"1\" class=\"dataframe\">\n",
              "  <thead>\n",
              "    <tr style=\"text-align: right;\">\n",
              "      <th></th>\n",
              "      <th>Metodo</th>\n",
              "      <th>Nota</th>\n",
              "    </tr>\n",
              "  </thead>\n",
              "  <tbody>\n",
              "    <tr>\n",
              "      <th>0</th>\n",
              "      <td>A</td>\n",
              "      <td>13.725308</td>\n",
              "    </tr>\n",
              "    <tr>\n",
              "      <th>1</th>\n",
              "      <td>A</td>\n",
              "      <td>10.098972</td>\n",
              "    </tr>\n",
              "    <tr>\n",
              "      <th>2</th>\n",
              "      <td>A</td>\n",
              "      <td>12.271553</td>\n",
              "    </tr>\n",
              "    <tr>\n",
              "      <th>3</th>\n",
              "      <td>A</td>\n",
              "      <td>13.766793</td>\n",
              "    </tr>\n",
              "    <tr>\n",
              "      <th>4</th>\n",
              "      <td>A</td>\n",
              "      <td>11.497484</td>\n",
              "    </tr>\n",
              "    <tr>\n",
              "      <th>...</th>\n",
              "      <td>...</td>\n",
              "      <td>...</td>\n",
              "    </tr>\n",
              "    <tr>\n",
              "      <th>70</th>\n",
              "      <td>C</td>\n",
              "      <td>15.526411</td>\n",
              "    </tr>\n",
              "    <tr>\n",
              "      <th>71</th>\n",
              "      <td>C</td>\n",
              "      <td>15.247847</td>\n",
              "    </tr>\n",
              "    <tr>\n",
              "      <th>72</th>\n",
              "      <td>C</td>\n",
              "      <td>15.674235</td>\n",
              "    </tr>\n",
              "    <tr>\n",
              "      <th>73</th>\n",
              "      <td>C</td>\n",
              "      <td>16.415816</td>\n",
              "    </tr>\n",
              "    <tr>\n",
              "      <th>74</th>\n",
              "      <td>C</td>\n",
              "      <td>16.365349</td>\n",
              "    </tr>\n",
              "  </tbody>\n",
              "</table>\n",
              "<p>75 rows × 2 columns</p>\n",
              "</div>\n",
              "    <div class=\"colab-df-buttons\">\n",
              "\n",
              "  <div class=\"colab-df-container\">\n",
              "    <button class=\"colab-df-convert\" onclick=\"convertToInteractive('df-d828515f-cab7-43a8-a9f3-a8ee22c86613')\"\n",
              "            title=\"Convert this dataframe to an interactive table.\"\n",
              "            style=\"display:none;\">\n",
              "\n",
              "  <svg xmlns=\"http://www.w3.org/2000/svg\" height=\"24px\" viewBox=\"0 -960 960 960\">\n",
              "    <path d=\"M120-120v-720h720v720H120Zm60-500h600v-160H180v160Zm220 220h160v-160H400v160Zm0 220h160v-160H400v160ZM180-400h160v-160H180v160Zm440 0h160v-160H620v160ZM180-180h160v-160H180v160Zm440 0h160v-160H620v160Z\"/>\n",
              "  </svg>\n",
              "    </button>\n",
              "\n",
              "  <style>\n",
              "    .colab-df-container {\n",
              "      display:flex;\n",
              "      gap: 12px;\n",
              "    }\n",
              "\n",
              "    .colab-df-convert {\n",
              "      background-color: #E8F0FE;\n",
              "      border: none;\n",
              "      border-radius: 50%;\n",
              "      cursor: pointer;\n",
              "      display: none;\n",
              "      fill: #1967D2;\n",
              "      height: 32px;\n",
              "      padding: 0 0 0 0;\n",
              "      width: 32px;\n",
              "    }\n",
              "\n",
              "    .colab-df-convert:hover {\n",
              "      background-color: #E2EBFA;\n",
              "      box-shadow: 0px 1px 2px rgba(60, 64, 67, 0.3), 0px 1px 3px 1px rgba(60, 64, 67, 0.15);\n",
              "      fill: #174EA6;\n",
              "    }\n",
              "\n",
              "    .colab-df-buttons div {\n",
              "      margin-bottom: 4px;\n",
              "    }\n",
              "\n",
              "    [theme=dark] .colab-df-convert {\n",
              "      background-color: #3B4455;\n",
              "      fill: #D2E3FC;\n",
              "    }\n",
              "\n",
              "    [theme=dark] .colab-df-convert:hover {\n",
              "      background-color: #434B5C;\n",
              "      box-shadow: 0px 1px 3px 1px rgba(0, 0, 0, 0.15);\n",
              "      filter: drop-shadow(0px 1px 2px rgba(0, 0, 0, 0.3));\n",
              "      fill: #FFFFFF;\n",
              "    }\n",
              "  </style>\n",
              "\n",
              "    <script>\n",
              "      const buttonEl =\n",
              "        document.querySelector('#df-d828515f-cab7-43a8-a9f3-a8ee22c86613 button.colab-df-convert');\n",
              "      buttonEl.style.display =\n",
              "        google.colab.kernel.accessAllowed ? 'block' : 'none';\n",
              "\n",
              "      async function convertToInteractive(key) {\n",
              "        const element = document.querySelector('#df-d828515f-cab7-43a8-a9f3-a8ee22c86613');\n",
              "        const dataTable =\n",
              "          await google.colab.kernel.invokeFunction('convertToInteractive',\n",
              "                                                    [key], {});\n",
              "        if (!dataTable) return;\n",
              "\n",
              "        const docLinkHtml = 'Like what you see? Visit the ' +\n",
              "          '<a target=\"_blank\" href=https://colab.research.google.com/notebooks/data_table.ipynb>data table notebook</a>'\n",
              "          + ' to learn more about interactive tables.';\n",
              "        element.innerHTML = '';\n",
              "        dataTable['output_type'] = 'display_data';\n",
              "        await google.colab.output.renderOutput(dataTable, element);\n",
              "        const docLink = document.createElement('div');\n",
              "        docLink.innerHTML = docLinkHtml;\n",
              "        element.appendChild(docLink);\n",
              "      }\n",
              "    </script>\n",
              "  </div>\n",
              "\n",
              "\n",
              "    <div id=\"df-72295a60-a915-4313-8f68-387465e536bd\">\n",
              "      <button class=\"colab-df-quickchart\" onclick=\"quickchart('df-72295a60-a915-4313-8f68-387465e536bd')\"\n",
              "                title=\"Suggest charts\"\n",
              "                style=\"display:none;\">\n",
              "\n",
              "<svg xmlns=\"http://www.w3.org/2000/svg\" height=\"24px\"viewBox=\"0 0 24 24\"\n",
              "     width=\"24px\">\n",
              "    <g>\n",
              "        <path d=\"M19 3H5c-1.1 0-2 .9-2 2v14c0 1.1.9 2 2 2h14c1.1 0 2-.9 2-2V5c0-1.1-.9-2-2-2zM9 17H7v-7h2v7zm4 0h-2V7h2v10zm4 0h-2v-4h2v4z\"/>\n",
              "    </g>\n",
              "</svg>\n",
              "      </button>\n",
              "\n",
              "<style>\n",
              "  .colab-df-quickchart {\n",
              "      --bg-color: #E8F0FE;\n",
              "      --fill-color: #1967D2;\n",
              "      --hover-bg-color: #E2EBFA;\n",
              "      --hover-fill-color: #174EA6;\n",
              "      --disabled-fill-color: #AAA;\n",
              "      --disabled-bg-color: #DDD;\n",
              "  }\n",
              "\n",
              "  [theme=dark] .colab-df-quickchart {\n",
              "      --bg-color: #3B4455;\n",
              "      --fill-color: #D2E3FC;\n",
              "      --hover-bg-color: #434B5C;\n",
              "      --hover-fill-color: #FFFFFF;\n",
              "      --disabled-bg-color: #3B4455;\n",
              "      --disabled-fill-color: #666;\n",
              "  }\n",
              "\n",
              "  .colab-df-quickchart {\n",
              "    background-color: var(--bg-color);\n",
              "    border: none;\n",
              "    border-radius: 50%;\n",
              "    cursor: pointer;\n",
              "    display: none;\n",
              "    fill: var(--fill-color);\n",
              "    height: 32px;\n",
              "    padding: 0;\n",
              "    width: 32px;\n",
              "  }\n",
              "\n",
              "  .colab-df-quickchart:hover {\n",
              "    background-color: var(--hover-bg-color);\n",
              "    box-shadow: 0 1px 2px rgba(60, 64, 67, 0.3), 0 1px 3px 1px rgba(60, 64, 67, 0.15);\n",
              "    fill: var(--button-hover-fill-color);\n",
              "  }\n",
              "\n",
              "  .colab-df-quickchart-complete:disabled,\n",
              "  .colab-df-quickchart-complete:disabled:hover {\n",
              "    background-color: var(--disabled-bg-color);\n",
              "    fill: var(--disabled-fill-color);\n",
              "    box-shadow: none;\n",
              "  }\n",
              "\n",
              "  .colab-df-spinner {\n",
              "    border: 2px solid var(--fill-color);\n",
              "    border-color: transparent;\n",
              "    border-bottom-color: var(--fill-color);\n",
              "    animation:\n",
              "      spin 1s steps(1) infinite;\n",
              "  }\n",
              "\n",
              "  @keyframes spin {\n",
              "    0% {\n",
              "      border-color: transparent;\n",
              "      border-bottom-color: var(--fill-color);\n",
              "      border-left-color: var(--fill-color);\n",
              "    }\n",
              "    20% {\n",
              "      border-color: transparent;\n",
              "      border-left-color: var(--fill-color);\n",
              "      border-top-color: var(--fill-color);\n",
              "    }\n",
              "    30% {\n",
              "      border-color: transparent;\n",
              "      border-left-color: var(--fill-color);\n",
              "      border-top-color: var(--fill-color);\n",
              "      border-right-color: var(--fill-color);\n",
              "    }\n",
              "    40% {\n",
              "      border-color: transparent;\n",
              "      border-right-color: var(--fill-color);\n",
              "      border-top-color: var(--fill-color);\n",
              "    }\n",
              "    60% {\n",
              "      border-color: transparent;\n",
              "      border-right-color: var(--fill-color);\n",
              "    }\n",
              "    80% {\n",
              "      border-color: transparent;\n",
              "      border-right-color: var(--fill-color);\n",
              "      border-bottom-color: var(--fill-color);\n",
              "    }\n",
              "    90% {\n",
              "      border-color: transparent;\n",
              "      border-bottom-color: var(--fill-color);\n",
              "    }\n",
              "  }\n",
              "</style>\n",
              "\n",
              "      <script>\n",
              "        async function quickchart(key) {\n",
              "          const quickchartButtonEl =\n",
              "            document.querySelector('#' + key + ' button');\n",
              "          quickchartButtonEl.disabled = true;  // To prevent multiple clicks.\n",
              "          quickchartButtonEl.classList.add('colab-df-spinner');\n",
              "          try {\n",
              "            const charts = await google.colab.kernel.invokeFunction(\n",
              "                'suggestCharts', [key], {});\n",
              "          } catch (error) {\n",
              "            console.error('Error during call to suggestCharts:', error);\n",
              "          }\n",
              "          quickchartButtonEl.classList.remove('colab-df-spinner');\n",
              "          quickchartButtonEl.classList.add('colab-df-quickchart-complete');\n",
              "        }\n",
              "        (() => {\n",
              "          let quickchartButtonEl =\n",
              "            document.querySelector('#df-72295a60-a915-4313-8f68-387465e536bd button');\n",
              "          quickchartButtonEl.style.display =\n",
              "            google.colab.kernel.accessAllowed ? 'block' : 'none';\n",
              "        })();\n",
              "      </script>\n",
              "    </div>\n",
              "\n",
              "  <div id=\"id_420fa16e-04dc-4e1d-b3e3-4f9033bda174\">\n",
              "    <style>\n",
              "      .colab-df-generate {\n",
              "        background-color: #E8F0FE;\n",
              "        border: none;\n",
              "        border-radius: 50%;\n",
              "        cursor: pointer;\n",
              "        display: none;\n",
              "        fill: #1967D2;\n",
              "        height: 32px;\n",
              "        padding: 0 0 0 0;\n",
              "        width: 32px;\n",
              "      }\n",
              "\n",
              "      .colab-df-generate:hover {\n",
              "        background-color: #E2EBFA;\n",
              "        box-shadow: 0px 1px 2px rgba(60, 64, 67, 0.3), 0px 1px 3px 1px rgba(60, 64, 67, 0.15);\n",
              "        fill: #174EA6;\n",
              "      }\n",
              "\n",
              "      [theme=dark] .colab-df-generate {\n",
              "        background-color: #3B4455;\n",
              "        fill: #D2E3FC;\n",
              "      }\n",
              "\n",
              "      [theme=dark] .colab-df-generate:hover {\n",
              "        background-color: #434B5C;\n",
              "        box-shadow: 0px 1px 3px 1px rgba(0, 0, 0, 0.15);\n",
              "        filter: drop-shadow(0px 1px 2px rgba(0, 0, 0, 0.3));\n",
              "        fill: #FFFFFF;\n",
              "      }\n",
              "    </style>\n",
              "    <button class=\"colab-df-generate\" onclick=\"generateWithVariable('df')\"\n",
              "            title=\"Generate code using this dataframe.\"\n",
              "            style=\"display:none;\">\n",
              "\n",
              "  <svg xmlns=\"http://www.w3.org/2000/svg\" height=\"24px\"viewBox=\"0 0 24 24\"\n",
              "       width=\"24px\">\n",
              "    <path d=\"M7,19H8.4L18.45,9,17,7.55,7,17.6ZM5,21V16.75L18.45,3.32a2,2,0,0,1,2.83,0l1.4,1.43a1.91,1.91,0,0,1,.58,1.4,1.91,1.91,0,0,1-.58,1.4L9.25,21ZM18.45,9,17,7.55Zm-12,3A5.31,5.31,0,0,0,4.9,8.1,5.31,5.31,0,0,0,1,6.5,5.31,5.31,0,0,0,4.9,4.9,5.31,5.31,0,0,0,6.5,1,5.31,5.31,0,0,0,8.1,4.9,5.31,5.31,0,0,0,12,6.5,5.46,5.46,0,0,0,6.5,12Z\"/>\n",
              "  </svg>\n",
              "    </button>\n",
              "    <script>\n",
              "      (() => {\n",
              "      const buttonEl =\n",
              "        document.querySelector('#id_420fa16e-04dc-4e1d-b3e3-4f9033bda174 button.colab-df-generate');\n",
              "      buttonEl.style.display =\n",
              "        google.colab.kernel.accessAllowed ? 'block' : 'none';\n",
              "\n",
              "      buttonEl.onclick = () => {\n",
              "        google.colab.notebook.generateWithVariable('df');\n",
              "      }\n",
              "      })();\n",
              "    </script>\n",
              "  </div>\n",
              "\n",
              "    </div>\n",
              "  </div>\n"
            ],
            "application/vnd.google.colaboratory.intrinsic+json": {
              "type": "dataframe",
              "variable_name": "df",
              "summary": "{\n  \"name\": \"df\",\n  \"rows\": 75,\n  \"fields\": [\n    {\n      \"column\": \"Metodo\",\n      \"properties\": {\n        \"dtype\": \"category\",\n        \"num_unique_values\": 3,\n        \"samples\": [\n          \"A\",\n          \"B\",\n          \"C\"\n        ],\n        \"semantic_type\": \"\",\n        \"description\": \"\"\n      }\n    },\n    {\n      \"column\": \"Nota\",\n      \"properties\": {\n        \"dtype\": \"number\",\n        \"std\": 1.9888488846004493,\n        \"min\": 9.033168102719326,\n        \"max\": 17.50790778689298,\n        \"num_unique_values\": 75,\n        \"samples\": [\n          11.497483857100477,\n          13.060070747363936,\n          12.963082033907748\n        ],\n        \"semantic_type\": \"\",\n        \"description\": \"\"\n      }\n    }\n  ]\n}"
            }
          },
          "metadata": {},
          "execution_count": 52
        }
      ]
    },
    {
      "cell_type": "code",
      "source": [
        "A = df[df[\"Metodo\"]==\"A\"][\"Nota\"]\n",
        "B = df[df[\"Metodo\"]==\"B\"][\"Nota\"]\n",
        "C = df[df[\"Metodo\"]==\"C\"][\"Nota\"]\n",
        "print(A.mean(), B.mean(), C.mean())\n",
        "print(A.std(), B.std(), C.std())"
      ],
      "metadata": {
        "colab": {
          "base_uri": "https://localhost:8080/"
        },
        "id": "5oeIqJFOCt3j",
        "outputId": "68630f6e-1677-4f89-97c3-122abd763240"
      },
      "execution_count": null,
      "outputs": [
        {
          "output_type": "stream",
          "name": "stdout",
          "text": [
            "12.012393729372384 14.100123130536558 15.611311778386344\n",
            "1.6835738900164987 1.211492555366512 1.0442219901415601\n"
          ]
        }
      ]
    },
    {
      "cell_type": "code",
      "source": [
        "f, p = f_oneway(A,B,C)\n",
        "f, p"
      ],
      "metadata": {
        "colab": {
          "base_uri": "https://localhost:8080/"
        },
        "id": "92yA7kOeEHyj",
        "outputId": "e47ab950-d333-4e7f-b38d-4918e85f6d1e"
      },
      "execution_count": null,
      "outputs": [
        {
          "output_type": "execute_result",
          "data": {
            "text/plain": [
              "(np.float64(45.42046774171955), np.float64(1.7397253055618299e-13))"
            ]
          },
          "metadata": {},
          "execution_count": 54
        }
      ]
    },
    {
      "cell_type": "markdown",
      "source": [
        "p < 0.5, existe diferenca estiatisca significiadtiva"
      ],
      "metadata": {
        "id": "r8USKaqzDwTc"
      }
    },
    {
      "cell_type": "code",
      "source": [
        "result = pairwise_tukeyhsd(df[\"Nota\"], df[\"Metodo\"])\n",
        "print(result)"
      ],
      "metadata": {
        "colab": {
          "base_uri": "https://localhost:8080/"
        },
        "id": "gw-awdXMD0uk",
        "outputId": "ba378b22-1973-4a7b-97bf-91b6f42300ad"
      },
      "execution_count": null,
      "outputs": [
        {
          "output_type": "stream",
          "name": "stdout",
          "text": [
            "Multiple Comparison of Means - Tukey HSD, FWER=0.05\n",
            "==================================================\n",
            "group1 group2 meandiff p-adj  lower  upper  reject\n",
            "--------------------------------------------------\n",
            "     A      B   2.0877    0.0 1.1802 2.9952   True\n",
            "     A      C   3.5989    0.0 2.6914 4.5064   True\n",
            "     B      C   1.5112 0.0005 0.6037 2.4187   True\n",
            "--------------------------------------------------\n"
          ]
        }
      ]
    },
    {
      "cell_type": "markdown",
      "source": [
        "### Exercício 3 – Satisfação com Modelos de Celular\n",
        "\n",
        "**Contexto:**\n",
        "Uma empresa realiza uma pesquisa de satisfação com usuários de três modelos diferentes de smartphones: **Modelo X**, **Modelo Y** e **Modelo Z**. Os usuários avaliam seu grau de satisfação numa escala de 0 a 10.\n",
        "\n",
        "**Pergunta de pesquisa:**\n",
        "\n",
        "> Há diferença significativa entre as **médias de satisfação** dos usuários dos três modelos?\n",
        "\n",
        "Aplique ANOVA e discuta se existe **um modelo claramente melhor** em termos de percepção do consumidor. Se necessário, aplique teste post-hoc.\n",
        "\n",
        "---"
      ],
      "metadata": {
        "id": "ENmIakVM9cic"
      }
    }
  ],
  "metadata": {
    "colab": {
      "provenance": [],
      "include_colab_link": true
    },
    "kernelspec": {
      "display_name": "gcc1625",
      "language": "python",
      "name": "python3"
    },
    "language_info": {
      "codemirror_mode": {
        "name": "ipython",
        "version": 3
      },
      "file_extension": ".py",
      "mimetype": "text/x-python",
      "name": "python",
      "nbconvert_exporter": "python",
      "pygments_lexer": "ipython3",
      "version": "3.13.2"
    }
  },
  "nbformat": 4,
  "nbformat_minor": 0
}