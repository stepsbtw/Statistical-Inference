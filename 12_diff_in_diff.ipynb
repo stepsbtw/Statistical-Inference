{
  "nbformat": 4,
  "nbformat_minor": 0,
  "metadata": {
    "colab": {
      "provenance": [],
      "authorship_tag": "ABX9TyPPA216y6VCRIamNTmbTcmI",
      "include_colab_link": true
    },
    "kernelspec": {
      "name": "python3",
      "display_name": "Python 3"
    },
    "language_info": {
      "name": "python"
    }
  },
  "cells": [
    {
      "cell_type": "markdown",
      "metadata": {
        "id": "view-in-github",
        "colab_type": "text"
      },
      "source": [
        "<a href=\"https://colab.research.google.com/github/stepsbtw/Statistical-Inference/blob/main/12_diff_in_diff.ipynb\" target=\"_parent\"><img src=\"https://colab.research.google.com/assets/colab-badge.svg\" alt=\"Open In Colab\"/></a>"
      ]
    },
    {
      "cell_type": "markdown",
      "source": [
        "# Diferença em Diferenças\n",
        "O método DiD é uma técnica estatística utilizada para estimar o **efeito causal** de uma intervenção, tratamento ou política. Compara mudanças ao longo do tempo entre um grupo de tratamento e um de controle.\n",
        "\n",
        "Essencialmente, compara a diferença das médias entre os dois grupos antes e depois da intervenção."
      ],
      "metadata": {
        "id": "WZQn1AmTYRZN"
      }
    },
    {
      "cell_type": "markdown",
      "source": [
        "### Codificar:\n",
        "\n",
        "- tratado = 1 para unidades tratadas, 0 para controle.\n",
        "- depois = 1 para o período após a intervenção, 0 para antes.\n",
        "- interacao = tratado × depois: captura o efeito DiD."
      ],
      "metadata": {
        "id": "XPvyzrZDZl2z"
      }
    },
    {
      "cell_type": "markdown",
      "source": [
        "### Modelo linear básico:\n",
        "$$y_i = \\beta_0 + \\beta_1 \\cdot \\text{Depois}_i + \\beta_2 \\cdot \\text{Tratado}_i + \\beta_3 \\cdot (\\text{Tratado}_i \\times \\text{Depois}_i) + \\varepsilon_i$$\n",
        "\n",
        "- $\\beta_3$ é o **efeito causal estimado** da intervenção.\n",
        "- Estime utilizando regressão linear (OLS).\n",
        "\n",
        "Interpretação dos coeficientes:\n",
        "\n",
        "$\\beta$: quanto a intervenção alterou o valor médio de $Y$, **corrigido por tendências gerais e diferenças prévias**."
      ],
      "metadata": {
        "id": "r23kY_DRYo5o"
      }
    }
  ]
}