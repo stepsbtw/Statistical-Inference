{
  "nbformat": 4,
  "nbformat_minor": 0,
  "metadata": {
    "colab": {
      "provenance": [],
      "authorship_tag": "ABX9TyN0gR0LQasIYTrcr5vP9R6Q",
      "include_colab_link": true
    },
    "kernelspec": {
      "name": "python3",
      "display_name": "Python 3"
    },
    "language_info": {
      "name": "python"
    }
  },
  "cells": [
    {
      "cell_type": "markdown",
      "metadata": {
        "id": "view-in-github",
        "colab_type": "text"
      },
      "source": [
        "<a href=\"https://colab.research.google.com/github/stepsbtw/Statistical-Inference/blob/main/GCC1625_T1_CAIO_PASSOS_TORKST_FERREIRA.ipynb\" target=\"_parent\"><img src=\"https://colab.research.google.com/assets/colab-badge.svg\" alt=\"Open In Colab\"/></a>"
      ]
    },
    {
      "cell_type": "markdown",
      "source": [
        "#1) Páginas de livros didáticos\n",
        "Considere uma população de **livros didáticos** com aproximadamente o mesmo tamanho físico. Nessa população, considere que a característica (isto é, a variável) de interesse é a quantidade de páginas contida em cada livro. Sendo assim, a população subjacente corresponde a um conjunto de valores numéricos inteiros positivos (correspondentes à quantidade de páginas de cada livro)."
      ],
      "metadata": {
        "id": "Rz92DeOUA4tM"
      }
    },
    {
      "cell_type": "markdown",
      "source": [
        "Nesta parte do trabalho, você irá abordar a situação descrita acima como um problema de **Probabilidade**, e não como um problema de Estatística. Em um problema de Probabilidade, normalmente supõe-se que é conhecida a distribuição da população (o que não acontece em um problema de Estatística). Assim, considere que a variável aleatória correspondente é a quantidade de páginas em um livro da população, e que essa variável segue uma **distribuição uniforme discreta** nos inteiros de 150 até 300. Isso significa que um livro pode ter no mínimo 150 e no máximo 300 páginas, com igual **probabilidade** para qualquer quantidade de páginas nesse intervalo."
      ],
      "metadata": {
        "id": "EwttysskCGB3"
      }
    },
    {
      "cell_type": "markdown",
      "source": [
        "(i) Esboce um gráfico (histograma) da distribuição da população com relação à característica quantidade de páginas. Dica: observe que esta população é modelada por uma **distribuição discreta uniforme.**"
      ],
      "metadata": {
        "id": "607APQfMFhVw"
      }
    },
    {
      "cell_type": "code",
      "source": [
        "import numpy as np\n",
        "import matplotlib.pyplot as plt\n",
        "\n",
        "page_min = 150\n",
        "page_max = 300\n",
        "population_size = 100\n",
        "\n",
        "rng = np.random.default_rng()\n",
        "population_pages = rng.integers(page_min, page_max+1, size=population_size) # distribuicao uniforme de inteiros.\n",
        "\n",
        "plt.hist(population_pages, edgecolor=\"black\")\n",
        "plt.title(\"População de Livros\")\n",
        "plt.xlabel(\"Quantidade de Páginas\")\n",
        "plt.ylabel(\"Quantidade de Livros\")\n",
        "plt.show()"
      ],
      "metadata": {
        "colab": {
          "base_uri": "https://localhost:8080/",
          "height": 472
        },
        "id": "Oci2vMAGF_Qz",
        "outputId": "90b54c04-7805-418a-b66a-4207255bcbcf"
      },
      "execution_count": null,
      "outputs": [
        {
          "output_type": "display_data",
          "data": {
            "text/plain": [
              "<Figure size 640x480 with 1 Axes>"
            ],
            "image/png": "[encoded data removed]"
          },
          "metadata": {}
        }
      ]
    },
    {
      "cell_type": "markdown",
      "source": [
        "(ii) Encontre a média (μ), a variância (σ²) e o desvio padrão (σ) da distribuição da população. Dica: use as fórmulas da distribuição uniforme discreta."
      ],
      "metadata": {
        "id": "PHLyAj2EIv9M"
      }
    },
    {
      "cell_type": "code",
      "source": [
        "mean = (page_min + page_max)/2\n",
        "var = ((page_max - page_min + 1)**2 - 1) / 12\n",
        "std = np.sqrt(var)\n",
        "\n",
        "print(f\"Média Populacional : μ = {mean}\")\n",
        "print(f\"Variância Populacional : σ² = {var}\")\n",
        "print(f\"Desvio Padrão Populacional : σ = {std}\")"
      ],
      "metadata": {
        "colab": {
          "base_uri": "https://localhost:8080/"
        },
        "id": "esGyQPPKJCAG",
        "outputId": "e2f74122-afd3-464d-a245-9e1317cf750b"
      },
      "execution_count": null,
      "outputs": [
        {
          "output_type": "stream",
          "name": "stdout",
          "text": [
            "Média Populacional : μ = 225.0\n",
            "Variância Populacional : σ² = 1900.0\n",
            "Desvio Padrão Populacional : σ = 43.58898943540674\n"
          ]
        }
      ]
    },
    {
      "cell_type": "markdown",
      "source": [
        "(iii) Considere que o plano amostral utilizado é uma **amostragem aleatória simples com reposição** (simple random sample with replacement). Considere tomar **amostras de tamanho 2** dessa população e calcular a **média de cada amostra**. Para cada amostra, você terá uma estatística pontual (a média amostral x). Ao gerar **todas** as possíveis amostras aleatórias de tamanho 2, a distribuição de todas essas médias constitui a **distribuição amostral da média** (sampling distribution of the sample mean) para n = 2.\n",
        "\n",
        "- Primeiro, implemente uma função que gere todas as possíveis amostras de tamanho 2 com reposição, e compute a média de cada uma. Por exemplo, para as amostras (200, 200) e (300, 250), as médias seriam 200 e 275, respectivamente. Note que diferentes amostras podem produzir a mesma média (como, por exemplo, (250, 300), (275, 275), (280, 270), etc.).\n",
        "\n",
        "- Em seguida, usando os valores das médias obtidas, esboce um histograma da distribuição amostral da média."
      ],
      "metadata": {
        "id": "sP2xku_yK96w"
      }
    },
    {
      "cell_type": "code",
      "source": [
        "import itertools\n",
        "\n",
        "sample_size = 2\n",
        "\n",
        "# distribuicao amostral teorica\n",
        "def sampling_means(population):\n",
        "  # samples =\n",
        "  samples = list(itertools.product(population, repeat=2)) # n^2\n",
        "  return [(x1 + x2)/2 for x1, x2 in samples]\n",
        "\n",
        "sample_means = sampling_means(population_pages)\n",
        "\n",
        "plt.hist(sample_means, edgecolor=\"black\",bins=30)\n",
        "plt.title(\"Distribuição Amostral da Média (n=2)\")\n",
        "plt.xlabel(\"Média de páginas por amostra\")\n",
        "plt.ylabel(\"Frequência\")\n",
        "plt.show()\n"
      ],
      "metadata": {
        "colab": {
          "base_uri": "https://localhost:8080/",
          "height": 473
        },
        "id": "BxOj95wELU5N",
        "outputId": "fb90fb37-f022-4cb7-8b7d-080c800bcadf"
      },
      "execution_count": null,
      "outputs": [
        {
          "output_type": "display_data",
          "data": {
            "text/plain": [
              "<Figure size 640x480 with 1 Axes>"
            ],
            "image/png": "[encoded data removed]"
          },
          "metadata": {}
        }
      ]
    },
    {
      "cell_type": "markdown",
      "source": [
        "(iv) Calcule a **média** (μx), a **variância** (σ²x) e o **desvio padrão** (σx) da\n",
        "distribuição amostral obtida no item anterior.\n",
        "Dica: use as funções mean e var da sua linguagem de programação\n",
        "preferida (como Python ou R)."
      ],
      "metadata": {
        "id": "0lY_CUrtWzUi"
      }
    },
    {
      "cell_type": "code",
      "source": [
        "sampling_dist_mean = np.mean(sample_means)\n",
        "sampling_dist_var = np.var(sample_means)\n",
        "sampling_dist_std = np.std(sample_means)\n",
        "\n",
        "print(f\"Média da Distribuição Amostral da Média : μx = {mean}\")\n",
        "print(f\"Variância da Distribuição Amostral da Média : σ²x = {var}\")\n",
        "print(f\"Desvio Padrão da Distribuição Amostral da Média : σx = {std}\")"
      ],
      "metadata": {
        "colab": {
          "base_uri": "https://localhost:8080/"
        },
        "id": "vKnvqVtnVjUf",
        "outputId": "7e215941-5912-4387-b623-7d0ebe92d65a"
      },
      "execution_count": null,
      "outputs": [
        {
          "output_type": "stream",
          "name": "stdout",
          "text": [
            "Média da Distribuição Amostral da Média : μx = 225.0\n",
            "Variância da Distribuição Amostral da Média : σ²x = 1900.0\n",
            "Desvio Padrão da Distribuição Amostral da Média : σx = 43.58898943540674\n"
          ]
        }
      ]
    },
    {
      "cell_type": "markdown",
      "source": [
        "(v) O **Teorema Central do Limite** fornece expressões teóricas para os\n",
        "valores esperados da média e do desvio padrão da distribuição amostral\n",
        "da média x. Use essa teoria e os valores do item (ii) para calcular esses\n",
        "parâmetros no caso de n = 2, e compare com os resultados obtidos no\n",
        "item (iv)."
      ],
      "metadata": {
        "id": "kC9N8uE2XCa3"
      }
    },
    {
      "cell_type": "code",
      "source": [
        "# pelo CLT, quanto n->inf:\n",
        "sampling_dist_mean = mean\n",
        "sampling_dist_std = std/np.sqrt(sample_size)\n",
        "\n",
        "print(f\"Pelo CLT -> μx = μ : {sampling_dist_mean}\")\n",
        "print(f\"Pelo CLT -> σx = σ/sqrt(n) : {sampling_dist_std}\")"
      ],
      "metadata": {
        "colab": {
          "base_uri": "https://localhost:8080/"
        },
        "id": "djrhko-FXN7O",
        "outputId": "237ce613-f5c9-4959-c41a-2f9d15eaed3e"
      },
      "execution_count": null,
      "outputs": [
        {
          "output_type": "stream",
          "name": "stdout",
          "text": [
            "Pelo CLT -> μx = μ : 225.0\n",
            "Pelo CLT -> σx = σ/sqrt(n) : 30.822070014844883\n"
          ]
        }
      ]
    },
    {
      "cell_type": "markdown",
      "source": [
        "(vi) Agora, suponha que desejamos estudar a distribuição amostral da média para amostras de tamanho n = 9.\n",
        "\n",
        "a) Quantas amostras diferentes de tamanho 9 podem ser geradas a\n",
        "partir da população? Essa tarefa é viável de ser feita manualmente ou com auxílio computacional?"
      ],
      "metadata": {
        "id": "WC97ckVZbAaU"
      }
    },
    {
      "cell_type": "code",
      "source": [
        "population_size**9"
      ],
      "metadata": {
        "colab": {
          "base_uri": "https://localhost:8080/"
        },
        "id": "J-liFWb9bFim",
        "outputId": "0f43acc9-394a-4bea-811a-345a834891f4"
      },
      "execution_count": null,
      "outputs": [
        {
          "output_type": "execute_result",
          "data": {
            "text/plain": [
              "1000000000000000000"
            ]
          },
          "metadata": {},
          "execution_count": 8
        }
      ]
    },
    {
      "cell_type": "markdown",
      "source": [
        "Não é viável manualmente, e nem computacionalmente. (Talvez um dia, com computadores quânticos.)"
      ],
      "metadata": {
        "id": "HQktpgBwbk7o"
      }
    },
    {
      "cell_type": "markdown",
      "source": [
        "(b) Gere uma distribuição amostral empírica da média (uma aproximação da distribuição teórica) para n = 9.\n",
        "Dica: gere uma grande quantidade de amostras aleatórias e construa um histograma com as médias amostrais obtidas."
      ],
      "metadata": {
        "id": "EMGpszGZcoYq"
      }
    },
    {
      "cell_type": "code",
      "source": [
        "n = 9\n",
        "N = 1000000\n",
        "\n",
        "#samples = [rng.choice(population_pages,size=n) for _ in range(N)]\n",
        "#sample_means = [np.mean(sample) for sample in samples]\n",
        "samples = rng.choice(population_pages, size=(N,n), replace=True)\n",
        "sample_means = samples.mean(axis=1)\n",
        "\n",
        "plt.hist(sample_means, edgecolor=\"black\",bins=30)\n",
        "plt.title(\"Distribuição Amostral Empírica da Média (n=9)\")\n",
        "plt.xlabel(\"Média de páginas por amostra\")\n",
        "plt.ylabel(\"Frequência\")\n",
        "plt.show()\n",
        "\n",
        "sampling_dist = sample_means.mean()\n",
        "sampling_std = sample_means.std()\n",
        "\n",
        "estimated_std = sampling_std * np.sqrt(n)\n",
        "print(f\"Média da distribuição, aproximadamente a Populacional = {sampling_dist}\")\n",
        "print(f\"Desvio Padrão da distribuição = {sampling_std}\")\n",
        "print(f\"Desvio Padrão estimado da População = {estimated_std}\")"
      ],
      "metadata": {
        "colab": {
          "base_uri": "https://localhost:8080/",
          "height": 525
        },
        "id": "2sn9gSEdcpl-",
        "outputId": "540983b8-c6a0-4d01-860d-c493624426c8"
      },
      "execution_count": null,
      "outputs": [
        {
          "output_type": "display_data",
          "data": {
            "text/plain": [
              "<Figure size 640x480 with 1 Axes>"
            ],
            "image/png": "[encoded data removed]"
          },
          "metadata": {}
        },
        {
          "output_type": "stream",
          "name": "stdout",
          "text": [
            "Média da distribuição, aproximadamente a Populacional = 223.1812769999999\n",
            "Desvio Padrão da distribuição = 13.846125539806648\n",
            "Desvio Padrão estimado da População = 41.53837661941994\n"
          ]
        }
      ]
    },
    {
      "cell_type": "markdown",
      "source": [
        "#2) Problema dos tanques alemães\n",
        "Durante um conflito fictício, o serviço de inteligência de um país deseja estimar a quantidade total de veículos blindados produzidos por um país adversário. Esses veículos são numerados sequencialmente a partir de 1 (por exemplo: 1, 2, 3, ..., N ), e alguns deles foram capturados no campo de\n",
        "batalha."
      ],
      "metadata": {
        "id": "hrKxm2xM9Hro"
      }
    },
    {
      "cell_type": "markdown",
      "source": [
        "Suponha que foram capturados aleatoriamente k = 5 tanques com os\n",
        "seguintes números de série:\n",
        "{17, 32, 45, 59, 88}\n",
        "\n",
        "**Objetivo:** estimar o número total N de tanques produzidos pelo inimigo,\n",
        "usando métodos estatísticos apropriados."
      ],
      "metadata": {
        "id": "Eq2Or1or9d0q"
      }
    },
    {
      "cell_type": "markdown",
      "source": [
        "(i) Apresente uma estimativa pontual de N com base na amostra coletada,\n",
        "usando o seguinte estimador clássico:\n",
        "\n",
        "𝑁̂ = 𝑀 + (𝑀/𝑘) -1\n",
        "\n",
        "onde M é o maior número observado na amostra, e k é o tamanho da\n",
        "amostra."
      ],
      "metadata": {
        "id": "rhDX8DAT9tYf"
      }
    },
    {
      "cell_type": "code",
      "source": [
        "sample = [17,32,45,59,88]\n",
        "M = max(sample)\n",
        "k = len(sample)\n",
        "N_hat = M + (M/k) -1\n",
        "\n",
        "print(int(N_hat))"
      ],
      "metadata": {
        "colab": {
          "base_uri": "https://localhost:8080/"
        },
        "id": "SnMxTeBsAOlb",
        "outputId": "9fdb797c-3c47-4d41-8c6a-2fd00c3c5d8a"
      },
      "execution_count": null,
      "outputs": [
        {
          "output_type": "stream",
          "name": "stdout",
          "text": [
            "104\n"
          ]
        }
      ]
    },
    {
      "cell_type": "markdown",
      "source": [
        "(ii) Implemente (ou descreva) uma simulação computacional que reproduza\n",
        "o processo de amostragem aleatória de 𝑘 = 5 tanques a partir de uma\n",
        "população com N = 100 tanques numerados sequencialmente. Repita\n",
        "esse processo muitas vezes (por exemplo, 10.000 vezes) e registre as\n",
        "estimativas 𝑁̂ em cada simulação."
      ],
      "metadata": {
        "id": "dg0P5MQjBG0O"
      }
    },
    {
      "cell_type": "code",
      "source": [
        "import numpy as np\n",
        "import matplotlib.pyplot as plt\n",
        "\n",
        "N_tanks = 100\n",
        "k = 5 # size of sample\n",
        "N_samples = 10000\n",
        "\n",
        "tanks_population = np.arange(1,N_tanks+1)\n",
        "\n",
        "rng = np.random.default_rng()\n",
        "\n",
        "samples = np.array([rng.choice(tanks_population, k, replace=False) for _ in range(N_samples)])\n",
        "#samples = rng.choice(tanks_population, size=(N_samples,k))\n",
        "\n",
        "M = samples.max(axis=1)\n",
        "N_hats = M + (M/k) -1"
      ],
      "metadata": {
        "id": "MyAkE-ksBXas"
      },
      "execution_count": null,
      "outputs": []
    },
    {
      "cell_type": "markdown",
      "source": [
        "(iii) Construa um histograma com as estimativas obtidas na simulação do\n",
        "item anterior e analise o comportamento do estimador 𝑁̂. Ele é viesado? Subestima ou superestima frequentemente o verdadeiro valor de\n",
        "𝑁 ?"
      ],
      "metadata": {
        "id": "ZVZfW-nKR538"
      }
    },
    {
      "cell_type": "code",
      "source": [
        "plt.hist(N_hats,edgecolor=\"black\",bins=20)\n",
        "plt.title(\"Estimativas para o Número de Tanques da População (k=5)\")\n",
        "plt.xlabel(\"Valores de N_hat\")\n",
        "plt.xticks(range(10,130,10))\n",
        "plt.ylabel(\"Frequência\")\n",
        "plt.axvline(x=100, color='red', linestyle='--', linewidth=2, label='Valor verdadeiro de N')\n",
        "plt.legend()\n",
        "plt.show()"
      ],
      "metadata": {
        "colab": {
          "base_uri": "https://localhost:8080/",
          "height": 472
        },
        "id": "N1EDw3dsSIMb",
        "outputId": "d2db3bc9-ef83-477b-c826-d0716ad05342"
      },
      "execution_count": null,
      "outputs": [
        {
          "output_type": "display_data",
          "data": {
            "text/plain": [
              "<Figure size 640x480 with 1 Axes>"
            ],
            "image/png": "[encoded data removed]"
          },
          "metadata": {}
        }
      ]
    },
    {
      "cell_type": "markdown",
      "source": [
        "O estimador não é viesado, o valor esperado aproxima bem o parâmetro, não só subestima como também superestima o valor, o que acaba convergindo a um ponto central, em média.\n",
        "\n",
        "É importante destacar que o formato do histograma pode enganar em relação ao viés, pois essa distribuição, apesar de assimétrica, tem a média centrada pois suas caudas se balanceiam."
      ],
      "metadata": {
        "id": "xcRb9975aQlK"
      }
    },
    {
      "cell_type": "markdown",
      "source": [
        "(iv) Calcule a média, a variância e o desvio padrão das estimativas geradas pela simulação. Compare com o valor real de N = 100 e discuta os\n",
        "resultados."
      ],
      "metadata": {
        "id": "8EoEDOKMdiML"
      }
    },
    {
      "cell_type": "code",
      "source": [
        "print(f\"Média k=5: {N_hats.mean()}\")\n",
        "print(f\"Variância k=5: {N_hats.var()}\")\n",
        "print(f\"Desvio Padrão k=5: {N_hats.std()}\")\n",
        "print(f\"Precisão k=5: {1/N_hats.var()}\")"
      ],
      "metadata": {
        "colab": {
          "base_uri": "https://localhost:8080/"
        },
        "id": "CBGeCmRFdoeZ",
        "outputId": "7aab50c7-b96d-4241-c8d3-2579210792ec"
      },
      "execution_count": null,
      "outputs": [
        {
          "output_type": "stream",
          "name": "stdout",
          "text": [
            "Média k=5: 99.92696000000001\n",
            "Variância k=5: 273.55536915839997\n",
            "Desvio Padrão k=5: 16.539509338502153\n",
            "Precisão k=5: 0.0036555670724962384\n"
          ]
        }
      ]
    },
    {
      "cell_type": "markdown",
      "source": [
        "A média das estimativas N_hat geradas pela simulação estão próximas do parâmetro N, mostra que o estimador não é enviesado.\n",
        "\n",
        "Porém, a alta variância e desvio padrão mostram que o estimador tem baixa precisão."
      ],
      "metadata": {
        "id": "L2kDwTy5eD9m"
      }
    },
    {
      "cell_type": "markdown",
      "source": [
        "(v) Agora, repita a simulação para diferentes tamanhos de amostra (k =\n",
        "2, 5, 10, 20). Como o tamanho da amostra influencia a qualidade da\n",
        "estimativa de N ?"
      ],
      "metadata": {
        "id": "7jJsfQ1Qv_MB"
      }
    },
    {
      "cell_type": "code",
      "source": [
        "k_vals = [2,5,10,20]\n",
        "samples = [rng.choice(tanks_population, size=(N_samples,k)) for k in k_vals]\n",
        "M_vals = [sample.max(axis=1) for sample in samples]\n",
        "\n",
        "#N_hats = [M_vals[i] + M_vals[i]/k_vals[i] -1 for i in range(len(k_vals))]\n",
        "N_hats = [(M + M/k -1) for M, k in zip(M_vals, k_vals)]\n",
        "\n",
        "sampling_dist_mean = [np.mean(N_hat) for N_hat in N_hats]\n",
        "sampling_dist_std = [np.std(N_hat) for N_hat in N_hats]\n",
        "\n",
        "for i in range(len(k_vals)):\n",
        "  print(f\"Tamanho da amostra k = {k_vals[i]}\")\n",
        "  print(f\"Média das estimativas de N = {sampling_dist_mean[i]}\")\n",
        "  print(f\"Desvio Padrao das estimativas de N = {sampling_dist_std[i]}\\n\")\n",
        "\n",
        "fig, axs = plt.subplots(1,len(k_vals),figsize=(15,4))\n",
        "for i in range(len(k_vals)):\n",
        "  axs[i].hist(N_hats[i],edgecolor=\"black\",bins=20)\n",
        "  axs[i].set_title(f\"k = {k_vals[i]}\")\n",
        "  axs[i].set_xlabel(\"Estimativas de N\")\n",
        "  axs[i].set_ylabel(\"Frequencia\")\n",
        "  axs[i].set_xticks(range(40,150,20))\n",
        "\n",
        "plt.tight_layout()\n",
        "plt.show()"
      ],
      "metadata": {
        "colab": {
          "base_uri": "https://localhost:8080/",
          "height": 685
        },
        "id": "qjR8Qj2vyCPS",
        "outputId": "e0936176-2854-4e11-8fbf-f82964ea4936"
      },
      "execution_count": null,
      "outputs": [
        {
          "output_type": "stream",
          "name": "stdout",
          "text": [
            "Tamanho da amostra k = 2\n",
            "Média das estimativas de N = 100.0982\n",
            "Desvio Padrao das estimativas de N = 35.13017800638078\n",
            "\n",
            "Tamanho da amostra k = 5\n",
            "Média das estimativas de N = 99.47528\n",
            "Desvio Padrao das estimativas de N = 16.895598388976936\n",
            "\n",
            "Tamanho da amostra k = 10\n",
            "Média das estimativas de N = 99.48082\n",
            "Desvio Padrao das estimativas de N = 9.299258794527658\n",
            "\n",
            "Tamanho da amostra k = 20\n",
            "Média das estimativas de N = 99.531095\n",
            "Desvio Padrao das estimativas de N = 4.671156371924944\n",
            "\n"
          ]
        },
        {
          "output_type": "display_data",
          "data": {
            "text/plain": [
              "<Figure size 1500x400 with 4 Axes>"
            ],
            "image/png": "[encoded data removed]"
          },
          "metadata": {}
        }
      ]
    },
    {
      "cell_type": "markdown",
      "source": [
        "Com um tamanho de amostras muito pequenas, os valores ficam mais \"espalhados\", a variância é maior e, consequentemente, a precisão menor.\n",
        "\n",
        "Portanto, para ter uma estimativa de melhor qualidade com menor quantidade de amostras, precisamos que as amostras tenham um tamanho maior."
      ],
      "metadata": {
        "id": "1RdJyXSDM6mL"
      }
    },
    {
      "cell_type": "markdown",
      "source": [
        "(vi) Proponha um intervalo de confiança para N com base nas simulações.\n",
        "Discuta se o verdadeiro valor (N = 100) costuma estar dentro do intervalo estimado."
      ],
      "metadata": {
        "id": "JDCM77RdN7ae"
      }
    },
    {
      "cell_type": "code",
      "source": [
        "import scipy.stats as st\n",
        "# INTERVALO DE CONFIANCA PARA TAMANHO DE AMOSTRAS PEQUENAS n<30 !\n",
        "# as amostras nao formam uma normal. nao posso usar t de student\n",
        "\n",
        "intervals = [np.percentile(N_hat,[2.5,97.5]) for N_hat in N_hats] # 95% de confiança\n",
        "print(f\"k=2 : {intervals[0]}\")\n",
        "print(f\"k=5 : {intervals[1]}\")\n",
        "print(f\"k=10 : {intervals[2]}\")\n",
        "print(f\"k=20 : {intervals[3]}\")"
      ],
      "metadata": {
        "colab": {
          "base_uri": "https://localhost:8080/"
        },
        "id": "W0Qg5fnCOFPc",
        "outputId": "2d0f261e-6408-4142-a12f-dea505d92432"
      },
      "execution_count": null,
      "outputs": [
        {
          "output_type": "stream",
          "name": "stdout",
          "text": [
            "k=2 : [ 24.5 147.5]\n",
            "k=5 : [ 56.6 119. ]\n",
            "k=10 : [ 74.9 109. ]\n",
            "k=20 : [ 87.2 104. ]\n"
          ]
        }
      ]
    },
    {
      "cell_type": "markdown",
      "source": [
        "Sim. Com 95% de confiança, o valor verdadeiro de N costuma estar dentro do intervalo estimado."
      ],
      "metadata": {
        "id": "0zNFsafKcdYH"
      }
    },
    {
      "cell_type": "markdown",
      "source": [
        "(vii) Contextualização histórica: Pesquise brevemente como esse problema\n",
        "foi utilizado durante a Segunda Guerra Mundial. Comece sua pesquisa\n",
        "pela entrada correspondente na Wikipedia. Quais foram as conclusões\n",
        "reais tiradas a partir dos números de série? Comente a importância\n",
        "histórica da inferência estatística nesse contexto"
      ],
      "metadata": {
        "id": "I1cM5izfSHWS"
      }
    },
    {
      "cell_type": "markdown",
      "source": [
        "### resposta aqui"
      ],
      "metadata": {
        "id": "tAjCaGZ-SO_H"
      }
    },
    {
      "cell_type": "markdown",
      "source": [
        "#3) Diferença de médias\n",
        "Considere que um pesquisador tenha desenvolvido um medicamento que supostamente melhora a memória. Considere duas populações hipotéticas: o\n",
        "desempenho das pessoas em um teste de memória se elas tiverem tomado o\n",
        "medicamento e o desempenho das pessoas se não tiverem. Suponha que a\n",
        "média (μ1) e a variância (σ²1) da distribuição das pessoas que tomam o medicamento sejam 50 e 25, respectivamente, e que a média (μ2) e a variância (σ²2) da distribuição das pessoas que não tomam o medicamento sejam 40 e 24, respectivamente. Segue-se que o medicamento, em média, melhora o desempenho no teste de memória em 10 pontos. Essa melhora de 10 pontos é para toda a população.\n",
        "\n",
        "Agora, considere a distribuição amostral da diferença entre as médias. Essa distribuição pode ser entendida pensando no seguinte plano amostral:\n",
        "\n",
        "1. Produzir uma amostra de n1 escores da população de pessoas que tomam o medicamento e computar a média. Essa média será designada\n",
        "como M1.\n",
        "\n",
        "2. Em seguida, produzir uma amostra de n2 escores da população de pessoas que não tomam o medicamento e computar a média. Essa média\n",
        "será designada como M2.\n",
        "\n",
        "3. Calcular a diferença entre M1 e M2. Essa diferença será chamada de\n",
        "Md, onde o d significa “diferença”. Esta é o estatística cuja distribuição\n",
        "amostral é de interesse.\n",
        "\n",
        "A distribuição amostral pode ser aproximada repetindo o plano amostral\n",
        "acima várias vezes e plotando os valores de Md. A distribuição de frequência (histograma) resultante seria uma aproximação da distribuição amostral. A média (μMd ) e a variância (σ²Md ) da distribuição amostral de Md são:\n",
        "\n",
        "- μMd = μ1 − μ2\n",
        "- σ²Md = σ²1/n1 + σ²2/n2"
      ],
      "metadata": {
        "id": "UYd6gHgxSSAU"
      }
    },
    {
      "cell_type": "markdown",
      "source": [
        "(i) Utilizando o plano amostral descrito acima, produza um histograma\n",
        "que aproxima a distribuição amostral de Md. Dica: repita os passos\n",
        "do plano amostra descrito 10000 vezes. Em seguida, crie o histograma\n",
        "solicitado com os 10000 valores produzidos."
      ],
      "metadata": {
        "id": "Uj46LiiAsC0f"
      }
    },
    {
      "cell_type": "code",
      "source": [
        "import numpy as np\n",
        "# ENCONTRAR A DISTRIBUICAO AMOSTRAL DA DIFERENCA DAS MEDIAS.\n",
        "\n",
        "rng = np.random.default_rng()\n",
        "\n",
        "mu_1, var_1 = 50, 25\n",
        "\n",
        "mu_2, var_2 = 40, 24\n",
        "\n",
        "n1 = n2 = 31\n",
        "N_samples = 10000\n",
        "\n",
        "Md_estimates = []\n",
        "for _ in range(N_samples):\n",
        "  sample_1 = rng.normal(mu_1, np.sqrt(var_1), size=n1)\n",
        "  sample_2 = rng.normal(mu_2, np.sqrt(var_2), size=n2)\n",
        "  M1 = sample_1.mean()\n",
        "  M2 = sample_2.mean()\n",
        "  Md_estimates.append(M1-M2)\n",
        "\n",
        "plt.hist(Md_estimates, edgecolor=\"black\", bins=30)\n",
        "plt.title(f\"Distribuição empírica de Md (n1={n1}, n2={n2})\")\n",
        "plt.xlabel(\"Md = M1 - M2\")\n",
        "plt.ylabel(\"Frequência\")\n",
        "plt.show()"
      ],
      "metadata": {
        "id": "Tqd6nnVUqlbA",
        "outputId": "5bfc150f-30c7-4ae4-8727-98a034686e81",
        "colab": {
          "base_uri": "https://localhost:8080/",
          "height": 472
        }
      },
      "execution_count": 108,
      "outputs": [
        {
          "output_type": "display_data",
          "data": {
            "text/plain": [
              "<Figure size 640x480 with 1 Axes>"
            ],
            "image/png": "[encoded data removed]"
          },
          "metadata": {}
        }
      ]
    },
    {
      "cell_type": "markdown",
      "source": [
        "(ii) Usando a aproximação da distribuição amostral de Md obtida no item\n",
        "anterior, compute aproximações para a média e o desvio padrão dessa\n",
        "estatística. Os valores que você obteve são próximos aos fornecidos\n",
        "acima? Explique"
      ],
      "metadata": {
        "id": "1Qr4q8Aiz-aF"
      }
    },
    {
      "cell_type": "code",
      "source": [
        "mu_Md = np.mean(Md_estimates)\n",
        "std_Md = np.std(Md_estimates)\n",
        "\n",
        "mu_Md_real = mu_1 - mu_2\n",
        "std_Md_real = np.sqrt(var_1/n1 + var_2/n2)\n",
        "\n",
        "print(f\"Média empírica = {mu_Md}\")\n",
        "print(f\"Desvio Padrão empírico = {std_Md}\")\n",
        "\n",
        "print(f\"Média teórica = {mu_Md_real}\")\n",
        "print(f\"Desvio Padrão teórico = {std_Md_real}\")"
      ],
      "metadata": {
        "id": "MZ89bain0Gi2",
        "outputId": "78d9ba73-a5bd-446f-b0d0-f73528ffb4c2",
        "colab": {
          "base_uri": "https://localhost:8080/"
        }
      },
      "execution_count": 107,
      "outputs": [
        {
          "output_type": "stream",
          "name": "stdout",
          "text": [
            "Média empírica = 10.016170665361702\n",
            "Desvio Padrão empírico = 1.2552095946165243\n",
            "Média teórica = 10\n",
            "Desvio Padrão teórico = 1.2572371141874243\n"
          ]
        }
      ]
    },
    {
      "cell_type": "markdown",
      "source": [
        "Sim a média e o desvio padrão da simulação se aproximam muito bem dos valores reais.\n",
        "\n",
        "Isso significa que o plano amostral funciona.\n",
        "\n",
        "Pelo TLC, se amostra é grande temos a garantia de que esses valores irão convergir. Na prática utilizamos um tamanho de amostra n>30.\n",
        "\n",
        "Como o exercício fornece apenas as médias e variâncias das populações e não especifica a distribuição das variáveis, é razoável assumir que elas seguem distribuições normais.\n",
        "\n",
        "Nesse caso, como extraímos as amostras de duas **normais** acaba que o resultado é sempre normal, independente do tamanho da amostra. O que nos garante o resultado aqui é a **Lei dos Grandes Números** que ao amostrar um grande número de vezes 10000, o valor esperado do estimador aproxima bem o parâmetro.\n",
        "\n"
      ],
      "metadata": {
        "id": "LrhB_uC-7VPf"
      }
    },
    {
      "cell_type": "markdown",
      "source": [
        "(iii) Uma vez conhecidos a média e o erro padrão da distribuição amostral de uma estatística, é possível responder a diversas perguntas. Para o caso\n",
        "da estatística aqui mencionada (diferença entre as médias), responda\n",
        "a seguinte pergunta: Se um experimento com o medicamento para a\n",
        "memória descrito for realizado, qual é a probabilidade de a média do\n",
        "grupo de 10 sujeitos que receberam o medicamento ser 15 ou mais pontos\n",
        "maior do que a média dos 8 sujeitos que não receberam o medicamento?"
      ],
      "metadata": {
        "id": "obp-zQDD4uYY"
      }
    },
    {
      "cell_type": "code",
      "source": [
        "import scipy.stats as st\n",
        "n1 = 10\n",
        "n2 = 8\n",
        "# qual a probabilidade da diferenca entre as medias ser >= 15\n",
        "z_score = 15\n",
        "prob = 1 - st.norm.cdf(z_score, loc=mu_Md, scale=std_Md)\n",
        "print(prob)\n"
      ],
      "metadata": {
        "id": "KqnWFFvk5cxT",
        "colab": {
          "base_uri": "https://localhost:8080/"
        },
        "outputId": "a0aa5447-1d9e-456d-d345-ed43f13a566e"
      },
      "execution_count": 113,
      "outputs": [
        {
          "output_type": "stream",
          "name": "stdout",
          "text": [
            "3.585862298416398e-05\n"
          ]
        }
      ]
    },
    {
      "cell_type": "markdown",
      "source": [
        "A probabilidade é quase nula. Visto que temos uma média de 10 e desvio padrão aprox. 1.2, um valor tão extremo como 15 estaria muito distante da média.\n",
        "\n",
        "Como estamos falando de uma distribuição que segue a normal, quanto maior a distância da média, menos provável são os valores."
      ],
      "metadata": {
        "id": "Zud1aEo1FiST"
      }
    },
    {
      "cell_type": "markdown",
      "source": [
        "#4 Áudio ou texto?\n",
        "Imagine que você seja um candidato a emprego tentando apresentar suas habilidades a um recrutador em um processo seletivo de uma empresa. Em qual das duas condições abaixo você teria mais chances de conseguir o emprego?\n",
        "\n",
        "- você grava um áudio com um breve discurso descrevendo suas habilidades para o recrutador;\n",
        "- você escreve um breve texto para que o recrutador o leia.\n",
        "\n",
        "A questão de pesquisa acima foi levantada por Schroeder and Epley\n",
        "(2015). Nesse artigo, os autores concluíram que a maneira como uma pessoa\n",
        "fala (ou seja, tom vocal, cadência, etc.) comunica informações sobre seu intelecto melhor do que suas palavras escritas (mesmo que sejam as mesmas\n",
        "palavras usadas no discurso falado). Para examinar a questão de pesquisa descrita acima, os autores designaram aleatoriamente 39 recrutadores profissionais de empresas da Fortune 5003 para uma de duas condições.\n",
        "\n",
        "- Na condição de áudio, os participantes ouvem gravações de áudio do\n",
        "discurso falado de um candidato a emprego.\n",
        "- Na condição de transcrição, os participantes lêem uma transcrição do\n",
        "discurso do candidato a emprego.\n",
        "\n",
        "Depois de ouvir ou ler o discurso, os participantes classificaram os candidatos a emprego em três dimensões: inteligência, competência e foco. Essas classificações foram então usadas para criar uma única medida do intelecto do candidato, com pontuações mais altas indicando que os recrutadores classificaram os candidatos como superiores em intelecto. Os participantes também avaliaram sua impressão geral do candidato ao emprego (uma combinação de dois itens medindo impressões positivas e negativas). Por fim, os participantes indicaram qual o potencial de recomendar a contratação do candidato (0 - nada provável, 10 - extremamente provável).\n",
        "\n",
        "O conjunto de dados fornecido para realizar essa parte do trabalho está no\n",
        "arquivo SchroederEpley2015data.txt. Nesse conjunto de dados, há várias\n",
        "colunas. Contudo, há duas colunas de interesse para esta parte do trabalho.\n",
        "\n",
        "- a coluna CONDITION indica o condição à qual cada recrutador foi alocado. O valor 1 indica que o recrutador foi alocado na condição de\n",
        "áudio; O valor 0 indica que o recrutador foi alocado na condição de\n",
        "transcrição.\n",
        "- a coluna Intellect_Rating indica a avaliação que cada recrutador\n",
        "atribuiu ao candidato. Essa avaliação é um valor inteiro entre 0 e 10.\n",
        "Repare que a coluna CONDITION permite dividir a coleção de valores de\n",
        "avaliações em duas amostras distintas, que vamos chamar de Sa e de St.\n",
        "\n",
        "As amostras Sa e St correspondem aos valores de avaliação atribuídos por\n",
        "recrutadores nas condições de áudio e de transcrição, respectivamente.\n",
        "Agora, com base nas informações fornecidas acima, responda aos itens a\n",
        "seguir."
      ],
      "metadata": {
        "id": "-SXWgs-Z1M1P"
      }
    },
    {
      "cell_type": "markdown",
      "source": [
        "(i) Compute a média e o tamanho (quantidade de observações) tanto para\n",
        "Sa quanto St."
      ],
      "metadata": {
        "id": "GhlwI-vU2j7i"
      }
    },
    {
      "cell_type": "code",
      "source": [
        "import pandas as pd\n",
        "df = pd.read_csv(\"https://raw.githubusercontent.com/AILAB-CEFET-RJ/gcc1625/refs/heads/main/data/SchroederEpley2015data.txt\")\n",
        "# checando o dataset\n",
        "df.info()\n",
        "df.head()"
      ],
      "metadata": {
        "id": "v3cH0quh1qO0",
        "outputId": "095fd303-0539-48ff-9d24-db3969c98f57",
        "colab": {
          "base_uri": "https://localhost:8080/",
          "height": 823
        }
      },
      "execution_count": 119,
      "outputs": [
        {
          "output_type": "stream",
          "name": "stdout",
          "text": [
            "<class 'pandas.core.frame.DataFrame'>\n",
            "RangeIndex: 39 entries, 0 to 38\n",
            "Data columns (total 26 columns):\n",
            " #   Column             Non-Null Count  Dtype  \n",
            "---  ------             --------------  -----  \n",
            " 0   CONDITION          39 non-null     int64  \n",
            " 1   compt              39 non-null     int64  \n",
            " 2   thought            39 non-null     int64  \n",
            " 3   intell             39 non-null     int64  \n",
            " 4   like               39 non-null     int64  \n",
            " 5   pos                39 non-null     int64  \n",
            " 6   neg                39 non-null     int64  \n",
            " 7   hire               39 non-null     int64  \n",
            " 8   age                39 non-null     object \n",
            " 9   gender             39 non-null     object \n",
            " 10  time               39 non-null     float64\n",
            " 11  wordcount          39 non-null     object \n",
            " 12  negR               39 non-null     int64  \n",
            " 13  intellect          39 non-null     float64\n",
            " 14  impression         39 non-null     float64\n",
            " 15  speaker            39 non-null     int64  \n",
            " 16  pnum               39 non-null     int64  \n",
            " 17  meanhire           39 non-null     float64\n",
            " 18  meanintellect      39 non-null     float64\n",
            " 19  meanimpression     39 non-null     float64\n",
            " 20  centhire           39 non-null     float64\n",
            " 21  centintellect      39 non-null     float64\n",
            " 22  centimpression     39 non-null     float64\n",
            " 23  Intellect_Rating   39 non-null     float64\n",
            " 24  Impression_Rating  39 non-null     float64\n",
            " 25  Hire_Rating        39 non-null     int64  \n",
            "dtypes: float64(11), int64(12), object(3)\n",
            "memory usage: 8.1+ KB\n"
          ]
        },
        {
          "output_type": "execute_result",
          "data": {
            "text/plain": [
              "   CONDITION  compt  thought  intell  like  pos  neg  hire age gender  ...  \\\n",
              "0          1      7        7       7     7    7    1     7  29      2  ...   \n",
              "1          1      6        8       6     6    6    6     5  27      2  ...   \n",
              "2          1      7        8       6     9    9    1     6  27      2  ...   \n",
              "3          0      4        3       6     6    6    6     5  40      2  ...   \n",
              "4          0      2        3       1     2    2    8     2  32      2  ...   \n",
              "\n",
              "   pnum  meanhire  meanintellect  meanimpression  centhire  centintellect  \\\n",
              "0     1  4.583333       5.722222        6.638889  2.416667       1.277778   \n",
              "1     2  4.666667       5.577778        5.777778  0.333333       1.088889   \n",
              "2     3  4.666667       5.577778        5.777778  1.333333       1.422222   \n",
              "3     4  4.583333       5.722222        6.638889  0.416667      -1.388889   \n",
              "4     5  4.583333       5.722222        6.638889 -2.583333      -3.722222   \n",
              "\n",
              "   centimpression  Intellect_Rating  Impression_Rating  Hire_Rating  \n",
              "0        1.361111          6.000000           7.000000            6  \n",
              "1       -0.111111          5.666667           4.666667            4  \n",
              "2        3.555556          6.000000           8.333333            5  \n",
              "3       -0.972222          3.333333           4.666667            4  \n",
              "4       -4.305556          1.000000           1.333333            1  \n",
              "\n",
              "[5 rows x 26 columns]"
            ],
            "text/html": [
              "\n",
              "  <div id=\"df-9a520b6a-a3db-4eb2-a365-e5c2126a57d7\" class=\"colab-df-container\">\n",
              "    <div>\n",
              "<style scoped>\n",
              "    .dataframe tbody tr th:only-of-type {\n",
              "        vertical-align: middle;\n",
              "    }\n",
              "\n",
              "    .dataframe tbody tr th {\n",
              "        vertical-align: top;\n",
              "    }\n",
              "\n",
              "    .dataframe thead th {\n",
              "        text-align: right;\n",
              "    }\n",
              "</style>\n",
              "<table border=\"1\" class=\"dataframe\">\n",
              "  <thead>\n",
              "    <tr style=\"text-align: right;\">\n",
              "      <th></th>\n",
              "      <th>CONDITION</th>\n",
              "      <th>compt</th>\n",
              "      <th>thought</th>\n",
              "      <th>intell</th>\n",
              "      <th>like</th>\n",
              "      <th>pos</th>\n",
              "      <th>neg</th>\n",
              "      <th>hire</th>\n",
              "      <th>age</th>\n",
              "      <th>gender</th>\n",
              "      <th>...</th>\n",
              "      <th>pnum</th>\n",
              "      <th>meanhire</th>\n",
              "      <th>meanintellect</th>\n",
              "      <th>meanimpression</th>\n",
              "      <th>centhire</th>\n",
              "      <th>centintellect</th>\n",
              "      <th>centimpression</th>\n",
              "      <th>Intellect_Rating</th>\n",
              "      <th>Impression_Rating</th>\n",
              "      <th>Hire_Rating</th>\n",
              "    </tr>\n",
              "  </thead>\n",
              "  <tbody>\n",
              "    <tr>\n",
              "      <th>0</th>\n",
              "      <td>1</td>\n",
              "      <td>7</td>\n",
              "      <td>7</td>\n",
              "      <td>7</td>\n",
              "      <td>7</td>\n",
              "      <td>7</td>\n",
              "      <td>1</td>\n",
              "      <td>7</td>\n",
              "      <td>29</td>\n",
              "      <td>2</td>\n",
              "      <td>...</td>\n",
              "      <td>1</td>\n",
              "      <td>4.583333</td>\n",
              "      <td>5.722222</td>\n",
              "      <td>6.638889</td>\n",
              "      <td>2.416667</td>\n",
              "      <td>1.277778</td>\n",
              "      <td>1.361111</td>\n",
              "      <td>6.000000</td>\n",
              "      <td>7.000000</td>\n",
              "      <td>6</td>\n",
              "    </tr>\n",
              "    <tr>\n",
              "      <th>1</th>\n",
              "      <td>1</td>\n",
              "      <td>6</td>\n",
              "      <td>8</td>\n",
              "      <td>6</td>\n",
              "      <td>6</td>\n",
              "      <td>6</td>\n",
              "      <td>6</td>\n",
              "      <td>5</td>\n",
              "      <td>27</td>\n",
              "      <td>2</td>\n",
              "      <td>...</td>\n",
              "      <td>2</td>\n",
              "      <td>4.666667</td>\n",
              "      <td>5.577778</td>\n",
              "      <td>5.777778</td>\n",
              "      <td>0.333333</td>\n",
              "      <td>1.088889</td>\n",
              "      <td>-0.111111</td>\n",
              "      <td>5.666667</td>\n",
              "      <td>4.666667</td>\n",
              "      <td>4</td>\n",
              "    </tr>\n",
              "    <tr>\n",
              "      <th>2</th>\n",
              "      <td>1</td>\n",
              "      <td>7</td>\n",
              "      <td>8</td>\n",
              "      <td>6</td>\n",
              "      <td>9</td>\n",
              "      <td>9</td>\n",
              "      <td>1</td>\n",
              "      <td>6</td>\n",
              "      <td>27</td>\n",
              "      <td>2</td>\n",
              "      <td>...</td>\n",
              "      <td>3</td>\n",
              "      <td>4.666667</td>\n",
              "      <td>5.577778</td>\n",
              "      <td>5.777778</td>\n",
              "      <td>1.333333</td>\n",
              "      <td>1.422222</td>\n",
              "      <td>3.555556</td>\n",
              "      <td>6.000000</td>\n",
              "      <td>8.333333</td>\n",
              "      <td>5</td>\n",
              "    </tr>\n",
              "    <tr>\n",
              "      <th>3</th>\n",
              "      <td>0</td>\n",
              "      <td>4</td>\n",
              "      <td>3</td>\n",
              "      <td>6</td>\n",
              "      <td>6</td>\n",
              "      <td>6</td>\n",
              "      <td>6</td>\n",
              "      <td>5</td>\n",
              "      <td>40</td>\n",
              "      <td>2</td>\n",
              "      <td>...</td>\n",
              "      <td>4</td>\n",
              "      <td>4.583333</td>\n",
              "      <td>5.722222</td>\n",
              "      <td>6.638889</td>\n",
              "      <td>0.416667</td>\n",
              "      <td>-1.388889</td>\n",
              "      <td>-0.972222</td>\n",
              "      <td>3.333333</td>\n",
              "      <td>4.666667</td>\n",
              "      <td>4</td>\n",
              "    </tr>\n",
              "    <tr>\n",
              "      <th>4</th>\n",
              "      <td>0</td>\n",
              "      <td>2</td>\n",
              "      <td>3</td>\n",
              "      <td>1</td>\n",
              "      <td>2</td>\n",
              "      <td>2</td>\n",
              "      <td>8</td>\n",
              "      <td>2</td>\n",
              "      <td>32</td>\n",
              "      <td>2</td>\n",
              "      <td>...</td>\n",
              "      <td>5</td>\n",
              "      <td>4.583333</td>\n",
              "      <td>5.722222</td>\n",
              "      <td>6.638889</td>\n",
              "      <td>-2.583333</td>\n",
              "      <td>-3.722222</td>\n",
              "      <td>-4.305556</td>\n",
              "      <td>1.000000</td>\n",
              "      <td>1.333333</td>\n",
              "      <td>1</td>\n",
              "    </tr>\n",
              "  </tbody>\n",
              "</table>\n",
              "<p>5 rows × 26 columns</p>\n",
              "</div>\n",
              "    <div class=\"colab-df-buttons\">\n",
              "\n",
              "  <div class=\"colab-df-container\">\n",
              "    <button class=\"colab-df-convert\" onclick=\"convertToInteractive('df-9a520b6a-a3db-4eb2-a365-e5c2126a57d7')\"\n",
              "            title=\"Convert this dataframe to an interactive table.\"\n",
              "            style=\"display:none;\">\n",
              "\n",
              "  <svg xmlns=\"http://www.w3.org/2000/svg\" height=\"24px\" viewBox=\"0 -960 960 960\">\n",
              "    <path d=\"M120-120v-720h720v720H120Zm60-500h600v-160H180v160Zm220 220h160v-160H400v160Zm0 220h160v-160H400v160ZM180-400h160v-160H180v160Zm440 0h160v-160H620v160ZM180-180h160v-160H180v160Zm440 0h160v-160H620v160Z\"/>\n",
              "  </svg>\n",
              "    </button>\n",
              "\n",
              "  <style>\n",
              "    .colab-df-container {\n",
              "      display:flex;\n",
              "      gap: 12px;\n",
              "    }\n",
              "\n",
              "    .colab-df-convert {\n",
              "      background-color: #E8F0FE;\n",
              "      border: none;\n",
              "      border-radius: 50%;\n",
              "      cursor: pointer;\n",
              "      display: none;\n",
              "      fill: #1967D2;\n",
              "      height: 32px;\n",
              "      padding: 0 0 0 0;\n",
              "      width: 32px;\n",
              "    }\n",
              "\n",
              "    .colab-df-convert:hover {\n",
              "      background-color: #E2EBFA;\n",
              "      box-shadow: 0px 1px 2px rgba(60, 64, 67, 0.3), 0px 1px 3px 1px rgba(60, 64, 67, 0.15);\n",
              "      fill: #174EA6;\n",
              "    }\n",
              "\n",
              "    .colab-df-buttons div {\n",
              "      margin-bottom: 4px;\n",
              "    }\n",
              "\n",
              "    [theme=dark] .colab-df-convert {\n",
              "      background-color: #3B4455;\n",
              "      fill: #D2E3FC;\n",
              "    }\n",
              "\n",
              "    [theme=dark] .colab-df-convert:hover {\n",
              "      background-color: #434B5C;\n",
              "      box-shadow: 0px 1px 3px 1px rgba(0, 0, 0, 0.15);\n",
              "      filter: drop-shadow(0px 1px 2px rgba(0, 0, 0, 0.3));\n",
              "      fill: #FFFFFF;\n",
              "    }\n",
              "  </style>\n",
              "\n",
              "    <script>\n",
              "      const buttonEl =\n",
              "        document.querySelector('#df-9a520b6a-a3db-4eb2-a365-e5c2126a57d7 button.colab-df-convert');\n",
              "      buttonEl.style.display =\n",
              "        google.colab.kernel.accessAllowed ? 'block' : 'none';\n",
              "\n",
              "      async function convertToInteractive(key) {\n",
              "        const element = document.querySelector('#df-9a520b6a-a3db-4eb2-a365-e5c2126a57d7');\n",
              "        const dataTable =\n",
              "          await google.colab.kernel.invokeFunction('convertToInteractive',\n",
              "                                                    [key], {});\n",
              "        if (!dataTable) return;\n",
              "\n",
              "        const docLinkHtml = 'Like what you see? Visit the ' +\n",
              "          '<a target=\"_blank\" href=https://colab.research.google.com/notebooks/data_table.ipynb>data table notebook</a>'\n",
              "          + ' to learn more about interactive tables.';\n",
              "        element.innerHTML = '';\n",
              "        dataTable['output_type'] = 'display_data';\n",
              "        await google.colab.output.renderOutput(dataTable, element);\n",
              "        const docLink = document.createElement('div');\n",
              "        docLink.innerHTML = docLinkHtml;\n",
              "        element.appendChild(docLink);\n",
              "      }\n",
              "    </script>\n",
              "  </div>\n",
              "\n",
              "\n",
              "<div id=\"df-300945e5-9d9e-49c5-a0ab-d83cd16c6bd9\">\n",
              "  <button class=\"colab-df-quickchart\" onclick=\"quickchart('df-300945e5-9d9e-49c5-a0ab-d83cd16c6bd9')\"\n",
              "            title=\"Suggest charts\"\n",
              "            style=\"display:none;\">\n",
              "\n",
              "<svg xmlns=\"http://www.w3.org/2000/svg\" height=\"24px\"viewBox=\"0 0 24 24\"\n",
              "     width=\"24px\">\n",
              "    <g>\n",
              "        <path d=\"M19 3H5c-1.1 0-2 .9-2 2v14c0 1.1.9 2 2 2h14c1.1 0 2-.9 2-2V5c0-1.1-.9-2-2-2zM9 17H7v-7h2v7zm4 0h-2V7h2v10zm4 0h-2v-4h2v4z\"/>\n",
              "    </g>\n",
              "</svg>\n",
              "  </button>\n",
              "\n",
              "<style>\n",
              "  .colab-df-quickchart {\n",
              "      --bg-color: #E8F0FE;\n",
              "      --fill-color: #1967D2;\n",
              "      --hover-bg-color: #E2EBFA;\n",
              "      --hover-fill-color: #174EA6;\n",
              "      --disabled-fill-color: #AAA;\n",
              "      --disabled-bg-color: #DDD;\n",
              "  }\n",
              "\n",
              "  [theme=dark] .colab-df-quickchart {\n",
              "      --bg-color: #3B4455;\n",
              "      --fill-color: #D2E3FC;\n",
              "      --hover-bg-color: #434B5C;\n",
              "      --hover-fill-color: #FFFFFF;\n",
              "      --disabled-bg-color: #3B4455;\n",
              "      --disabled-fill-color: #666;\n",
              "  }\n",
              "\n",
              "  .colab-df-quickchart {\n",
              "    background-color: var(--bg-color);\n",
              "    border: none;\n",
              "    border-radius: 50%;\n",
              "    cursor: pointer;\n",
              "    display: none;\n",
              "    fill: var(--fill-color);\n",
              "    height: 32px;\n",
              "    padding: 0;\n",
              "    width: 32px;\n",
              "  }\n",
              "\n",
              "  .colab-df-quickchart:hover {\n",
              "    background-color: var(--hover-bg-color);\n",
              "    box-shadow: 0 1px 2px rgba(60, 64, 67, 0.3), 0 1px 3px 1px rgba(60, 64, 67, 0.15);\n",
              "    fill: var(--button-hover-fill-color);\n",
              "  }\n",
              "\n",
              "  .colab-df-quickchart-complete:disabled,\n",
              "  .colab-df-quickchart-complete:disabled:hover {\n",
              "    background-color: var(--disabled-bg-color);\n",
              "    fill: var(--disabled-fill-color);\n",
              "    box-shadow: none;\n",
              "  }\n",
              "\n",
              "  .colab-df-spinner {\n",
              "    border: 2px solid var(--fill-color);\n",
              "    border-color: transparent;\n",
              "    border-bottom-color: var(--fill-color);\n",
              "    animation:\n",
              "      spin 1s steps(1) infinite;\n",
              "  }\n",
              "\n",
              "  @keyframes spin {\n",
              "    0% {\n",
              "      border-color: transparent;\n",
              "      border-bottom-color: var(--fill-color);\n",
              "      border-left-color: var(--fill-color);\n",
              "    }\n",
              "    20% {\n",
              "      border-color: transparent;\n",
              "      border-left-color: var(--fill-color);\n",
              "      border-top-color: var(--fill-color);\n",
              "    }\n",
              "    30% {\n",
              "      border-color: transparent;\n",
              "      border-left-color: var(--fill-color);\n",
              "      border-top-color: var(--fill-color);\n",
              "      border-right-color: var(--fill-color);\n",
              "    }\n",
              "    40% {\n",
              "      border-color: transparent;\n",
              "      border-right-color: var(--fill-color);\n",
              "      border-top-color: var(--fill-color);\n",
              "    }\n",
              "    60% {\n",
              "      border-color: transparent;\n",
              "      border-right-color: var(--fill-color);\n",
              "    }\n",
              "    80% {\n",
              "      border-color: transparent;\n",
              "      border-right-color: var(--fill-color);\n",
              "      border-bottom-color: var(--fill-color);\n",
              "    }\n",
              "    90% {\n",
              "      border-color: transparent;\n",
              "      border-bottom-color: var(--fill-color);\n",
              "    }\n",
              "  }\n",
              "</style>\n",
              "\n",
              "  <script>\n",
              "    async function quickchart(key) {\n",
              "      const quickchartButtonEl =\n",
              "        document.querySelector('#' + key + ' button');\n",
              "      quickchartButtonEl.disabled = true;  // To prevent multiple clicks.\n",
              "      quickchartButtonEl.classList.add('colab-df-spinner');\n",
              "      try {\n",
              "        const charts = await google.colab.kernel.invokeFunction(\n",
              "            'suggestCharts', [key], {});\n",
              "      } catch (error) {\n",
              "        console.error('Error during call to suggestCharts:', error);\n",
              "      }\n",
              "      quickchartButtonEl.classList.remove('colab-df-spinner');\n",
              "      quickchartButtonEl.classList.add('colab-df-quickchart-complete');\n",
              "    }\n",
              "    (() => {\n",
              "      let quickchartButtonEl =\n",
              "        document.querySelector('#df-300945e5-9d9e-49c5-a0ab-d83cd16c6bd9 button');\n",
              "      quickchartButtonEl.style.display =\n",
              "        google.colab.kernel.accessAllowed ? 'block' : 'none';\n",
              "    })();\n",
              "  </script>\n",
              "</div>\n",
              "\n",
              "    </div>\n",
              "  </div>\n"
            ],
            "application/vnd.google.colaboratory.intrinsic+json": {
              "type": "dataframe",
              "variable_name": "df"
            }
          },
          "metadata": {},
          "execution_count": 119
        }
      ]
    },
    {
      "cell_type": "code",
      "source": [
        "# vamos dividir em Sa e St (condition 1 e 0)\n",
        "Sa = df[df[\"CONDITION\"]==1][\"Intellect_Rating\"]\n",
        "St = df[df[\"CONDITION\"]==0][\"Intellect_Rating\"]\n",
        "\n",
        "print(f\"{Sa.shape[0]} em condicao de audio, Média das Notas = {Sa.mean()}\")\n",
        "print(f\"{St.shape[0]} em condicao de transcricao, Média das Notas = {St.mean()}\")"
      ],
      "metadata": {
        "colab": {
          "base_uri": "https://localhost:8080/"
        },
        "id": "ihi0KzrBHY5z",
        "outputId": "1066dd7b-20dc-4f42-faa1-9b7f3eb937dc"
      },
      "execution_count": 117,
      "outputs": [
        {
          "output_type": "stream",
          "name": "stdout",
          "text": [
            "21 em condicao de audio, Média das Notas = 5.634920634920636\n",
            "18 em condicao de transcricao, Média das Notas = 3.6481481481481493\n"
          ]
        }
      ]
    },
    {
      "cell_type": "markdown",
      "source": [
        "(ii) Construa um boxplot para apresentar graficamente as duas amostras.\n",
        "Seu gráfico deve ser semelhante ao apresentado na Figura 1. Em Python, você pode usar a biblioteca Seaborn. Em R, você pode usar a biblioteca GGPLOT2. Forneça uma análise das informações fornecidas pelo gráfico."
      ],
      "metadata": {
        "id": "IkU1kLwP8X7B"
      }
    },
    {
      "cell_type": "code",
      "source": [
        "import seaborn as sns\n",
        "\n",
        "sns.boxplot(data=df, x='CONDITION', y='Intellect_Rating')\n",
        "plt.xticks([0,1], [\"Transcrição\", \"Áudio\"])\n",
        "plt.grid(True)"
      ],
      "metadata": {
        "id": "qaXWaF2u8WpU",
        "colab": {
          "base_uri": "https://localhost:8080/",
          "height": 449
        },
        "outputId": "688e1f0d-503e-4b02-dfcd-f375793d6cb0"
      },
      "execution_count": 132,
      "outputs": [
        {
          "output_type": "display_data",
          "data": {
            "text/plain": [
              "<Figure size 640x480 with 1 Axes>"
            ],
            "image/png": "[encoded data removed]"
          },
          "metadata": {}
        }
      ]
    },
    {
      "cell_type": "markdown",
      "source": [
        "Pessoas análisadas por áudio costumam ser mais bem avalidas, sua grande maioria (50% dos dados) com um Intelect Rating entre 5 e 6. Com a presença de alguns outliers, mas nada que afete tanto a concentração das massas.\n",
        "\n",
        "Já as por texto, além de notas mais baixas, costumam ser mais variadas. 50% dos dados estão entre 2 e 4 e possue grandes caudas, que explicita a variedade das avaliações."
      ],
      "metadata": {
        "id": "5RdTe4LE-Im9"
      }
    },
    {
      "cell_type": "markdown",
      "source": [
        "(iii) Aplique um teste de normalidade em ambas as amostras, Sa e St. Apresente uma análise do resultado obtido."
      ],
      "metadata": {
        "id": "4ltWAiM__QKo"
      }
    },
    {
      "cell_type": "code",
      "source": [
        "# RESPOSTA AQUI"
      ],
      "metadata": {
        "id": "-nAGyNHI_TaO"
      },
      "execution_count": null,
      "outputs": []
    },
    {
      "cell_type": "markdown",
      "source": [
        "(iv) Construa um intervalo de confiança para a média de avaliações produzidas por duas populações distintas, P1 e P2, descritas abaixo.\n",
        "- P1: todos os recrutadores que ouvem os áudios\n",
        "- P2: todos os recrutadores que leem os transcritos\n",
        "\n",
        "Note que a resposta a este item devem ser dois intervalos de confiança.\n",
        "Nos dois casos, use o nível de confiança de 99%."
      ],
      "metadata": {
        "id": "yIvjG1_7_V17"
      }
    },
    {
      "cell_type": "code",
      "source": [
        "# CONSTRUIR UM INTERVALO DE CONFIANCA 99% PARA A MÉDIA n<30"
      ],
      "metadata": {
        "id": "D-laGLWY_U8a"
      },
      "execution_count": null,
      "outputs": []
    },
    {
      "cell_type": "markdown",
      "source": [
        "(v) Com base nos intervalos de confiança obtidos no item anterior, você\n",
        "acha que a conclusão a que chegaram os autores em Schroeder and\n",
        "Epley (2015) é válida? Justifique sua resposta"
      ],
      "metadata": {
        "id": "RADogH57AoEI"
      }
    },
    {
      "cell_type": "code",
      "source": [
        "# RESPOSTA AQUI"
      ],
      "metadata": {
        "id": "keDxYsOuTYAc"
      },
      "execution_count": null,
      "outputs": []
    },
    {
      "cell_type": "markdown",
      "source": [
        "#5) Intervalo de confiança para altura média\n",
        "Essa parte do trabalho envolve computar um intervalo de confiança para a\n",
        "média das alturas dos estudantes de uma universidade. Você deve realizar\n",
        "essa parte do trabalho usando como amostra os dados contidos no conjunto de dados fornecido no arquivo survey.csv. Esse conjunto de dados contém\n",
        "o resultado de uma pesquisa feita com uma amostra de estudantes em uma\n",
        "universidade australiana. Os atributos desse conjunto de dados são descritos a seguir:\n",
        "\n",
        "- Sex. O sexo do aluno. (Fator com os níveis Male e Female.)\n",
        "- Wr.Hnd. vão (distância da ponta do polegar à ponta do dedo mínimo\n",
        "da mão aberta) da mão que escreve, em centímetros.\n",
        "- NW.Hnd. extensão da mão que não escreve.\n",
        "- W.Hnd. mão de escrita. (Left ou Right.)\n",
        "- Fold. ”Cruze os braços! Qual está no topo? (R on L, L on R, Neither.)\n",
        "- Pulse. taxa de pulso do aluno (batimentos por minuto).\n",
        "- Clap. ’Bata palmas! Qual mão está para cima? (Right, Left,None.)\n",
        "- Exer. quantas vezes o aluno se exercita. (Freq (frequentemente), Some,\n",
        "None.)\n",
        "- Smoke. Quanto o aluno fuma. (Heavy, Regul (regularmente), Occas\n",
        "(occasionalmente), Never.)\n",
        "- Height. altura do aluno em centímetros.\n",
        "- M.I. se o aluno expressou a altura em unidades imperiais (pés/polega-\n",
        "das) ou métricas (centímetros/metros). (Metric, Imperial.)\n",
        "- Age. Idade do aluno em anos.\n",
        "\n",
        "A variável de interesse está na coluna Height do conjunto de dados. Inicialmente, você deve eliminar valores faltantes (missing values) nessa coluna.\n",
        "\n",
        "Para isso, pesquise sobre a função na.omit da linguagem R, ou sobre a\n",
        "função drop.na da biblioteca Pandas em Python.\n",
        "Agora, realize o que se pede a seguir\n",
        "\n"
      ],
      "metadata": {
        "id": "9zMLaHD5AyzK"
      }
    },
    {
      "cell_type": "code",
      "source": [
        "import pandas as pd\n",
        "df = pd.read_csv(\"https://raw.githubusercontent.com/AILAB-CEFET-RJ/gcc1625/refs/heads/main/data/survey.csv\", index_col=0)\n",
        "df.head()"
      ],
      "metadata": {
        "id": "S2kcTHDITvJr",
        "outputId": "44932adb-8f72-418a-939e-40923ac3d1ee",
        "colab": {
          "base_uri": "https://localhost:8080/",
          "height": 206
        }
      },
      "execution_count": 295,
      "outputs": [
        {
          "output_type": "execute_result",
          "data": {
            "text/plain": [
              "      Sex  Wr.Hnd  NW.Hnd  W.Hnd     Fold  Pulse     Clap  Exer  Smoke  \\\n",
              "1  Female    18.5    18.0  Right   R on L   92.0     Left  Some  Never   \n",
              "2    Male    19.5    20.5   Left   R on L  104.0     Left   NaN  Regul   \n",
              "3    Male    18.0    13.3  Right   L on R   87.0  Neither   NaN  Occas   \n",
              "4    Male    18.8    18.9  Right   R on L    NaN  Neither   NaN  Never   \n",
              "5    Male    20.0    20.0  Right  Neither   35.0    Right  Some  Never   \n",
              "\n",
              "   Height       M.I     Age  \n",
              "1   173.0    Metric  18.250  \n",
              "2   177.8  Imperial  17.583  \n",
              "3     NaN       NaN  16.917  \n",
              "4   160.0    Metric  20.333  \n",
              "5   165.0    Metric  23.667  "
            ],
            "text/html": [
              "\n",
              "  <div id=\"df-14fa1101-acef-4085-a9fb-5d4faace5f34\" class=\"colab-df-container\">\n",
              "    <div>\n",
              "<style scoped>\n",
              "    .dataframe tbody tr th:only-of-type {\n",
              "        vertical-align: middle;\n",
              "    }\n",
              "\n",
              "    .dataframe tbody tr th {\n",
              "        vertical-align: top;\n",
              "    }\n",
              "\n",
              "    .dataframe thead th {\n",
              "        text-align: right;\n",
              "    }\n",
              "</style>\n",
              "<table border=\"1\" class=\"dataframe\">\n",
              "  <thead>\n",
              "    <tr style=\"text-align: right;\">\n",
              "      <th></th>\n",
              "      <th>Sex</th>\n",
              "      <th>Wr.Hnd</th>\n",
              "      <th>NW.Hnd</th>\n",
              "      <th>W.Hnd</th>\n",
              "      <th>Fold</th>\n",
              "      <th>Pulse</th>\n",
              "      <th>Clap</th>\n",
              "      <th>Exer</th>\n",
              "      <th>Smoke</th>\n",
              "      <th>Height</th>\n",
              "      <th>M.I</th>\n",
              "      <th>Age</th>\n",
              "    </tr>\n",
              "  </thead>\n",
              "  <tbody>\n",
              "    <tr>\n",
              "      <th>1</th>\n",
              "      <td>Female</td>\n",
              "      <td>18.5</td>\n",
              "      <td>18.0</td>\n",
              "      <td>Right</td>\n",
              "      <td>R on L</td>\n",
              "      <td>92.0</td>\n",
              "      <td>Left</td>\n",
              "      <td>Some</td>\n",
              "      <td>Never</td>\n",
              "      <td>173.0</td>\n",
              "      <td>Metric</td>\n",
              "      <td>18.250</td>\n",
              "    </tr>\n",
              "    <tr>\n",
              "      <th>2</th>\n",
              "      <td>Male</td>\n",
              "      <td>19.5</td>\n",
              "      <td>20.5</td>\n",
              "      <td>Left</td>\n",
              "      <td>R on L</td>\n",
              "      <td>104.0</td>\n",
              "      <td>Left</td>\n",
              "      <td>NaN</td>\n",
              "      <td>Regul</td>\n",
              "      <td>177.8</td>\n",
              "      <td>Imperial</td>\n",
              "      <td>17.583</td>\n",
              "    </tr>\n",
              "    <tr>\n",
              "      <th>3</th>\n",
              "      <td>Male</td>\n",
              "      <td>18.0</td>\n",
              "      <td>13.3</td>\n",
              "      <td>Right</td>\n",
              "      <td>L on R</td>\n",
              "      <td>87.0</td>\n",
              "      <td>Neither</td>\n",
              "      <td>NaN</td>\n",
              "      <td>Occas</td>\n",
              "      <td>NaN</td>\n",
              "      <td>NaN</td>\n",
              "      <td>16.917</td>\n",
              "    </tr>\n",
              "    <tr>\n",
              "      <th>4</th>\n",
              "      <td>Male</td>\n",
              "      <td>18.8</td>\n",
              "      <td>18.9</td>\n",
              "      <td>Right</td>\n",
              "      <td>R on L</td>\n",
              "      <td>NaN</td>\n",
              "      <td>Neither</td>\n",
              "      <td>NaN</td>\n",
              "      <td>Never</td>\n",
              "      <td>160.0</td>\n",
              "      <td>Metric</td>\n",
              "      <td>20.333</td>\n",
              "    </tr>\n",
              "    <tr>\n",
              "      <th>5</th>\n",
              "      <td>Male</td>\n",
              "      <td>20.0</td>\n",
              "      <td>20.0</td>\n",
              "      <td>Right</td>\n",
              "      <td>Neither</td>\n",
              "      <td>35.0</td>\n",
              "      <td>Right</td>\n",
              "      <td>Some</td>\n",
              "      <td>Never</td>\n",
              "      <td>165.0</td>\n",
              "      <td>Metric</td>\n",
              "      <td>23.667</td>\n",
              "    </tr>\n",
              "  </tbody>\n",
              "</table>\n",
              "</div>\n",
              "    <div class=\"colab-df-buttons\">\n",
              "\n",
              "  <div class=\"colab-df-container\">\n",
              "    <button class=\"colab-df-convert\" onclick=\"convertToInteractive('df-14fa1101-acef-4085-a9fb-5d4faace5f34')\"\n",
              "            title=\"Convert this dataframe to an interactive table.\"\n",
              "            style=\"display:none;\">\n",
              "\n",
              "  <svg xmlns=\"http://www.w3.org/2000/svg\" height=\"24px\" viewBox=\"0 -960 960 960\">\n",
              "    <path d=\"M120-120v-720h720v720H120Zm60-500h600v-160H180v160Zm220 220h160v-160H400v160Zm0 220h160v-160H400v160ZM180-400h160v-160H180v160Zm440 0h160v-160H620v160ZM180-180h160v-160H180v160Zm440 0h160v-160H620v160Z\"/>\n",
              "  </svg>\n",
              "    </button>\n",
              "\n",
              "  <style>\n",
              "    .colab-df-container {\n",
              "      display:flex;\n",
              "      gap: 12px;\n",
              "    }\n",
              "\n",
              "    .colab-df-convert {\n",
              "      background-color: #E8F0FE;\n",
              "      border: none;\n",
              "      border-radius: 50%;\n",
              "      cursor: pointer;\n",
              "      display: none;\n",
              "      fill: #1967D2;\n",
              "      height: 32px;\n",
              "      padding: 0 0 0 0;\n",
              "      width: 32px;\n",
              "    }\n",
              "\n",
              "    .colab-df-convert:hover {\n",
              "      background-color: #E2EBFA;\n",
              "      box-shadow: 0px 1px 2px rgba(60, 64, 67, 0.3), 0px 1px 3px 1px rgba(60, 64, 67, 0.15);\n",
              "      fill: #174EA6;\n",
              "    }\n",
              "\n",
              "    .colab-df-buttons div {\n",
              "      margin-bottom: 4px;\n",
              "    }\n",
              "\n",
              "    [theme=dark] .colab-df-convert {\n",
              "      background-color: #3B4455;\n",
              "      fill: #D2E3FC;\n",
              "    }\n",
              "\n",
              "    [theme=dark] .colab-df-convert:hover {\n",
              "      background-color: #434B5C;\n",
              "      box-shadow: 0px 1px 3px 1px rgba(0, 0, 0, 0.15);\n",
              "      filter: drop-shadow(0px 1px 2px rgba(0, 0, 0, 0.3));\n",
              "      fill: #FFFFFF;\n",
              "    }\n",
              "  </style>\n",
              "\n",
              "    <script>\n",
              "      const buttonEl =\n",
              "        document.querySelector('#df-14fa1101-acef-4085-a9fb-5d4faace5f34 button.colab-df-convert');\n",
              "      buttonEl.style.display =\n",
              "        google.colab.kernel.accessAllowed ? 'block' : 'none';\n",
              "\n",
              "      async function convertToInteractive(key) {\n",
              "        const element = document.querySelector('#df-14fa1101-acef-4085-a9fb-5d4faace5f34');\n",
              "        const dataTable =\n",
              "          await google.colab.kernel.invokeFunction('convertToInteractive',\n",
              "                                                    [key], {});\n",
              "        if (!dataTable) return;\n",
              "\n",
              "        const docLinkHtml = 'Like what you see? Visit the ' +\n",
              "          '<a target=\"_blank\" href=https://colab.research.google.com/notebooks/data_table.ipynb>data table notebook</a>'\n",
              "          + ' to learn more about interactive tables.';\n",
              "        element.innerHTML = '';\n",
              "        dataTable['output_type'] = 'display_data';\n",
              "        await google.colab.output.renderOutput(dataTable, element);\n",
              "        const docLink = document.createElement('div');\n",
              "        docLink.innerHTML = docLinkHtml;\n",
              "        element.appendChild(docLink);\n",
              "      }\n",
              "    </script>\n",
              "  </div>\n",
              "\n",
              "\n",
              "<div id=\"df-2c788081-ea16-4d67-b5a5-70feaa3d50f7\">\n",
              "  <button class=\"colab-df-quickchart\" onclick=\"quickchart('df-2c788081-ea16-4d67-b5a5-70feaa3d50f7')\"\n",
              "            title=\"Suggest charts\"\n",
              "            style=\"display:none;\">\n",
              "\n",
              "<svg xmlns=\"http://www.w3.org/2000/svg\" height=\"24px\"viewBox=\"0 0 24 24\"\n",
              "     width=\"24px\">\n",
              "    <g>\n",
              "        <path d=\"M19 3H5c-1.1 0-2 .9-2 2v14c0 1.1.9 2 2 2h14c1.1 0 2-.9 2-2V5c0-1.1-.9-2-2-2zM9 17H7v-7h2v7zm4 0h-2V7h2v10zm4 0h-2v-4h2v4z\"/>\n",
              "    </g>\n",
              "</svg>\n",
              "  </button>\n",
              "\n",
              "<style>\n",
              "  .colab-df-quickchart {\n",
              "      --bg-color: #E8F0FE;\n",
              "      --fill-color: #1967D2;\n",
              "      --hover-bg-color: #E2EBFA;\n",
              "      --hover-fill-color: #174EA6;\n",
              "      --disabled-fill-color: #AAA;\n",
              "      --disabled-bg-color: #DDD;\n",
              "  }\n",
              "\n",
              "  [theme=dark] .colab-df-quickchart {\n",
              "      --bg-color: #3B4455;\n",
              "      --fill-color: #D2E3FC;\n",
              "      --hover-bg-color: #434B5C;\n",
              "      --hover-fill-color: #FFFFFF;\n",
              "      --disabled-bg-color: #3B4455;\n",
              "      --disabled-fill-color: #666;\n",
              "  }\n",
              "\n",
              "  .colab-df-quickchart {\n",
              "    background-color: var(--bg-color);\n",
              "    border: none;\n",
              "    border-radius: 50%;\n",
              "    cursor: pointer;\n",
              "    display: none;\n",
              "    fill: var(--fill-color);\n",
              "    height: 32px;\n",
              "    padding: 0;\n",
              "    width: 32px;\n",
              "  }\n",
              "\n",
              "  .colab-df-quickchart:hover {\n",
              "    background-color: var(--hover-bg-color);\n",
              "    box-shadow: 0 1px 2px rgba(60, 64, 67, 0.3), 0 1px 3px 1px rgba(60, 64, 67, 0.15);\n",
              "    fill: var(--button-hover-fill-color);\n",
              "  }\n",
              "\n",
              "  .colab-df-quickchart-complete:disabled,\n",
              "  .colab-df-quickchart-complete:disabled:hover {\n",
              "    background-color: var(--disabled-bg-color);\n",
              "    fill: var(--disabled-fill-color);\n",
              "    box-shadow: none;\n",
              "  }\n",
              "\n",
              "  .colab-df-spinner {\n",
              "    border: 2px solid var(--fill-color);\n",
              "    border-color: transparent;\n",
              "    border-bottom-color: var(--fill-color);\n",
              "    animation:\n",
              "      spin 1s steps(1) infinite;\n",
              "  }\n",
              "\n",
              "  @keyframes spin {\n",
              "    0% {\n",
              "      border-color: transparent;\n",
              "      border-bottom-color: var(--fill-color);\n",
              "      border-left-color: var(--fill-color);\n",
              "    }\n",
              "    20% {\n",
              "      border-color: transparent;\n",
              "      border-left-color: var(--fill-color);\n",
              "      border-top-color: var(--fill-color);\n",
              "    }\n",
              "    30% {\n",
              "      border-color: transparent;\n",
              "      border-left-color: var(--fill-color);\n",
              "      border-top-color: var(--fill-color);\n",
              "      border-right-color: var(--fill-color);\n",
              "    }\n",
              "    40% {\n",
              "      border-color: transparent;\n",
              "      border-right-color: var(--fill-color);\n",
              "      border-top-color: var(--fill-color);\n",
              "    }\n",
              "    60% {\n",
              "      border-color: transparent;\n",
              "      border-right-color: var(--fill-color);\n",
              "    }\n",
              "    80% {\n",
              "      border-color: transparent;\n",
              "      border-right-color: var(--fill-color);\n",
              "      border-bottom-color: var(--fill-color);\n",
              "    }\n",
              "    90% {\n",
              "      border-color: transparent;\n",
              "      border-bottom-color: var(--fill-color);\n",
              "    }\n",
              "  }\n",
              "</style>\n",
              "\n",
              "  <script>\n",
              "    async function quickchart(key) {\n",
              "      const quickchartButtonEl =\n",
              "        document.querySelector('#' + key + ' button');\n",
              "      quickchartButtonEl.disabled = true;  // To prevent multiple clicks.\n",
              "      quickchartButtonEl.classList.add('colab-df-spinner');\n",
              "      try {\n",
              "        const charts = await google.colab.kernel.invokeFunction(\n",
              "            'suggestCharts', [key], {});\n",
              "      } catch (error) {\n",
              "        console.error('Error during call to suggestCharts:', error);\n",
              "      }\n",
              "      quickchartButtonEl.classList.remove('colab-df-spinner');\n",
              "      quickchartButtonEl.classList.add('colab-df-quickchart-complete');\n",
              "    }\n",
              "    (() => {\n",
              "      let quickchartButtonEl =\n",
              "        document.querySelector('#df-2c788081-ea16-4d67-b5a5-70feaa3d50f7 button');\n",
              "      quickchartButtonEl.style.display =\n",
              "        google.colab.kernel.accessAllowed ? 'block' : 'none';\n",
              "    })();\n",
              "  </script>\n",
              "</div>\n",
              "\n",
              "    </div>\n",
              "  </div>\n"
            ],
            "application/vnd.google.colaboratory.intrinsic+json": {
              "type": "dataframe",
              "variable_name": "df",
              "summary": "{\n  \"name\": \"df\",\n  \"rows\": 237,\n  \"fields\": [\n    {\n      \"column\": \"Sex\",\n      \"properties\": {\n        \"dtype\": \"category\",\n        \"num_unique_values\": 2,\n        \"samples\": [\n          \"Male\",\n          \"Female\"\n        ],\n        \"semantic_type\": \"\",\n        \"description\": \"\"\n      }\n    },\n    {\n      \"column\": \"Wr.Hnd\",\n      \"properties\": {\n        \"dtype\": \"number\",\n        \"std\": 1.8789813842059673,\n        \"min\": 13.0,\n        \"max\": 23.2,\n        \"num_unique_values\": 60,\n        \"samples\": [\n          18.5,\n          17.7\n        ],\n        \"semantic_type\": \"\",\n        \"description\": \"\"\n      }\n    },\n    {\n      \"column\": \"NW.Hnd\",\n      \"properties\": {\n        \"dtype\": \"number\",\n        \"std\": 1.967067988945424,\n        \"min\": 12.5,\n        \"max\": 23.5,\n        \"num_unique_values\": 68,\n        \"samples\": [\n          22.2,\n          20.9\n        ],\n        \"semantic_type\": \"\",\n        \"description\": \"\"\n      }\n    },\n    {\n      \"column\": \"W.Hnd\",\n      \"properties\": {\n        \"dtype\": \"category\",\n        \"num_unique_values\": 2,\n        \"samples\": [\n          \"Left\",\n          \"Right\"\n        ],\n        \"semantic_type\": \"\",\n        \"description\": \"\"\n      }\n    },\n    {\n      \"column\": \"Fold\",\n      \"properties\": {\n        \"dtype\": \"category\",\n        \"num_unique_values\": 3,\n        \"samples\": [\n          \"R on L\",\n          \"L on R\"\n        ],\n        \"semantic_type\": \"\",\n        \"description\": \"\"\n      }\n    },\n    {\n      \"column\": \"Pulse\",\n      \"properties\": {\n        \"dtype\": \"number\",\n        \"std\": 11.687156729380456,\n        \"min\": 35.0,\n        \"max\": 104.0,\n        \"num_unique_values\": 43,\n        \"samples\": [\n          81.0,\n          56.0\n        ],\n        \"semantic_type\": \"\",\n        \"description\": \"\"\n      }\n    },\n    {\n      \"column\": \"Clap\",\n      \"properties\": {\n        \"dtype\": \"category\",\n        \"num_unique_values\": 3,\n        \"samples\": [\n          \"Left\",\n          \"Neither\"\n        ],\n        \"semantic_type\": \"\",\n        \"description\": \"\"\n      }\n    },\n    {\n      \"column\": \"Exer\",\n      \"properties\": {\n        \"dtype\": \"category\",\n        \"num_unique_values\": 2,\n        \"samples\": [\n          \"Freq\",\n          \"Some\"\n        ],\n        \"semantic_type\": \"\",\n        \"description\": \"\"\n      }\n    },\n    {\n      \"column\": \"Smoke\",\n      \"properties\": {\n        \"dtype\": \"category\",\n        \"num_unique_values\": 4,\n        \"samples\": [\n          \"Regul\",\n          \"Heavy\"\n        ],\n        \"semantic_type\": \"\",\n        \"description\": \"\"\n      }\n    },\n    {\n      \"column\": \"Height\",\n      \"properties\": {\n        \"dtype\": \"number\",\n        \"std\": 9.84752766829165,\n        \"min\": 150.0,\n        \"max\": 200.0,\n        \"num_unique_values\": 67,\n        \"samples\": [\n          178.0,\n          175.26\n        ],\n        \"semantic_type\": \"\",\n        \"description\": \"\"\n      }\n    },\n    {\n      \"column\": \"M.I\",\n      \"properties\": {\n        \"dtype\": \"category\",\n        \"num_unique_values\": 2,\n        \"samples\": [\n          \"Imperial\",\n          \"Metric\"\n        ],\n        \"semantic_type\": \"\",\n        \"description\": \"\"\n      }\n    },\n    {\n      \"column\": \"Age\",\n      \"properties\": {\n        \"dtype\": \"number\",\n        \"std\": 6.474334916172665,\n        \"min\": 16.75,\n        \"max\": 73.0,\n        \"num_unique_values\": 88,\n        \"samples\": [\n          23.083,\n          18.25\n        ],\n        \"semantic_type\": \"\",\n        \"description\": \"\"\n      }\n    }\n  ]\n}"
            }
          },
          "metadata": {},
          "execution_count": 295
        }
      ]
    },
    {
      "cell_type": "code",
      "source": [
        "# a variavel de interesse é o Height\n",
        "df_height = df[\"Height\"]\n",
        "df_height.count() # checando valores nulos"
      ],
      "metadata": {
        "id": "Ipmkur75VFg7",
        "outputId": "ed01b502-eefd-4876-8156-4def46e42214",
        "colab": {
          "base_uri": "https://localhost:8080/"
        }
      },
      "execution_count": 296,
      "outputs": [
        {
          "output_type": "execute_result",
          "data": {
            "text/plain": [
              "np.int64(209)"
            ]
          },
          "metadata": {},
          "execution_count": 296
        }
      ]
    },
    {
      "cell_type": "code",
      "source": [
        "df_height.dropna() # retirando os valores nulos\n",
        "df_height.describe() # checando o dataframe"
      ],
      "metadata": {
        "id": "1ml0Q9muV-j2",
        "outputId": "f3e4ba95-ddc4-4e21-8236-947b8c75af93",
        "colab": {
          "base_uri": "https://localhost:8080/",
          "height": 335
        }
      },
      "execution_count": 297,
      "outputs": [
        {
          "output_type": "execute_result",
          "data": {
            "text/plain": [
              "count    209.000000\n",
              "mean     172.380861\n",
              "std        9.847528\n",
              "min      150.000000\n",
              "25%      165.000000\n",
              "50%      171.000000\n",
              "75%      180.000000\n",
              "max      200.000000\n",
              "Name: Height, dtype: float64"
            ],
            "text/html": [
              "<div>\n",
              "<style scoped>\n",
              "    .dataframe tbody tr th:only-of-type {\n",
              "        vertical-align: middle;\n",
              "    }\n",
              "\n",
              "    .dataframe tbody tr th {\n",
              "        vertical-align: top;\n",
              "    }\n",
              "\n",
              "    .dataframe thead th {\n",
              "        text-align: right;\n",
              "    }\n",
              "</style>\n",
              "<table border=\"1\" class=\"dataframe\">\n",
              "  <thead>\n",
              "    <tr style=\"text-align: right;\">\n",
              "      <th></th>\n",
              "      <th>Height</th>\n",
              "    </tr>\n",
              "  </thead>\n",
              "  <tbody>\n",
              "    <tr>\n",
              "      <th>count</th>\n",
              "      <td>209.000000</td>\n",
              "    </tr>\n",
              "    <tr>\n",
              "      <th>mean</th>\n",
              "      <td>172.380861</td>\n",
              "    </tr>\n",
              "    <tr>\n",
              "      <th>std</th>\n",
              "      <td>9.847528</td>\n",
              "    </tr>\n",
              "    <tr>\n",
              "      <th>min</th>\n",
              "      <td>150.000000</td>\n",
              "    </tr>\n",
              "    <tr>\n",
              "      <th>25%</th>\n",
              "      <td>165.000000</td>\n",
              "    </tr>\n",
              "    <tr>\n",
              "      <th>50%</th>\n",
              "      <td>171.000000</td>\n",
              "    </tr>\n",
              "    <tr>\n",
              "      <th>75%</th>\n",
              "      <td>180.000000</td>\n",
              "    </tr>\n",
              "    <tr>\n",
              "      <th>max</th>\n",
              "      <td>200.000000</td>\n",
              "    </tr>\n",
              "  </tbody>\n",
              "</table>\n",
              "</div><br><label><b>dtype:</b> float64</label>"
            ]
          },
          "metadata": {},
          "execution_count": 297
        }
      ]
    },
    {
      "cell_type": "markdown",
      "source": [
        "(i) Usando a distribuição t de Student, calcule um intervalo de confiança\n",
        "no nível de 95% para a altura média dos estudantes da universidade"
      ],
      "metadata": {
        "id": "unl42QMQBSAf"
      }
    },
    {
      "cell_type": "code",
      "source": [
        "# intervalo de confianca para altura média! USANDO t de student.\n",
        "from scipy.stats import t, norm\n",
        "\n",
        "mu_x = df_height.mean()\n",
        "n = df_height.shape[0]\n",
        "s = df_height.std(ddof=1) # correcao de bessel\n",
        "std_x = s / np.sqrt(n)\n",
        "\n",
        "'''\n",
        "t_score = -t.ppf((1-0.95)/2, df=n-1)\n",
        "interval_ = [mu_x - t_score * std_x, mu_x + t_score * std_x]\n",
        "print(interval_)\n",
        "'''\n",
        "\n",
        "interval = t.interval(confidence=0.95,loc=mu_x,scale=std_x,df=n-1)\n",
        "print([float(interval[0]), float(interval[1])])\n"
      ],
      "metadata": {
        "id": "4kbiuKDOBRaz",
        "colab": {
          "base_uri": "https://localhost:8080/"
        },
        "outputId": "3a5e025f-fb42-4b34-c27c-5875c4ab7982"
      },
      "execution_count": 245,
      "outputs": [
        {
          "output_type": "stream",
          "name": "stdout",
          "text": [
            "[171.12067712974718, 173.641045358291]\n"
          ]
        }
      ]
    },
    {
      "cell_type": "markdown",
      "source": [
        "(ii) Construa outro intervalo de confiança, desta vez usando o z-score (em\n",
        "vez do t-score que você usou anteriormente)."
      ],
      "metadata": {
        "id": "WusEYwkdCK2S"
      }
    },
    {
      "cell_type": "code",
      "source": [
        "interval = st.norm.interval(confidence=0.95,loc=mu_x,scale=std_x)\n",
        "print([float(interval[0]), float(interval[1])])"
      ],
      "metadata": {
        "id": "6BzjNLVeCL1s",
        "colab": {
          "base_uri": "https://localhost:8080/"
        },
        "outputId": "98c17c18-6e15-4bc2-9bb8-d301fe3e47ff"
      },
      "execution_count": 246,
      "outputs": [
        {
          "output_type": "stream",
          "name": "stdout",
          "text": [
            "[171.12713958783544, 173.63458290020273]\n"
          ]
        }
      ]
    },
    {
      "cell_type": "markdown",
      "source": [
        "(iii) Apresente uma análise comparativa dos dois intervalos de confiança\n",
        "obtidos."
      ],
      "metadata": {
        "id": "_agdig9ICXVf"
      }
    },
    {
      "cell_type": "code",
      "source": [
        "x = np.linspace(mu_x - 5*std_x, mu_x + 5*std_x, 1000)\n",
        "\n",
        "t_dist_df1 = t.pdf(x, df=1, loc=mu_x, scale=std_x)\n",
        "t_dist = t.pdf(x, df=n-1, loc=mu_x, scale=std_x)\n",
        "norm_dist = norm.pdf(x, loc=mu_x, scale=std_x)\n",
        "\n",
        "plt.plot(x, t_dist_df1, color='black', label='t-distribution (df=1)')\n",
        "plt.plot(x, t_dist, color='blue', label=f't-distribution (df={n-1})')\n",
        "plt.plot(x, norm_dist, color='red', linestyle='dashed', label='Normal distribution')\n",
        "\n",
        "plt.axvline(interval[0], color='gray', linestyle='--', label='Limites do IC')\n",
        "plt.axvline(interval[1], color='gray', linestyle='--')\n",
        "\n",
        "plt.title(\"Distribuições t x Normal (altura média)\")\n",
        "plt.xlabel(\"Altura\")\n",
        "plt.ylabel(\"Densidade\")\n",
        "plt.legend()\n",
        "plt.show()"
      ],
      "metadata": {
        "id": "bV-JZAIlpJ0E",
        "outputId": "366118b1-4912-4864-fc7d-2d4a26d865e0",
        "colab": {
          "base_uri": "https://localhost:8080/",
          "height": 472
        }
      },
      "execution_count": 278,
      "outputs": [
        {
          "output_type": "display_data",
          "data": {
            "text/plain": [
              "<Figure size 640x480 with 1 Axes>"
            ],
            "image/png": "[encoded data removed]"
          },
          "metadata": {}
        }
      ]
    },
    {
      "cell_type": "markdown",
      "source": [
        "Nossa amostra é grande o suficiente para que o TLC garanta a convergência da média para a média populacional. E com isso não é necessário se atentar quanto a normalidade da distribuição da qual a amostra foi retirada.\n",
        "\n",
        "A t de Student é especialmente útil quando o tamanho da amostra é pequeno. Utilizando a distribuição t, estamos levando em consideração a incerteza  introduzida pela estimação do desvio padrão da população a partir da amostra.\n",
        "\n",
        "Ainda assim, para amostras grandes, a distribuição t se aproxima demais da normal, e os dois testes se tornam praticamente equivalentes."
      ],
      "metadata": {
        "id": "w4wwsJlgo8rr"
      }
    },
    {
      "cell_type": "markdown",
      "source": [
        "#6) Intervalo de confiança para proporção\n",
        "Nesta parte do trabalho, você deve considerar a mesma amostra contida\n",
        "no conjunto de dados survey. Dessa vez, você deve produzir um intervalo\n",
        "de confiança para a proporção de alunos da universidade que são canhotos.\n",
        "Sendo assim, dessa vez a coluna de interesse é W.Hnd."
      ],
      "metadata": {
        "id": "qNTqKvujCQ99"
      }
    },
    {
      "cell_type": "code",
      "source": [
        "df_hand = df[\"W.Hnd\"]\n",
        "df_hand.count()"
      ],
      "metadata": {
        "id": "JtKc33-zChqN",
        "colab": {
          "base_uri": "https://localhost:8080/"
        },
        "outputId": "0dffa4e1-d2ce-4446-beef-c92206b533fc"
      },
      "execution_count": 298,
      "outputs": [
        {
          "output_type": "execute_result",
          "data": {
            "text/plain": [
              "np.int64(236)"
            ]
          },
          "metadata": {},
          "execution_count": 298
        }
      ]
    },
    {
      "cell_type": "code",
      "source": [
        "df_hand.dropna()\n",
        "df_hand.describe() # variavel categorica binaria!"
      ],
      "metadata": {
        "id": "uhqhGvdmyr1K",
        "outputId": "d9971fbd-ef31-41eb-e091-43cf659d6f40",
        "colab": {
          "base_uri": "https://localhost:8080/",
          "height": 209
        }
      },
      "execution_count": 299,
      "outputs": [
        {
          "output_type": "execute_result",
          "data": {
            "text/plain": [
              "count       236\n",
              "unique        2\n",
              "top       Right\n",
              "freq        218\n",
              "Name: W.Hnd, dtype: object"
            ],
            "text/html": [
              "<div>\n",
              "<style scoped>\n",
              "    .dataframe tbody tr th:only-of-type {\n",
              "        vertical-align: middle;\n",
              "    }\n",
              "\n",
              "    .dataframe tbody tr th {\n",
              "        vertical-align: top;\n",
              "    }\n",
              "\n",
              "    .dataframe thead th {\n",
              "        text-align: right;\n",
              "    }\n",
              "</style>\n",
              "<table border=\"1\" class=\"dataframe\">\n",
              "  <thead>\n",
              "    <tr style=\"text-align: right;\">\n",
              "      <th></th>\n",
              "      <th>W.Hnd</th>\n",
              "    </tr>\n",
              "  </thead>\n",
              "  <tbody>\n",
              "    <tr>\n",
              "      <th>count</th>\n",
              "      <td>236</td>\n",
              "    </tr>\n",
              "    <tr>\n",
              "      <th>unique</th>\n",
              "      <td>2</td>\n",
              "    </tr>\n",
              "    <tr>\n",
              "      <th>top</th>\n",
              "      <td>Right</td>\n",
              "    </tr>\n",
              "    <tr>\n",
              "      <th>freq</th>\n",
              "      <td>218</td>\n",
              "    </tr>\n",
              "  </tbody>\n",
              "</table>\n",
              "</div><br><label><b>dtype:</b> object</label>"
            ]
          },
          "metadata": {},
          "execution_count": 299
        }
      ]
    },
    {
      "cell_type": "markdown",
      "source": [
        "(i) Primeiramente, se certifique de que existem pelo menos 10 estudantes destros e pelo menos 10 estudantes canhotos, para que você possa realizar a construção do intervalo de confiança de forma satisfatória."
      ],
      "metadata": {
        "id": "WkqLtYn2y6f2"
      }
    },
    {
      "cell_type": "code",
      "source": [],
      "metadata": {
        "id": "-qczT1Qcy-Xv"
      },
      "execution_count": null,
      "outputs": []
    },
    {
      "cell_type": "markdown",
      "source": [
        "(ii) Produza o intervalo de confiança solicitado, usando o nível de confiança 90%. Junto com o resultado, forneça também uma análise."
      ],
      "metadata": {
        "id": "y2WT3EwKCifp"
      }
    },
    {
      "cell_type": "code",
      "source": [],
      "metadata": {
        "id": "_55Fx7vSCklS"
      },
      "execution_count": null,
      "outputs": []
    },
    {
      "cell_type": "markdown",
      "source": [
        "## resposta aqui"
      ],
      "metadata": {
        "id": "jrUMZYqoClHe"
      }
    },
    {
      "cell_type": "markdown",
      "source": [
        "(iii) Produza o intervalo de confiança solicitado, usando o nível de confiança 95%. Junto com o resultado, forneça também uma análise e compare\n",
        "com o resultado obtido no item anterior."
      ],
      "metadata": {
        "id": "qWFCL0apCpNU"
      }
    },
    {
      "cell_type": "code",
      "source": [],
      "metadata": {
        "id": "It9k5w-kC1oj"
      },
      "execution_count": null,
      "outputs": []
    },
    {
      "cell_type": "markdown",
      "source": [
        "# analise aqui"
      ],
      "metadata": {
        "id": "ar_z7qvWC3NX"
      }
    },
    {
      "cell_type": "markdown",
      "source": [
        "(iv) Repita os itens (i), (ii) e (iii), desta vez considerando o atributo Sex."
      ],
      "metadata": {
        "id": "Vueh6veUCs5P"
      }
    },
    {
      "cell_type": "code",
      "source": [],
      "metadata": {
        "id": "1fD2OTzVCxWj"
      },
      "execution_count": null,
      "outputs": []
    },
    {
      "cell_type": "markdown",
      "source": [
        "v) A amostra correspondente ao conjunto de dados survey tem tamanho\n",
        "suficiente para produzir um intervalo de confiança para a característica\n",
        "Sexo (coluna Sexo) com um erro amostral de 2 pontos percentuais?\n",
        "Se sim, construa esse intervalo de confiança usando nível de confiança\n",
        "90%. Se não, explique."
      ],
      "metadata": {
        "id": "3U7P0obBCwc5"
      }
    },
    {
      "cell_type": "markdown",
      "source": [
        "## reposta aqui"
      ],
      "metadata": {
        "id": "TpbWj0IaC6qq"
      }
    },
    {
      "cell_type": "code",
      "source": [],
      "metadata": {
        "id": "Irlin5Z3C8Rs"
      },
      "execution_count": null,
      "outputs": []
    }
  ]
}