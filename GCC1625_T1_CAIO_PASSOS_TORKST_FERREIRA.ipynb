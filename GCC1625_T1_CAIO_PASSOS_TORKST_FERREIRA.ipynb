{
  "nbformat": 4,
  "nbformat_minor": 0,
  "metadata": {
    "colab": {
      "provenance": [],
      "authorship_tag": "ABX9TyMateLIWa+4lgdM/b3GtJt/",
      "include_colab_link": true
    },
    "kernelspec": {
      "name": "python3",
      "display_name": "Python 3"
    },
    "language_info": {
      "name": "python"
    }
  },
  "cells": [
    {
      "cell_type": "markdown",
      "metadata": {
        "id": "view-in-github",
        "colab_type": "text"
      },
      "source": [
        "<a href=\"https://colab.research.google.com/github/stepsbtw/Statistical-Inference/blob/main/GCC1625_T1_CAIO_PASSOS_TORKST_FERREIRA.ipynb\" target=\"_parent\"><img src=\"https://colab.research.google.com/assets/colab-badge.svg\" alt=\"Open In Colab\"/></a>"
      ]
    },
    {
      "cell_type": "markdown",
      "source": [
        "#1) Páginas de livros didáticos\n",
        "Considere uma população de **livros didáticos** com aproximadamente o mesmo tamanho físico. Nessa população, considere que a característica (isto é, a variável) de interesse é a quantidade de páginas contida em cada livro. Sendo assim, a população subjacente corresponde a um conjunto de valores numéricos inteiros positivos (correspondentes à quantidade de páginas de cada livro)."
      ],
      "metadata": {
        "id": "Rz92DeOUA4tM"
      }
    },
    {
      "cell_type": "markdown",
      "source": [
        "Nesta parte do trabalho, você irá abordar a situação descrita acima como um problema de **Probabilidade**, e não como um problema de Estatística. Em um problema de Probabilidade, normalmente supõe-se que é conhecida a distribuição da população (o que não acontece em um problema de Estatística). Assim, considere que a variável aleatória correspondente é a quantidade de páginas em um livro da população, e que essa variável segue uma **distribuição uniforme discreta** nos inteiros de 150 até 300. Isso significa que um livro pode ter no mínimo 150 e no máximo 300 páginas, com igual **probabilidade** para qualquer quantidade de páginas nesse intervalo."
      ],
      "metadata": {
        "id": "EwttysskCGB3"
      }
    },
    {
      "cell_type": "markdown",
      "source": [
        "(i) Esboce um gráfico (histograma) da distribuição da população com relação à característica quantidade de páginas. Dica: observe que esta população é modelada por uma **distribuição discreta uniforme.**"
      ],
      "metadata": {
        "id": "607APQfMFhVw"
      }
    },
    {
      "cell_type": "code",
      "source": [
        "import numpy as np\n",
        "import matplotlib.pyplot as plt\n",
        "\n",
        "page_min = 150\n",
        "page_max = 300\n",
        "population_size = 100\n",
        "\n",
        "rng = np.random.default_rng()\n",
        "population_pages = rng.integers(page_min, page_max+1, size=population_size) # distribuicao uniforme de inteiros.\n",
        "\n",
        "plt.hist(population_pages, edgecolor=\"black\")\n",
        "plt.title(\"População de Livros\")\n",
        "plt.xlabel(\"Quantidade de Páginas\")\n",
        "plt.ylabel(\"Quantidade de Livros\")\n",
        "plt.show()"
      ],
      "metadata": {
        "colab": {
          "base_uri": "https://localhost:8080/",
          "height": 472
        },
        "id": "Oci2vMAGF_Qz",
        "outputId": "f90e9c97-ea87-4b6f-9a76-ac28c348c2d4"
      },
      "execution_count": 56,
      "outputs": [
        {
          "output_type": "display_data",
          "data": {
            "text/plain": [
              "<Figure size 640x480 with 1 Axes>"
            ],
            "image/png": "[encoded data removed]"
          },
          "metadata": {}
        }
      ]
    },
    {
      "cell_type": "markdown",
      "source": [
        "(ii) Encontre a média (μ), a variância (σ²) e o desvio padrão (σ) da distribuição da população. Dica: use as fórmulas da distribuição uniforme discreta."
      ],
      "metadata": {
        "id": "PHLyAj2EIv9M"
      }
    },
    {
      "cell_type": "code",
      "source": [
        "mean = (page_min + page_max)/2\n",
        "var = ((page_max - page_min + 1)**2 - 1) / 12\n",
        "std = np.sqrt(var)\n",
        "\n",
        "print(f\"Média Populacional : μ = {mean}\")\n",
        "print(f\"Variância Populacional : σ² = {var}\")\n",
        "print(f\"Desvio Padrão Populacional : σ = {std}\")"
      ],
      "metadata": {
        "colab": {
          "base_uri": "https://localhost:8080/"
        },
        "id": "esGyQPPKJCAG",
        "outputId": "14299d86-7eb1-467c-ba53-f84b5d702b35"
      },
      "execution_count": 57,
      "outputs": [
        {
          "output_type": "stream",
          "name": "stdout",
          "text": [
            "Média Populacional : μ = 225.0\n",
            "Variância Populacional : σ² = 1900.0\n",
            "Desvio Padrão Populacional : σ = 43.58898943540674\n"
          ]
        }
      ]
    },
    {
      "cell_type": "markdown",
      "source": [
        "(iii) Considere que o plano amostral utilizado é uma **amostragem aleatória simples com reposição** (simple random sample with replacement). Considere tomar **amostras de tamanho 2** dessa população e calcular a **média de cada amostra**. Para cada amostra, você terá uma estatística pontual (a média amostral x). Ao gerar **todas** as possíveis amostras aleatórias de tamanho 2, a distribuição de todas essas médias constitui a **distribuição amostral da média** (sampling distribution of the sample mean) para n = 2.\n",
        "\n",
        "- Primeiro, implemente uma função que gere todas as possíveis amostras de tamanho 2 com reposição, e compute a média de cada uma. Por exemplo, para as amostras (200, 200) e (300, 250), as médias seriam 200 e 275, respectivamente. Note que diferentes amostras podem produzir a mesma média (como, por exemplo, (250, 300), (275, 275), (280, 270), etc.).\n",
        "\n",
        "- Em seguida, usando os valores das médias obtidas, esboce um histograma da distribuição amostral da média."
      ],
      "metadata": {
        "id": "sP2xku_yK96w"
      }
    },
    {
      "cell_type": "code",
      "source": [
        "import itertools\n",
        "\n",
        "sample_size = 2\n",
        "\n",
        "# distribuicao amostral teorica\n",
        "def sampling_means(population):\n",
        "  # samples =\n",
        "  samples = list(itertools.product(population, repeat=2)) # n^2\n",
        "  return [(x1 + x2)/2 for x1, x2 in samples]\n",
        "\n",
        "sample_means = sampling_means(population_pages)\n",
        "\n",
        "plt.hist(sample_means, edgecolor=\"black\",bins=30)\n",
        "plt.title(\"Distribuição Amostral da Média (n=2)\")\n",
        "plt.xlabel(\"Média de páginas por amostra\")\n",
        "plt.ylabel(\"Frequência\")\n",
        "plt.show()\n"
      ],
      "metadata": {
        "colab": {
          "base_uri": "https://localhost:8080/",
          "height": 473
        },
        "id": "BxOj95wELU5N",
        "outputId": "95364406-8d71-4cae-d3d1-7c068c432cc0"
      },
      "execution_count": 58,
      "outputs": [
        {
          "output_type": "display_data",
          "data": {
            "text/plain": [
              "<Figure size 640x480 with 1 Axes>"
            ],
            "image/png": "[encoded data removed]"
          },
          "metadata": {}
        }
      ]
    },
    {
      "cell_type": "markdown",
      "source": [
        "(iv) Calcule a **média** (μx), a **variância** (σ²x) e o **desvio padrão** (σx) da\n",
        "distribuição amostral obtida no item anterior.\n",
        "Dica: use as funções mean e var da sua linguagem de programação\n",
        "preferida (como Python ou R)."
      ],
      "metadata": {
        "id": "0lY_CUrtWzUi"
      }
    },
    {
      "cell_type": "code",
      "source": [
        "sampling_dist_mean = np.mean(sample_means)\n",
        "sampling_dist_var = np.var(sample_means)\n",
        "sampling_dist_std = np.std(sample_means)\n",
        "\n",
        "print(f\"Média da Distribuição Amostral da Média : μx = {mean}\")\n",
        "print(f\"Variância da Distribuição Amostral da Média : σ²x = {var}\")\n",
        "print(f\"Desvio Padrão da Distribuição Amostral da Média : σx = {std}\")"
      ],
      "metadata": {
        "colab": {
          "base_uri": "https://localhost:8080/"
        },
        "id": "vKnvqVtnVjUf",
        "outputId": "2e76952e-ed0c-4953-dadd-2b9d646248ca"
      },
      "execution_count": 59,
      "outputs": [
        {
          "output_type": "stream",
          "name": "stdout",
          "text": [
            "Média da Distribuição Amostral da Média : μx = 225.0\n",
            "Variância da Distribuição Amostral da Média : σ²x = 1900.0\n",
            "Desvio Padrão da Distribuição Amostral da Média : σx = 43.58898943540674\n"
          ]
        }
      ]
    },
    {
      "cell_type": "markdown",
      "source": [
        "(v) O **Teorema Central do Limite** fornece expressões teóricas para os\n",
        "valores esperados da média e do desvio padrão da distribuição amostral\n",
        "da média x. Use essa teoria e os valores do item (ii) para calcular esses\n",
        "parâmetros no caso de n = 2, e compare com os resultados obtidos no\n",
        "item (iv)."
      ],
      "metadata": {
        "id": "kC9N8uE2XCa3"
      }
    },
    {
      "cell_type": "code",
      "source": [
        "# pelo CLT, quanto n->inf:\n",
        "sampling_dist_mean = mean\n",
        "sampling_dist_std = std/np.sqrt(sample_size)\n",
        "\n",
        "print(f\"Pelo CLT -> μx = μ : {sampling_dist_mean}\")\n",
        "print(f\"Pelo CLT -> σx = σ/sqrt(n) : {sampling_dist_std}\")"
      ],
      "metadata": {
        "colab": {
          "base_uri": "https://localhost:8080/"
        },
        "id": "djrhko-FXN7O",
        "outputId": "0c68c152-ffbf-4ca3-cfcb-24468ed22adf"
      },
      "execution_count": 60,
      "outputs": [
        {
          "output_type": "stream",
          "name": "stdout",
          "text": [
            "Pelo CLT -> μx = μ : 225.0\n",
            "Pelo CLT -> σx = σ/sqrt(n) : 30.822070014844883\n"
          ]
        }
      ]
    },
    {
      "cell_type": "markdown",
      "source": [
        "(vi) Agora, suponha que desejamos estudar a distribuição amostral da média para amostras de tamanho n = 9.\n",
        "\n",
        "a) Quantas amostras diferentes de tamanho 9 podem ser geradas a\n",
        "partir da população? Essa tarefa é viável de ser feita manualmente ou com auxílio computacional?"
      ],
      "metadata": {
        "id": "WC97ckVZbAaU"
      }
    },
    {
      "cell_type": "code",
      "source": [
        "population_size**9"
      ],
      "metadata": {
        "colab": {
          "base_uri": "https://localhost:8080/"
        },
        "id": "J-liFWb9bFim",
        "outputId": "4f6deada-07b0-4724-8b63-192c01c5a3af"
      },
      "execution_count": 61,
      "outputs": [
        {
          "output_type": "execute_result",
          "data": {
            "text/plain": [
              "1000000000000000000"
            ]
          },
          "metadata": {},
          "execution_count": 61
        }
      ]
    },
    {
      "cell_type": "markdown",
      "source": [
        "Não é viável manualmente, e nem computacionalmente. (Talvez um dia, com computadores quânticos.)"
      ],
      "metadata": {
        "id": "HQktpgBwbk7o"
      }
    },
    {
      "cell_type": "markdown",
      "source": [
        "(b) Gere uma distribuição amostral empírica da média (uma aproximação da distribuição teórica) para n = 9.\n",
        "Dica: gere uma grande quantidade de amostras aleatórias e construa um histograma com as médias amostrais obtidas."
      ],
      "metadata": {
        "id": "EMGpszGZcoYq"
      }
    },
    {
      "cell_type": "code",
      "source": [
        "n = 9\n",
        "N = 1000000\n",
        "\n",
        "#samples = [rng.choice(population_pages,size=n) for _ in range(N)]\n",
        "#sample_means = [np.mean(sample) for sample in samples]\n",
        "samples = rng.choice(population_pages, size=(N,n), replace=True)\n",
        "sample_means = samples.mean(axis=1)\n",
        "\n",
        "plt.hist(sample_means, edgecolor=\"black\",bins=30)\n",
        "plt.title(\"Distribuição Amostral Empírica da Média (n=9)\")\n",
        "plt.xlabel(\"Média de páginas por amostra\")\n",
        "plt.ylabel(\"Frequência\")\n",
        "plt.show()\n",
        "\n",
        "sampling_dist = sample_means.mean()\n",
        "sampling_std = sample_means.std()\n",
        "\n",
        "estimated_std = sampling_std * np.sqrt(n)\n",
        "print(f\"Média da distribuição, aproximadamente a Populacional = {sampling_dist}\")\n",
        "print(f\"Desvio Padrão da distribuição = {sampling_std}\")\n",
        "print(f\"Desvio Padrão estimado da População = {estimated_std}\")"
      ],
      "metadata": {
        "colab": {
          "base_uri": "https://localhost:8080/",
          "height": 526
        },
        "id": "2sn9gSEdcpl-",
        "outputId": "d720091b-59e4-4959-f88a-af58b644d2fd"
      },
      "execution_count": 62,
      "outputs": [
        {
          "output_type": "display_data",
          "data": {
            "text/plain": [
              "<Figure size 640x480 with 1 Axes>"
            ],
            "image/png": "[encoded data removed]"
          },
          "metadata": {}
        },
        {
          "output_type": "stream",
          "name": "stdout",
          "text": [
            "Média da distribuição, aproximadamente a Populacional = 228.30199600000017\n",
            "Desvio Padrão da distribuição = 14.54015637055467\n",
            "Desvio Padrão estimado da População = 43.62046911166401\n"
          ]
        }
      ]
    },
    {
      "cell_type": "markdown",
      "source": [
        "#2) Problema dos tanques alemães\n",
        "Durante um conflito fictício, o serviço de inteligência de um país deseja estimar a quantidade total de veículos blindados produzidos por um país adversário. Esses veículos são numerados sequencialmente a partir de 1 (por exemplo: 1, 2, 3, ..., N ), e alguns deles foram capturados no campo de\n",
        "batalha."
      ],
      "metadata": {
        "id": "hrKxm2xM9Hro"
      }
    },
    {
      "cell_type": "markdown",
      "source": [
        "Suponha que foram capturados aleatoriamente k = 5 tanques com os\n",
        "seguintes números de série:\n",
        "{17, 32, 45, 59, 88}\n",
        "\n",
        "**Objetivo:** estimar o número total N de tanques produzidos pelo inimigo,\n",
        "usando métodos estatísticos apropriados."
      ],
      "metadata": {
        "id": "Eq2Or1or9d0q"
      }
    },
    {
      "cell_type": "markdown",
      "source": [
        "(i) Apresente uma estimativa pontual de N com base na amostra coletada,\n",
        "usando o seguinte estimador clássico:\n",
        "\n",
        "𝑁̂ = 𝑀 + (𝑀/𝑘) -1\n",
        "\n",
        "onde M é o maior número observado na amostra, e k é o tamanho da\n",
        "amostra."
      ],
      "metadata": {
        "id": "rhDX8DAT9tYf"
      }
    },
    {
      "cell_type": "code",
      "source": [
        "sample = [17,32,45,59,88]\n",
        "M = max(sample)\n",
        "k = len(sample)\n",
        "N_hat = M + (M/k) -1\n",
        "\n",
        "print(int(N_hat))"
      ],
      "metadata": {
        "colab": {
          "base_uri": "https://localhost:8080/"
        },
        "id": "SnMxTeBsAOlb",
        "outputId": "778731e7-a52c-4934-ecc6-3d6c7031198d"
      },
      "execution_count": 63,
      "outputs": [
        {
          "output_type": "stream",
          "name": "stdout",
          "text": [
            "104\n"
          ]
        }
      ]
    },
    {
      "cell_type": "markdown",
      "source": [
        "(ii) Implemente (ou descreva) uma simulação computacional que reproduza\n",
        "o processo de amostragem aleatória de 𝑘 = 5 tanques a partir de uma\n",
        "população com N = 100 tanques numerados sequencialmente. Repita\n",
        "esse processo muitas vezes (por exemplo, 10.000 vezes) e registre as\n",
        "estimativas 𝑁̂ em cada simulação."
      ],
      "metadata": {
        "id": "dg0P5MQjBG0O"
      }
    },
    {
      "cell_type": "code",
      "source": [
        "import numpy as np\n",
        "import matplotlib.pyplot as plt\n",
        "\n",
        "N_tanks = 100\n",
        "k = 5 # size of sample\n",
        "N_samples = 10000\n",
        "\n",
        "tanks_population = np.arange(1,N_tanks+1)\n",
        "\n",
        "rng = np.random.default_rng()\n",
        "\n",
        "samples = np.array([rng.choice(tanks_population, k, replace=False) for _ in range(N_samples)])\n",
        "#samples = rng.choice(tanks_population, size=(N_samples,k))\n",
        "\n",
        "M = samples.max(axis=1)\n",
        "N_hats = M + (M/k) -1"
      ],
      "metadata": {
        "id": "MyAkE-ksBXas"
      },
      "execution_count": 68,
      "outputs": []
    },
    {
      "cell_type": "markdown",
      "source": [
        "(iii) Construa um histograma com as estimativas obtidas na simulação do\n",
        "item anterior e analise o comportamento do estimador 𝑁̂. Ele é viesado? Subestima ou superestima frequentemente o verdadeiro valor de\n",
        "𝑁 ?"
      ],
      "metadata": {
        "id": "ZVZfW-nKR538"
      }
    },
    {
      "cell_type": "code",
      "source": [
        "plt.hist(N_hats,edgecolor=\"black\",bins=20)\n",
        "plt.title(\"Estimativas para o Número de Tanques da População (k=5)\")\n",
        "plt.xlabel(\"Valores de N_hat\")\n",
        "plt.xticks(range(10,130,10))\n",
        "plt.ylabel(\"Frequência\")\n",
        "plt.axvline(x=100, color='red', linestyle='--', linewidth=2, label='Valor verdadeiro de N')\n",
        "plt.legend()\n",
        "plt.show()"
      ],
      "metadata": {
        "colab": {
          "base_uri": "https://localhost:8080/",
          "height": 472
        },
        "id": "N1EDw3dsSIMb",
        "outputId": "a888e473-e6da-4dc5-a0ab-36ebfa74f6d5"
      },
      "execution_count": 69,
      "outputs": [
        {
          "output_type": "display_data",
          "data": {
            "text/plain": [
              "<Figure size 640x480 with 1 Axes>"
            ],
            "image/png": "[encoded data removed]"
          },
          "metadata": {}
        }
      ]
    },
    {
      "cell_type": "markdown",
      "source": [
        "O estimador não é viesado, o valor esperado aproxima bem o parâmetro, não só subestima como também superestima o valor, o que acaba convergindo a um ponto central, em média.\n",
        "\n",
        "É importante destacar que o formato do histograma pode enganar em relação ao viés, pois essa distribuição, apesar de assimétrica, tem a média centrada pois suas caudas se balanceiam."
      ],
      "metadata": {
        "id": "xcRb9975aQlK"
      }
    },
    {
      "cell_type": "markdown",
      "source": [
        "(iv) Calcule a média, a variância e o desvio padrão das estimativas geradas pela simulação. Compare com o valor real de N = 100 e discuta os\n",
        "resultados."
      ],
      "metadata": {
        "id": "8EoEDOKMdiML"
      }
    },
    {
      "cell_type": "code",
      "source": [
        "print(f\"Média k=5: {N_hats.mean()}\")\n",
        "print(f\"Variância k=5: {N_hats.var()}\")\n",
        "print(f\"Desvio Padrão k=5: {N_hats.std()}\")\n",
        "print(f\"Precisão k=5: {1/N_hats.var()}\")"
      ],
      "metadata": {
        "colab": {
          "base_uri": "https://localhost:8080/"
        },
        "id": "CBGeCmRFdoeZ",
        "outputId": "4aca698d-6240-4c29-e3ef-5274ded1cfc6"
      },
      "execution_count": 70,
      "outputs": [
        {
          "output_type": "stream",
          "name": "stdout",
          "text": [
            "Média: 99.83924000000002\n",
            "Variância: 274.24545222240005\n",
            "Desvio Padrão: 16.56035785309001\n",
            "Precisão: 0.003646368579301171\n"
          ]
        }
      ]
    },
    {
      "cell_type": "markdown",
      "source": [
        "A média das estimativas N_hat geradas pela simulação estão próximas do parâmetro N, mostra que o estimador não é enviesado.\n",
        "\n",
        "Porém, a alta variância e desvio padrão mostram que o estimador tem baixa precisão."
      ],
      "metadata": {
        "id": "L2kDwTy5eD9m"
      }
    },
    {
      "cell_type": "markdown",
      "source": [
        "(v) Agora, repita a simulação para diferentes tamanhos de amostra (k =\n",
        "2, 5, 10, 20). Como o tamanho da amostra influencia a qualidade da\n",
        "estimativa de N ?"
      ],
      "metadata": {
        "id": "7jJsfQ1Qv_MB"
      }
    },
    {
      "cell_type": "code",
      "source": [
        "k_vals = [2,5,10,20]\n",
        "samples = [rng.choice(tanks_population, size=(N_samples,k)) for k in k_vals]\n",
        "M_vals = [sample.max(axis=1) for sample in samples]\n",
        "\n",
        "#N_hats = [M_vals[i] + M_vals[i]/k_vals[i] -1 for i in range(len(k_vals))]\n",
        "N_hats = [(M + M/k -1) for M, k in zip(M_vals, k_vals)]\n",
        "\n",
        "sampling_dist_mean = [np.mean(N_hat) for N_hat in N_hats]\n",
        "sampling_dist_std = [np.std(N_hat) for N_hat in N_hats]\n",
        "\n",
        "for i in range(len(k_vals)):\n",
        "  print(f\"Tamanho da amostra k = {k_vals[i]}\")\n",
        "  print(f\"Média das estimativas de N = {sampling_dist_mean[i]}\")\n",
        "  print(f\"Desvio Padrao das estimativas de N = {sampling_dist_std[i]}\\n\")\n",
        "\n",
        "fig, axs = plt.subplots(1,len(k_vals),figsize=(15,4))\n",
        "for i in range(len(k_vals)):\n",
        "  axs[i].hist(N_hats[i],edgecolor=\"black\",bins=20)\n",
        "  axs[i].set_title(f\"k = {k_vals[i]}\")\n",
        "  axs[i].set_xlabel(\"Estimativas de N\")\n",
        "  axs[i].set_ylabel(\"Frequencia\")\n",
        "  axs[i].set_xticks(range(40,150,20))\n",
        "\n",
        "plt.tight_layout()\n",
        "plt.show()"
      ],
      "metadata": {
        "colab": {
          "base_uri": "https://localhost:8080/",
          "height": 692
        },
        "id": "qjR8Qj2vyCPS",
        "outputId": "3dc3e470-5d32-47b2-b3c8-48278fab14e2"
      },
      "execution_count": 78,
      "outputs": [
        {
          "output_type": "stream",
          "name": "stdout",
          "text": [
            "Tamanho da amostra k = 2\n",
            "Média das estimativas de N = 99.65885\n",
            "Desvio Padrao das estimativas de N = 35.5670998491232\n",
            "\n",
            "Tamanho da amostra k = 5\n",
            "Média das estimativas de N = 99.63452\n",
            "Desvio Padrao das estimativas de N = 16.91729695813134\n",
            "\n",
            "Tamanho da amostra k = 10\n",
            "Média das estimativas de N = 99.67408999999999\n",
            "Desvio Padrao das estimativas de N = 9.054524928006991\n",
            "\n",
            "Tamanho da amostra k = 20\n",
            "Média das estimativas de N = 99.543275\n",
            "Desvio Padrao das estimativas de N = 4.6963672156652105\n",
            "\n"
          ]
        },
        {
          "output_type": "display_data",
          "data": {
            "text/plain": [
              "<Figure size 1500x400 with 4 Axes>"
            ],
            "image/png": "[encoded data removed]"
          },
          "metadata": {}
        }
      ]
    },
    {
      "cell_type": "markdown",
      "source": [
        "Com um tamanho de amostras muito pequenas, os valores ficam mais \"espalhados\", a variância é maior e, consequentemente, a precisão menor.\n",
        "\n",
        "Portanto, para ter uma estimativa de melhor qualidade com menor quantidade de amostras, precisamos que as amostras tenham um tamanho maior."
      ],
      "metadata": {
        "id": "1RdJyXSDM6mL"
      }
    },
    {
      "cell_type": "markdown",
      "source": [
        "(vi) Proponha um intervalo de confiança para N com base nas simulações.\n",
        "Discuta se o verdadeiro valor (N = 100) costuma estar dentro do intervalo estimado."
      ],
      "metadata": {
        "id": "JDCM77RdN7ae"
      }
    },
    {
      "cell_type": "code",
      "source": [
        "import scipy.stats as st\n",
        "# INTERVALO DE CONFIANCA PARA TAMANHO DE AMOSTRAS PEQUENAS n<30 !\n",
        "# as amostras nao formam uma normal. nao posso usar t de student\n",
        "\n",
        "intervals = [np.percentile(N_hat,[2.5,97.5]) for N_hat in N_hats] # 95% de confiança\n",
        "print(f\"k=2 : {intervals[0]}\")\n",
        "print(f\"k=5 : {intervals[1]}\")\n",
        "print(f\"k=10 : {intervals[2]}\")\n",
        "print(f\"k=20 : {intervals[3]}\")"
      ],
      "metadata": {
        "colab": {
          "base_uri": "https://localhost:8080/"
        },
        "id": "W0Qg5fnCOFPc",
        "outputId": "6d45f19e-f9ee-4e46-e97d-f776a2e35834"
      },
      "execution_count": 92,
      "outputs": [
        {
          "output_type": "stream",
          "name": "stdout",
          "text": [
            "k=2 : [ 23.  147.5]\n",
            "k=5 : [ 56.6 119. ]\n",
            "k=10 : [ 76. 109.]\n",
            "k=20 : [ 87.2 104. ]\n"
          ]
        }
      ]
    },
    {
      "cell_type": "markdown",
      "source": [
        "Sim. Com 95% de confiança, o valor verdadeiro de N costuma estar dentro do intervalo estimado."
      ],
      "metadata": {
        "id": "0zNFsafKcdYH"
      }
    },
    {
      "cell_type": "markdown",
      "source": [
        "(vii) Contextualização histórica: Pesquise brevemente como esse problema\n",
        "foi utilizado durante a Segunda Guerra Mundial. Comece sua pesquisa\n",
        "pela entrada correspondente na Wikipedia. Quais foram as conclusões\n",
        "reais tiradas a partir dos números de série? Comente a importância\n",
        "histórica da inferência estatística nesse contexto"
      ],
      "metadata": {
        "id": "I1cM5izfSHWS"
      }
    },
    {
      "cell_type": "markdown",
      "source": [
        "### resposta aqui"
      ],
      "metadata": {
        "id": "tAjCaGZ-SO_H"
      }
    },
    {
      "cell_type": "markdown",
      "source": [
        "#3) Diferença de médias\n",
        "Considere que um pesquisador tenha desenvolvido um medicamento que supostamente melhora a memória. Considere duas populações hipotéticas: o\n",
        "desempenho das pessoas em um teste de memória se elas tiverem tomado o\n",
        "medicamento e o desempenho das pessoas se não tiverem. Suponha que a\n",
        "média (μ1) e a variância (σ²1) da distribuição das pessoas que tomam o medicamento sejam 50 e 25, respectivamente, e que a média (μ2) e a variância (σ²2) da distribuição das pessoas que não tomam o medicamento sejam 40 e 24, respectivamente. Segue-se que o medicamento, em média, melhora o desempenho no teste de memória em 10 pontos. Essa melhora de 10 pontos é para toda a população. Agora, considere a distribuição amostral da diferença entre as médias. Essa distribuição pode ser entendida pensando no seguinte plano amostral:"
      ],
      "metadata": {
        "id": "UYd6gHgxSSAU"
      }
    },
    {
      "cell_type": "markdown",
      "source": [
        "1. Produzir uma amostra de n1 escores da população de pessoas que tomam o medicamento e computar a média. Essa média será designada\n",
        "como M1."
      ],
      "metadata": {
        "id": "MO7eQV_OhInI"
      }
    },
    {
      "cell_type": "code",
      "source": [
        "import numpy as np\n",
        "# populacao q toma o medicamento\n",
        "mean_1 = 50\n",
        "var_1 = 25\n",
        "std_1 = np.sqrt(var_1)\n",
        "\n",
        "# amostra\n",
        "sample_size = 30\n",
        "rng = np.random.default_rng()\n",
        "sample_1 = rng.normal(loc=mean_1,scale=std_1,size=sample_size)\n",
        "M1 = sample_1.mean()\n",
        "print(sample_1)\n",
        "print(M1)"
      ],
      "metadata": {
        "id": "TkqRkksohSmx"
      },
      "execution_count": null,
      "outputs": []
    },
    {
      "cell_type": "markdown",
      "source": [
        "2. Em seguida, produzir uma amostra de n2 escores da população de pessoas que não tomam o medicamento e computar a média. Essa média será designada como M2."
      ],
      "metadata": {
        "id": "eKZSa70Fo2wS"
      }
    },
    {
      "cell_type": "code",
      "source": [
        "mean_2 = 40\n",
        "var_2 = 24\n",
        "std_2 = np.sqrt(var_2)\n",
        "\n",
        "sample_2 = rng.normal(loc=mean_2, scale=std_2, size=sample_size)\n",
        "M2 = sample_2.mean()\n",
        "print(sample_2)\n",
        "print(M2)"
      ],
      "metadata": {
        "id": "B9rn04cIo_wl"
      },
      "execution_count": null,
      "outputs": []
    },
    {
      "cell_type": "markdown",
      "source": [
        "3. Calcular a diferença entre M1 e M2. Essa diferença será chamada de\n",
        "Md, onde o d significa “diferença”. Esta é o estatística cuja distribuição\n",
        "amostral é de interesse."
      ],
      "metadata": {
        "id": "HFesHaTbqEfc"
      }
    },
    {
      "cell_type": "code",
      "source": [
        "Md = M1-M2 #interesse\n",
        "print(Md)"
      ],
      "metadata": {
        "id": "iwu3IvA_qJEf"
      },
      "execution_count": null,
      "outputs": []
    },
    {
      "cell_type": "markdown",
      "source": [
        "A distribuição amostral pode ser aproximada repetindo o plano amostral\n",
        "acima várias vezes e plotando os valores de Md. A distribuição de frequência (histograma) resultante seria uma aproximação da distribuição amostral. A média (μMd ) e a variância (σ²Md ) da distribuição amostral de Md são:\n",
        "\n",
        "- μMd = μ1 − μ2\n",
        "- σ²Md = σ²1/n1 + σ²2/n2"
      ],
      "metadata": {
        "id": "et7fQgW4qZM-"
      }
    },
    {
      "cell_type": "markdown",
      "source": [
        "(i) Utilizando o plano amostral descrito acima, produza um histograma\n",
        "que aproxima a distribuição amostral de Md. Dica: repita os passos\n",
        "do plano amostra descrito 10000 vezes. Em seguida, crie o histograma\n",
        "solicitado com os 10000 valores produzidos."
      ],
      "metadata": {
        "id": "Uj46LiiAsC0f"
      }
    },
    {
      "cell_type": "code",
      "source": [
        "N_samples = 10000\n",
        "# n1 = n2 = sample_size = 30\n",
        "samples = rng.normal(loc=mean_1-mean_2, scale=np.sqrt(std_1/len(sample_1) + std_2/len(sample_2)), size=N_samples)\n",
        "plt.hist(samples, edgecolor=\"black\",bins=30)\n",
        "plt.ylabel(\"Frequencia\")\n",
        "plt.xlabel(\"Diferença entre as medias\")\n",
        "plt.show()"
      ],
      "metadata": {
        "id": "Tqd6nnVUqlbA"
      },
      "execution_count": null,
      "outputs": []
    },
    {
      "cell_type": "markdown",
      "source": [
        "(ii) Usando a aproximação da distribuição amostral de Md obtida no item\n",
        "anterior, compute aproximações para a média e o desvio padrão dessa\n",
        "estatística. Os valores que você obteve são próximos aos fornecidos\n",
        "acima? Explique"
      ],
      "metadata": {
        "id": "1Qr4q8Aiz-aF"
      }
    },
    {
      "cell_type": "code",
      "source": [
        "Md_mean = samples.mean()\n",
        "Md_std = samples.std()\n",
        "\n",
        "print(f\"Média da distribuição amostral = {Md_mean}\")\n",
        "print(f\"Desvio Padrão da distribuição amostral = {Md_std}\")"
      ],
      "metadata": {
        "id": "MZ89bain0Gi2"
      },
      "execution_count": null,
      "outputs": []
    },
    {
      "cell_type": "markdown",
      "source": [
        "Sim, a média da distribuição amostral se aproxima da diferença em 10 que o medicamento faz no desempenho.\n",
        "\n",
        "O desvio padrão baixo também mostra o quão concentrado é a estimativa."
      ],
      "metadata": {
        "id": "LrhB_uC-7VPf"
      }
    },
    {
      "cell_type": "markdown",
      "source": [
        "(iii) Uma vez conhecidos a média e o erro padrão da distribuição amostral de uma estatística, é possível responder a diversas perguntas. Para o caso\n",
        "da estatística aqui mencionada (diferença entre as médias), responda\n",
        "a seguinte pergunta: Se um experimento com o medicamento para a\n",
        "memória descrito for realizado, qual é a probabilidade de a média do\n",
        "grupo de 10 sujeitos que receberam o medicamento ser 15 ou mais pontos\n",
        "maior do que a média dos 8 sujeitos que não receberam o medicamento?"
      ],
      "metadata": {
        "id": "obp-zQDD4uYY"
      }
    },
    {
      "cell_type": "code",
      "source": [
        "# z => ponto que delimita a area, a PROBABILIDADE!\n",
        "# z_score => quantos desvios padroes da media\n",
        "# \"STANDARDIZATION!\"\n",
        "\n",
        "n1 = 10\n",
        "n2 = 8\n",
        "# prob(mean_1 - mean_2 >= 15)\n"
      ],
      "metadata": {
        "id": "KqnWFFvk5cxT"
      },
      "execution_count": null,
      "outputs": []
    },
    {
      "cell_type": "markdown",
      "source": [],
      "metadata": {
        "id": "tOeMAkMR1WWs"
      }
    },
    {
      "cell_type": "markdown",
      "source": [
        "#4 Áudio ou texto?\n",
        "Imagine que você seja um candidato a emprego tentando apresentar suas habilidades a um recrutador em um processo seletivo de uma empresa. Em qual das duas condições abaixo você teria mais chances de conseguir o emprego?\n",
        "\n",
        "- você grava um áudio com um breve discurso descrevendo suas habilidades para o recrutador;\n",
        "- você escreve um breve texto para que o recrutador o leia.\n",
        "\n",
        "A questão de pesquisa acima foi levantada por Schroeder and Epley\n",
        "(2015). Nesse artigo, os autores concluíram que a maneira como uma pessoa\n",
        "fala (ou seja, tom vocal, cadência, etc.) comunica informações sobre seu intelecto melhor do que suas palavras escritas (mesmo que sejam as mesmas\n",
        "palavras usadas no discurso falado). Para examinar a questão de pesquisa descrita acima, os autores designaram aleatoriamente 39 recrutadores profissionais de empresas da Fortune 5003 para uma de duas condições.\n",
        "\n",
        "- Na condição de áudio, os participantes ouvem gravações de áudio do\n",
        "discurso falado de um candidato a emprego.\n",
        "- Na condição de transcrição, os participantes lêem uma transcrição do\n",
        "discurso do candidato a emprego.\n",
        "\n",
        "Depois de ouvir ou ler o discurso, os participantes classificaram os candidatos a emprego em três dimensões: inteligência, competência e foco. Essas classificações foram então usadas para criar uma única medida do intelecto do candidato, com pontuações mais altas indicando que os recrutadores classificaram os candidatos como superiores em intelecto. Os participantes também avaliaram sua impressão geral do candidato ao emprego (uma combinação de dois itens medindo impressões positivas e negativas). Por fim, os participantes indicaram qual o potencial de recomendar a contratação do candidato (0 - nada provável, 10 - extremamente provável).\n",
        "\n",
        "O conjunto de dados fornecido para realizar essa parte do trabalho está no\n",
        "arquivo SchroederEpley2015data.txt. Nesse conjunto de dados, há várias\n",
        "colunas. Contudo, há duas colunas de interesse para esta parte do trabalho.\n",
        "\n",
        "- a coluna CONDITION indica o condição à qual cada recrutador foi alocado. O valor 1 indica que o recrutador foi alocado na condição de\n",
        "áudio; O valor 0 indica que o recrutador foi alocado na condição de\n",
        "transcrição.\n",
        "- a coluna Intellect_Rating indica a avaliação que cada recrutador\n",
        "atribuiu ao candidato. Essa avaliação é um valor inteiro entre 0 e 10.\n",
        "Repare que a coluna CONDITION permite dividir a coleção de valores de\n",
        "avaliações em duas amostras distintas, que vamos chamar de Sa e de St.\n",
        "\n",
        "As amostras Sa e St correspondem aos valores de avaliação atribuídos por\n",
        "recrutadores nas condições de áudio e de transcrição, respectivamente.\n",
        "Agora, com base nas informações fornecidas acima, responda aos itens a\n",
        "seguir."
      ],
      "metadata": {
        "id": "-SXWgs-Z1M1P"
      }
    },
    {
      "cell_type": "markdown",
      "source": [
        "(i) Compute a média e o tamanho (quantidade de observações) tanto para\n",
        "Sa quanto St."
      ],
      "metadata": {
        "id": "GhlwI-vU2j7i"
      }
    },
    {
      "cell_type": "code",
      "source": [
        "import pandas as pd\n",
        "\n",
        "df = pd.read_csv(\"data/SchroederEpley2015data.txt\")\n",
        "df.head()\n",
        "#df.info()\n",
        "\n",
        "# vamos dividir em Sa e St (condition 1 e 0)\n",
        "Sa = df[df[\"CONDITION\"]==1][\"Intellect_Rating\"]\n",
        "St = df[df[\"CONDITION\"]==0][\"Intellect_Rating\"]\n",
        "\n",
        "print(f\"{Sa.shape[0]} em condicao de audio, Média das Notas = {Sa.mean()}\")\n",
        "print(f\"{St.shape[0]} em condicao de transcricao, Média das Notas = {St.mean()}\")"
      ],
      "metadata": {
        "id": "v3cH0quh1qO0"
      },
      "execution_count": null,
      "outputs": []
    },
    {
      "cell_type": "markdown",
      "source": [
        "(ii) Construa um boxplot para apresentar graficamente as duas amostras.\n",
        "Seu gráfico deve ser semelhante ao apresentado na Figura 1. Em Python, você pode usar a biblioteca Seaborn. Em R, você pode usar a biblioteca GGPLOT2. Forneça uma análise das informações fornecidas pelo gráfico."
      ],
      "metadata": {
        "id": "IkU1kLwP8X7B"
      }
    },
    {
      "cell_type": "code",
      "source": [
        "import seaborn as sns\n",
        "sns.boxplot(data=df,x='CONDITION',y='Intellect_Rating')"
      ],
      "metadata": {
        "id": "qaXWaF2u8WpU"
      },
      "execution_count": null,
      "outputs": []
    },
    {
      "cell_type": "markdown",
      "source": [
        "Pessoas análisadas por áudio costumam ser mais bem avalidas, sua grande maioria (50% dos dados) com um Intelect Rating entre 5 e 6. Com a presença de alguns outliers, mas nada que afete tanto a concentração das massas.\n",
        "\n",
        "Já as por texto, além de notas mais baixas, costumam ser mais variadas. 50% dos dados estão entre 2 e 4, além de grandes caudas, que explicita a variedade das avaliações."
      ],
      "metadata": {
        "id": "5RdTe4LE-Im9"
      }
    },
    {
      "cell_type": "markdown",
      "source": [
        "(iii) Aplique um teste de normalidade em ambas as amostras, Sa e St. Apresente uma análise do resultado obtido."
      ],
      "metadata": {
        "id": "4ltWAiM__QKo"
      }
    },
    {
      "cell_type": "code",
      "source": [
        "# RESPOSTA AQUI"
      ],
      "metadata": {
        "id": "-nAGyNHI_TaO"
      },
      "execution_count": null,
      "outputs": []
    },
    {
      "cell_type": "markdown",
      "source": [
        "(iv) Construa um intervalo de confiança para a média de avaliações produzidas por duas populações distintas, P1 e P2, descritas abaixo.\n",
        "- P1: todos os recrutadores que ouvem os áudios\n",
        "- P2: todos os recrutadores que leem os transcritos\n",
        "\n",
        "Note que a resposta a este item devem ser dois intervalos de confiança.\n",
        "Nos dois casos, use o nível de confiança de 99%."
      ],
      "metadata": {
        "id": "yIvjG1_7_V17"
      }
    },
    {
      "cell_type": "code",
      "source": [
        "# CONSTRUIR UM INTERVALO DE CONFIANCA 99% PARA A MÉDIA n<30"
      ],
      "metadata": {
        "id": "D-laGLWY_U8a"
      },
      "execution_count": null,
      "outputs": []
    },
    {
      "cell_type": "markdown",
      "source": [
        "(v) Com base nos intervalos de confiança obtidos no item anterior, você\n",
        "acha que a conclusão a que chegaram os autores em Schroeder and\n",
        "Epley (2015) é válida? Justifique sua resposta"
      ],
      "metadata": {
        "id": "RADogH57AoEI"
      }
    },
    {
      "cell_type": "markdown",
      "source": [
        "# RESPOSTA AQUI"
      ],
      "metadata": {
        "id": "ykF-EvN5Aw8e"
      }
    },
    {
      "cell_type": "markdown",
      "source": [
        "#5) Intervalo de confiança para altura média\n",
        "Essa parte do trabalho envolve computar um intervalo de confiança para a\n",
        "média das alturas dos estudantes de uma universidade. Você deve realizar\n",
        "essa parte do trabalho usando como amostra os dados contidos no conjunto de dados fornecido no arquivo survey.csv. Esse conjunto de dados contém\n",
        "o resultado de uma pesquisa feita com uma amostra de estudantes em uma\n",
        "universidade australiana. Os atributos desse conjunto de dados são descritos a seguir:\n",
        "\n",
        "- Sex. O sexo do aluno. (Fator com os níveis Male e Female.)\n",
        "- Wr.Hnd. vão (distância da ponta do polegar à ponta do dedo mínimo\n",
        "da mão aberta) da mão que escreve, em centímetros.\n",
        "- NW.Hnd. extensão da mão que não escreve.\n",
        "- W.Hnd. mão de escrita. (Left ou Right.)\n",
        "- Fold. ”Cruze os braços! Qual está no topo? (R on L, L on R, Neither.)\n",
        "- Pulse. taxa de pulso do aluno (batimentos por minuto).\n",
        "- Clap. ’Bata palmas! Qual mão está para cima? (Right, Left,None.)\n",
        "- Exer. quantas vezes o aluno se exercita. (Freq (frequentemente), Some,\n",
        "None.)\n",
        "- Smoke. Quanto o aluno fuma. (Heavy, Regul (regularmente), Occas\n",
        "(occasionalmente), Never.)\n",
        "- Height. altura do aluno em centímetros.\n",
        "- M.I. se o aluno expressou a altura em unidades imperiais (pés/polega-\n",
        "das) ou métricas (centímetros/metros). (Metric, Imperial.)\n",
        "- Age. Idade do aluno em anos.\n",
        "\n",
        "No Python, o arquivo survey.csv deve ser carregado inicialmente. Você\n",
        "pode fazer isso por meio da biblioteca Pandas, conforme exemplo na Lista-\n",
        "gem 2.\n",
        "\n",
        "Listagem 2: Carga do conjunto de dados survey em Python.\n",
        "```\n",
        "import pandas as pd\n",
        "df_survey = pd.read_csv('survey.csv')\n",
        "```\n",
        "\n",
        "A variável de interesse está na coluna Height do conjunto de dados. Inicialmente, você deve eliminar valores faltantes (missing values) nessa coluna.\n",
        "\n",
        "Para isso, pesquise sobre a função na.omit da linguagem R, ou sobre a\n",
        "função drop.na da biblioteca Pandas em Python.\n",
        "Agora, realize o que se pede a seguir\n",
        "\n"
      ],
      "metadata": {
        "id": "9zMLaHD5AyzK"
      }
    },
    {
      "cell_type": "markdown",
      "source": [
        "(i) Usando a distribuição t de Student, calcule um intervalo de confiança\n",
        "no nível de 95% para a altura média dos estudantes da universidade"
      ],
      "metadata": {
        "id": "unl42QMQBSAf"
      }
    },
    {
      "cell_type": "code",
      "source": [],
      "metadata": {
        "id": "4kbiuKDOBRaz"
      },
      "execution_count": null,
      "outputs": []
    },
    {
      "cell_type": "markdown",
      "source": [
        "(ii) Construa outro intervalo de confiança, desta vez usando o z-score (em\n",
        "vez do t-score que você usou anteriormente)."
      ],
      "metadata": {
        "id": "WusEYwkdCK2S"
      }
    },
    {
      "cell_type": "code",
      "source": [],
      "metadata": {
        "id": "6BzjNLVeCL1s"
      },
      "execution_count": null,
      "outputs": []
    },
    {
      "cell_type": "markdown",
      "source": [
        "(iii) Apresente uma análise comparativa dos dois intervalos de confiança\n",
        "obtidos."
      ],
      "metadata": {
        "id": "_agdig9ICXVf"
      }
    },
    {
      "cell_type": "code",
      "source": [],
      "metadata": {
        "id": "SOUQNARuCbps"
      },
      "execution_count": null,
      "outputs": []
    },
    {
      "cell_type": "markdown",
      "source": [
        "#6) Intervalo de confiança para proporção\n",
        "Nesta parte do trabalho, você deve considerar a mesma amostra contida\n",
        "no conjunto de dados survey. Dessa vez, você deve produzir um intervalo\n",
        "de confiança para a proporção de alunos da universidade que são canhotos.\n",
        "Sendo assim, dessa vez a coluna de interesse é W.Hnd.\n",
        "\n",
        "(i) Primeiramente, se certifique de que existem pelo menos 10 estudantes destros e pelo menos 10 estudantes canhotos, para que você possa realizar a construção do intervalo de confiança de forma satisfatória."
      ],
      "metadata": {
        "id": "qNTqKvujCQ99"
      }
    },
    {
      "cell_type": "code",
      "source": [],
      "metadata": {
        "id": "JtKc33-zChqN"
      },
      "execution_count": null,
      "outputs": []
    },
    {
      "cell_type": "markdown",
      "source": [
        "(ii) Produza o intervalo de confiança solicitado, usando o nível de confiança 90%. Junto com o resultado, forneça também uma análise."
      ],
      "metadata": {
        "id": "y2WT3EwKCifp"
      }
    },
    {
      "cell_type": "code",
      "source": [],
      "metadata": {
        "id": "_55Fx7vSCklS"
      },
      "execution_count": null,
      "outputs": []
    },
    {
      "cell_type": "markdown",
      "source": [
        "## resposta aqui"
      ],
      "metadata": {
        "id": "jrUMZYqoClHe"
      }
    },
    {
      "cell_type": "markdown",
      "source": [
        "(iii) Produza o intervalo de confiança solicitado, usando o nível de confiança 95%. Junto com o resultado, forneça também uma análise e compare\n",
        "com o resultado obtido no item anterior."
      ],
      "metadata": {
        "id": "qWFCL0apCpNU"
      }
    },
    {
      "cell_type": "code",
      "source": [],
      "metadata": {
        "id": "It9k5w-kC1oj"
      },
      "execution_count": null,
      "outputs": []
    },
    {
      "cell_type": "markdown",
      "source": [
        "# analise aqui"
      ],
      "metadata": {
        "id": "ar_z7qvWC3NX"
      }
    },
    {
      "cell_type": "markdown",
      "source": [
        "(iv) Repita os itens (i), (ii) e (iii), desta vez considerando o atributo Sex."
      ],
      "metadata": {
        "id": "Vueh6veUCs5P"
      }
    },
    {
      "cell_type": "code",
      "source": [],
      "metadata": {
        "id": "1fD2OTzVCxWj"
      },
      "execution_count": null,
      "outputs": []
    },
    {
      "cell_type": "markdown",
      "source": [
        "v) A amostra correspondente ao conjunto de dados survey tem tamanho\n",
        "suficiente para produzir um intervalo de confiança para a característica\n",
        "Sexo (coluna Sexo) com um erro amostral de 2 pontos percentuais?\n",
        "Se sim, construa esse intervalo de confiança usando nível de confiança\n",
        "90%. Se não, explique."
      ],
      "metadata": {
        "id": "3U7P0obBCwc5"
      }
    },
    {
      "cell_type": "markdown",
      "source": [
        "## reposta aqui"
      ],
      "metadata": {
        "id": "TpbWj0IaC6qq"
      }
    },
    {
      "cell_type": "code",
      "source": [],
      "metadata": {
        "id": "Irlin5Z3C8Rs"
      },
      "execution_count": null,
      "outputs": []
    }
  ]
}