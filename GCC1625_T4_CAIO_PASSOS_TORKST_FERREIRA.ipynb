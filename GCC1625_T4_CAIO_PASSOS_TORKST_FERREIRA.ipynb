{
  "cells": [
    {
      "cell_type": "markdown",
      "metadata": {
        "id": "view-in-github",
        "colab_type": "text"
      },
      "source": [
        "<a href=\"https://colab.research.google.com/github/stepsbtw/Statistical-Inference/blob/main/GCC1625_T4_CAIO_PASSOS_TORKST_FERREIRA.ipynb\" target=\"_parent\"><img src=\"https://colab.research.google.com/assets/colab-badge.svg\" alt=\"Open In Colab\"/></a>"
      ]
    },
    {
      "cell_type": "markdown",
      "id": "6329b646",
      "metadata": {
        "id": "6329b646"
      },
      "source": [
        "# GCC1625 - Inferência Estatística\n",
        "### Trabalho 04 - 2025.1\n",
        "**Nome:** Caio Passos Torkst Ferreira\n",
        "\n",
        "**Link do vídeo explicativo:** [INSIRA O LINK AQUI]"
      ]
    },
    {
      "cell_type": "code",
      "execution_count": 2,
      "id": "238d0b93",
      "metadata": {
        "id": "238d0b93"
      },
      "outputs": [],
      "source": [
        "import matplotlib.pyplot as plt\n",
        "import seaborn as sns\n",
        "from scipy import stats"
      ]
    },
    {
      "cell_type": "markdown",
      "id": "cc02fd56",
      "metadata": {
        "id": "cc02fd56"
      },
      "source": [
        "## 1. GLMs - Regressão Logística\n",
        "\n",
        "**Enunciado:**\n",
        "\n",
        "A regressão logística é uma ferramenta fundamental na modelagem de variáveis categóricas binárias.\n",
        "Neste item avaliativo, você aplicará esse modelo para identificar fatores associados à sobrevivência de passageiros no naufrágio do Titanic."
      ]
    },
    {
      "cell_type": "code",
      "execution_count": 128,
      "id": "d1d7c3dd",
      "metadata": {
        "id": "d1d7c3dd",
        "colab": {
          "base_uri": "https://localhost:8080/"
        },
        "outputId": "4503c5a6-f424-43b9-e61f-45cf6d357931"
      },
      "outputs": [
        {
          "output_type": "stream",
          "name": "stdout",
          "text": [
            "<class 'pandas.core.frame.DataFrame'>\n",
            "RangeIndex: 891 entries, 0 to 890\n",
            "Data columns (total 12 columns):\n",
            " #   Column       Non-Null Count  Dtype  \n",
            "---  ------       --------------  -----  \n",
            " 0   PassengerId  891 non-null    int64  \n",
            " 1   Survived     891 non-null    int64  \n",
            " 2   Pclass       891 non-null    int64  \n",
            " 3   Name         891 non-null    object \n",
            " 4   Sex          891 non-null    object \n",
            " 5   Age          714 non-null    float64\n",
            " 6   SibSp        891 non-null    int64  \n",
            " 7   Parch        891 non-null    int64  \n",
            " 8   Ticket       891 non-null    object \n",
            " 9   Fare         891 non-null    float64\n",
            " 10  Cabin        204 non-null    object \n",
            " 11  Embarked     889 non-null    object \n",
            "dtypes: float64(2), int64(5), object(5)\n",
            "memory usage: 83.7+ KB\n"
          ]
        }
      ],
      "source": [
        "import pandas as pd\n",
        "\n",
        "df = pd.read_csv(\"titanic.csv\")\n",
        "df.info()"
      ]
    },
    {
      "cell_type": "markdown",
      "source": [
        "### 1. Ajustar um modelo de regressão logística para prever Survived, utilizando pelo menos três variáveis explicativas: Sex, Pclass, Age, SibSp, ou outras de sua escolha."
      ],
      "metadata": {
        "id": "WjH3eYB9j32G"
      },
      "id": "WjH3eYB9j32G"
    },
    {
      "cell_type": "markdown",
      "source": [
        "Vamos utilizar Age, mas existem valores faltantes. Tratar!"
      ],
      "metadata": {
        "id": "TAk1Mzcyj74f"
      },
      "id": "TAk1Mzcyj74f"
    },
    {
      "cell_type": "code",
      "source": [
        "df_clean = df.dropna(subset=[\"Age\"])\n",
        "df_clean.info()"
      ],
      "metadata": {
        "colab": {
          "base_uri": "https://localhost:8080/"
        },
        "id": "MxXE_6vkkDdO",
        "outputId": "424f8472-0b18-4a76-f274-087d659f2223"
      },
      "id": "MxXE_6vkkDdO",
      "execution_count": 129,
      "outputs": [
        {
          "output_type": "stream",
          "name": "stdout",
          "text": [
            "<class 'pandas.core.frame.DataFrame'>\n",
            "Index: 714 entries, 0 to 890\n",
            "Data columns (total 12 columns):\n",
            " #   Column       Non-Null Count  Dtype  \n",
            "---  ------       --------------  -----  \n",
            " 0   PassengerId  714 non-null    int64  \n",
            " 1   Survived     714 non-null    int64  \n",
            " 2   Pclass       714 non-null    int64  \n",
            " 3   Name         714 non-null    object \n",
            " 4   Sex          714 non-null    object \n",
            " 5   Age          714 non-null    float64\n",
            " 6   SibSp        714 non-null    int64  \n",
            " 7   Parch        714 non-null    int64  \n",
            " 8   Ticket       714 non-null    object \n",
            " 9   Fare         714 non-null    float64\n",
            " 10  Cabin        185 non-null    object \n",
            " 11  Embarked     712 non-null    object \n",
            "dtypes: float64(2), int64(5), object(5)\n",
            "memory usage: 72.5+ KB\n"
          ]
        }
      ]
    },
    {
      "cell_type": "markdown",
      "source": [
        "Sex é variável categórica, preciso transformar em binária"
      ],
      "metadata": {
        "id": "NW3FypBqmOYT"
      },
      "id": "NW3FypBqmOYT"
    },
    {
      "cell_type": "code",
      "source": [
        "df_clean[\"Sex_bin\"] = (df_clean[\"Sex\"] == \"female\").astype(int)\n",
        "# 1 fem 0 masc"
      ],
      "metadata": {
        "colab": {
          "base_uri": "https://localhost:8080/"
        },
        "id": "SO_mmGQkrdEB",
        "outputId": "f1e9dfc9-ff5e-492f-b179-c4df3d6b6be0"
      },
      "id": "SO_mmGQkrdEB",
      "execution_count": 130,
      "outputs": [
        {
          "output_type": "stream",
          "name": "stderr",
          "text": [
            "/tmp/ipython-input-130-2187651300.py:1: SettingWithCopyWarning: \n",
            "A value is trying to be set on a copy of a slice from a DataFrame.\n",
            "Try using .loc[row_indexer,col_indexer] = value instead\n",
            "\n",
            "See the caveats in the documentation: https://pandas.pydata.org/pandas-docs/stable/user_guide/indexing.html#returning-a-view-versus-a-copy\n",
            "  df_clean[\"Sex_bin\"] = (df_clean[\"Sex\"] == \"female\").astype(int)\n"
          ]
        }
      ]
    },
    {
      "cell_type": "code",
      "source": [
        "import statsmodels.api as sm\n",
        "from sklearn.model_selection import train_test_split\n",
        "\n",
        "X = df_clean[[\"Sex_bin\", \"Age\", \"SibSp\", \"Pclass\"]].values\n",
        "X_ = sm.add_constant(X)\n",
        "y = df_clean[\"Survived\"].values\n",
        "\n",
        "X_train, X_test, y_train, y_test = train_test_split(X_, y, test_size=0.2)\n",
        "\n",
        "model = sm.Logit(y_train, X_train)\n",
        "model_fit = model.fit()\n",
        "\n",
        "print(model_fit.summary())"
      ],
      "metadata": {
        "colab": {
          "base_uri": "https://localhost:8080/"
        },
        "id": "zhE4phDrkVZ8",
        "outputId": "4fb27eac-35c2-4cff-9234-d734ccfe71cd"
      },
      "id": "zhE4phDrkVZ8",
      "execution_count": 131,
      "outputs": [
        {
          "output_type": "stream",
          "name": "stdout",
          "text": [
            "Optimization terminated successfully.\n",
            "         Current function value: 0.449854\n",
            "         Iterations 6\n",
            "                           Logit Regression Results                           \n",
            "==============================================================================\n",
            "Dep. Variable:                      y   No. Observations:                  571\n",
            "Model:                          Logit   Df Residuals:                      566\n",
            "Method:                           MLE   Df Model:                            4\n",
            "Date:                Tue, 15 Jul 2025   Pseudo R-squ.:                  0.3359\n",
            "Time:                        04:16:39   Log-Likelihood:                -256.87\n",
            "converged:                       True   LL-Null:                       -386.81\n",
            "Covariance Type:            nonrobust   LLR p-value:                 4.836e-55\n",
            "==============================================================================\n",
            "                 coef    std err          z      P>|z|      [0.025      0.975]\n",
            "------------------------------------------------------------------------------\n",
            "const          3.0917      0.554      5.579      0.000       2.006       4.178\n",
            "x1             2.5742      0.239     10.759      0.000       2.105       3.043\n",
            "x2            -0.0473      0.009     -5.083      0.000      -0.066      -0.029\n",
            "x3            -0.4226      0.136     -3.097      0.002      -0.690      -0.155\n",
            "x4            -1.2811      0.157     -8.152      0.000      -1.589      -0.973\n",
            "==============================================================================\n"
          ]
        }
      ]
    },
    {
      "cell_type": "markdown",
      "source": [
        "### 2. Interpretar os coeficientes estimados, com especial atenção para o significado de sinais positivos e negativos em termos da chance de sobrevivência."
      ],
      "metadata": {
        "id": "X9XfNmM3r239"
      },
      "id": "X9XfNmM3r239"
    },
    {
      "cell_type": "markdown",
      "source": [
        "Na regressão logística, e^(coeficiente) indica a influência no valor de y ser 1.\n",
        "\n",
        "- O gênero (x1) possui uma relação positiva com a predição, ou seja, ser do sexo feminino te faz mais provável de sobreviver.\n",
        "\n",
        "- O número de irmãos/cônjuge (x3) tem relação negativa com a predição, ou seja, ter mais te faz menos provável de sobreviver.\n",
        "\n",
        "- A idade (x2) não parece influenciar muito na predição (pouco mas negativo).\n",
        "\n",
        "- A classe do ticket (x4) tem relação negativa com a predição, ou seja, ser de classe maior - mais baixa - (primeira, segunda, terceira) te faz menor provável de sobreviver.\n",
        "\n",
        "- O intercepto (constante) representa, o valor esperado de y quando todas as variáveis independentes são iguais a 0, ou seja, sem saber nenhuma informação sobre o indivíduo qual sua probabilidade esperada de sobrevivência."
      ],
      "metadata": {
        "id": "VupHrvthr3wF"
      },
      "id": "VupHrvthr3wF"
    },
    {
      "cell_type": "markdown",
      "source": [
        "\n",
        "###3. Avaliar a significância estatística dos coeficientes e discutir quais variáveis possuem maior impacto na predição."
      ],
      "metadata": {
        "id": "QvTNp-l82p0i"
      },
      "id": "QvTNp-l82p0i"
    },
    {
      "cell_type": "markdown",
      "source": [
        "Com essas variáveis de treino para o modelo, todos os coeficientes são estatisticamente significativos, isto é, seus p-valores são menores que 0.05"
      ],
      "metadata": {
        "id": "FhAn_H3J3CkW"
      },
      "id": "FhAn_H3J3CkW"
    },
    {
      "cell_type": "markdown",
      "source": [
        "### 4. Calcular a probabilidade estimada de sobrevivência para um passageiro do sexo feminino, 25 anos, na 1ª classe, viajando sozinho."
      ],
      "metadata": {
        "id": "8B0__UOiypu7"
      },
      "id": "8B0__UOiypu7"
    },
    {
      "cell_type": "code",
      "source": [
        "import numpy as np\n",
        "\n",
        "x = np.array([1,1,25,0,1]) # adicionei constante direto\n",
        "pred = model_fit.predict(x)\n",
        "print(pred)"
      ],
      "metadata": {
        "colab": {
          "base_uri": "https://localhost:8080/"
        },
        "id": "W59SbXdQywMH",
        "outputId": "22f09aa9-9895-498d-ba07-e7cfbe33ea07"
      },
      "id": "W59SbXdQywMH",
      "execution_count": 132,
      "outputs": [
        {
          "output_type": "stream",
          "name": "stdout",
          "text": [
            "[0.96091128]\n"
          ]
        }
      ]
    },
    {
      "cell_type": "markdown",
      "source": [
        "### 5. Avaliar o desempenho do modelo com métricas como acurácia, precisão, recall e matriz de confusão."
      ],
      "metadata": {
        "id": "69f84U_Qyskh"
      },
      "id": "69f84U_Qyskh"
    },
    {
      "cell_type": "code",
      "source": [
        "from sklearn.metrics import confusion_matrix\n",
        "from sklearn.metrics import accuracy_score, precision_score, recall_score\n",
        "\n",
        "y_pred = model_fit.predict(X_test)\n",
        "y_pred_bin = (y_pred >= 0.5).astype(int)\n",
        "\n",
        "cm = confusion_matrix(y_test, y_pred_bin)\n",
        "print(cm)\n",
        "\n",
        "TN = cm[0][0]\n",
        "FP = cm[0][1]\n",
        "FN = cm[1][0]\n",
        "TP = cm[1][1]\n",
        "\n",
        "print(\"accuracy = \", (TP + TN) / (TP+FP+TN+FN))\n",
        "print(\"precision = \", TP / (TP+FP))\n",
        "print(\"recall = \", TP / (TP+FN))\n"
      ],
      "metadata": {
        "colab": {
          "base_uri": "https://localhost:8080/"
        },
        "id": "SFL-KOP09RoL",
        "outputId": "3ad24cf1-7553-43ee-cd40-c5bea0eecb23"
      },
      "id": "SFL-KOP09RoL",
      "execution_count": 133,
      "outputs": [
        {
          "output_type": "stream",
          "name": "stdout",
          "text": [
            "[[72 16]\n",
            " [12 43]]\n",
            "accuracy =  0.8041958041958042\n",
            "precision =  0.7288135593220338\n",
            "recall =  0.7818181818181819\n"
          ]
        }
      ]
    },
    {
      "cell_type": "markdown",
      "source": [
        "### 6. Verificar graficamente se há padrões nos resíduos de Pearson que indiquem problemas de ajuste."
      ],
      "metadata": {
        "id": "y_Pn6GQuytgi"
      },
      "id": "y_Pn6GQuytgi"
    },
    {
      "cell_type": "code",
      "source": [
        "y_train_pred = model_fit.predict(X_train)\n",
        "\n",
        "residuos = model_fit.resid_pearson\n",
        "\n",
        "plt.scatter(y_train_pred, residuos, alpha=0.5)\n",
        "plt.show()\n",
        "\n",
        "# quao distante o observado esta do previsto, valores bons devem estar em torno de 0\n",
        "# acha \"outliers\", valores grandes (em modulo)"
      ],
      "metadata": {
        "colab": {
          "base_uri": "https://localhost:8080/",
          "height": 450
        },
        "id": "RyAPCFLWC7SP",
        "outputId": "03c88f6e-26ab-4fb5-de7c-06e54ac81826"
      },
      "id": "RyAPCFLWC7SP",
      "execution_count": 134,
      "outputs": [
        {
          "output_type": "display_data",
          "data": {
            "text/plain": [
              "<Figure size 800x500 with 1 Axes>"
            ],
            "image/png": "[encoded data removed]"
          },
          "metadata": {}
        }
      ]
    },
    {
      "cell_type": "markdown",
      "source": [
        "A relação entre os preditores e a predição é não-linear, a Regressão Linear não é adequada neste caso."
      ],
      "metadata": {
        "id": "_rxFJ9lJFHLr"
      },
      "id": "_rxFJ9lJFHLr"
    },
    {
      "cell_type": "markdown",
      "id": "0c87bf2f",
      "metadata": {
        "id": "0c87bf2f"
      },
      "source": [
        "## 2. GLMs - Regressão de Poisson\n",
        "\n",
        "**Enunciado:**\n",
        "\n",
        "Modelos Lineares Generalizados (GLMs) oferecem uma estrutura flexível para modelar variáveis resposta com distribuições da família exponencial.\n",
        "Nesta tarefa, você irá explorar um caso em que a variável resposta é de contagem, ajustando modelos alternativos e avaliando a qualidade do ajuste."
      ]
    },
    {
      "cell_type": "markdown",
      "source": [
        "1. Ajustar um modelo de regressão de Poisson para modelar a variável ‘cnt‘ com base em pelo menos três variáveis explicativas de sua escolha.\n"
      ],
      "metadata": {
        "id": "mUjhL9IlGgM7"
      },
      "id": "mUjhL9IlGgM7"
    },
    {
      "cell_type": "code",
      "source": [
        "df = pd.read_csv(\"day.csv\")\n",
        "df.info()\n",
        "df.head()"
      ],
      "metadata": {
        "colab": {
          "base_uri": "https://localhost:8080/",
          "height": 617
        },
        "id": "_vxlAdFKI2G8",
        "outputId": "4b957f98-ee2d-4f09-e55a-bb893d6b2240"
      },
      "id": "_vxlAdFKI2G8",
      "execution_count": 148,
      "outputs": [
        {
          "output_type": "stream",
          "name": "stdout",
          "text": [
            "<class 'pandas.core.frame.DataFrame'>\n",
            "RangeIndex: 731 entries, 0 to 730\n",
            "Data columns (total 16 columns):\n",
            " #   Column      Non-Null Count  Dtype  \n",
            "---  ------      --------------  -----  \n",
            " 0   instant     731 non-null    int64  \n",
            " 1   dteday      731 non-null    object \n",
            " 2   season      731 non-null    int64  \n",
            " 3   yr          731 non-null    int64  \n",
            " 4   mnth        731 non-null    int64  \n",
            " 5   holiday     731 non-null    int64  \n",
            " 6   weekday     731 non-null    int64  \n",
            " 7   workingday  731 non-null    int64  \n",
            " 8   weathersit  731 non-null    int64  \n",
            " 9   temp        731 non-null    float64\n",
            " 10  atemp       731 non-null    float64\n",
            " 11  hum         731 non-null    float64\n",
            " 12  windspeed   731 non-null    float64\n",
            " 13  casual      731 non-null    int64  \n",
            " 14  registered  731 non-null    int64  \n",
            " 15  cnt         731 non-null    int64  \n",
            "dtypes: float64(4), int64(11), object(1)\n",
            "memory usage: 91.5+ KB\n"
          ]
        },
        {
          "output_type": "execute_result",
          "data": {
            "text/plain": [
              "   instant      dteday  season  yr  mnth  holiday  weekday  workingday  \\\n",
              "0        1  2011-01-01       1   0     1        0        6           0   \n",
              "1        2  2011-01-02       1   0     1        0        0           0   \n",
              "2        3  2011-01-03       1   0     1        0        1           1   \n",
              "3        4  2011-01-04       1   0     1        0        2           1   \n",
              "4        5  2011-01-05       1   0     1        0        3           1   \n",
              "\n",
              "   weathersit      temp     atemp       hum  windspeed  casual  registered  \\\n",
              "0           2  0.344167  0.363625  0.805833   0.160446     331         654   \n",
              "1           2  0.363478  0.353739  0.696087   0.248539     131         670   \n",
              "2           1  0.196364  0.189405  0.437273   0.248309     120        1229   \n",
              "3           1  0.200000  0.212122  0.590435   0.160296     108        1454   \n",
              "4           1  0.226957  0.229270  0.436957   0.186900      82        1518   \n",
              "\n",
              "    cnt  \n",
              "0   985  \n",
              "1   801  \n",
              "2  1349  \n",
              "3  1562  \n",
              "4  1600  "
            ],
            "text/html": [
              "\n",
              "  <div id=\"df-ed60d729-c48c-4728-b077-51b93def1283\" class=\"colab-df-container\">\n",
              "    <div>\n",
              "<style scoped>\n",
              "    .dataframe tbody tr th:only-of-type {\n",
              "        vertical-align: middle;\n",
              "    }\n",
              "\n",
              "    .dataframe tbody tr th {\n",
              "        vertical-align: top;\n",
              "    }\n",
              "\n",
              "    .dataframe thead th {\n",
              "        text-align: right;\n",
              "    }\n",
              "</style>\n",
              "<table border=\"1\" class=\"dataframe\">\n",
              "  <thead>\n",
              "    <tr style=\"text-align: right;\">\n",
              "      <th></th>\n",
              "      <th>instant</th>\n",
              "      <th>dteday</th>\n",
              "      <th>season</th>\n",
              "      <th>yr</th>\n",
              "      <th>mnth</th>\n",
              "      <th>holiday</th>\n",
              "      <th>weekday</th>\n",
              "      <th>workingday</th>\n",
              "      <th>weathersit</th>\n",
              "      <th>temp</th>\n",
              "      <th>atemp</th>\n",
              "      <th>hum</th>\n",
              "      <th>windspeed</th>\n",
              "      <th>casual</th>\n",
              "      <th>registered</th>\n",
              "      <th>cnt</th>\n",
              "    </tr>\n",
              "  </thead>\n",
              "  <tbody>\n",
              "    <tr>\n",
              "      <th>0</th>\n",
              "      <td>1</td>\n",
              "      <td>2011-01-01</td>\n",
              "      <td>1</td>\n",
              "      <td>0</td>\n",
              "      <td>1</td>\n",
              "      <td>0</td>\n",
              "      <td>6</td>\n",
              "      <td>0</td>\n",
              "      <td>2</td>\n",
              "      <td>0.344167</td>\n",
              "      <td>0.363625</td>\n",
              "      <td>0.805833</td>\n",
              "      <td>0.160446</td>\n",
              "      <td>331</td>\n",
              "      <td>654</td>\n",
              "      <td>985</td>\n",
              "    </tr>\n",
              "    <tr>\n",
              "      <th>1</th>\n",
              "      <td>2</td>\n",
              "      <td>2011-01-02</td>\n",
              "      <td>1</td>\n",
              "      <td>0</td>\n",
              "      <td>1</td>\n",
              "      <td>0</td>\n",
              "      <td>0</td>\n",
              "      <td>0</td>\n",
              "      <td>2</td>\n",
              "      <td>0.363478</td>\n",
              "      <td>0.353739</td>\n",
              "      <td>0.696087</td>\n",
              "      <td>0.248539</td>\n",
              "      <td>131</td>\n",
              "      <td>670</td>\n",
              "      <td>801</td>\n",
              "    </tr>\n",
              "    <tr>\n",
              "      <th>2</th>\n",
              "      <td>3</td>\n",
              "      <td>2011-01-03</td>\n",
              "      <td>1</td>\n",
              "      <td>0</td>\n",
              "      <td>1</td>\n",
              "      <td>0</td>\n",
              "      <td>1</td>\n",
              "      <td>1</td>\n",
              "      <td>1</td>\n",
              "      <td>0.196364</td>\n",
              "      <td>0.189405</td>\n",
              "      <td>0.437273</td>\n",
              "      <td>0.248309</td>\n",
              "      <td>120</td>\n",
              "      <td>1229</td>\n",
              "      <td>1349</td>\n",
              "    </tr>\n",
              "    <tr>\n",
              "      <th>3</th>\n",
              "      <td>4</td>\n",
              "      <td>2011-01-04</td>\n",
              "      <td>1</td>\n",
              "      <td>0</td>\n",
              "      <td>1</td>\n",
              "      <td>0</td>\n",
              "      <td>2</td>\n",
              "      <td>1</td>\n",
              "      <td>1</td>\n",
              "      <td>0.200000</td>\n",
              "      <td>0.212122</td>\n",
              "      <td>0.590435</td>\n",
              "      <td>0.160296</td>\n",
              "      <td>108</td>\n",
              "      <td>1454</td>\n",
              "      <td>1562</td>\n",
              "    </tr>\n",
              "    <tr>\n",
              "      <th>4</th>\n",
              "      <td>5</td>\n",
              "      <td>2011-01-05</td>\n",
              "      <td>1</td>\n",
              "      <td>0</td>\n",
              "      <td>1</td>\n",
              "      <td>0</td>\n",
              "      <td>3</td>\n",
              "      <td>1</td>\n",
              "      <td>1</td>\n",
              "      <td>0.226957</td>\n",
              "      <td>0.229270</td>\n",
              "      <td>0.436957</td>\n",
              "      <td>0.186900</td>\n",
              "      <td>82</td>\n",
              "      <td>1518</td>\n",
              "      <td>1600</td>\n",
              "    </tr>\n",
              "  </tbody>\n",
              "</table>\n",
              "</div>\n",
              "    <div class=\"colab-df-buttons\">\n",
              "\n",
              "  <div class=\"colab-df-container\">\n",
              "    <button class=\"colab-df-convert\" onclick=\"convertToInteractive('df-ed60d729-c48c-4728-b077-51b93def1283')\"\n",
              "            title=\"Convert this dataframe to an interactive table.\"\n",
              "            style=\"display:none;\">\n",
              "\n",
              "  <svg xmlns=\"http://www.w3.org/2000/svg\" height=\"24px\" viewBox=\"0 -960 960 960\">\n",
              "    <path d=\"M120-120v-720h720v720H120Zm60-500h600v-160H180v160Zm220 220h160v-160H400v160Zm0 220h160v-160H400v160ZM180-400h160v-160H180v160Zm440 0h160v-160H620v160ZM180-180h160v-160H180v160Zm440 0h160v-160H620v160Z\"/>\n",
              "  </svg>\n",
              "    </button>\n",
              "\n",
              "  <style>\n",
              "    .colab-df-container {\n",
              "      display:flex;\n",
              "      gap: 12px;\n",
              "    }\n",
              "\n",
              "    .colab-df-convert {\n",
              "      background-color: #E8F0FE;\n",
              "      border: none;\n",
              "      border-radius: 50%;\n",
              "      cursor: pointer;\n",
              "      display: none;\n",
              "      fill: #1967D2;\n",
              "      height: 32px;\n",
              "      padding: 0 0 0 0;\n",
              "      width: 32px;\n",
              "    }\n",
              "\n",
              "    .colab-df-convert:hover {\n",
              "      background-color: #E2EBFA;\n",
              "      box-shadow: 0px 1px 2px rgba(60, 64, 67, 0.3), 0px 1px 3px 1px rgba(60, 64, 67, 0.15);\n",
              "      fill: #174EA6;\n",
              "    }\n",
              "\n",
              "    .colab-df-buttons div {\n",
              "      margin-bottom: 4px;\n",
              "    }\n",
              "\n",
              "    [theme=dark] .colab-df-convert {\n",
              "      background-color: #3B4455;\n",
              "      fill: #D2E3FC;\n",
              "    }\n",
              "\n",
              "    [theme=dark] .colab-df-convert:hover {\n",
              "      background-color: #434B5C;\n",
              "      box-shadow: 0px 1px 3px 1px rgba(0, 0, 0, 0.15);\n",
              "      filter: drop-shadow(0px 1px 2px rgba(0, 0, 0, 0.3));\n",
              "      fill: #FFFFFF;\n",
              "    }\n",
              "  </style>\n",
              "\n",
              "    <script>\n",
              "      const buttonEl =\n",
              "        document.querySelector('#df-ed60d729-c48c-4728-b077-51b93def1283 button.colab-df-convert');\n",
              "      buttonEl.style.display =\n",
              "        google.colab.kernel.accessAllowed ? 'block' : 'none';\n",
              "\n",
              "      async function convertToInteractive(key) {\n",
              "        const element = document.querySelector('#df-ed60d729-c48c-4728-b077-51b93def1283');\n",
              "        const dataTable =\n",
              "          await google.colab.kernel.invokeFunction('convertToInteractive',\n",
              "                                                    [key], {});\n",
              "        if (!dataTable) return;\n",
              "\n",
              "        const docLinkHtml = 'Like what you see? Visit the ' +\n",
              "          '<a target=\"_blank\" href=https://colab.research.google.com/notebooks/data_table.ipynb>data table notebook</a>'\n",
              "          + ' to learn more about interactive tables.';\n",
              "        element.innerHTML = '';\n",
              "        dataTable['output_type'] = 'display_data';\n",
              "        await google.colab.output.renderOutput(dataTable, element);\n",
              "        const docLink = document.createElement('div');\n",
              "        docLink.innerHTML = docLinkHtml;\n",
              "        element.appendChild(docLink);\n",
              "      }\n",
              "    </script>\n",
              "  </div>\n",
              "\n",
              "\n",
              "    <div id=\"df-f82af614-525e-4d77-acd4-888c8bbf28bc\">\n",
              "      <button class=\"colab-df-quickchart\" onclick=\"quickchart('df-f82af614-525e-4d77-acd4-888c8bbf28bc')\"\n",
              "                title=\"Suggest charts\"\n",
              "                style=\"display:none;\">\n",
              "\n",
              "<svg xmlns=\"http://www.w3.org/2000/svg\" height=\"24px\"viewBox=\"0 0 24 24\"\n",
              "     width=\"24px\">\n",
              "    <g>\n",
              "        <path d=\"M19 3H5c-1.1 0-2 .9-2 2v14c0 1.1.9 2 2 2h14c1.1 0 2-.9 2-2V5c0-1.1-.9-2-2-2zM9 17H7v-7h2v7zm4 0h-2V7h2v10zm4 0h-2v-4h2v4z\"/>\n",
              "    </g>\n",
              "</svg>\n",
              "      </button>\n",
              "\n",
              "<style>\n",
              "  .colab-df-quickchart {\n",
              "      --bg-color: #E8F0FE;\n",
              "      --fill-color: #1967D2;\n",
              "      --hover-bg-color: #E2EBFA;\n",
              "      --hover-fill-color: #174EA6;\n",
              "      --disabled-fill-color: #AAA;\n",
              "      --disabled-bg-color: #DDD;\n",
              "  }\n",
              "\n",
              "  [theme=dark] .colab-df-quickchart {\n",
              "      --bg-color: #3B4455;\n",
              "      --fill-color: #D2E3FC;\n",
              "      --hover-bg-color: #434B5C;\n",
              "      --hover-fill-color: #FFFFFF;\n",
              "      --disabled-bg-color: #3B4455;\n",
              "      --disabled-fill-color: #666;\n",
              "  }\n",
              "\n",
              "  .colab-df-quickchart {\n",
              "    background-color: var(--bg-color);\n",
              "    border: none;\n",
              "    border-radius: 50%;\n",
              "    cursor: pointer;\n",
              "    display: none;\n",
              "    fill: var(--fill-color);\n",
              "    height: 32px;\n",
              "    padding: 0;\n",
              "    width: 32px;\n",
              "  }\n",
              "\n",
              "  .colab-df-quickchart:hover {\n",
              "    background-color: var(--hover-bg-color);\n",
              "    box-shadow: 0 1px 2px rgba(60, 64, 67, 0.3), 0 1px 3px 1px rgba(60, 64, 67, 0.15);\n",
              "    fill: var(--button-hover-fill-color);\n",
              "  }\n",
              "\n",
              "  .colab-df-quickchart-complete:disabled,\n",
              "  .colab-df-quickchart-complete:disabled:hover {\n",
              "    background-color: var(--disabled-bg-color);\n",
              "    fill: var(--disabled-fill-color);\n",
              "    box-shadow: none;\n",
              "  }\n",
              "\n",
              "  .colab-df-spinner {\n",
              "    border: 2px solid var(--fill-color);\n",
              "    border-color: transparent;\n",
              "    border-bottom-color: var(--fill-color);\n",
              "    animation:\n",
              "      spin 1s steps(1) infinite;\n",
              "  }\n",
              "\n",
              "  @keyframes spin {\n",
              "    0% {\n",
              "      border-color: transparent;\n",
              "      border-bottom-color: var(--fill-color);\n",
              "      border-left-color: var(--fill-color);\n",
              "    }\n",
              "    20% {\n",
              "      border-color: transparent;\n",
              "      border-left-color: var(--fill-color);\n",
              "      border-top-color: var(--fill-color);\n",
              "    }\n",
              "    30% {\n",
              "      border-color: transparent;\n",
              "      border-left-color: var(--fill-color);\n",
              "      border-top-color: var(--fill-color);\n",
              "      border-right-color: var(--fill-color);\n",
              "    }\n",
              "    40% {\n",
              "      border-color: transparent;\n",
              "      border-right-color: var(--fill-color);\n",
              "      border-top-color: var(--fill-color);\n",
              "    }\n",
              "    60% {\n",
              "      border-color: transparent;\n",
              "      border-right-color: var(--fill-color);\n",
              "    }\n",
              "    80% {\n",
              "      border-color: transparent;\n",
              "      border-right-color: var(--fill-color);\n",
              "      border-bottom-color: var(--fill-color);\n",
              "    }\n",
              "    90% {\n",
              "      border-color: transparent;\n",
              "      border-bottom-color: var(--fill-color);\n",
              "    }\n",
              "  }\n",
              "</style>\n",
              "\n",
              "      <script>\n",
              "        async function quickchart(key) {\n",
              "          const quickchartButtonEl =\n",
              "            document.querySelector('#' + key + ' button');\n",
              "          quickchartButtonEl.disabled = true;  // To prevent multiple clicks.\n",
              "          quickchartButtonEl.classList.add('colab-df-spinner');\n",
              "          try {\n",
              "            const charts = await google.colab.kernel.invokeFunction(\n",
              "                'suggestCharts', [key], {});\n",
              "          } catch (error) {\n",
              "            console.error('Error during call to suggestCharts:', error);\n",
              "          }\n",
              "          quickchartButtonEl.classList.remove('colab-df-spinner');\n",
              "          quickchartButtonEl.classList.add('colab-df-quickchart-complete');\n",
              "        }\n",
              "        (() => {\n",
              "          let quickchartButtonEl =\n",
              "            document.querySelector('#df-f82af614-525e-4d77-acd4-888c8bbf28bc button');\n",
              "          quickchartButtonEl.style.display =\n",
              "            google.colab.kernel.accessAllowed ? 'block' : 'none';\n",
              "        })();\n",
              "      </script>\n",
              "    </div>\n",
              "\n",
              "    </div>\n",
              "  </div>\n"
            ],
            "application/vnd.google.colaboratory.intrinsic+json": {
              "type": "dataframe",
              "variable_name": "df",
              "summary": "{\n  \"name\": \"df\",\n  \"rows\": 731,\n  \"fields\": [\n    {\n      \"column\": \"instant\",\n      \"properties\": {\n        \"dtype\": \"number\",\n        \"std\": 211,\n        \"min\": 1,\n        \"max\": 731,\n        \"num_unique_values\": 731,\n        \"samples\": [\n          704,\n          34,\n          301\n        ],\n        \"semantic_type\": \"\",\n        \"description\": \"\"\n      }\n    },\n    {\n      \"column\": \"dteday\",\n      \"properties\": {\n        \"dtype\": \"object\",\n        \"num_unique_values\": 731,\n        \"samples\": [\n          \"2012-12-04\",\n          \"2011-02-03\",\n          \"2011-10-28\"\n        ],\n        \"semantic_type\": \"\",\n        \"description\": \"\"\n      }\n    },\n    {\n      \"column\": \"season\",\n      \"properties\": {\n        \"dtype\": \"number\",\n        \"std\": 1,\n        \"min\": 1,\n        \"max\": 4,\n        \"num_unique_values\": 4,\n        \"samples\": [\n          2,\n          4,\n          1\n        ],\n        \"semantic_type\": \"\",\n        \"description\": \"\"\n      }\n    },\n    {\n      \"column\": \"yr\",\n      \"properties\": {\n        \"dtype\": \"number\",\n        \"std\": 0,\n        \"min\": 0,\n        \"max\": 1,\n        \"num_unique_values\": 2,\n        \"samples\": [\n          1,\n          0\n        ],\n        \"semantic_type\": \"\",\n        \"description\": \"\"\n      }\n    },\n    {\n      \"column\": \"mnth\",\n      \"properties\": {\n        \"dtype\": \"number\",\n        \"std\": 3,\n        \"min\": 1,\n        \"max\": 12,\n        \"num_unique_values\": 12,\n        \"samples\": [\n          11,\n          10\n        ],\n        \"semantic_type\": \"\",\n        \"description\": \"\"\n      }\n    },\n    {\n      \"column\": \"holiday\",\n      \"properties\": {\n        \"dtype\": \"number\",\n        \"std\": 0,\n        \"min\": 0,\n        \"max\": 1,\n        \"num_unique_values\": 2,\n        \"samples\": [\n          1,\n          0\n        ],\n        \"semantic_type\": \"\",\n        \"description\": \"\"\n      }\n    },\n    {\n      \"column\": \"weekday\",\n      \"properties\": {\n        \"dtype\": \"number\",\n        \"std\": 2,\n        \"min\": 0,\n        \"max\": 6,\n        \"num_unique_values\": 7,\n        \"samples\": [\n          6,\n          0\n        ],\n        \"semantic_type\": \"\",\n        \"description\": \"\"\n      }\n    },\n    {\n      \"column\": \"workingday\",\n      \"properties\": {\n        \"dtype\": \"number\",\n        \"std\": 0,\n        \"min\": 0,\n        \"max\": 1,\n        \"num_unique_values\": 2,\n        \"samples\": [\n          1,\n          0\n        ],\n        \"semantic_type\": \"\",\n        \"description\": \"\"\n      }\n    },\n    {\n      \"column\": \"weathersit\",\n      \"properties\": {\n        \"dtype\": \"number\",\n        \"std\": 0,\n        \"min\": 1,\n        \"max\": 3,\n        \"num_unique_values\": 3,\n        \"samples\": [\n          2,\n          1\n        ],\n        \"semantic_type\": \"\",\n        \"description\": \"\"\n      }\n    },\n    {\n      \"column\": \"temp\",\n      \"properties\": {\n        \"dtype\": \"number\",\n        \"std\": 0.18305099611148867,\n        \"min\": 0.0591304,\n        \"max\": 0.861667,\n        \"num_unique_values\": 499,\n        \"samples\": [\n          0.544167,\n          0.430435\n        ],\n        \"semantic_type\": \"\",\n        \"description\": \"\"\n      }\n    },\n    {\n      \"column\": \"atemp\",\n      \"properties\": {\n        \"dtype\": \"number\",\n        \"std\": 0.16296117838631127,\n        \"min\": 0.0790696,\n        \"max\": 0.840896,\n        \"num_unique_values\": 690,\n        \"samples\": [\n          0.463375,\n          0.599754\n        ],\n        \"semantic_type\": \"\",\n        \"description\": \"\"\n      }\n    },\n    {\n      \"column\": \"hum\",\n      \"properties\": {\n        \"dtype\": \"number\",\n        \"std\": 0.14242909513835394,\n        \"min\": 0.0,\n        \"max\": 0.9725,\n        \"num_unique_values\": 595,\n        \"samples\": [\n          0.707083,\n          0.718333\n        ],\n        \"semantic_type\": \"\",\n        \"description\": \"\"\n      }\n    },\n    {\n      \"column\": \"windspeed\",\n      \"properties\": {\n        \"dtype\": \"number\",\n        \"std\": 0.07749787068166943,\n        \"min\": 0.0223917,\n        \"max\": 0.507463,\n        \"num_unique_values\": 650,\n        \"samples\": [\n          0.100742,\n          0.139308\n        ],\n        \"semantic_type\": \"\",\n        \"description\": \"\"\n      }\n    },\n    {\n      \"column\": \"casual\",\n      \"properties\": {\n        \"dtype\": \"number\",\n        \"std\": 686,\n        \"min\": 2,\n        \"max\": 3410,\n        \"num_unique_values\": 606,\n        \"samples\": [\n          709,\n          449\n        ],\n        \"semantic_type\": \"\",\n        \"description\": \"\"\n      }\n    },\n    {\n      \"column\": \"registered\",\n      \"properties\": {\n        \"dtype\": \"number\",\n        \"std\": 1560,\n        \"min\": 20,\n        \"max\": 6946,\n        \"num_unique_values\": 679,\n        \"samples\": [\n          4531,\n          2553\n        ],\n        \"semantic_type\": \"\",\n        \"description\": \"\"\n      }\n    },\n    {\n      \"column\": \"cnt\",\n      \"properties\": {\n        \"dtype\": \"number\",\n        \"std\": 1937,\n        \"min\": 22,\n        \"max\": 8714,\n        \"num_unique_values\": 696,\n        \"samples\": [\n          5170,\n          1607\n        ],\n        \"semantic_type\": \"\",\n        \"description\": \"\"\n      }\n    }\n  ]\n}"
            }
          },
          "metadata": {},
          "execution_count": 148
        }
      ]
    },
    {
      "cell_type": "markdown",
      "source": [
        "Season : \t1:winter, 2:spring, 3:summer, 4:fall\n",
        "\n",
        "Weekday : 0: sunday, 1: monday, 2: tuesday, 3: wednesday, 4: thursday, 5: friday, 6: saturday"
      ],
      "metadata": {
        "id": "UROiXlSdX0e5"
      },
      "id": "UROiXlSdX0e5"
    },
    {
      "cell_type": "code",
      "source": [
        "X = df[[\"weekday\",\"season\",\"temp\"]]\n",
        "X_ = sm.add_constant(X)\n",
        "y = df[\"cnt\"]\n",
        "\n",
        "X_train, X_test, y_train, y_test = train_test_split(X_,y,test_size=0.8)\n",
        "\n",
        "poisson = sm.GLM(y_train, X_train, family=sm.families.Poisson()).fit()\n",
        "\n",
        "print(poisson.summary())"
      ],
      "metadata": {
        "colab": {
          "base_uri": "https://localhost:8080/"
        },
        "id": "KGWOZUBtH995",
        "outputId": "8605c4f4-efe0-417f-9301-2d49d3d6523b"
      },
      "id": "KGWOZUBtH995",
      "execution_count": 151,
      "outputs": [
        {
          "output_type": "stream",
          "name": "stdout",
          "text": [
            "                 Generalized Linear Model Regression Results                  \n",
            "==============================================================================\n",
            "Dep. Variable:                    cnt   No. Observations:                  146\n",
            "Model:                            GLM   Df Residuals:                      142\n",
            "Model Family:                 Poisson   Df Model:                            3\n",
            "Link Function:                    Log   Scale:                          1.0000\n",
            "Method:                          IRLS   Log-Likelihood:                -39316.\n",
            "Date:                Tue, 15 Jul 2025   Deviance:                       77153.\n",
            "Time:                        04:49:18   Pearson chi2:                 6.97e+04\n",
            "No. Iterations:                     4   Pseudo R-squ. (CS):              1.000\n",
            "Covariance Type:            nonrobust                                         \n",
            "==============================================================================\n",
            "                 coef    std err          z      P>|z|      [0.025      0.975]\n",
            "------------------------------------------------------------------------------\n",
            "const          7.4304      0.005   1427.591      0.000       7.420       7.441\n",
            "weekday        0.0100      0.001     15.413      0.000       0.009       0.011\n",
            "season         0.0810      0.001     63.269      0.000       0.079       0.084\n",
            "temp           1.4992      0.007    204.313      0.000       1.485       1.514\n",
            "==============================================================================\n"
          ]
        }
      ]
    },
    {
      "cell_type": "markdown",
      "source": [
        "2. Avaliar a presença de overdispersion comparando a deviance ao número de graus de liberdade. Em caso afirmativo, ajustar um modelo quasi-Poisson.\n"
      ],
      "metadata": {
        "id": "Nd1aOm__Ghka"
      },
      "id": "Nd1aOm__Ghka"
    },
    {
      "cell_type": "markdown",
      "source": [
        "Overdispersion : Ocorre quando a variância dos dados observados é maior que a variância esperada pelo modelo.\n",
        "\n",
        "Na distribuição Poisson : $Var(Y) = \\mathbb{E}(Y)$.\n",
        "- Se $Var(Y) > \\mathbb{E}(Y)$, overdispersion.\n",
        "\n",
        "Deviance : Medida de qualidade do ajuste em GLM, mede quao distante do modelo perfeito.\n",
        "\n",
        "Se deviance >> graus de liberdade, overdispersion.\n",
        "Teste com deviance / graus de liberade.\n",
        "\n",
        "Quando tiver overdispersion, o erro padrão é subestimado."
      ],
      "metadata": {
        "id": "EKpWrqyFKSNH"
      },
      "id": "EKpWrqyFKSNH"
    },
    {
      "cell_type": "code",
      "source": [
        "dev = poisson.deviance\n",
        "dof = len(X_train) - 4\n",
        "\n",
        "print(dev)\n",
        "print(dof)\n",
        "print(dev/dof) # absurdamente overdispersed"
      ],
      "metadata": {
        "colab": {
          "base_uri": "https://localhost:8080/"
        },
        "id": "LUbNyBtHLTBb",
        "outputId": "8f853c5e-1be1-4b59-e66a-86268c816931"
      },
      "id": "LUbNyBtHLTBb",
      "execution_count": 152,
      "outputs": [
        {
          "output_type": "stream",
          "name": "stdout",
          "text": [
            "77153.39616000425\n",
            "142\n",
            "543.3337757746779\n"
          ]
        }
      ]
    },
    {
      "cell_type": "markdown",
      "source": [
        "Um modelo quasi-poisson ajusta sua variância com um fator de dispersão.\n",
        "$Var(Y) = 𝜙 * \\mathbb{E}(Y)$"
      ],
      "metadata": {
        "id": "nya3SadFOb-E"
      },
      "id": "nya3SadFOb-E"
    },
    {
      "cell_type": "code",
      "source": [
        "# erro robusto -> equivalente a quasi poisson (nao nativo no python)\n",
        "quasi_poisson = sm.GLM(y_train, X_train, family=sm.families.Poisson()).fit(cov_type='HC0')\n",
        "print(quasi_poisson.summary())"
      ],
      "metadata": {
        "colab": {
          "base_uri": "https://localhost:8080/"
        },
        "id": "hqy7-rVFVc6v",
        "outputId": "0b781b83-021f-475f-c6d2-f2842ebbe04b"
      },
      "id": "hqy7-rVFVc6v",
      "execution_count": 153,
      "outputs": [
        {
          "output_type": "stream",
          "name": "stdout",
          "text": [
            "                 Generalized Linear Model Regression Results                  \n",
            "==============================================================================\n",
            "Dep. Variable:                    cnt   No. Observations:                  146\n",
            "Model:                            GLM   Df Residuals:                      142\n",
            "Model Family:                 Poisson   Df Model:                            3\n",
            "Link Function:                    Log   Scale:                          1.0000\n",
            "Method:                          IRLS   Log-Likelihood:                -39316.\n",
            "Date:                Tue, 15 Jul 2025   Deviance:                       77153.\n",
            "Time:                        04:49:28   Pearson chi2:                 6.97e+04\n",
            "No. Iterations:                     4   Pseudo R-squ. (CS):              1.000\n",
            "Covariance Type:                  HC0                                         \n",
            "==============================================================================\n",
            "                 coef    std err          z      P>|z|      [0.025      0.975]\n",
            "------------------------------------------------------------------------------\n",
            "const          7.4304      0.121     61.167      0.000       7.192       7.669\n",
            "weekday        0.0100      0.015      0.691      0.490      -0.018       0.038\n",
            "season         0.0810      0.031      2.636      0.008       0.021       0.141\n",
            "temp           1.4992      0.172      8.738      0.000       1.163       1.835\n",
            "==============================================================================\n"
          ]
        }
      ]
    },
    {
      "cell_type": "markdown",
      "source": [
        "Os coeficientes continuaram os mesmos! Porém ajustamos a significância."
      ],
      "metadata": {
        "id": "_v4awV4OV8Bu"
      },
      "id": "_v4awV4OV8Bu"
    },
    {
      "cell_type": "markdown",
      "source": [
        "### 3. Interpretar os coeficientes do modelo final, discutindo o sinal e o impacto das variáveis selecionadas.\n"
      ],
      "metadata": {
        "id": "pALLVc0kGihE"
      },
      "id": "pALLVc0kGihE"
    },
    {
      "cell_type": "markdown",
      "source": [
        "- Nosso termo constante (intercepto) é significativo e positivo, o valor esperado da contagem sem nenhuma informação sobre o dia.\n",
        "\n",
        "- O coeficiente de weekday é muito pequeno e além disso não é significativo (p-valor > 0.05), ou seja, o dia da semana não influência no aluguel das bicicletas por dia.\n",
        "\n",
        "- O coeficiente season é positivo e muito significativo, dando entender que menos bikes são alugadas no inverno/primavera e mais no verão/outono.\n",
        "\n",
        "- O coeficiente holiday é positivo e significativo, dias com temperaturas mais quentes costumam ter mais aluguéis de bicicleta."
      ],
      "metadata": {
        "id": "7fhMNH-cWHFV"
      },
      "id": "7fhMNH-cWHFV"
    },
    {
      "cell_type": "markdown",
      "source": [
        "### 4. Construir um gráfico de resíduos de deviance vs. valores previstos e avaliar se há padrões sistemáticos.\n"
      ],
      "metadata": {
        "id": "s1xWoeDEGkGX"
      },
      "id": "s1xWoeDEGkGX"
    },
    {
      "cell_type": "code",
      "source": [
        "preds = quasi_poisson.fittedvalues # predicts no treino\n",
        "residuos = quasi_poisson.resid_deviance\n",
        "\n",
        "plt.scatter(preds, residuos, alpha=0.5)\n",
        "plt.xlabel(\"valor predito\")\n",
        "plt.ylabel(\"residuo de deviance\")\n",
        "plt.show()"
      ],
      "metadata": {
        "colab": {
          "base_uri": "https://localhost:8080/",
          "height": 458
        },
        "id": "S4tSh12TZCFG",
        "outputId": "ff1b261f-bf63-43c7-99d7-0de71a61047f"
      },
      "id": "S4tSh12TZCFG",
      "execution_count": 154,
      "outputs": [
        {
          "output_type": "display_data",
          "data": {
            "text/plain": [
              "<Figure size 640x480 with 1 Axes>"
            ],
            "image/png": "[encoded data removed]"
          },
          "metadata": {}
        }
      ]
    },
    {
      "cell_type": "markdown",
      "source": [
        "Os resíduos estão razoávelmente centrados em torno de 0, o que mostra uma boa estimativa da média da contagem.\n",
        "\n",
        "Existe uma leve tendência de subida e descida no resíduo com a variação do valor predito, mas pouco."
      ],
      "metadata": {
        "id": "g1IjoTqCaKZL"
      },
      "id": "g1IjoTqCaKZL"
    },
    {
      "cell_type": "markdown",
      "source": [
        "### 5. Comparar o modelo final com um modelo de regressão linear simples (OLS) ajustado à mesma variável resposta. Discuta por que o modelo GLM é mais adequado neste caso."
      ],
      "metadata": {
        "id": "7VRuKG0JGleH"
      },
      "id": "7VRuKG0JGleH"
    },
    {
      "cell_type": "code",
      "source": [
        "linreg = sm.OLS(y_train, X_train).fit()\n",
        "\n",
        "print(linreg.summary())"
      ],
      "metadata": {
        "colab": {
          "base_uri": "https://localhost:8080/"
        },
        "id": "sMiP8ojobqLY",
        "outputId": "59045dea-a815-4d66-a62c-306081ee6be0"
      },
      "id": "sMiP8ojobqLY",
      "execution_count": 155,
      "outputs": [
        {
          "output_type": "stream",
          "name": "stdout",
          "text": [
            "                            OLS Regression Results                            \n",
            "==============================================================================\n",
            "Dep. Variable:                    cnt   R-squared:                       0.484\n",
            "Model:                            OLS   Adj. R-squared:                  0.473\n",
            "Method:                 Least Squares   F-statistic:                     44.41\n",
            "Date:                Tue, 15 Jul 2025   Prob (F-statistic):           2.64e-20\n",
            "Time:                        04:55:01   Log-Likelihood:                -1265.3\n",
            "No. Observations:                 146   AIC:                             2539.\n",
            "Df Residuals:                     142   BIC:                             2551.\n",
            "Df Model:                           3                                         \n",
            "Covariance Type:            nonrobust                                         \n",
            "==============================================================================\n",
            "                 coef    std err          t      P>|t|      [0.025      0.975]\n",
            "------------------------------------------------------------------------------\n",
            "const        447.9597    451.316      0.993      0.323    -444.207    1340.126\n",
            "weekday       56.9515     62.996      0.904      0.368     -67.580     181.483\n",
            "season       287.5118    117.533      2.446      0.016      55.172     519.852\n",
            "temp        6748.5596    705.492      9.566      0.000    5353.935    8143.185\n",
            "==============================================================================\n",
            "Omnibus:                        2.418   Durbin-Watson:                   2.020\n",
            "Prob(Omnibus):                  0.299   Jarque-Bera (JB):                2.100\n",
            "Skew:                          -0.290   Prob(JB):                        0.350\n",
            "Kurtosis:                       3.090   Cond. No.                         27.6\n",
            "==============================================================================\n",
            "\n",
            "Notes:\n",
            "[1] Standard Errors assume that the covariance matrix of the errors is correctly specified.\n"
          ]
        }
      ]
    },
    {
      "cell_type": "markdown",
      "source": [
        "Em questão de resultado do treino, realmente os coeficientes significativos se manteram.\n",
        "\n",
        "Porém a variável dependente que estamos prevendo é **discreta e não negativa**\n",
        "\n",
        "Mais do que isso, a regressão linear assume **homecedasticidade**, o que vimos no gráfico que não é verdade. A variância de y cresce de acordo com a média (overdispersion), a variância não é constante.\n",
        "\n",
        "Além disso, a regressão linear o impacto das variáveis independentes em unidades, o que não é verdade, aqui estamos relativizando com (%), o que é mais condizente para estas relações."
      ],
      "metadata": {
        "id": "kKeaI7szcOm3"
      },
      "id": "kKeaI7szcOm3"
    },
    {
      "cell_type": "markdown",
      "id": "b312c873",
      "metadata": {
        "id": "b312c873"
      },
      "source": [
        "## 3. Pareamento por Escore de Propensão (PSM)\n",
        "\n",
        "**Enunciado:**\n",
        "\n",
        "Nesta parte, você irá aplicar o método de Pareamento por Escore de Propensão (PSM) para estimar o efeito da presença de diabetes sobre os gastos médicos totais de indivíduos, com base em dados observacionais.\n",
        "\n",
        "Tarefas:\n",
        "1. Análise Exploratória\n",
        "  - Apresente uma análise descritiva das covariáveis (age, sex, race, poverty, marital_status).\n",
        "  - Compare os grupos com e sem diabetes em termos dessas características e do desfecho (totexp).\n",
        "\n",
        "2. Estimativa do Escore de Propensão\n",
        "  - Modele a probabilidade de ter diabetes usando uma regressão logística com as covariáveis explicativas apropriadas.\n",
        "  - Apresente os coeficientes estimados e discuta os fatores mais associados à presença de diabetes.\n",
        "\n",
        "3. Pareamento 1:1 por escore de propensão\n",
        "  - Realize o pareamento 1:1 sem reposição com base no escore estimado.\n",
        "  - Avalie o balanceamento das covariáveis antes e depois do pareamento.\n",
        "\n",
        "4. Estimativa do Efeito do Tratamento (ATT)\n",
        "  - Calcule a diferença média nos gastos totais (totexp) entre indivíduos com diabetes e seus controles pareados.\n",
        "  - Construa um intervalo de confiança para essa diferença com bootstrap.\n",
        "\n",
        "5. Discussão\n",
        "  - Comente sobre a qualidade do pareamento e possíveis vieses remanescentes.\n",
        "  - Interprete o ATT obtido: qual o impacto médio estimado da diabetes sobre os gastos médicos?"
      ]
    },
    {
      "cell_type": "markdown",
      "id": "c8a74cdd",
      "metadata": {
        "id": "c8a74cdd"
      },
      "source": [
        "### Explicação\n",
        "\n",
        "[Adicione aqui suas explicações e análises.]"
      ]
    },
    {
      "cell_type": "markdown",
      "id": "d868b55e",
      "metadata": {
        "id": "d868b55e"
      },
      "source": [
        "## 4. Inferência Bayesiana\n",
        "\n",
        "**Enunciado:**\n",
        "\n",
        "Nesta parte, você irá utilizar a inferência bayesiana para estimar a proporção de sobrevivência (θ) de passageiros, incorporando diferentes hipóteses a priori e comparando-as com a evidência empírica observada.\n",
        "\n",
        "Tarefas:\n",
        "1. Pré-processamento dos dados\n",
        "  a) Filtre apenas os passageiros adultos (idade ≥ 18).\n",
        "  b) Crie uma variável binária indicando se o passageiro sobreviveu (1) ou não (0).\n",
        "\n",
        "2. Modelagem a priori para θ\n",
        "  a) Escolha duas distribuições Beta para θ, por exemplo:\n",
        "     - Beta(1,1): não informativa (uniforme)\n",
        "     - Beta(2,5): refletindo a crença de que poucos adultos sobrevivem\n",
        "  b) Justifique suas escolhas para as distribuições a priori.\n",
        "\n",
        "3. Cálculo da distribuição a posteriori\n",
        "  a) Determine os parâmetros da posteriori com base nos dados observados.\n",
        "  b) Plote as distribuições a priori e a posteriori em um mesmo gráfico.\n",
        "  c) Compare e interprete as distribuições resultantes.\n",
        "\n",
        "4. Estatísticas da posteriori\n",
        "  a) Calcule a média e o intervalo de credibilidade de 95% para θ, em cada cenário.\n",
        "  b) Interprete os resultados obtidos, considerando o contexto do problema.\n",
        "\n",
        "5. Discussão\n",
        "  - Discuta como as diferentes escolhas de priori influenciaram os resultados.\n",
        "  - Em que contextos o uso da abordagem bayesiana pode ser mais adequado do que abordagens frequentistas?"
      ]
    },
    {
      "cell_type": "markdown",
      "id": "2693bc33",
      "metadata": {
        "id": "2693bc33"
      },
      "source": [
        "### Explicação\n",
        "\n",
        "[Adicione aqui suas explicações e análises.]"
      ]
    }
  ],
  "metadata": {
    "colab": {
      "provenance": [],
      "include_colab_link": true
    },
    "language_info": {
      "name": "python"
    },
    "kernelspec": {
      "name": "python3",
      "display_name": "Python 3"
    }
  },
  "nbformat": 4,
  "nbformat_minor": 5
}