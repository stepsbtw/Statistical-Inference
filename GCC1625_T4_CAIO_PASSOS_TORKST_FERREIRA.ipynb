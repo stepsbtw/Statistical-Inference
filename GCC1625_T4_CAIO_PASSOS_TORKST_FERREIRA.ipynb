{
  "cells": [
    {
      "cell_type": "markdown",
      "metadata": {
        "id": "view-in-github",
        "colab_type": "text"
      },
      "source": [
        "<a href=\"https://colab.research.google.com/github/stepsbtw/Statistical-Inference/blob/main/GCC1625_T4_CAIO_PASSOS_TORKST_FERREIRA.ipynb\" target=\"_parent\"><img src=\"https://colab.research.google.com/assets/colab-badge.svg\" alt=\"Open In Colab\"/></a>"
      ]
    },
    {
      "cell_type": "markdown",
      "id": "6329b646",
      "metadata": {
        "id": "6329b646"
      },
      "source": [
        "# GCC1625 - Inferência Estatística - Trabalho 4\n",
        "**Nome:** Caio Passos Torkst Ferreira\n",
        "\n",
        "**Link do vídeo:** https://youtu.be/9inU0UqH9SY"
      ]
    },
    {
      "cell_type": "code",
      "execution_count": 120,
      "id": "238d0b93",
      "metadata": {
        "id": "238d0b93"
      },
      "outputs": [],
      "source": [
        "import matplotlib.pyplot as plt\n",
        "import seaborn as sns\n",
        "from scipy import stats"
      ]
    },
    {
      "cell_type": "markdown",
      "id": "cc02fd56",
      "metadata": {
        "id": "cc02fd56"
      },
      "source": [
        "## 1) GLMs - Regressão Logística\n",
        "\n",
        "A regressão logística é uma ferramenta fundamental na modelagem de variáveis categóricas binárias.\n",
        "Neste item avaliativo, você aplicará esse modelo para identificar fatores associados à sobrevivência de passageiros no naufrágio do Titanic."
      ]
    },
    {
      "cell_type": "code",
      "execution_count": 121,
      "id": "d1d7c3dd",
      "metadata": {
        "id": "d1d7c3dd",
        "colab": {
          "base_uri": "https://localhost:8080/"
        },
        "outputId": "3b4aafd3-7c8e-4eb1-8e31-97c52eb9a15f"
      },
      "outputs": [
        {
          "output_type": "stream",
          "name": "stdout",
          "text": [
            "<class 'pandas.core.frame.DataFrame'>\n",
            "RangeIndex: 891 entries, 0 to 890\n",
            "Data columns (total 12 columns):\n",
            " #   Column       Non-Null Count  Dtype  \n",
            "---  ------       --------------  -----  \n",
            " 0   PassengerId  891 non-null    int64  \n",
            " 1   Survived     891 non-null    int64  \n",
            " 2   Pclass       891 non-null    int64  \n",
            " 3   Name         891 non-null    object \n",
            " 4   Sex          891 non-null    object \n",
            " 5   Age          714 non-null    float64\n",
            " 6   SibSp        891 non-null    int64  \n",
            " 7   Parch        891 non-null    int64  \n",
            " 8   Ticket       891 non-null    object \n",
            " 9   Fare         891 non-null    float64\n",
            " 10  Cabin        204 non-null    object \n",
            " 11  Embarked     889 non-null    object \n",
            "dtypes: float64(2), int64(5), object(5)\n",
            "memory usage: 83.7+ KB\n"
          ]
        }
      ],
      "source": [
        "import pandas as pd\n",
        "\n",
        "df = pd.read_csv(\"titanic.csv\")\n",
        "df.info()"
      ]
    },
    {
      "cell_type": "markdown",
      "source": [
        "### 1. Ajustar um modelo de regressão logística para prever Survived, utilizando pelo menos três variáveis explicativas: Sex, Pclass, Age, SibSp, ou outras de sua escolha."
      ],
      "metadata": {
        "id": "WjH3eYB9j32G"
      },
      "id": "WjH3eYB9j32G"
    },
    {
      "cell_type": "markdown",
      "source": [
        "Vamos utilizar Age, mas existem valores faltantes. Tratar!"
      ],
      "metadata": {
        "id": "TAk1Mzcyj74f"
      },
      "id": "TAk1Mzcyj74f"
    },
    {
      "cell_type": "code",
      "source": [
        "df_clean = df.dropna(subset=[\"Age\"])\n",
        "df_clean.info()"
      ],
      "metadata": {
        "colab": {
          "base_uri": "https://localhost:8080/"
        },
        "id": "MxXE_6vkkDdO",
        "outputId": "c85fc84b-bbdc-443e-fb47-8c5189f8df7c"
      },
      "id": "MxXE_6vkkDdO",
      "execution_count": 122,
      "outputs": [
        {
          "output_type": "stream",
          "name": "stdout",
          "text": [
            "<class 'pandas.core.frame.DataFrame'>\n",
            "Index: 714 entries, 0 to 890\n",
            "Data columns (total 12 columns):\n",
            " #   Column       Non-Null Count  Dtype  \n",
            "---  ------       --------------  -----  \n",
            " 0   PassengerId  714 non-null    int64  \n",
            " 1   Survived     714 non-null    int64  \n",
            " 2   Pclass       714 non-null    int64  \n",
            " 3   Name         714 non-null    object \n",
            " 4   Sex          714 non-null    object \n",
            " 5   Age          714 non-null    float64\n",
            " 6   SibSp        714 non-null    int64  \n",
            " 7   Parch        714 non-null    int64  \n",
            " 8   Ticket       714 non-null    object \n",
            " 9   Fare         714 non-null    float64\n",
            " 10  Cabin        185 non-null    object \n",
            " 11  Embarked     712 non-null    object \n",
            "dtypes: float64(2), int64(5), object(5)\n",
            "memory usage: 72.5+ KB\n"
          ]
        }
      ]
    },
    {
      "cell_type": "markdown",
      "source": [
        "Sex é variável categórica, preciso transformar em binária"
      ],
      "metadata": {
        "id": "NW3FypBqmOYT"
      },
      "id": "NW3FypBqmOYT"
    },
    {
      "cell_type": "code",
      "source": [
        "df_clean[\"Sex_bin\"] = (df_clean[\"Sex\"] == \"female\").astype(int)\n",
        "# 1 fem 0 masc"
      ],
      "metadata": {
        "colab": {
          "base_uri": "https://localhost:8080/"
        },
        "id": "SO_mmGQkrdEB",
        "outputId": "5cac17b8-60b3-4bb4-bfe9-bfee6c09cfe5"
      },
      "id": "SO_mmGQkrdEB",
      "execution_count": 123,
      "outputs": [
        {
          "output_type": "stream",
          "name": "stderr",
          "text": [
            "/tmp/ipython-input-123-2187651300.py:1: SettingWithCopyWarning: \n",
            "A value is trying to be set on a copy of a slice from a DataFrame.\n",
            "Try using .loc[row_indexer,col_indexer] = value instead\n",
            "\n",
            "See the caveats in the documentation: https://pandas.pydata.org/pandas-docs/stable/user_guide/indexing.html#returning-a-view-versus-a-copy\n",
            "  df_clean[\"Sex_bin\"] = (df_clean[\"Sex\"] == \"female\").astype(int)\n"
          ]
        }
      ]
    },
    {
      "cell_type": "code",
      "source": [
        "import statsmodels.api as sm\n",
        "from sklearn.model_selection import train_test_split\n",
        "\n",
        "X = df_clean[[\"Sex_bin\", \"Age\", \"SibSp\", \"Pclass\"]].values\n",
        "X_ = sm.add_constant(X)\n",
        "y = df_clean[\"Survived\"].values\n",
        "\n",
        "X_train, X_test, y_train, y_test = train_test_split(X_, y, test_size=0.2)\n",
        "\n",
        "model = sm.Logit(y_train, X_train)\n",
        "model_fit = model.fit()\n",
        "\n",
        "print(model_fit.summary())"
      ],
      "metadata": {
        "colab": {
          "base_uri": "https://localhost:8080/"
        },
        "id": "zhE4phDrkVZ8",
        "outputId": "83f5df7f-9e76-437f-e07d-07ea27721845"
      },
      "id": "zhE4phDrkVZ8",
      "execution_count": 124,
      "outputs": [
        {
          "output_type": "stream",
          "name": "stdout",
          "text": [
            "Optimization terminated successfully.\n",
            "         Current function value: 0.453257\n",
            "         Iterations 6\n",
            "                           Logit Regression Results                           \n",
            "==============================================================================\n",
            "Dep. Variable:                      y   No. Observations:                  571\n",
            "Model:                          Logit   Df Residuals:                      566\n",
            "Method:                           MLE   Df Model:                            4\n",
            "Date:                Tue, 15 Jul 2025   Pseudo R-squ.:                  0.3333\n",
            "Time:                        19:14:11   Log-Likelihood:                -258.81\n",
            "converged:                       True   LL-Null:                       -388.18\n",
            "Covariance Type:            nonrobust   LLR p-value:                 8.520e-55\n",
            "==============================================================================\n",
            "                 coef    std err          z      P>|z|      [0.025      0.975]\n",
            "------------------------------------------------------------------------------\n",
            "const          3.4718      0.543      6.393      0.000       2.407       4.536\n",
            "x1             2.5345      0.238     10.633      0.000       2.067       3.002\n",
            "x2            -0.0534      0.009     -5.842      0.000      -0.071      -0.035\n",
            "x3            -0.4458      0.137     -3.244      0.001      -0.715      -0.176\n",
            "x4            -1.3648      0.158     -8.624      0.000      -1.675      -1.055\n",
            "==============================================================================\n"
          ]
        }
      ]
    },
    {
      "cell_type": "markdown",
      "source": [
        "### 2. Interpretar os coeficientes estimados, com especial atenção para o significado de sinais positivos e negativos em termos da chance de sobrevivência."
      ],
      "metadata": {
        "id": "X9XfNmM3r239"
      },
      "id": "X9XfNmM3r239"
    },
    {
      "cell_type": "markdown",
      "source": [
        "Na regressão logística, e^(coeficiente) indica a influência no valor de y ser 1.\n",
        "\n",
        "- O gênero (x1) possui uma relação positiva com a predição, ou seja, ser do sexo feminino te faz mais provável de sobreviver.\n",
        "\n",
        "- O número de irmãos/cônjuge (x3) tem relação negativa com a predição, ou seja, ter mais te faz menos provável de sobreviver.\n",
        "\n",
        "- A idade (x2) não parece influenciar muito na predição (pouco mas negativo).\n",
        "\n",
        "- A classe do ticket (x4) tem relação negativa com a predição, ou seja, ser de classe maior - mais baixa - (primeira, segunda, terceira) te faz menor provável de sobreviver.\n",
        "\n",
        "- O intercepto (constante) representa, o valor esperado de y quando todas as variáveis independentes são iguais a 0, ou seja, sem saber nenhuma informação sobre o indivíduo qual sua probabilidade esperada de sobrevivência."
      ],
      "metadata": {
        "id": "VupHrvthr3wF"
      },
      "id": "VupHrvthr3wF"
    },
    {
      "cell_type": "markdown",
      "source": [
        "\n",
        "###3. Avaliar a significância estatística dos coeficientes e discutir quais variáveis possuem maior impacto na predição."
      ],
      "metadata": {
        "id": "QvTNp-l82p0i"
      },
      "id": "QvTNp-l82p0i"
    },
    {
      "cell_type": "markdown",
      "source": [
        "Com essas variáveis de treino para o modelo, todos os coeficientes são estatisticamente significativos, isto é, seus p-valores são menores que 0.05"
      ],
      "metadata": {
        "id": "FhAn_H3J3CkW"
      },
      "id": "FhAn_H3J3CkW"
    },
    {
      "cell_type": "markdown",
      "source": [
        "### 4. Calcular a probabilidade estimada de sobrevivência para um passageiro do sexo feminino, 25 anos, na 1ª classe, viajando sozinho."
      ],
      "metadata": {
        "id": "8B0__UOiypu7"
      },
      "id": "8B0__UOiypu7"
    },
    {
      "cell_type": "code",
      "source": [
        "import numpy as np\n",
        "\n",
        "x = np.array([1,1,25,0,1]) # adicionei constante direto\n",
        "pred = model_fit.predict(x)\n",
        "print(pred)"
      ],
      "metadata": {
        "colab": {
          "base_uri": "https://localhost:8080/"
        },
        "id": "W59SbXdQywMH",
        "outputId": "069ba01a-079c-4f30-95dc-ac406516c4ce"
      },
      "id": "W59SbXdQywMH",
      "execution_count": 125,
      "outputs": [
        {
          "output_type": "stream",
          "name": "stdout",
          "text": [
            "[0.96465464]\n"
          ]
        }
      ]
    },
    {
      "cell_type": "markdown",
      "source": [
        "### 5. Avaliar o desempenho do modelo com métricas como acurácia, precisão, recall e matriz de confusão."
      ],
      "metadata": {
        "id": "69f84U_Qyskh"
      },
      "id": "69f84U_Qyskh"
    },
    {
      "cell_type": "code",
      "source": [
        "from sklearn.metrics import confusion_matrix\n",
        "from sklearn.metrics import accuracy_score, precision_score, recall_score\n",
        "\n",
        "y_pred = model_fit.predict(X_test)\n",
        "y_pred_bin = (y_pred >= 0.5).astype(int)\n",
        "\n",
        "cm = confusion_matrix(y_test, y_pred_bin)\n",
        "print(cm)\n",
        "\n",
        "TN = cm[0][0]\n",
        "FP = cm[0][1]\n",
        "FN = cm[1][0]\n",
        "TP = cm[1][1]\n",
        "\n",
        "print(\"accuracy = \", (TP + TN) / (TP+FP+TN+FN))\n",
        "print(\"precision = \", TP / (TP+FP))\n",
        "print(\"recall = \", TP / (TP+FN))\n"
      ],
      "metadata": {
        "colab": {
          "base_uri": "https://localhost:8080/"
        },
        "id": "SFL-KOP09RoL",
        "outputId": "5655bbc5-cc25-43f0-c813-1ba32c821127"
      },
      "id": "SFL-KOP09RoL",
      "execution_count": 126,
      "outputs": [
        {
          "output_type": "stream",
          "name": "stdout",
          "text": [
            "[[77 15]\n",
            " [13 38]]\n",
            "accuracy =  0.8041958041958042\n",
            "precision =  0.7169811320754716\n",
            "recall =  0.7450980392156863\n"
          ]
        }
      ]
    },
    {
      "cell_type": "markdown",
      "source": [
        "### 6. Verificar graficamente se há padrões nos resíduos de Pearson que indiquem problemas de ajuste."
      ],
      "metadata": {
        "id": "y_Pn6GQuytgi"
      },
      "id": "y_Pn6GQuytgi"
    },
    {
      "cell_type": "code",
      "source": [
        "y_train_pred = model_fit.predict(X_train)\n",
        "\n",
        "residuos = model_fit.resid_pearson\n",
        "\n",
        "plt.scatter(y_train_pred, residuos, alpha=0.5)\n",
        "plt.show()\n",
        "\n",
        "# quao distante o observado esta do previsto, valores bons devem estar em torno de 0\n",
        "# acha \"outliers\", valores grandes (em modulo)"
      ],
      "metadata": {
        "colab": {
          "base_uri": "https://localhost:8080/",
          "height": 430
        },
        "id": "RyAPCFLWC7SP",
        "outputId": "fbe2834b-ffcc-4cc0-f48a-e94c15f81133"
      },
      "id": "RyAPCFLWC7SP",
      "execution_count": 127,
      "outputs": [
        {
          "output_type": "display_data",
          "data": {
            "text/plain": [
              "<Figure size 640x480 with 1 Axes>"
            ],
            "image/png": "[encoded data removed]"
          },
          "metadata": {}
        }
      ]
    },
    {
      "cell_type": "markdown",
      "source": [
        "A relação entre os preditores e a predição é não-linear, a Regressão Linear não é adequada neste caso."
      ],
      "metadata": {
        "id": "_rxFJ9lJFHLr"
      },
      "id": "_rxFJ9lJFHLr"
    },
    {
      "cell_type": "markdown",
      "id": "0c87bf2f",
      "metadata": {
        "id": "0c87bf2f"
      },
      "source": [
        "## 2) GLMs - Regressão de Poisson\n",
        "\n",
        "Modelos Lineares Generalizados (GLMs) oferecem uma estrutura flexível para modelar variáveis resposta com distribuições da família exponencial.\n",
        "Nesta tarefa, você irá explorar um caso em que a variável resposta é de contagem, ajustando modelos alternativos e avaliando a qualidade do ajuste."
      ]
    },
    {
      "cell_type": "markdown",
      "source": [
        "1. Ajustar um modelo de regressão de Poisson para modelar a variável ‘cnt‘ com base em pelo menos três variáveis explicativas de sua escolha.\n"
      ],
      "metadata": {
        "id": "mUjhL9IlGgM7"
      },
      "id": "mUjhL9IlGgM7"
    },
    {
      "cell_type": "code",
      "source": [
        "df = pd.read_csv(\"day.csv\")\n",
        "df.info()\n",
        "df.head()"
      ],
      "metadata": {
        "colab": {
          "base_uri": "https://localhost:8080/",
          "height": 605
        },
        "id": "_vxlAdFKI2G8",
        "outputId": "56e2d3fb-ab80-4809-c152-3cb7644895f4"
      },
      "id": "_vxlAdFKI2G8",
      "execution_count": 215,
      "outputs": [
        {
          "output_type": "stream",
          "name": "stdout",
          "text": [
            "<class 'pandas.core.frame.DataFrame'>\n",
            "RangeIndex: 731 entries, 0 to 730\n",
            "Data columns (total 16 columns):\n",
            " #   Column      Non-Null Count  Dtype  \n",
            "---  ------      --------------  -----  \n",
            " 0   instant     731 non-null    int64  \n",
            " 1   dteday      731 non-null    object \n",
            " 2   season      731 non-null    int64  \n",
            " 3   yr          731 non-null    int64  \n",
            " 4   mnth        731 non-null    int64  \n",
            " 5   holiday     731 non-null    int64  \n",
            " 6   weekday     731 non-null    int64  \n",
            " 7   workingday  731 non-null    int64  \n",
            " 8   weathersit  731 non-null    int64  \n",
            " 9   temp        731 non-null    float64\n",
            " 10  atemp       731 non-null    float64\n",
            " 11  hum         731 non-null    float64\n",
            " 12  windspeed   731 non-null    float64\n",
            " 13  casual      731 non-null    int64  \n",
            " 14  registered  731 non-null    int64  \n",
            " 15  cnt         731 non-null    int64  \n",
            "dtypes: float64(4), int64(11), object(1)\n",
            "memory usage: 91.5+ KB\n"
          ]
        },
        {
          "output_type": "execute_result",
          "data": {
            "text/plain": [
              "   instant      dteday  season  yr  mnth  holiday  weekday  workingday  \\\n",
              "0        1  2011-01-01       1   0     1        0        6           0   \n",
              "1        2  2011-01-02       1   0     1        0        0           0   \n",
              "2        3  2011-01-03       1   0     1        0        1           1   \n",
              "3        4  2011-01-04       1   0     1        0        2           1   \n",
              "4        5  2011-01-05       1   0     1        0        3           1   \n",
              "\n",
              "   weathersit      temp     atemp       hum  windspeed  casual  registered  \\\n",
              "0           2  0.344167  0.363625  0.805833   0.160446     331         654   \n",
              "1           2  0.363478  0.353739  0.696087   0.248539     131         670   \n",
              "2           1  0.196364  0.189405  0.437273   0.248309     120        1229   \n",
              "3           1  0.200000  0.212122  0.590435   0.160296     108        1454   \n",
              "4           1  0.226957  0.229270  0.436957   0.186900      82        1518   \n",
              "\n",
              "    cnt  \n",
              "0   985  \n",
              "1   801  \n",
              "2  1349  \n",
              "3  1562  \n",
              "4  1600  "
            ],
            "text/html": [
              "\n",
              "  <div id=\"df-c9c072df-4ced-4fed-b114-28b739fa50d3\" class=\"colab-df-container\">\n",
              "    <div>\n",
              "<style scoped>\n",
              "    .dataframe tbody tr th:only-of-type {\n",
              "        vertical-align: middle;\n",
              "    }\n",
              "\n",
              "    .dataframe tbody tr th {\n",
              "        vertical-align: top;\n",
              "    }\n",
              "\n",
              "    .dataframe thead th {\n",
              "        text-align: right;\n",
              "    }\n",
              "</style>\n",
              "<table border=\"1\" class=\"dataframe\">\n",
              "  <thead>\n",
              "    <tr style=\"text-align: right;\">\n",
              "      <th></th>\n",
              "      <th>instant</th>\n",
              "      <th>dteday</th>\n",
              "      <th>season</th>\n",
              "      <th>yr</th>\n",
              "      <th>mnth</th>\n",
              "      <th>holiday</th>\n",
              "      <th>weekday</th>\n",
              "      <th>workingday</th>\n",
              "      <th>weathersit</th>\n",
              "      <th>temp</th>\n",
              "      <th>atemp</th>\n",
              "      <th>hum</th>\n",
              "      <th>windspeed</th>\n",
              "      <th>casual</th>\n",
              "      <th>registered</th>\n",
              "      <th>cnt</th>\n",
              "    </tr>\n",
              "  </thead>\n",
              "  <tbody>\n",
              "    <tr>\n",
              "      <th>0</th>\n",
              "      <td>1</td>\n",
              "      <td>2011-01-01</td>\n",
              "      <td>1</td>\n",
              "      <td>0</td>\n",
              "      <td>1</td>\n",
              "      <td>0</td>\n",
              "      <td>6</td>\n",
              "      <td>0</td>\n",
              "      <td>2</td>\n",
              "      <td>0.344167</td>\n",
              "      <td>0.363625</td>\n",
              "      <td>0.805833</td>\n",
              "      <td>0.160446</td>\n",
              "      <td>331</td>\n",
              "      <td>654</td>\n",
              "      <td>985</td>\n",
              "    </tr>\n",
              "    <tr>\n",
              "      <th>1</th>\n",
              "      <td>2</td>\n",
              "      <td>2011-01-02</td>\n",
              "      <td>1</td>\n",
              "      <td>0</td>\n",
              "      <td>1</td>\n",
              "      <td>0</td>\n",
              "      <td>0</td>\n",
              "      <td>0</td>\n",
              "      <td>2</td>\n",
              "      <td>0.363478</td>\n",
              "      <td>0.353739</td>\n",
              "      <td>0.696087</td>\n",
              "      <td>0.248539</td>\n",
              "      <td>131</td>\n",
              "      <td>670</td>\n",
              "      <td>801</td>\n",
              "    </tr>\n",
              "    <tr>\n",
              "      <th>2</th>\n",
              "      <td>3</td>\n",
              "      <td>2011-01-03</td>\n",
              "      <td>1</td>\n",
              "      <td>0</td>\n",
              "      <td>1</td>\n",
              "      <td>0</td>\n",
              "      <td>1</td>\n",
              "      <td>1</td>\n",
              "      <td>1</td>\n",
              "      <td>0.196364</td>\n",
              "      <td>0.189405</td>\n",
              "      <td>0.437273</td>\n",
              "      <td>0.248309</td>\n",
              "      <td>120</td>\n",
              "      <td>1229</td>\n",
              "      <td>1349</td>\n",
              "    </tr>\n",
              "    <tr>\n",
              "      <th>3</th>\n",
              "      <td>4</td>\n",
              "      <td>2011-01-04</td>\n",
              "      <td>1</td>\n",
              "      <td>0</td>\n",
              "      <td>1</td>\n",
              "      <td>0</td>\n",
              "      <td>2</td>\n",
              "      <td>1</td>\n",
              "      <td>1</td>\n",
              "      <td>0.200000</td>\n",
              "      <td>0.212122</td>\n",
              "      <td>0.590435</td>\n",
              "      <td>0.160296</td>\n",
              "      <td>108</td>\n",
              "      <td>1454</td>\n",
              "      <td>1562</td>\n",
              "    </tr>\n",
              "    <tr>\n",
              "      <th>4</th>\n",
              "      <td>5</td>\n",
              "      <td>2011-01-05</td>\n",
              "      <td>1</td>\n",
              "      <td>0</td>\n",
              "      <td>1</td>\n",
              "      <td>0</td>\n",
              "      <td>3</td>\n",
              "      <td>1</td>\n",
              "      <td>1</td>\n",
              "      <td>0.226957</td>\n",
              "      <td>0.229270</td>\n",
              "      <td>0.436957</td>\n",
              "      <td>0.186900</td>\n",
              "      <td>82</td>\n",
              "      <td>1518</td>\n",
              "      <td>1600</td>\n",
              "    </tr>\n",
              "  </tbody>\n",
              "</table>\n",
              "</div>\n",
              "    <div class=\"colab-df-buttons\">\n",
              "\n",
              "  <div class=\"colab-df-container\">\n",
              "    <button class=\"colab-df-convert\" onclick=\"convertToInteractive('df-c9c072df-4ced-4fed-b114-28b739fa50d3')\"\n",
              "            title=\"Convert this dataframe to an interactive table.\"\n",
              "            style=\"display:none;\">\n",
              "\n",
              "  <svg xmlns=\"http://www.w3.org/2000/svg\" height=\"24px\" viewBox=\"0 -960 960 960\">\n",
              "    <path d=\"M120-120v-720h720v720H120Zm60-500h600v-160H180v160Zm220 220h160v-160H400v160Zm0 220h160v-160H400v160ZM180-400h160v-160H180v160Zm440 0h160v-160H620v160ZM180-180h160v-160H180v160Zm440 0h160v-160H620v160Z\"/>\n",
              "  </svg>\n",
              "    </button>\n",
              "\n",
              "  <style>\n",
              "    .colab-df-container {\n",
              "      display:flex;\n",
              "      gap: 12px;\n",
              "    }\n",
              "\n",
              "    .colab-df-convert {\n",
              "      background-color: #E8F0FE;\n",
              "      border: none;\n",
              "      border-radius: 50%;\n",
              "      cursor: pointer;\n",
              "      display: none;\n",
              "      fill: #1967D2;\n",
              "      height: 32px;\n",
              "      padding: 0 0 0 0;\n",
              "      width: 32px;\n",
              "    }\n",
              "\n",
              "    .colab-df-convert:hover {\n",
              "      background-color: #E2EBFA;\n",
              "      box-shadow: 0px 1px 2px rgba(60, 64, 67, 0.3), 0px 1px 3px 1px rgba(60, 64, 67, 0.15);\n",
              "      fill: #174EA6;\n",
              "    }\n",
              "\n",
              "    .colab-df-buttons div {\n",
              "      margin-bottom: 4px;\n",
              "    }\n",
              "\n",
              "    [theme=dark] .colab-df-convert {\n",
              "      background-color: #3B4455;\n",
              "      fill: #D2E3FC;\n",
              "    }\n",
              "\n",
              "    [theme=dark] .colab-df-convert:hover {\n",
              "      background-color: #434B5C;\n",
              "      box-shadow: 0px 1px 3px 1px rgba(0, 0, 0, 0.15);\n",
              "      filter: drop-shadow(0px 1px 2px rgba(0, 0, 0, 0.3));\n",
              "      fill: #FFFFFF;\n",
              "    }\n",
              "  </style>\n",
              "\n",
              "    <script>\n",
              "      const buttonEl =\n",
              "        document.querySelector('#df-c9c072df-4ced-4fed-b114-28b739fa50d3 button.colab-df-convert');\n",
              "      buttonEl.style.display =\n",
              "        google.colab.kernel.accessAllowed ? 'block' : 'none';\n",
              "\n",
              "      async function convertToInteractive(key) {\n",
              "        const element = document.querySelector('#df-c9c072df-4ced-4fed-b114-28b739fa50d3');\n",
              "        const dataTable =\n",
              "          await google.colab.kernel.invokeFunction('convertToInteractive',\n",
              "                                                    [key], {});\n",
              "        if (!dataTable) return;\n",
              "\n",
              "        const docLinkHtml = 'Like what you see? Visit the ' +\n",
              "          '<a target=\"_blank\" href=https://colab.research.google.com/notebooks/data_table.ipynb>data table notebook</a>'\n",
              "          + ' to learn more about interactive tables.';\n",
              "        element.innerHTML = '';\n",
              "        dataTable['output_type'] = 'display_data';\n",
              "        await google.colab.output.renderOutput(dataTable, element);\n",
              "        const docLink = document.createElement('div');\n",
              "        docLink.innerHTML = docLinkHtml;\n",
              "        element.appendChild(docLink);\n",
              "      }\n",
              "    </script>\n",
              "  </div>\n",
              "\n",
              "\n",
              "    <div id=\"df-07fd74d7-66ca-4c41-80df-6b61804d4d63\">\n",
              "      <button class=\"colab-df-quickchart\" onclick=\"quickchart('df-07fd74d7-66ca-4c41-80df-6b61804d4d63')\"\n",
              "                title=\"Suggest charts\"\n",
              "                style=\"display:none;\">\n",
              "\n",
              "<svg xmlns=\"http://www.w3.org/2000/svg\" height=\"24px\"viewBox=\"0 0 24 24\"\n",
              "     width=\"24px\">\n",
              "    <g>\n",
              "        <path d=\"M19 3H5c-1.1 0-2 .9-2 2v14c0 1.1.9 2 2 2h14c1.1 0 2-.9 2-2V5c0-1.1-.9-2-2-2zM9 17H7v-7h2v7zm4 0h-2V7h2v10zm4 0h-2v-4h2v4z\"/>\n",
              "    </g>\n",
              "</svg>\n",
              "      </button>\n",
              "\n",
              "<style>\n",
              "  .colab-df-quickchart {\n",
              "      --bg-color: #E8F0FE;\n",
              "      --fill-color: #1967D2;\n",
              "      --hover-bg-color: #E2EBFA;\n",
              "      --hover-fill-color: #174EA6;\n",
              "      --disabled-fill-color: #AAA;\n",
              "      --disabled-bg-color: #DDD;\n",
              "  }\n",
              "\n",
              "  [theme=dark] .colab-df-quickchart {\n",
              "      --bg-color: #3B4455;\n",
              "      --fill-color: #D2E3FC;\n",
              "      --hover-bg-color: #434B5C;\n",
              "      --hover-fill-color: #FFFFFF;\n",
              "      --disabled-bg-color: #3B4455;\n",
              "      --disabled-fill-color: #666;\n",
              "  }\n",
              "\n",
              "  .colab-df-quickchart {\n",
              "    background-color: var(--bg-color);\n",
              "    border: none;\n",
              "    border-radius: 50%;\n",
              "    cursor: pointer;\n",
              "    display: none;\n",
              "    fill: var(--fill-color);\n",
              "    height: 32px;\n",
              "    padding: 0;\n",
              "    width: 32px;\n",
              "  }\n",
              "\n",
              "  .colab-df-quickchart:hover {\n",
              "    background-color: var(--hover-bg-color);\n",
              "    box-shadow: 0 1px 2px rgba(60, 64, 67, 0.3), 0 1px 3px 1px rgba(60, 64, 67, 0.15);\n",
              "    fill: var(--button-hover-fill-color);\n",
              "  }\n",
              "\n",
              "  .colab-df-quickchart-complete:disabled,\n",
              "  .colab-df-quickchart-complete:disabled:hover {\n",
              "    background-color: var(--disabled-bg-color);\n",
              "    fill: var(--disabled-fill-color);\n",
              "    box-shadow: none;\n",
              "  }\n",
              "\n",
              "  .colab-df-spinner {\n",
              "    border: 2px solid var(--fill-color);\n",
              "    border-color: transparent;\n",
              "    border-bottom-color: var(--fill-color);\n",
              "    animation:\n",
              "      spin 1s steps(1) infinite;\n",
              "  }\n",
              "\n",
              "  @keyframes spin {\n",
              "    0% {\n",
              "      border-color: transparent;\n",
              "      border-bottom-color: var(--fill-color);\n",
              "      border-left-color: var(--fill-color);\n",
              "    }\n",
              "    20% {\n",
              "      border-color: transparent;\n",
              "      border-left-color: var(--fill-color);\n",
              "      border-top-color: var(--fill-color);\n",
              "    }\n",
              "    30% {\n",
              "      border-color: transparent;\n",
              "      border-left-color: var(--fill-color);\n",
              "      border-top-color: var(--fill-color);\n",
              "      border-right-color: var(--fill-color);\n",
              "    }\n",
              "    40% {\n",
              "      border-color: transparent;\n",
              "      border-right-color: var(--fill-color);\n",
              "      border-top-color: var(--fill-color);\n",
              "    }\n",
              "    60% {\n",
              "      border-color: transparent;\n",
              "      border-right-color: var(--fill-color);\n",
              "    }\n",
              "    80% {\n",
              "      border-color: transparent;\n",
              "      border-right-color: var(--fill-color);\n",
              "      border-bottom-color: var(--fill-color);\n",
              "    }\n",
              "    90% {\n",
              "      border-color: transparent;\n",
              "      border-bottom-color: var(--fill-color);\n",
              "    }\n",
              "  }\n",
              "</style>\n",
              "\n",
              "      <script>\n",
              "        async function quickchart(key) {\n",
              "          const quickchartButtonEl =\n",
              "            document.querySelector('#' + key + ' button');\n",
              "          quickchartButtonEl.disabled = true;  // To prevent multiple clicks.\n",
              "          quickchartButtonEl.classList.add('colab-df-spinner');\n",
              "          try {\n",
              "            const charts = await google.colab.kernel.invokeFunction(\n",
              "                'suggestCharts', [key], {});\n",
              "          } catch (error) {\n",
              "            console.error('Error during call to suggestCharts:', error);\n",
              "          }\n",
              "          quickchartButtonEl.classList.remove('colab-df-spinner');\n",
              "          quickchartButtonEl.classList.add('colab-df-quickchart-complete');\n",
              "        }\n",
              "        (() => {\n",
              "          let quickchartButtonEl =\n",
              "            document.querySelector('#df-07fd74d7-66ca-4c41-80df-6b61804d4d63 button');\n",
              "          quickchartButtonEl.style.display =\n",
              "            google.colab.kernel.accessAllowed ? 'block' : 'none';\n",
              "        })();\n",
              "      </script>\n",
              "    </div>\n",
              "\n",
              "    </div>\n",
              "  </div>\n"
            ],
            "application/vnd.google.colaboratory.intrinsic+json": {
              "type": "dataframe",
              "variable_name": "df",
              "summary": "{\n  \"name\": \"df\",\n  \"rows\": 731,\n  \"fields\": [\n    {\n      \"column\": \"instant\",\n      \"properties\": {\n        \"dtype\": \"number\",\n        \"std\": 211,\n        \"min\": 1,\n        \"max\": 731,\n        \"num_unique_values\": 731,\n        \"samples\": [\n          704,\n          34,\n          301\n        ],\n        \"semantic_type\": \"\",\n        \"description\": \"\"\n      }\n    },\n    {\n      \"column\": \"dteday\",\n      \"properties\": {\n        \"dtype\": \"object\",\n        \"num_unique_values\": 731,\n        \"samples\": [\n          \"2012-12-04\",\n          \"2011-02-03\",\n          \"2011-10-28\"\n        ],\n        \"semantic_type\": \"\",\n        \"description\": \"\"\n      }\n    },\n    {\n      \"column\": \"season\",\n      \"properties\": {\n        \"dtype\": \"number\",\n        \"std\": 1,\n        \"min\": 1,\n        \"max\": 4,\n        \"num_unique_values\": 4,\n        \"samples\": [\n          2,\n          4,\n          1\n        ],\n        \"semantic_type\": \"\",\n        \"description\": \"\"\n      }\n    },\n    {\n      \"column\": \"yr\",\n      \"properties\": {\n        \"dtype\": \"number\",\n        \"std\": 0,\n        \"min\": 0,\n        \"max\": 1,\n        \"num_unique_values\": 2,\n        \"samples\": [\n          1,\n          0\n        ],\n        \"semantic_type\": \"\",\n        \"description\": \"\"\n      }\n    },\n    {\n      \"column\": \"mnth\",\n      \"properties\": {\n        \"dtype\": \"number\",\n        \"std\": 3,\n        \"min\": 1,\n        \"max\": 12,\n        \"num_unique_values\": 12,\n        \"samples\": [\n          11,\n          10\n        ],\n        \"semantic_type\": \"\",\n        \"description\": \"\"\n      }\n    },\n    {\n      \"column\": \"holiday\",\n      \"properties\": {\n        \"dtype\": \"number\",\n        \"std\": 0,\n        \"min\": 0,\n        \"max\": 1,\n        \"num_unique_values\": 2,\n        \"samples\": [\n          1,\n          0\n        ],\n        \"semantic_type\": \"\",\n        \"description\": \"\"\n      }\n    },\n    {\n      \"column\": \"weekday\",\n      \"properties\": {\n        \"dtype\": \"number\",\n        \"std\": 2,\n        \"min\": 0,\n        \"max\": 6,\n        \"num_unique_values\": 7,\n        \"samples\": [\n          6,\n          0\n        ],\n        \"semantic_type\": \"\",\n        \"description\": \"\"\n      }\n    },\n    {\n      \"column\": \"workingday\",\n      \"properties\": {\n        \"dtype\": \"number\",\n        \"std\": 0,\n        \"min\": 0,\n        \"max\": 1,\n        \"num_unique_values\": 2,\n        \"samples\": [\n          1,\n          0\n        ],\n        \"semantic_type\": \"\",\n        \"description\": \"\"\n      }\n    },\n    {\n      \"column\": \"weathersit\",\n      \"properties\": {\n        \"dtype\": \"number\",\n        \"std\": 0,\n        \"min\": 1,\n        \"max\": 3,\n        \"num_unique_values\": 3,\n        \"samples\": [\n          2,\n          1\n        ],\n        \"semantic_type\": \"\",\n        \"description\": \"\"\n      }\n    },\n    {\n      \"column\": \"temp\",\n      \"properties\": {\n        \"dtype\": \"number\",\n        \"std\": 0.18305099611148867,\n        \"min\": 0.0591304,\n        \"max\": 0.861667,\n        \"num_unique_values\": 499,\n        \"samples\": [\n          0.544167,\n          0.430435\n        ],\n        \"semantic_type\": \"\",\n        \"description\": \"\"\n      }\n    },\n    {\n      \"column\": \"atemp\",\n      \"properties\": {\n        \"dtype\": \"number\",\n        \"std\": 0.16296117838631127,\n        \"min\": 0.0790696,\n        \"max\": 0.840896,\n        \"num_unique_values\": 690,\n        \"samples\": [\n          0.463375,\n          0.599754\n        ],\n        \"semantic_type\": \"\",\n        \"description\": \"\"\n      }\n    },\n    {\n      \"column\": \"hum\",\n      \"properties\": {\n        \"dtype\": \"number\",\n        \"std\": 0.14242909513835394,\n        \"min\": 0.0,\n        \"max\": 0.9725,\n        \"num_unique_values\": 595,\n        \"samples\": [\n          0.707083,\n          0.718333\n        ],\n        \"semantic_type\": \"\",\n        \"description\": \"\"\n      }\n    },\n    {\n      \"column\": \"windspeed\",\n      \"properties\": {\n        \"dtype\": \"number\",\n        \"std\": 0.07749787068166943,\n        \"min\": 0.0223917,\n        \"max\": 0.507463,\n        \"num_unique_values\": 650,\n        \"samples\": [\n          0.100742,\n          0.139308\n        ],\n        \"semantic_type\": \"\",\n        \"description\": \"\"\n      }\n    },\n    {\n      \"column\": \"casual\",\n      \"properties\": {\n        \"dtype\": \"number\",\n        \"std\": 686,\n        \"min\": 2,\n        \"max\": 3410,\n        \"num_unique_values\": 606,\n        \"samples\": [\n          709,\n          449\n        ],\n        \"semantic_type\": \"\",\n        \"description\": \"\"\n      }\n    },\n    {\n      \"column\": \"registered\",\n      \"properties\": {\n        \"dtype\": \"number\",\n        \"std\": 1560,\n        \"min\": 20,\n        \"max\": 6946,\n        \"num_unique_values\": 679,\n        \"samples\": [\n          4531,\n          2553\n        ],\n        \"semantic_type\": \"\",\n        \"description\": \"\"\n      }\n    },\n    {\n      \"column\": \"cnt\",\n      \"properties\": {\n        \"dtype\": \"number\",\n        \"std\": 1937,\n        \"min\": 22,\n        \"max\": 8714,\n        \"num_unique_values\": 696,\n        \"samples\": [\n          5170,\n          1607\n        ],\n        \"semantic_type\": \"\",\n        \"description\": \"\"\n      }\n    }\n  ]\n}"
            }
          },
          "metadata": {},
          "execution_count": 215
        }
      ]
    },
    {
      "cell_type": "markdown",
      "source": [
        "Season : \t1:winter, 2:spring, 3:summer, 4:fall\n",
        "\n",
        "Weekday : 0: sunday, 1: monday, 2: tuesday, 3: wednesday, 4: thursday, 5: friday, 6: saturday"
      ],
      "metadata": {
        "id": "UROiXlSdX0e5"
      },
      "id": "UROiXlSdX0e5"
    },
    {
      "cell_type": "code",
      "source": [
        "X = df[[\"weekday\",\"season\",\"temp\"]]\n",
        "X_ = sm.add_constant(X)\n",
        "y = df[\"cnt\"]\n",
        "\n",
        "X_train, X_test, y_train, y_test = train_test_split(X_,y,test_size=0.2)\n",
        "\n",
        "poisson = sm.GLM(y_train, X_train, family=sm.families.Poisson()).fit()\n",
        "\n",
        "print(poisson.summary())"
      ],
      "metadata": {
        "colab": {
          "base_uri": "https://localhost:8080/"
        },
        "id": "KGWOZUBtH995",
        "outputId": "47bcc659-2056-4400-9feb-4f29068ffd70"
      },
      "id": "KGWOZUBtH995",
      "execution_count": 216,
      "outputs": [
        {
          "output_type": "stream",
          "name": "stdout",
          "text": [
            "                 Generalized Linear Model Regression Results                  \n",
            "==============================================================================\n",
            "Dep. Variable:                    cnt   No. Observations:                  584\n",
            "Model:                            GLM   Df Residuals:                      580\n",
            "Model Family:                 Poisson   Df Model:                            3\n",
            "Link Function:                    Log   Scale:                          1.0000\n",
            "Method:                          IRLS   Log-Likelihood:            -1.6243e+05\n",
            "Date:                Tue, 15 Jul 2025   Deviance:                   3.1896e+05\n",
            "Time:                        21:57:08   Pearson chi2:                 3.01e+05\n",
            "No. Iterations:                     5   Pseudo R-squ. (CS):              1.000\n",
            "Covariance Type:            nonrobust                                         \n",
            "==============================================================================\n",
            "                 coef    std err          z      P>|z|      [0.025      0.975]\n",
            "------------------------------------------------------------------------------\n",
            "const          7.3939      0.002   2967.964      0.000       7.389       7.399\n",
            "weekday        0.0095      0.000     30.539      0.000       0.009       0.010\n",
            "season         0.1055      0.001    168.920      0.000       0.104       0.107\n",
            "temp           1.3696      0.004    376.787      0.000       1.363       1.377\n",
            "==============================================================================\n"
          ]
        }
      ]
    },
    {
      "cell_type": "markdown",
      "source": [
        "2. Avaliar a presença de overdispersion comparando a deviance ao número de graus de liberdade. Em caso afirmativo, ajustar um modelo quasi-Poisson.\n"
      ],
      "metadata": {
        "id": "Nd1aOm__Ghka"
      },
      "id": "Nd1aOm__Ghka"
    },
    {
      "cell_type": "markdown",
      "source": [
        "Overdispersion : Ocorre quando a variância dos dados observados é maior que a variância esperada pelo modelo.\n",
        "\n",
        "Na distribuição Poisson : $Var(Y) = \\mathbb{E}(Y)$.\n",
        "- Se $Var(Y) > \\mathbb{E}(Y)$, overdispersion.\n",
        "\n",
        "Deviance : Medida de qualidade do ajuste em GLM, mede quao distante do modelo perfeito.\n",
        "\n",
        "Se deviance >> graus de liberdade, overdispersion.\n",
        "Teste com deviance / graus de liberade.\n",
        "\n",
        "Quando tiver overdispersion, o erro padrão é subestimado."
      ],
      "metadata": {
        "id": "EKpWrqyFKSNH"
      },
      "id": "EKpWrqyFKSNH"
    },
    {
      "cell_type": "code",
      "source": [
        "dev = poisson.deviance\n",
        "dof = len(X_train) - 4\n",
        "\n",
        "print(dev)\n",
        "print(dof)\n",
        "print(dev/dof) # absurdamente overdispersed"
      ],
      "metadata": {
        "colab": {
          "base_uri": "https://localhost:8080/"
        },
        "id": "LUbNyBtHLTBb",
        "outputId": "d5670f17-3a25-4394-f726-9c79cef404de"
      },
      "id": "LUbNyBtHLTBb",
      "execution_count": 217,
      "outputs": [
        {
          "output_type": "stream",
          "name": "stdout",
          "text": [
            "318961.1752439251\n",
            "580\n",
            "549.9330607653882\n"
          ]
        }
      ]
    },
    {
      "cell_type": "markdown",
      "source": [
        "Um modelo quasi-poisson ajusta sua variância com um fator de dispersão.\n",
        "$Var(Y) = 𝜙 * \\mathbb{E}(Y)$"
      ],
      "metadata": {
        "id": "nya3SadFOb-E"
      },
      "id": "nya3SadFOb-E"
    },
    {
      "cell_type": "code",
      "source": [
        "# erro robusto -> equivalente a quasi poisson (nao nativo no python)\n",
        "quasi_poisson = sm.GLM(y_train, X_train, family=sm.families.Poisson()).fit(cov_type='HC0')\n",
        "print(quasi_poisson.summary())"
      ],
      "metadata": {
        "colab": {
          "base_uri": "https://localhost:8080/"
        },
        "id": "hqy7-rVFVc6v",
        "outputId": "829d6a52-9352-481f-fbc6-8e202caedbe0"
      },
      "id": "hqy7-rVFVc6v",
      "execution_count": 218,
      "outputs": [
        {
          "output_type": "stream",
          "name": "stdout",
          "text": [
            "                 Generalized Linear Model Regression Results                  \n",
            "==============================================================================\n",
            "Dep. Variable:                    cnt   No. Observations:                  584\n",
            "Model:                            GLM   Df Residuals:                      580\n",
            "Model Family:                 Poisson   Df Model:                            3\n",
            "Link Function:                    Log   Scale:                          1.0000\n",
            "Method:                          IRLS   Log-Likelihood:            -1.6243e+05\n",
            "Date:                Tue, 15 Jul 2025   Deviance:                   3.1896e+05\n",
            "Time:                        21:59:16   Pearson chi2:                 3.01e+05\n",
            "No. Iterations:                     5   Pseudo R-squ. (CS):              1.000\n",
            "Covariance Type:                  HC0                                         \n",
            "==============================================================================\n",
            "                 coef    std err          z      P>|z|      [0.025      0.975]\n",
            "------------------------------------------------------------------------------\n",
            "const          7.3939      0.055    133.591      0.000       7.285       7.502\n",
            "weekday        0.0095      0.007      1.356      0.175      -0.004       0.023\n",
            "season         0.1055      0.014      7.367      0.000       0.077       0.134\n",
            "temp           1.3696      0.078     17.473      0.000       1.216       1.523\n",
            "==============================================================================\n"
          ]
        }
      ]
    },
    {
      "cell_type": "markdown",
      "source": [
        "Os coeficientes continuaram os mesmos! Porém ajustamos a significância."
      ],
      "metadata": {
        "id": "_v4awV4OV8Bu"
      },
      "id": "_v4awV4OV8Bu"
    },
    {
      "cell_type": "markdown",
      "source": [
        "### 3. Interpretar os coeficientes do modelo final, discutindo o sinal e o impacto das variáveis selecionadas.\n"
      ],
      "metadata": {
        "id": "pALLVc0kGihE"
      },
      "id": "pALLVc0kGihE"
    },
    {
      "cell_type": "markdown",
      "source": [
        "- Nosso termo constante (intercepto) é significativo e positivo, o valor esperado da contagem sem nenhuma informação sobre o dia.\n",
        "\n",
        "- O coeficiente de weekday é muito pequeno e além disso não é significativo (p-valor > 0.05), ou seja, o dia da semana não influência no aluguel das bicicletas por dia.\n",
        "\n",
        "- O coeficiente season é positivo e muito significativo, dando entender que menos bikes são alugadas no inverno/primavera e mais no verão/outono.\n",
        "\n",
        "- O coeficiente temperatura é positivo e significativo, dias com temperaturas mais quentes costumam ter mais aluguéis de bicicleta."
      ],
      "metadata": {
        "id": "7fhMNH-cWHFV"
      },
      "id": "7fhMNH-cWHFV"
    },
    {
      "cell_type": "markdown",
      "source": [
        "### 4. Construir um gráfico de resíduos de deviance vs. valores previstos e avaliar se há padrões sistemáticos.\n"
      ],
      "metadata": {
        "id": "s1xWoeDEGkGX"
      },
      "id": "s1xWoeDEGkGX"
    },
    {
      "cell_type": "code",
      "source": [
        "preds = quasi_poisson.fittedvalues # predicts no treino\n",
        "residuos = quasi_poisson.resid_deviance\n",
        "\n",
        "plt.scatter(preds, residuos, alpha=0.5)\n",
        "plt.xlabel(\"valor predito\")\n",
        "plt.ylabel(\"residuo de deviance\")\n",
        "plt.show()"
      ],
      "metadata": {
        "colab": {
          "base_uri": "https://localhost:8080/",
          "height": 449
        },
        "id": "S4tSh12TZCFG",
        "outputId": "20292537-6127-4543-fb0a-e427107572ca"
      },
      "id": "S4tSh12TZCFG",
      "execution_count": 219,
      "outputs": [
        {
          "output_type": "display_data",
          "data": {
            "text/plain": [
              "<Figure size 640x480 with 1 Axes>"
            ],
            "image/png": "[encoded data removed]"
          },
          "metadata": {}
        }
      ]
    },
    {
      "cell_type": "markdown",
      "source": [
        "Os resíduos estão razoávelmente centrados em torno de 0, o que mostra uma boa estimativa da média da contagem.\n",
        "\n",
        "Existe uma leve tendência de subida e descida no resíduo com a variação do valor predito, mas pouco."
      ],
      "metadata": {
        "id": "g1IjoTqCaKZL"
      },
      "id": "g1IjoTqCaKZL"
    },
    {
      "cell_type": "markdown",
      "source": [
        "### 5. Comparar o modelo final com um modelo de regressão linear simples (OLS) ajustado à mesma variável resposta. Discuta por que o modelo GLM é mais adequado neste caso."
      ],
      "metadata": {
        "id": "7VRuKG0JGleH"
      },
      "id": "7VRuKG0JGleH"
    },
    {
      "cell_type": "code",
      "source": [
        "linreg = sm.OLS(y_train, X_train).fit()\n",
        "\n",
        "print(linreg.summary())"
      ],
      "metadata": {
        "colab": {
          "base_uri": "https://localhost:8080/"
        },
        "id": "sMiP8ojobqLY",
        "outputId": "8f3009f4-2ea3-41dc-9bc6-9a59b81bb1d1"
      },
      "id": "sMiP8ojobqLY",
      "execution_count": 220,
      "outputs": [
        {
          "output_type": "stream",
          "name": "stdout",
          "text": [
            "                            OLS Regression Results                            \n",
            "==============================================================================\n",
            "Dep. Variable:                    cnt   R-squared:                       0.446\n",
            "Model:                            OLS   Adj. R-squared:                  0.443\n",
            "Method:                 Least Squares   F-statistic:                     155.4\n",
            "Date:                Tue, 15 Jul 2025   Prob (F-statistic):           6.41e-74\n",
            "Time:                        22:02:05   Log-Likelihood:                -5082.2\n",
            "No. Observations:                 584   AIC:                         1.017e+04\n",
            "Df Residuals:                     580   BIC:                         1.019e+04\n",
            "Df Model:                           3                                         \n",
            "Covariance Type:            nonrobust                                         \n",
            "==============================================================================\n",
            "                 coef    std err          t      P>|t|      [0.025      0.975]\n",
            "------------------------------------------------------------------------------\n",
            "const        479.9195    209.837      2.287      0.023      67.787     892.052\n",
            "weekday       43.8608     30.248      1.450      0.148     -15.549     103.271\n",
            "season       378.4669     57.900      6.537      0.000     264.747     492.187\n",
            "temp        5934.2053    353.641     16.780      0.000    5239.633    6628.777\n",
            "==============================================================================\n",
            "Omnibus:                        4.427   Durbin-Watson:                   1.949\n",
            "Prob(Omnibus):                  0.109   Jarque-Bera (JB):                3.359\n",
            "Skew:                          -0.045   Prob(JB):                        0.186\n",
            "Kurtosis:                       2.639   Cond. No.                         27.5\n",
            "==============================================================================\n",
            "\n",
            "Notes:\n",
            "[1] Standard Errors assume that the covariance matrix of the errors is correctly specified.\n"
          ]
        }
      ]
    },
    {
      "cell_type": "markdown",
      "source": [
        "Em questão de resultado do treino, realmente os coeficientes significativos se manteram.\n",
        "\n",
        "Porém a variável dependente que estamos prevendo é **discreta e não negativa**\n",
        "\n",
        "Mais do que isso, a regressão linear assume **homocedasticidade**, o que vimos no gráfico que não é verdade. A variância de y cresce de acordo com a média (overdispersion), a variância não é constante.\n",
        "\n",
        "Além disso, a regressão linear o impacto das variáveis independentes em unidades, o que não é verdade, aqui estamos relativizando com (%), o que é mais condizente para estas relações."
      ],
      "metadata": {
        "id": "kKeaI7szcOm3"
      },
      "id": "kKeaI7szcOm3"
    },
    {
      "cell_type": "markdown",
      "id": "b312c873",
      "metadata": {
        "id": "b312c873"
      },
      "source": [
        "## 3) Pareamento por Escore de Propensão (PSM)\n",
        "\n",
        "Nesta parte, você irá aplicar o método de Pareamento por Escore de Propensão (PSM) para estimar o efeito da presença de diabetes sobre os gastos médicos totais de indivíduos, com base em dados observacionais."
      ]
    },
    {
      "cell_type": "code",
      "source": [
        "df = pd.read_csv(\"https://raw.githubusercontent.com/AILAB-CEFET-RJ/gcc1625/refs/heads/main/data/hc2021_dados.csv\")\n",
        "df.info()\n",
        "df.head()"
      ],
      "metadata": {
        "colab": {
          "base_uri": "https://localhost:8080/",
          "height": 501
        },
        "id": "nqfuyPVX1djp",
        "outputId": "3c449526-e3ef-488e-fe32-ce49185a5577"
      },
      "id": "nqfuyPVX1djp",
      "execution_count": 134,
      "outputs": [
        {
          "output_type": "stream",
          "name": "stdout",
          "text": [
            "<class 'pandas.core.frame.DataFrame'>\n",
            "RangeIndex: 22446 entries, 0 to 22445\n",
            "Data columns (total 10 columns):\n",
            " #   Column          Non-Null Count  Dtype \n",
            "---  ------          --------------  ----- \n",
            " 0   dupersid        22446 non-null  int64 \n",
            " 1   age             22446 non-null  int64 \n",
            " 2   sex             22446 non-null  int64 \n",
            " 3   race            22446 non-null  object\n",
            " 4   poverty         22446 non-null  object\n",
            " 5   diabetes        22446 non-null  int64 \n",
            " 6   marital_status  22446 non-null  object\n",
            " 7   totexp          22446 non-null  int64 \n",
            " 8   ertexp          22446 non-null  int64 \n",
            " 9   year            22446 non-null  int64 \n",
            "dtypes: int64(7), object(3)\n",
            "memory usage: 1.7+ MB\n"
          ]
        },
        {
          "output_type": "execute_result",
          "data": {
            "text/plain": [
              "     dupersid  age  sex   race     poverty  diabetes marital_status  totexp  \\\n",
              "0  2320005101   74    2  White  Low Income         0        Married    4908   \n",
              "1  2320005102   85    1  White  Low Income         0        Married   21257   \n",
              "2  2320006101   48    2  White   Near Poor         0       Divorced     827   \n",
              "3  2320006102   23    1  White   Near Poor         0  Never Married       0   \n",
              "4  2320006103   22    1  White   Near Poor         0  Never Married       0   \n",
              "\n",
              "   ertexp  year  \n",
              "0       0  2021  \n",
              "1       0  2021  \n",
              "2       0  2021  \n",
              "3       0  2021  \n",
              "4       0  2021  "
            ],
            "text/html": [
              "\n",
              "  <div id=\"df-c3ba1444-f51e-4dda-a665-11ecdc1a007a\" class=\"colab-df-container\">\n",
              "    <div>\n",
              "<style scoped>\n",
              "    .dataframe tbody tr th:only-of-type {\n",
              "        vertical-align: middle;\n",
              "    }\n",
              "\n",
              "    .dataframe tbody tr th {\n",
              "        vertical-align: top;\n",
              "    }\n",
              "\n",
              "    .dataframe thead th {\n",
              "        text-align: right;\n",
              "    }\n",
              "</style>\n",
              "<table border=\"1\" class=\"dataframe\">\n",
              "  <thead>\n",
              "    <tr style=\"text-align: right;\">\n",
              "      <th></th>\n",
              "      <th>dupersid</th>\n",
              "      <th>age</th>\n",
              "      <th>sex</th>\n",
              "      <th>race</th>\n",
              "      <th>poverty</th>\n",
              "      <th>diabetes</th>\n",
              "      <th>marital_status</th>\n",
              "      <th>totexp</th>\n",
              "      <th>ertexp</th>\n",
              "      <th>year</th>\n",
              "    </tr>\n",
              "  </thead>\n",
              "  <tbody>\n",
              "    <tr>\n",
              "      <th>0</th>\n",
              "      <td>2320005101</td>\n",
              "      <td>74</td>\n",
              "      <td>2</td>\n",
              "      <td>White</td>\n",
              "      <td>Low Income</td>\n",
              "      <td>0</td>\n",
              "      <td>Married</td>\n",
              "      <td>4908</td>\n",
              "      <td>0</td>\n",
              "      <td>2021</td>\n",
              "    </tr>\n",
              "    <tr>\n",
              "      <th>1</th>\n",
              "      <td>2320005102</td>\n",
              "      <td>85</td>\n",
              "      <td>1</td>\n",
              "      <td>White</td>\n",
              "      <td>Low Income</td>\n",
              "      <td>0</td>\n",
              "      <td>Married</td>\n",
              "      <td>21257</td>\n",
              "      <td>0</td>\n",
              "      <td>2021</td>\n",
              "    </tr>\n",
              "    <tr>\n",
              "      <th>2</th>\n",
              "      <td>2320006101</td>\n",
              "      <td>48</td>\n",
              "      <td>2</td>\n",
              "      <td>White</td>\n",
              "      <td>Near Poor</td>\n",
              "      <td>0</td>\n",
              "      <td>Divorced</td>\n",
              "      <td>827</td>\n",
              "      <td>0</td>\n",
              "      <td>2021</td>\n",
              "    </tr>\n",
              "    <tr>\n",
              "      <th>3</th>\n",
              "      <td>2320006102</td>\n",
              "      <td>23</td>\n",
              "      <td>1</td>\n",
              "      <td>White</td>\n",
              "      <td>Near Poor</td>\n",
              "      <td>0</td>\n",
              "      <td>Never Married</td>\n",
              "      <td>0</td>\n",
              "      <td>0</td>\n",
              "      <td>2021</td>\n",
              "    </tr>\n",
              "    <tr>\n",
              "      <th>4</th>\n",
              "      <td>2320006103</td>\n",
              "      <td>22</td>\n",
              "      <td>1</td>\n",
              "      <td>White</td>\n",
              "      <td>Near Poor</td>\n",
              "      <td>0</td>\n",
              "      <td>Never Married</td>\n",
              "      <td>0</td>\n",
              "      <td>0</td>\n",
              "      <td>2021</td>\n",
              "    </tr>\n",
              "  </tbody>\n",
              "</table>\n",
              "</div>\n",
              "    <div class=\"colab-df-buttons\">\n",
              "\n",
              "  <div class=\"colab-df-container\">\n",
              "    <button class=\"colab-df-convert\" onclick=\"convertToInteractive('df-c3ba1444-f51e-4dda-a665-11ecdc1a007a')\"\n",
              "            title=\"Convert this dataframe to an interactive table.\"\n",
              "            style=\"display:none;\">\n",
              "\n",
              "  <svg xmlns=\"http://www.w3.org/2000/svg\" height=\"24px\" viewBox=\"0 -960 960 960\">\n",
              "    <path d=\"M120-120v-720h720v720H120Zm60-500h600v-160H180v160Zm220 220h160v-160H400v160Zm0 220h160v-160H400v160ZM180-400h160v-160H180v160Zm440 0h160v-160H620v160ZM180-180h160v-160H180v160Zm440 0h160v-160H620v160Z\"/>\n",
              "  </svg>\n",
              "    </button>\n",
              "\n",
              "  <style>\n",
              "    .colab-df-container {\n",
              "      display:flex;\n",
              "      gap: 12px;\n",
              "    }\n",
              "\n",
              "    .colab-df-convert {\n",
              "      background-color: #E8F0FE;\n",
              "      border: none;\n",
              "      border-radius: 50%;\n",
              "      cursor: pointer;\n",
              "      display: none;\n",
              "      fill: #1967D2;\n",
              "      height: 32px;\n",
              "      padding: 0 0 0 0;\n",
              "      width: 32px;\n",
              "    }\n",
              "\n",
              "    .colab-df-convert:hover {\n",
              "      background-color: #E2EBFA;\n",
              "      box-shadow: 0px 1px 2px rgba(60, 64, 67, 0.3), 0px 1px 3px 1px rgba(60, 64, 67, 0.15);\n",
              "      fill: #174EA6;\n",
              "    }\n",
              "\n",
              "    .colab-df-buttons div {\n",
              "      margin-bottom: 4px;\n",
              "    }\n",
              "\n",
              "    [theme=dark] .colab-df-convert {\n",
              "      background-color: #3B4455;\n",
              "      fill: #D2E3FC;\n",
              "    }\n",
              "\n",
              "    [theme=dark] .colab-df-convert:hover {\n",
              "      background-color: #434B5C;\n",
              "      box-shadow: 0px 1px 3px 1px rgba(0, 0, 0, 0.15);\n",
              "      filter: drop-shadow(0px 1px 2px rgba(0, 0, 0, 0.3));\n",
              "      fill: #FFFFFF;\n",
              "    }\n",
              "  </style>\n",
              "\n",
              "    <script>\n",
              "      const buttonEl =\n",
              "        document.querySelector('#df-c3ba1444-f51e-4dda-a665-11ecdc1a007a button.colab-df-convert');\n",
              "      buttonEl.style.display =\n",
              "        google.colab.kernel.accessAllowed ? 'block' : 'none';\n",
              "\n",
              "      async function convertToInteractive(key) {\n",
              "        const element = document.querySelector('#df-c3ba1444-f51e-4dda-a665-11ecdc1a007a');\n",
              "        const dataTable =\n",
              "          await google.colab.kernel.invokeFunction('convertToInteractive',\n",
              "                                                    [key], {});\n",
              "        if (!dataTable) return;\n",
              "\n",
              "        const docLinkHtml = 'Like what you see? Visit the ' +\n",
              "          '<a target=\"_blank\" href=https://colab.research.google.com/notebooks/data_table.ipynb>data table notebook</a>'\n",
              "          + ' to learn more about interactive tables.';\n",
              "        element.innerHTML = '';\n",
              "        dataTable['output_type'] = 'display_data';\n",
              "        await google.colab.output.renderOutput(dataTable, element);\n",
              "        const docLink = document.createElement('div');\n",
              "        docLink.innerHTML = docLinkHtml;\n",
              "        element.appendChild(docLink);\n",
              "      }\n",
              "    </script>\n",
              "  </div>\n",
              "\n",
              "\n",
              "    <div id=\"df-2c21f393-97e2-42ef-a010-5dc7977e4b88\">\n",
              "      <button class=\"colab-df-quickchart\" onclick=\"quickchart('df-2c21f393-97e2-42ef-a010-5dc7977e4b88')\"\n",
              "                title=\"Suggest charts\"\n",
              "                style=\"display:none;\">\n",
              "\n",
              "<svg xmlns=\"http://www.w3.org/2000/svg\" height=\"24px\"viewBox=\"0 0 24 24\"\n",
              "     width=\"24px\">\n",
              "    <g>\n",
              "        <path d=\"M19 3H5c-1.1 0-2 .9-2 2v14c0 1.1.9 2 2 2h14c1.1 0 2-.9 2-2V5c0-1.1-.9-2-2-2zM9 17H7v-7h2v7zm4 0h-2V7h2v10zm4 0h-2v-4h2v4z\"/>\n",
              "    </g>\n",
              "</svg>\n",
              "      </button>\n",
              "\n",
              "<style>\n",
              "  .colab-df-quickchart {\n",
              "      --bg-color: #E8F0FE;\n",
              "      --fill-color: #1967D2;\n",
              "      --hover-bg-color: #E2EBFA;\n",
              "      --hover-fill-color: #174EA6;\n",
              "      --disabled-fill-color: #AAA;\n",
              "      --disabled-bg-color: #DDD;\n",
              "  }\n",
              "\n",
              "  [theme=dark] .colab-df-quickchart {\n",
              "      --bg-color: #3B4455;\n",
              "      --fill-color: #D2E3FC;\n",
              "      --hover-bg-color: #434B5C;\n",
              "      --hover-fill-color: #FFFFFF;\n",
              "      --disabled-bg-color: #3B4455;\n",
              "      --disabled-fill-color: #666;\n",
              "  }\n",
              "\n",
              "  .colab-df-quickchart {\n",
              "    background-color: var(--bg-color);\n",
              "    border: none;\n",
              "    border-radius: 50%;\n",
              "    cursor: pointer;\n",
              "    display: none;\n",
              "    fill: var(--fill-color);\n",
              "    height: 32px;\n",
              "    padding: 0;\n",
              "    width: 32px;\n",
              "  }\n",
              "\n",
              "  .colab-df-quickchart:hover {\n",
              "    background-color: var(--hover-bg-color);\n",
              "    box-shadow: 0 1px 2px rgba(60, 64, 67, 0.3), 0 1px 3px 1px rgba(60, 64, 67, 0.15);\n",
              "    fill: var(--button-hover-fill-color);\n",
              "  }\n",
              "\n",
              "  .colab-df-quickchart-complete:disabled,\n",
              "  .colab-df-quickchart-complete:disabled:hover {\n",
              "    background-color: var(--disabled-bg-color);\n",
              "    fill: var(--disabled-fill-color);\n",
              "    box-shadow: none;\n",
              "  }\n",
              "\n",
              "  .colab-df-spinner {\n",
              "    border: 2px solid var(--fill-color);\n",
              "    border-color: transparent;\n",
              "    border-bottom-color: var(--fill-color);\n",
              "    animation:\n",
              "      spin 1s steps(1) infinite;\n",
              "  }\n",
              "\n",
              "  @keyframes spin {\n",
              "    0% {\n",
              "      border-color: transparent;\n",
              "      border-bottom-color: var(--fill-color);\n",
              "      border-left-color: var(--fill-color);\n",
              "    }\n",
              "    20% {\n",
              "      border-color: transparent;\n",
              "      border-left-color: var(--fill-color);\n",
              "      border-top-color: var(--fill-color);\n",
              "    }\n",
              "    30% {\n",
              "      border-color: transparent;\n",
              "      border-left-color: var(--fill-color);\n",
              "      border-top-color: var(--fill-color);\n",
              "      border-right-color: var(--fill-color);\n",
              "    }\n",
              "    40% {\n",
              "      border-color: transparent;\n",
              "      border-right-color: var(--fill-color);\n",
              "      border-top-color: var(--fill-color);\n",
              "    }\n",
              "    60% {\n",
              "      border-color: transparent;\n",
              "      border-right-color: var(--fill-color);\n",
              "    }\n",
              "    80% {\n",
              "      border-color: transparent;\n",
              "      border-right-color: var(--fill-color);\n",
              "      border-bottom-color: var(--fill-color);\n",
              "    }\n",
              "    90% {\n",
              "      border-color: transparent;\n",
              "      border-bottom-color: var(--fill-color);\n",
              "    }\n",
              "  }\n",
              "</style>\n",
              "\n",
              "      <script>\n",
              "        async function quickchart(key) {\n",
              "          const quickchartButtonEl =\n",
              "            document.querySelector('#' + key + ' button');\n",
              "          quickchartButtonEl.disabled = true;  // To prevent multiple clicks.\n",
              "          quickchartButtonEl.classList.add('colab-df-spinner');\n",
              "          try {\n",
              "            const charts = await google.colab.kernel.invokeFunction(\n",
              "                'suggestCharts', [key], {});\n",
              "          } catch (error) {\n",
              "            console.error('Error during call to suggestCharts:', error);\n",
              "          }\n",
              "          quickchartButtonEl.classList.remove('colab-df-spinner');\n",
              "          quickchartButtonEl.classList.add('colab-df-quickchart-complete');\n",
              "        }\n",
              "        (() => {\n",
              "          let quickchartButtonEl =\n",
              "            document.querySelector('#df-2c21f393-97e2-42ef-a010-5dc7977e4b88 button');\n",
              "          quickchartButtonEl.style.display =\n",
              "            google.colab.kernel.accessAllowed ? 'block' : 'none';\n",
              "        })();\n",
              "      </script>\n",
              "    </div>\n",
              "\n",
              "    </div>\n",
              "  </div>\n"
            ],
            "application/vnd.google.colaboratory.intrinsic+json": {
              "type": "dataframe",
              "variable_name": "df",
              "summary": "{\n  \"name\": \"df\",\n  \"rows\": 22446,\n  \"fields\": [\n    {\n      \"column\": \"dupersid\",\n      \"properties\": {\n        \"dtype\": \"number\",\n        \"std\": 137253157,\n        \"min\": 2320005101,\n        \"max\": 2689507102,\n        \"num_unique_values\": 22446,\n        \"samples\": [\n          2320241101,\n          2325981101,\n          2575299102\n        ],\n        \"semantic_type\": \"\",\n        \"description\": \"\"\n      }\n    },\n    {\n      \"column\": \"age\",\n      \"properties\": {\n        \"dtype\": \"number\",\n        \"std\": 18,\n        \"min\": 18,\n        \"max\": 85,\n        \"num_unique_values\": 68,\n        \"samples\": [\n          35,\n          63,\n          22\n        ],\n        \"semantic_type\": \"\",\n        \"description\": \"\"\n      }\n    },\n    {\n      \"column\": \"sex\",\n      \"properties\": {\n        \"dtype\": \"number\",\n        \"std\": 0,\n        \"min\": 1,\n        \"max\": 2,\n        \"num_unique_values\": 2,\n        \"samples\": [\n          1,\n          2\n        ],\n        \"semantic_type\": \"\",\n        \"description\": \"\"\n      }\n    },\n    {\n      \"column\": \"race\",\n      \"properties\": {\n        \"dtype\": \"category\",\n        \"num_unique_values\": 5,\n        \"samples\": [\n          \"Asian\",\n          \"Multiple\"\n        ],\n        \"semantic_type\": \"\",\n        \"description\": \"\"\n      }\n    },\n    {\n      \"column\": \"poverty\",\n      \"properties\": {\n        \"dtype\": \"category\",\n        \"num_unique_values\": 5,\n        \"samples\": [\n          \"Near Poor\",\n          \"Poor\"\n        ],\n        \"semantic_type\": \"\",\n        \"description\": \"\"\n      }\n    },\n    {\n      \"column\": \"diabetes\",\n      \"properties\": {\n        \"dtype\": \"number\",\n        \"std\": 0,\n        \"min\": 0,\n        \"max\": 1,\n        \"num_unique_values\": 2,\n        \"samples\": [\n          1,\n          0\n        ],\n        \"semantic_type\": \"\",\n        \"description\": \"\"\n      }\n    },\n    {\n      \"column\": \"marital_status\",\n      \"properties\": {\n        \"dtype\": \"category\",\n        \"num_unique_values\": 5,\n        \"samples\": [\n          \"Divorced\",\n          \"Separated\"\n        ],\n        \"semantic_type\": \"\",\n        \"description\": \"\"\n      }\n    },\n    {\n      \"column\": \"totexp\",\n      \"properties\": {\n        \"dtype\": \"number\",\n        \"std\": 29637,\n        \"min\": 0,\n        \"max\": 2187290,\n        \"num_unique_values\": 10474,\n        \"samples\": [\n          1364,\n          19244\n        ],\n        \"semantic_type\": \"\",\n        \"description\": \"\"\n      }\n    },\n    {\n      \"column\": \"ertexp\",\n      \"properties\": {\n        \"dtype\": \"number\",\n        \"std\": 1419,\n        \"min\": 0,\n        \"max\": 64072,\n        \"num_unique_values\": 1804,\n        \"samples\": [\n          7505,\n          1894\n        ],\n        \"semantic_type\": \"\",\n        \"description\": \"\"\n      }\n    },\n    {\n      \"column\": \"year\",\n      \"properties\": {\n        \"dtype\": \"number\",\n        \"std\": 0,\n        \"min\": 2021,\n        \"max\": 2021,\n        \"num_unique_values\": 1,\n        \"samples\": [\n          2021\n        ],\n        \"semantic_type\": \"\",\n        \"description\": \"\"\n      }\n    }\n  ]\n}"
            }
          },
          "metadata": {},
          "execution_count": 134
        }
      ]
    },
    {
      "cell_type": "markdown",
      "source": [
        "- dupersid: identificador único do indivíduo na amostra.\n",
        "- age: idade do indivíduo (em anos).\n",
        "- sex: sexo biológico (1 = masculino, 2 = feminino).\n",
        "- race: raça declarada do indivíduo (ex.: White).\n",
        "- poverty: nível de renda familiar classificado em categorias (ex.: Low Income,\n",
        "Near Poor, Middle Income).\n",
        "- diabetes: variável indicadora de presença de diabetes (1 = com diagnóstico, 0 = sem diagnóstico).\n",
        "- marital_status: estado civil do indivíduo (ex.: Married, Never Married, Divorced, Widowed).\n",
        "- totexp: valor total de despesas com saúde no ano (em dólares).\n",
        "- ertexp: valor das despesas com atendimentos de emergência (em dólares).\n",
        "- year: ano da coleta dos dados (todos os registros são de 2021)."
      ],
      "metadata": {
        "id": "WkOKmvntYG_9"
      },
      "id": "WkOKmvntYG_9"
    },
    {
      "cell_type": "markdown",
      "source": [
        "### 1. Análise Exploratória\n",
        "  - Apresente uma análise descritiva das covariáveis (age, sex, race, poverty, marital_status).\n",
        "  - Compare os grupos com e sem diabetes em termos dessas características e do desfecho (totexp)."
      ],
      "metadata": {
        "id": "naStD6mYzRqu"
      },
      "id": "naStD6mYzRqu"
    },
    {
      "cell_type": "code",
      "source": [
        "df[\"age\"].describe()"
      ],
      "metadata": {
        "colab": {
          "base_uri": "https://localhost:8080/",
          "height": 335
        },
        "id": "O_gfaSVp6xU_",
        "outputId": "d7eb1c0d-7398-4b06-e70d-bb710e963a6a"
      },
      "id": "O_gfaSVp6xU_",
      "execution_count": 135,
      "outputs": [
        {
          "output_type": "execute_result",
          "data": {
            "text/plain": [
              "count    22446.000000\n",
              "mean        51.379756\n",
              "std         18.646288\n",
              "min         18.000000\n",
              "25%         36.000000\n",
              "50%         52.000000\n",
              "75%         67.000000\n",
              "max         85.000000\n",
              "Name: age, dtype: float64"
            ],
            "text/html": [
              "<div>\n",
              "<style scoped>\n",
              "    .dataframe tbody tr th:only-of-type {\n",
              "        vertical-align: middle;\n",
              "    }\n",
              "\n",
              "    .dataframe tbody tr th {\n",
              "        vertical-align: top;\n",
              "    }\n",
              "\n",
              "    .dataframe thead th {\n",
              "        text-align: right;\n",
              "    }\n",
              "</style>\n",
              "<table border=\"1\" class=\"dataframe\">\n",
              "  <thead>\n",
              "    <tr style=\"text-align: right;\">\n",
              "      <th></th>\n",
              "      <th>age</th>\n",
              "    </tr>\n",
              "  </thead>\n",
              "  <tbody>\n",
              "    <tr>\n",
              "      <th>count</th>\n",
              "      <td>22446.000000</td>\n",
              "    </tr>\n",
              "    <tr>\n",
              "      <th>mean</th>\n",
              "      <td>51.379756</td>\n",
              "    </tr>\n",
              "    <tr>\n",
              "      <th>std</th>\n",
              "      <td>18.646288</td>\n",
              "    </tr>\n",
              "    <tr>\n",
              "      <th>min</th>\n",
              "      <td>18.000000</td>\n",
              "    </tr>\n",
              "    <tr>\n",
              "      <th>25%</th>\n",
              "      <td>36.000000</td>\n",
              "    </tr>\n",
              "    <tr>\n",
              "      <th>50%</th>\n",
              "      <td>52.000000</td>\n",
              "    </tr>\n",
              "    <tr>\n",
              "      <th>75%</th>\n",
              "      <td>67.000000</td>\n",
              "    </tr>\n",
              "    <tr>\n",
              "      <th>max</th>\n",
              "      <td>85.000000</td>\n",
              "    </tr>\n",
              "  </tbody>\n",
              "</table>\n",
              "</div><br><label><b>dtype:</b> float64</label>"
            ]
          },
          "metadata": {},
          "execution_count": 135
        }
      ]
    },
    {
      "cell_type": "markdown",
      "source": [
        "Pessoas com média de 50 anos, e um desvio padrão de 18.64 anos."
      ],
      "metadata": {
        "id": "UpR1Qlu2bwcY"
      },
      "id": "UpR1Qlu2bwcY"
    },
    {
      "cell_type": "code",
      "source": [
        "# frequência das categóricas\n",
        "print(df['race'].value_counts(normalize=True), \"\\n\")\n",
        "print(df['poverty'].value_counts(normalize=True), \"\\n\")\n",
        "print(df['marital_status'].value_counts(normalize=True))"
      ],
      "metadata": {
        "colab": {
          "base_uri": "https://localhost:8080/"
        },
        "id": "mBfnx3YtNhig",
        "outputId": "5df4ae2b-6b63-4d4a-92c6-669bb7df5def"
      },
      "id": "mBfnx3YtNhig",
      "execution_count": 136,
      "outputs": [
        {
          "output_type": "stream",
          "name": "stdout",
          "text": [
            "race\n",
            "White       0.758487\n",
            "Black       0.148222\n",
            "Asian       0.056179\n",
            "Multiple    0.028335\n",
            "AI/AN       0.008777\n",
            "Name: proportion, dtype: float64 \n",
            "\n",
            "poverty\n",
            "High Income      0.379622\n",
            "Middle Income    0.279693\n",
            "Poor             0.158647\n",
            "Low Income       0.132763\n",
            "Near Poor        0.049274\n",
            "Name: proportion, dtype: float64 \n",
            "\n",
            "marital_status\n",
            "Married          0.462889\n",
            "Never Married    0.281386\n",
            "Divorced         0.143277\n",
            "Widowed          0.088479\n",
            "Separated        0.023969\n",
            "Name: proportion, dtype: float64\n"
          ]
        }
      ]
    },
    {
      "cell_type": "markdown",
      "source": [
        "Pessoas majoritáriamente brancas, com alta renda, casadas."
      ],
      "metadata": {
        "id": "pd_LKxWibbvM"
      },
      "id": "pd_LKxWibbvM"
    },
    {
      "cell_type": "code",
      "source": [
        "df[\"totexp\"].describe()"
      ],
      "metadata": {
        "colab": {
          "base_uri": "https://localhost:8080/",
          "height": 335
        },
        "id": "i-rEVYaHVILx",
        "outputId": "11ef07f4-fcf2-4291-82f5-f3ea6eb1d435"
      },
      "id": "i-rEVYaHVILx",
      "execution_count": 137,
      "outputs": [
        {
          "output_type": "execute_result",
          "data": {
            "text/plain": [
              "count    2.244600e+04\n",
              "mean     8.929659e+03\n",
              "std      2.963747e+04\n",
              "min      0.000000e+00\n",
              "25%      3.412500e+02\n",
              "50%      2.059500e+03\n",
              "75%      7.757750e+03\n",
              "max      2.187290e+06\n",
              "Name: totexp, dtype: float64"
            ],
            "text/html": [
              "<div>\n",
              "<style scoped>\n",
              "    .dataframe tbody tr th:only-of-type {\n",
              "        vertical-align: middle;\n",
              "    }\n",
              "\n",
              "    .dataframe tbody tr th {\n",
              "        vertical-align: top;\n",
              "    }\n",
              "\n",
              "    .dataframe thead th {\n",
              "        text-align: right;\n",
              "    }\n",
              "</style>\n",
              "<table border=\"1\" class=\"dataframe\">\n",
              "  <thead>\n",
              "    <tr style=\"text-align: right;\">\n",
              "      <th></th>\n",
              "      <th>totexp</th>\n",
              "    </tr>\n",
              "  </thead>\n",
              "  <tbody>\n",
              "    <tr>\n",
              "      <th>count</th>\n",
              "      <td>2.244600e+04</td>\n",
              "    </tr>\n",
              "    <tr>\n",
              "      <th>mean</th>\n",
              "      <td>8.929659e+03</td>\n",
              "    </tr>\n",
              "    <tr>\n",
              "      <th>std</th>\n",
              "      <td>2.963747e+04</td>\n",
              "    </tr>\n",
              "    <tr>\n",
              "      <th>min</th>\n",
              "      <td>0.000000e+00</td>\n",
              "    </tr>\n",
              "    <tr>\n",
              "      <th>25%</th>\n",
              "      <td>3.412500e+02</td>\n",
              "    </tr>\n",
              "    <tr>\n",
              "      <th>50%</th>\n",
              "      <td>2.059500e+03</td>\n",
              "    </tr>\n",
              "    <tr>\n",
              "      <th>75%</th>\n",
              "      <td>7.757750e+03</td>\n",
              "    </tr>\n",
              "    <tr>\n",
              "      <th>max</th>\n",
              "      <td>2.187290e+06</td>\n",
              "    </tr>\n",
              "  </tbody>\n",
              "</table>\n",
              "</div><br><label><b>dtype:</b> float64</label>"
            ]
          },
          "metadata": {},
          "execution_count": 137
        }
      ]
    },
    {
      "cell_type": "markdown",
      "source": [
        "Valor médio de despesas com saúde anual aproximadamente 9000 dolares."
      ],
      "metadata": {
        "id": "eI5c_-iRb4rX"
      },
      "id": "eI5c_-iRb4rX"
    },
    {
      "cell_type": "code",
      "source": [
        "print(pd.crosstab(df[\"sex\"], df['diabetes'], normalize='columns'), \"\\n\")\n",
        "print(pd.crosstab(df[\"race\"], df['diabetes'], normalize='columns'), \"\\n\")\n",
        "print(pd.crosstab(df[\"poverty\"], df['diabetes'], normalize='columns'), \"\\n\")\n",
        "print(pd.crosstab(df[\"marital_status\"], df['diabetes'], normalize='columns'), \"\\n\")"
      ],
      "metadata": {
        "colab": {
          "base_uri": "https://localhost:8080/"
        },
        "id": "9pWu9DdRYWyH",
        "outputId": "a7968793-2d86-4b6d-a3a4-d7f0578445a0"
      },
      "id": "9pWu9DdRYWyH",
      "execution_count": 138,
      "outputs": [
        {
          "output_type": "stream",
          "name": "stdout",
          "text": [
            "diabetes         0         1\n",
            "sex                         \n",
            "1         0.462205  0.461997\n",
            "2         0.537795  0.538003 \n",
            "\n",
            "diabetes         0         1\n",
            "race                        \n",
            "AI/AN     0.007684  0.015389\n",
            "Asian     0.057263  0.049623\n",
            "Black     0.138874  0.204774\n",
            "Multiple  0.027723  0.032035\n",
            "White     0.768456  0.698178 \n",
            "\n",
            "diabetes              0         1\n",
            "poverty                          \n",
            "High Income    0.398972  0.262563\n",
            "Low Income     0.128543  0.158291\n",
            "Middle Income  0.279722  0.279523\n",
            "Near Poor      0.045842  0.070038\n",
            "Poor           0.146921  0.229585 \n",
            "\n",
            "diabetes               0         1\n",
            "marital_status                    \n",
            "Divorced        0.134773  0.194724\n",
            "Married         0.465165  0.449121\n",
            "Never Married   0.302928  0.151068\n",
            "Separated       0.021701  0.037688\n",
            "Widowed         0.075433  0.167399 \n",
            "\n"
          ]
        }
      ]
    },
    {
      "cell_type": "markdown",
      "source": [
        "Interessante notar como mudam as distribuições de pobreza e estado-marital quando se possui diabetes.\n",
        "\n",
        "A concentração aumenta em pessoas de renda mais baixa. Também aumenta em pessoas viúvas (mas talvez seja consequência de idade)."
      ],
      "metadata": {
        "id": "nZXRjBs-fQtW"
      },
      "id": "nZXRjBs-fQtW"
    },
    {
      "cell_type": "code",
      "source": [
        "df.groupby(\"diabetes\")[[\"age\",\"totexp\"]].mean()"
      ],
      "metadata": {
        "colab": {
          "base_uri": "https://localhost:8080/",
          "height": 143
        },
        "id": "G_UXJWFjXxp1",
        "outputId": "3b3190f3-f839-4966-db1b-647680690e05"
      },
      "id": "G_UXJWFjXxp1",
      "execution_count": 139,
      "outputs": [
        {
          "output_type": "execute_result",
          "data": {
            "text/plain": [
              "                age        totexp\n",
              "diabetes                         \n",
              "0         49.395442   7644.789897\n",
              "1         63.384108  16702.633166"
            ],
            "text/html": [
              "\n",
              "  <div id=\"df-a22eb697-86a9-466a-9977-808b0152704b\" class=\"colab-df-container\">\n",
              "    <div>\n",
              "<style scoped>\n",
              "    .dataframe tbody tr th:only-of-type {\n",
              "        vertical-align: middle;\n",
              "    }\n",
              "\n",
              "    .dataframe tbody tr th {\n",
              "        vertical-align: top;\n",
              "    }\n",
              "\n",
              "    .dataframe thead th {\n",
              "        text-align: right;\n",
              "    }\n",
              "</style>\n",
              "<table border=\"1\" class=\"dataframe\">\n",
              "  <thead>\n",
              "    <tr style=\"text-align: right;\">\n",
              "      <th></th>\n",
              "      <th>age</th>\n",
              "      <th>totexp</th>\n",
              "    </tr>\n",
              "    <tr>\n",
              "      <th>diabetes</th>\n",
              "      <th></th>\n",
              "      <th></th>\n",
              "    </tr>\n",
              "  </thead>\n",
              "  <tbody>\n",
              "    <tr>\n",
              "      <th>0</th>\n",
              "      <td>49.395442</td>\n",
              "      <td>7644.789897</td>\n",
              "    </tr>\n",
              "    <tr>\n",
              "      <th>1</th>\n",
              "      <td>63.384108</td>\n",
              "      <td>16702.633166</td>\n",
              "    </tr>\n",
              "  </tbody>\n",
              "</table>\n",
              "</div>\n",
              "    <div class=\"colab-df-buttons\">\n",
              "\n",
              "  <div class=\"colab-df-container\">\n",
              "    <button class=\"colab-df-convert\" onclick=\"convertToInteractive('df-a22eb697-86a9-466a-9977-808b0152704b')\"\n",
              "            title=\"Convert this dataframe to an interactive table.\"\n",
              "            style=\"display:none;\">\n",
              "\n",
              "  <svg xmlns=\"http://www.w3.org/2000/svg\" height=\"24px\" viewBox=\"0 -960 960 960\">\n",
              "    <path d=\"M120-120v-720h720v720H120Zm60-500h600v-160H180v160Zm220 220h160v-160H400v160Zm0 220h160v-160H400v160ZM180-400h160v-160H180v160Zm440 0h160v-160H620v160ZM180-180h160v-160H180v160Zm440 0h160v-160H620v160Z\"/>\n",
              "  </svg>\n",
              "    </button>\n",
              "\n",
              "  <style>\n",
              "    .colab-df-container {\n",
              "      display:flex;\n",
              "      gap: 12px;\n",
              "    }\n",
              "\n",
              "    .colab-df-convert {\n",
              "      background-color: #E8F0FE;\n",
              "      border: none;\n",
              "      border-radius: 50%;\n",
              "      cursor: pointer;\n",
              "      display: none;\n",
              "      fill: #1967D2;\n",
              "      height: 32px;\n",
              "      padding: 0 0 0 0;\n",
              "      width: 32px;\n",
              "    }\n",
              "\n",
              "    .colab-df-convert:hover {\n",
              "      background-color: #E2EBFA;\n",
              "      box-shadow: 0px 1px 2px rgba(60, 64, 67, 0.3), 0px 1px 3px 1px rgba(60, 64, 67, 0.15);\n",
              "      fill: #174EA6;\n",
              "    }\n",
              "\n",
              "    .colab-df-buttons div {\n",
              "      margin-bottom: 4px;\n",
              "    }\n",
              "\n",
              "    [theme=dark] .colab-df-convert {\n",
              "      background-color: #3B4455;\n",
              "      fill: #D2E3FC;\n",
              "    }\n",
              "\n",
              "    [theme=dark] .colab-df-convert:hover {\n",
              "      background-color: #434B5C;\n",
              "      box-shadow: 0px 1px 3px 1px rgba(0, 0, 0, 0.15);\n",
              "      filter: drop-shadow(0px 1px 2px rgba(0, 0, 0, 0.3));\n",
              "      fill: #FFFFFF;\n",
              "    }\n",
              "  </style>\n",
              "\n",
              "    <script>\n",
              "      const buttonEl =\n",
              "        document.querySelector('#df-a22eb697-86a9-466a-9977-808b0152704b button.colab-df-convert');\n",
              "      buttonEl.style.display =\n",
              "        google.colab.kernel.accessAllowed ? 'block' : 'none';\n",
              "\n",
              "      async function convertToInteractive(key) {\n",
              "        const element = document.querySelector('#df-a22eb697-86a9-466a-9977-808b0152704b');\n",
              "        const dataTable =\n",
              "          await google.colab.kernel.invokeFunction('convertToInteractive',\n",
              "                                                    [key], {});\n",
              "        if (!dataTable) return;\n",
              "\n",
              "        const docLinkHtml = 'Like what you see? Visit the ' +\n",
              "          '<a target=\"_blank\" href=https://colab.research.google.com/notebooks/data_table.ipynb>data table notebook</a>'\n",
              "          + ' to learn more about interactive tables.';\n",
              "        element.innerHTML = '';\n",
              "        dataTable['output_type'] = 'display_data';\n",
              "        await google.colab.output.renderOutput(dataTable, element);\n",
              "        const docLink = document.createElement('div');\n",
              "        docLink.innerHTML = docLinkHtml;\n",
              "        element.appendChild(docLink);\n",
              "      }\n",
              "    </script>\n",
              "  </div>\n",
              "\n",
              "\n",
              "    <div id=\"df-5086f70c-8d67-4882-8067-fa6dd5ee9b4d\">\n",
              "      <button class=\"colab-df-quickchart\" onclick=\"quickchart('df-5086f70c-8d67-4882-8067-fa6dd5ee9b4d')\"\n",
              "                title=\"Suggest charts\"\n",
              "                style=\"display:none;\">\n",
              "\n",
              "<svg xmlns=\"http://www.w3.org/2000/svg\" height=\"24px\"viewBox=\"0 0 24 24\"\n",
              "     width=\"24px\">\n",
              "    <g>\n",
              "        <path d=\"M19 3H5c-1.1 0-2 .9-2 2v14c0 1.1.9 2 2 2h14c1.1 0 2-.9 2-2V5c0-1.1-.9-2-2-2zM9 17H7v-7h2v7zm4 0h-2V7h2v10zm4 0h-2v-4h2v4z\"/>\n",
              "    </g>\n",
              "</svg>\n",
              "      </button>\n",
              "\n",
              "<style>\n",
              "  .colab-df-quickchart {\n",
              "      --bg-color: #E8F0FE;\n",
              "      --fill-color: #1967D2;\n",
              "      --hover-bg-color: #E2EBFA;\n",
              "      --hover-fill-color: #174EA6;\n",
              "      --disabled-fill-color: #AAA;\n",
              "      --disabled-bg-color: #DDD;\n",
              "  }\n",
              "\n",
              "  [theme=dark] .colab-df-quickchart {\n",
              "      --bg-color: #3B4455;\n",
              "      --fill-color: #D2E3FC;\n",
              "      --hover-bg-color: #434B5C;\n",
              "      --hover-fill-color: #FFFFFF;\n",
              "      --disabled-bg-color: #3B4455;\n",
              "      --disabled-fill-color: #666;\n",
              "  }\n",
              "\n",
              "  .colab-df-quickchart {\n",
              "    background-color: var(--bg-color);\n",
              "    border: none;\n",
              "    border-radius: 50%;\n",
              "    cursor: pointer;\n",
              "    display: none;\n",
              "    fill: var(--fill-color);\n",
              "    height: 32px;\n",
              "    padding: 0;\n",
              "    width: 32px;\n",
              "  }\n",
              "\n",
              "  .colab-df-quickchart:hover {\n",
              "    background-color: var(--hover-bg-color);\n",
              "    box-shadow: 0 1px 2px rgba(60, 64, 67, 0.3), 0 1px 3px 1px rgba(60, 64, 67, 0.15);\n",
              "    fill: var(--button-hover-fill-color);\n",
              "  }\n",
              "\n",
              "  .colab-df-quickchart-complete:disabled,\n",
              "  .colab-df-quickchart-complete:disabled:hover {\n",
              "    background-color: var(--disabled-bg-color);\n",
              "    fill: var(--disabled-fill-color);\n",
              "    box-shadow: none;\n",
              "  }\n",
              "\n",
              "  .colab-df-spinner {\n",
              "    border: 2px solid var(--fill-color);\n",
              "    border-color: transparent;\n",
              "    border-bottom-color: var(--fill-color);\n",
              "    animation:\n",
              "      spin 1s steps(1) infinite;\n",
              "  }\n",
              "\n",
              "  @keyframes spin {\n",
              "    0% {\n",
              "      border-color: transparent;\n",
              "      border-bottom-color: var(--fill-color);\n",
              "      border-left-color: var(--fill-color);\n",
              "    }\n",
              "    20% {\n",
              "      border-color: transparent;\n",
              "      border-left-color: var(--fill-color);\n",
              "      border-top-color: var(--fill-color);\n",
              "    }\n",
              "    30% {\n",
              "      border-color: transparent;\n",
              "      border-left-color: var(--fill-color);\n",
              "      border-top-color: var(--fill-color);\n",
              "      border-right-color: var(--fill-color);\n",
              "    }\n",
              "    40% {\n",
              "      border-color: transparent;\n",
              "      border-right-color: var(--fill-color);\n",
              "      border-top-color: var(--fill-color);\n",
              "    }\n",
              "    60% {\n",
              "      border-color: transparent;\n",
              "      border-right-color: var(--fill-color);\n",
              "    }\n",
              "    80% {\n",
              "      border-color: transparent;\n",
              "      border-right-color: var(--fill-color);\n",
              "      border-bottom-color: var(--fill-color);\n",
              "    }\n",
              "    90% {\n",
              "      border-color: transparent;\n",
              "      border-bottom-color: var(--fill-color);\n",
              "    }\n",
              "  }\n",
              "</style>\n",
              "\n",
              "      <script>\n",
              "        async function quickchart(key) {\n",
              "          const quickchartButtonEl =\n",
              "            document.querySelector('#' + key + ' button');\n",
              "          quickchartButtonEl.disabled = true;  // To prevent multiple clicks.\n",
              "          quickchartButtonEl.classList.add('colab-df-spinner');\n",
              "          try {\n",
              "            const charts = await google.colab.kernel.invokeFunction(\n",
              "                'suggestCharts', [key], {});\n",
              "          } catch (error) {\n",
              "            console.error('Error during call to suggestCharts:', error);\n",
              "          }\n",
              "          quickchartButtonEl.classList.remove('colab-df-spinner');\n",
              "          quickchartButtonEl.classList.add('colab-df-quickchart-complete');\n",
              "        }\n",
              "        (() => {\n",
              "          let quickchartButtonEl =\n",
              "            document.querySelector('#df-5086f70c-8d67-4882-8067-fa6dd5ee9b4d button');\n",
              "          quickchartButtonEl.style.display =\n",
              "            google.colab.kernel.accessAllowed ? 'block' : 'none';\n",
              "        })();\n",
              "      </script>\n",
              "    </div>\n",
              "\n",
              "    </div>\n",
              "  </div>\n"
            ],
            "application/vnd.google.colaboratory.intrinsic+json": {
              "type": "dataframe",
              "summary": "{\n  \"name\": \"df\",\n  \"rows\": 2,\n  \"fields\": [\n    {\n      \"column\": \"diabetes\",\n      \"properties\": {\n        \"dtype\": \"number\",\n        \"std\": 0,\n        \"min\": 0,\n        \"max\": 1,\n        \"num_unique_values\": 2,\n        \"samples\": [\n          1,\n          0\n        ],\n        \"semantic_type\": \"\",\n        \"description\": \"\"\n      }\n    },\n    {\n      \"column\": \"age\",\n      \"properties\": {\n        \"dtype\": \"number\",\n        \"std\": 9.891480756424695,\n        \"min\": 49.39544180251272,\n        \"max\": 63.384108040201006,\n        \"num_unique_values\": 2,\n        \"samples\": [\n          63.384108040201006,\n          49.39544180251272\n        ],\n        \"semantic_type\": \"\",\n        \"description\": \"\"\n      }\n    },\n    {\n      \"column\": \"totexp\",\n      \"properties\": {\n        \"dtype\": \"number\",\n        \"std\": 6404.862398167687,\n        \"min\": 7644.789897206936,\n        \"max\": 16702.633165829146,\n        \"num_unique_values\": 2,\n        \"samples\": [\n          16702.633165829146,\n          7644.789897206936\n        ],\n        \"semantic_type\": \"\",\n        \"description\": \"\"\n      }\n    }\n  ]\n}"
            }
          },
          "metadata": {},
          "execution_count": 139
        }
      ]
    },
    {
      "cell_type": "markdown",
      "source": [
        "A idade média das pessoas com diabetes é maior que as sem, assim como suas despesas anuais com saúde são quase dobradas. As demais variáveis parecem estar bem distribuídas."
      ],
      "metadata": {
        "id": "UUmuK_87eRKQ"
      },
      "id": "UUmuK_87eRKQ"
    },
    {
      "cell_type": "markdown",
      "source": [
        "### 2. Estimativa do Escore de Propensão\n",
        "  - Modele a probabilidade de ter diabetes usando uma regressão logística com as covariáveis explicativas apropriadas.\n",
        "  - Apresente os coeficientes estimados e discuta os fatores mais associados à presença de diabetes.\n",
        "\n"
      ],
      "metadata": {
        "id": "wlIc1f42zT1f"
      },
      "id": "wlIc1f42zT1f"
    },
    {
      "cell_type": "markdown",
      "source": [
        "As variáveis race, poverty, marital_status são categóricas e portanto codificá-las é importante."
      ],
      "metadata": {
        "id": "mLHwD4kpgjNO"
      },
      "id": "mLHwD4kpgjNO"
    },
    {
      "cell_type": "code",
      "source": [
        "df[\"poverty\"].unique(), df[\"marital_status\"].unique()"
      ],
      "metadata": {
        "colab": {
          "base_uri": "https://localhost:8080/"
        },
        "id": "m0GfoR4_gfmR",
        "outputId": "9d855fa5-a20d-4256-e294-1a07f4b07d91"
      },
      "id": "m0GfoR4_gfmR",
      "execution_count": 143,
      "outputs": [
        {
          "output_type": "execute_result",
          "data": {
            "text/plain": [
              "(array(['Low Income', 'Near Poor', 'Middle Income', 'High Income', 'Poor'],\n",
              "       dtype=object),\n",
              " array(['Married', 'Divorced', 'Never Married', 'Widowed', 'Separated'],\n",
              "       dtype=object))"
            ]
          },
          "metadata": {},
          "execution_count": 143
        }
      ]
    },
    {
      "cell_type": "code",
      "source": [
        "# Ordinal Encoding\n",
        "poverty_order = {\n",
        "    'Poor': 0,\n",
        "    'Near Poor': 1,\n",
        "    'Low Income': 2,\n",
        "    'Middle Income': 3,\n",
        "    'High Income': 4\n",
        "}\n",
        "df['poverty_ordinal'] = df['poverty'].map(poverty_order)\n",
        "\n",
        "# One-Hot Encoding\n",
        "df_encoded = pd.get_dummies(df, columns=['race', 'marital_status'], drop_first=True)\n",
        "df_encoded.info()"
      ],
      "metadata": {
        "colab": {
          "base_uri": "https://localhost:8080/"
        },
        "id": "CF1UoDGmgb-f",
        "outputId": "615ea4bd-f047-40b2-dc0b-5d52d873596b"
      },
      "id": "CF1UoDGmgb-f",
      "execution_count": 156,
      "outputs": [
        {
          "output_type": "stream",
          "name": "stdout",
          "text": [
            "<class 'pandas.core.frame.DataFrame'>\n",
            "RangeIndex: 22446 entries, 0 to 22445\n",
            "Data columns (total 17 columns):\n",
            " #   Column                        Non-Null Count  Dtype \n",
            "---  ------                        --------------  ----- \n",
            " 0   dupersid                      22446 non-null  int64 \n",
            " 1   age                           22446 non-null  int64 \n",
            " 2   sex                           22446 non-null  int64 \n",
            " 3   poverty                       22446 non-null  object\n",
            " 4   diabetes                      22446 non-null  int64 \n",
            " 5   totexp                        22446 non-null  int64 \n",
            " 6   ertexp                        22446 non-null  int64 \n",
            " 7   year                          22446 non-null  int64 \n",
            " 8   poverty_ordinal               22446 non-null  int64 \n",
            " 9   race_Asian                    22446 non-null  bool  \n",
            " 10  race_Black                    22446 non-null  bool  \n",
            " 11  race_Multiple                 22446 non-null  bool  \n",
            " 12  race_White                    22446 non-null  bool  \n",
            " 13  marital_status_Married        22446 non-null  bool  \n",
            " 14  marital_status_Never Married  22446 non-null  bool  \n",
            " 15  marital_status_Separated      22446 non-null  bool  \n",
            " 16  marital_status_Widowed        22446 non-null  bool  \n",
            "dtypes: bool(8), int64(8), object(1)\n",
            "memory usage: 1.7+ MB\n"
          ]
        }
      ]
    },
    {
      "cell_type": "markdown",
      "source": [
        "Não existe necessidade de utilizar estas variáveis dummy, visto que não diferenciam tanto entre pessoas com ou sem diabetes, pode inclusiver supercomplicar o modelo."
      ],
      "metadata": {
        "id": "kDDeu88FhhJY"
      },
      "id": "kDDeu88FhhJY"
    },
    {
      "cell_type": "code",
      "source": [
        "X = df_encoded[['age', 'poverty_ordinal', 'totexp', 'ertexp']]\n",
        "\n",
        "X_ = sm.add_constant(X)\n",
        "y = df_encoded[\"diabetes\"]\n",
        "\n",
        "logreg = sm.Logit(y, X_).fit()\n",
        "print(logreg.summary())"
      ],
      "metadata": {
        "colab": {
          "base_uri": "https://localhost:8080/"
        },
        "id": "jXazyg-2erV2",
        "outputId": "b64a3d8b-c013-416c-d260-941f05630283"
      },
      "id": "jXazyg-2erV2",
      "execution_count": 167,
      "outputs": [
        {
          "output_type": "stream",
          "name": "stdout",
          "text": [
            "Optimization terminated successfully.\n",
            "         Current function value: 0.364190\n",
            "         Iterations 7\n",
            "                           Logit Regression Results                           \n",
            "==============================================================================\n",
            "Dep. Variable:               diabetes   No. Observations:                22446\n",
            "Model:                          Logit   Df Residuals:                    22441\n",
            "Method:                           MLE   Df Model:                            4\n",
            "Date:                Tue, 15 Jul 2025   Pseudo R-squ.:                  0.1081\n",
            "Time:                        19:43:09   Log-Likelihood:                -8174.6\n",
            "converged:                       True   LL-Null:                       -9164.9\n",
            "Covariance Type:            nonrobust   LLR p-value:                     0.000\n",
            "===================================================================================\n",
            "                      coef    std err          z      P>|z|      [0.025      0.975]\n",
            "-----------------------------------------------------------------------------------\n",
            "const              -3.8059      0.083    -45.620      0.000      -3.969      -3.642\n",
            "age                 0.0437      0.001     35.455      0.000       0.041       0.046\n",
            "poverty_ordinal    -0.2155      0.013    -16.182      0.000      -0.242      -0.189\n",
            "totexp            6.05e-06   7.47e-07      8.096      0.000    4.59e-06    7.51e-06\n",
            "ertexp           1.515e-05   1.21e-05      1.250      0.211    -8.6e-06    3.89e-05\n",
            "===================================================================================\n"
          ]
        }
      ]
    },
    {
      "cell_type": "markdown",
      "source": [
        "O R² estimado é baixo, o modelo não explica bem a variação de diabetes. Talvez o modelo seja muito simples e não capture as relações não lineares entre as variáveis, ou mesmo variáveis cruciais como **histórico familiar, sedentarismo, IMC**...\n",
        "\n",
        "Entretanto, idade, nível de pobreza e despesas anuais com saúde são variáveis significativas para a previsão de diabetes (apesar de só a pobreza apresentar um valor alto em magnitude).\n",
        "\n"
      ],
      "metadata": {
        "id": "CQigX7J0jsrO"
      },
      "id": "CQigX7J0jsrO"
    },
    {
      "cell_type": "code",
      "source": [
        "prop_score = logreg.predict(X_)\n",
        "\n",
        "sns.histplot(prop_score, bins=50)\n",
        "plt.xlabel('propensão')\n",
        "plt.ylabel('freq')\n",
        "plt.show()"
      ],
      "metadata": {
        "colab": {
          "base_uri": "https://localhost:8080/",
          "height": 449
        },
        "id": "uhtgr7hElZyQ",
        "outputId": "01b3e99a-67a2-424a-f200-9b746aa37e1b"
      },
      "id": "uhtgr7hElZyQ",
      "execution_count": 165,
      "outputs": [
        {
          "output_type": "display_data",
          "data": {
            "text/plain": [
              "<Figure size 640x480 with 1 Axes>"
            ],
            "image/png": "[encoded data removed]"
          },
          "metadata": {}
        }
      ]
    },
    {
      "cell_type": "markdown",
      "source": [
        "Podemos ver que os scores de propensão previstas pelo modelo subestima a presença de diabetes."
      ],
      "metadata": {
        "id": "heBdTmf0lxLq"
      },
      "id": "heBdTmf0lxLq"
    },
    {
      "cell_type": "markdown",
      "source": [
        "### 3. Pareamento 1:1 por escore de propensão\n",
        "  - Realize o pareamento 1:1 sem reposição com base no escore estimado.\n",
        "  - Avalie o balanceamento das covariáveis antes e depois do pareamento.\n",
        "\n"
      ],
      "metadata": {
        "id": "crcskdRGzVXK"
      },
      "id": "crcskdRGzVXK"
    },
    {
      "cell_type": "markdown",
      "source": [
        "diabetes = 1 -> tratado"
      ],
      "metadata": {
        "id": "d17TZQzEuqke"
      },
      "id": "d17TZQzEuqke"
    },
    {
      "cell_type": "code",
      "source": [
        "from sklearn.neighbors import NearestNeighbors\n",
        "\n",
        "prop_score_tratado = prop_score[y == 1]\n",
        "prop_score_controle = prop_score[y == 0]\n",
        "\n",
        "X_tratado = X[y == 1].copy()\n",
        "X_controle = X[y == 0].copy()\n",
        "\n",
        "nn = NearestNeighbors(n_neighbors=1) # PAREAMENTO 1:1\n",
        "nn.fit(prop_score_controle.values.reshape(-1, 1))\n",
        "\n",
        "dists, idxs = nn.kneighbors(prop_score_tratado.values.reshape(-1, 1))\n",
        "dists, idxs = dists.flatten(), idxs.flatten()\n",
        "\n",
        "X_controle_pareado = X_controle.iloc[idxs].copy()\n",
        "X_controle_pareado['distancia'] = dists\n",
        "\n",
        "dists"
      ],
      "metadata": {
        "colab": {
          "base_uri": "https://localhost:8080/"
        },
        "id": "2g_nIJQwmQZZ",
        "outputId": "293af688-e6fd-47a2-d714-6cfa1c7bffeb"
      },
      "id": "2g_nIJQwmQZZ",
      "execution_count": 180,
      "outputs": [
        {
          "output_type": "execute_result",
          "data": {
            "text/plain": [
              "array([2.40518892e-05, 1.19918293e-06, 9.19293149e-07, ...,\n",
              "       0.00000000e+00, 4.67585342e-05, 3.00162663e-05])"
            ]
          },
          "metadata": {},
          "execution_count": 180
        }
      ]
    },
    {
      "cell_type": "markdown",
      "source": [
        "- |SMD| < 0.1 -> bom\n",
        "- |SMD| > 0.2 -> ruim"
      ],
      "metadata": {
        "id": "a2h_L80RrJ6V"
      },
      "id": "a2h_L80RrJ6V"
    },
    {
      "cell_type": "code",
      "source": [
        "def smd_(X0,X1,vars):\n",
        "    smd = {}\n",
        "    for var in vars:\n",
        "        mean0, mean1 = X0[var].mean(), X1[var].mean()\n",
        "        std0, std1 = X0[var].std(), X1[var].std()\n",
        "        pooled_std = np.sqrt((std0**2 + std1**2) / 2)\n",
        "        smd[var] = (mean0 - mean1) / pooled_std\n",
        "    return smd\n",
        "\n",
        "smd_antes = smd_(X_tratado, X_controle, X.columns)\n",
        "smd_depois = smd_(X_tratado, X_controle_pareado, X.columns)\n",
        "\n",
        "print(\"SMD antes do pareamento:\")\n",
        "for var, val in smd_antes.items():\n",
        "    print(f\"{var}: {val:.3f}\")\n",
        "\n",
        "print(\"\\nSMD depois do pareamento:\")\n",
        "for var, val in smd_depois.items():\n",
        "    print(f\"{var}: {val:.3f}\")"
      ],
      "metadata": {
        "colab": {
          "base_uri": "https://localhost:8080/"
        },
        "id": "phiinzv0qQE3",
        "outputId": "6a800e1a-4b34-4851-aa00-84245f6c71d3"
      },
      "id": "phiinzv0qQE3",
      "execution_count": 183,
      "outputs": [
        {
          "output_type": "stream",
          "name": "stdout",
          "text": [
            "SMD antes do pareamento:\n",
            "age: 0.858\n",
            "poverty_ordinal: -0.319\n",
            "totexp: 0.323\n",
            "ertexp: 0.074\n",
            "\n",
            "SMD depois do pareamento:\n",
            "age: -0.096\n",
            "poverty_ordinal: -0.112\n",
            "totexp: 0.134\n",
            "ertexp: -0.003\n"
          ]
        }
      ]
    },
    {
      "cell_type": "markdown",
      "source": [
        "### 4. Estimativa do Efeito do Tratamento (ATT)\n",
        "  - Calcule a diferença média nos gastos totais (totexp) entre indivíduos com diabetes e seus controles pareados.\n",
        "  - Construa um intervalo de confiança para essa diferença com bootstrap.\n",
        "\n"
      ],
      "metadata": {
        "id": "nNOJV4_CzWiy"
      },
      "id": "nNOJV4_CzWiy"
    },
    {
      "cell_type": "code",
      "source": [
        "despesa_tratado = X_tratado['totexp'].values\n",
        "despesa_controle = X_controle_pareado[\"totexp\"].values\n",
        "\n",
        "att = np.mean(despesa_tratado - despesa_controle)\n",
        "att"
      ],
      "metadata": {
        "colab": {
          "base_uri": "https://localhost:8080/"
        },
        "id": "5FdGAt0hucHS",
        "outputId": "131a4cec-58ec-4569-fe4a-75f95f2f2899"
      },
      "id": "5FdGAt0hucHS",
      "execution_count": 185,
      "outputs": [
        {
          "output_type": "execute_result",
          "data": {
            "text/plain": [
              "np.float64(3772.0059673366836)"
            ]
          },
          "metadata": {},
          "execution_count": 185
        }
      ]
    },
    {
      "cell_type": "code",
      "source": [
        "# intervalo boostrap\n",
        "n = 1000\n",
        "diffs = []\n",
        "\n",
        "# distribuicao\n",
        "n = len(despesa_tratado)\n",
        "for _ in range(n):\n",
        "    idxs = np.random.choice(n, n, replace=True)\n",
        "    diff_boot = np.mean(despesa_tratado[idxs] - despesa_controle[idxs])\n",
        "    diffs.append(diff_boot)\n",
        "\n",
        "# Intervalo de confiança 95%\n",
        "lower = np.percentile(diffs, 2.5)\n",
        "upper = np.percentile(diffs, 97.5)\n",
        "\n",
        "print(f\"({lower:.3f}, {upper:.3f})\")"
      ],
      "metadata": {
        "colab": {
          "base_uri": "https://localhost:8080/"
        },
        "id": "YjIlJeJ4vHSM",
        "outputId": "6f9bb8cf-3ab1-4a04-dfe9-0aaa856dafac"
      },
      "id": "YjIlJeJ4vHSM",
      "execution_count": 187,
      "outputs": [
        {
          "output_type": "stream",
          "name": "stdout",
          "text": [
            "(2584.224, 4918.084)\n"
          ]
        }
      ]
    },
    {
      "cell_type": "markdown",
      "source": [
        "### 5. Discussão\n",
        "  - Comente sobre a qualidade do pareamento e possíveis vieses remanescentes.\n",
        "  - Interprete o ATT obtido: qual o impacto médio estimado da diabetes sobre os gastos médicos?"
      ],
      "metadata": {
        "id": "RtncD-AOzXyP"
      },
      "id": "RtncD-AOzXyP"
    },
    {
      "cell_type": "markdown",
      "source": [
        "Idealmente, para um bom pareamento, o SMD deve ficar abaixo de 0.1, o que indicaria bom balanceamento entre tratado e controle.\n",
        "\n",
        "- Tivemos redução boa no SMD da idade (0.85 -> 0.09), indicando bom balanceamento\n",
        "\n",
        "- Porém na despesa total e na pobreza, tivemos redução (0.32 -> 0.11) e (0.32 -> 0.13) porém ainda levemente acima de 0.1. (Aceitável).\n",
        "\n",
        "- O pareamento obviamente só corrige os vieses das covariáveis que incluimos no modelo. Então ainda existe viés residual.\n",
        "\n",
        "- O nearest neighbor também é um método aproximativo, não encontra o pareamento perfeito, apenas o mais próximo.\n",
        "\n",
        "Além disso, a amostra retirada pode não ser representativa de toda a população.\n"
      ],
      "metadata": {
        "id": "tNf-I9pFwLzi"
      },
      "id": "tNf-I9pFwLzi"
    },
    {
      "cell_type": "markdown",
      "source": [
        "- Em média, os indivíduos com diabetes gastam cerca de 3772 dólares a mais em despesa total com saúde anual do que seus controles (pareados).\n",
        "\n",
        "- Com 95% de confiança, a diferença real está entre 2584 e 4918 dólares.\n",
        "\n",
        "- É uma diferença estatísticamente significativa!"
      ],
      "metadata": {
        "id": "mGkRKv4AvyLW"
      },
      "id": "mGkRKv4AvyLW"
    },
    {
      "cell_type": "code",
      "source": [
        "plt.figure(figsize=(10, 5))\n",
        "sns.histplot(prop_score[y == 1], color='red', label='Tratado', bins=50, stat='density', alpha=0.5)\n",
        "sns.histplot(prop_score[y == 0], color='blue', label='Controle', bins=50, stat='density', alpha=0.5)\n",
        "plt.xlabel('propensity score')\n",
        "plt.legend()\n",
        "plt.show()\n",
        "\n",
        "plt.figure(figsize=(10, 5))\n",
        "sns.histplot(prop_score[y == 1], color='red', label='Tratado', bins=50, stat='density', alpha=0.5)\n",
        "sns.histplot(prop_score_controle.iloc[idxs], color='blue', label='Controle Pareado', bins=50, stat='density', alpha=0.5)\n",
        "plt.xlabel('propensity score')\n",
        "plt.legend()\n",
        "plt.show()"
      ],
      "metadata": {
        "colab": {
          "base_uri": "https://localhost:8080/",
          "height": 913
        },
        "id": "3AIAMmvqzo4e",
        "outputId": "821f0858-fd05-482e-e4d6-edcfeb98733d"
      },
      "id": "3AIAMmvqzo4e",
      "execution_count": 191,
      "outputs": [
        {
          "output_type": "display_data",
          "data": {
            "text/plain": [
              "<Figure size 1000x500 with 1 Axes>"
            ],
            "image/png": "[encoded data removed]"
          },
          "metadata": {}
        },
        {
          "output_type": "display_data",
          "data": {
            "text/plain": [
              "<Figure size 1000x500 with 1 Axes>"
            ],
            "image/png": "[encoded data removed]"
          },
          "metadata": {}
        }
      ]
    },
    {
      "cell_type": "markdown",
      "source": [
        "Realmente, o pareamento melhorou a sobreposição das distribuições, reduzindo o viés.\n",
        "\n",
        "Mas ainda existem pares que não estão bem balanceados, ainda tem execesso de controles com propensão baixa."
      ],
      "metadata": {
        "id": "jKeY8jSR0RKL"
      },
      "id": "jKeY8jSR0RKL"
    },
    {
      "cell_type": "markdown",
      "id": "d868b55e",
      "metadata": {
        "id": "d868b55e"
      },
      "source": [
        "## 4) Inferência Bayesiana\n",
        "Nesta parte, você irá utilizar a inferência bayesiana para estimar a proporção de sobrevivência (θ) de passageiros, incorporando diferentes hipóteses a priori e comparando-as com a evidência empírica observada.\n"
      ]
    },
    {
      "cell_type": "code",
      "source": [
        "df = pd.read_csv(\"titanic.csv\")\n",
        "df.info()\n",
        "df.head()"
      ],
      "metadata": {
        "colab": {
          "base_uri": "https://localhost:8080/",
          "height": 536
        },
        "id": "Od19CfDy1Zod",
        "outputId": "3943c802-1a54-4d8f-d689-947d1eb5a921"
      },
      "id": "Od19CfDy1Zod",
      "execution_count": 192,
      "outputs": [
        {
          "output_type": "stream",
          "name": "stdout",
          "text": [
            "<class 'pandas.core.frame.DataFrame'>\n",
            "RangeIndex: 891 entries, 0 to 890\n",
            "Data columns (total 12 columns):\n",
            " #   Column       Non-Null Count  Dtype  \n",
            "---  ------       --------------  -----  \n",
            " 0   PassengerId  891 non-null    int64  \n",
            " 1   Survived     891 non-null    int64  \n",
            " 2   Pclass       891 non-null    int64  \n",
            " 3   Name         891 non-null    object \n",
            " 4   Sex          891 non-null    object \n",
            " 5   Age          714 non-null    float64\n",
            " 6   SibSp        891 non-null    int64  \n",
            " 7   Parch        891 non-null    int64  \n",
            " 8   Ticket       891 non-null    object \n",
            " 9   Fare         891 non-null    float64\n",
            " 10  Cabin        204 non-null    object \n",
            " 11  Embarked     889 non-null    object \n",
            "dtypes: float64(2), int64(5), object(5)\n",
            "memory usage: 83.7+ KB\n"
          ]
        },
        {
          "output_type": "execute_result",
          "data": {
            "text/plain": [
              "   PassengerId  Survived  Pclass  \\\n",
              "0            1         0       3   \n",
              "1            2         1       1   \n",
              "2            3         1       3   \n",
              "3            4         1       1   \n",
              "4            5         0       3   \n",
              "\n",
              "                                                Name     Sex   Age  SibSp  \\\n",
              "0                            Braund, Mr. Owen Harris    male  22.0      1   \n",
              "1  Cumings, Mrs. John Bradley (Florence Briggs Th...  female  38.0      1   \n",
              "2                             Heikkinen, Miss. Laina  female  26.0      0   \n",
              "3       Futrelle, Mrs. Jacques Heath (Lily May Peel)  female  35.0      1   \n",
              "4                           Allen, Mr. William Henry    male  35.0      0   \n",
              "\n",
              "   Parch            Ticket     Fare Cabin Embarked  \n",
              "0      0         A/5 21171   7.2500   NaN        S  \n",
              "1      0          PC 17599  71.2833   C85        C  \n",
              "2      0  STON/O2. 3101282   7.9250   NaN        S  \n",
              "3      0            113803  53.1000  C123        S  \n",
              "4      0            373450   8.0500   NaN        S  "
            ],
            "text/html": [
              "\n",
              "  <div id=\"df-dcfd9843-c9d8-46d5-be0b-43dfabbfde66\" class=\"colab-df-container\">\n",
              "    <div>\n",
              "<style scoped>\n",
              "    .dataframe tbody tr th:only-of-type {\n",
              "        vertical-align: middle;\n",
              "    }\n",
              "\n",
              "    .dataframe tbody tr th {\n",
              "        vertical-align: top;\n",
              "    }\n",
              "\n",
              "    .dataframe thead th {\n",
              "        text-align: right;\n",
              "    }\n",
              "</style>\n",
              "<table border=\"1\" class=\"dataframe\">\n",
              "  <thead>\n",
              "    <tr style=\"text-align: right;\">\n",
              "      <th></th>\n",
              "      <th>PassengerId</th>\n",
              "      <th>Survived</th>\n",
              "      <th>Pclass</th>\n",
              "      <th>Name</th>\n",
              "      <th>Sex</th>\n",
              "      <th>Age</th>\n",
              "      <th>SibSp</th>\n",
              "      <th>Parch</th>\n",
              "      <th>Ticket</th>\n",
              "      <th>Fare</th>\n",
              "      <th>Cabin</th>\n",
              "      <th>Embarked</th>\n",
              "    </tr>\n",
              "  </thead>\n",
              "  <tbody>\n",
              "    <tr>\n",
              "      <th>0</th>\n",
              "      <td>1</td>\n",
              "      <td>0</td>\n",
              "      <td>3</td>\n",
              "      <td>Braund, Mr. Owen Harris</td>\n",
              "      <td>male</td>\n",
              "      <td>22.0</td>\n",
              "      <td>1</td>\n",
              "      <td>0</td>\n",
              "      <td>A/5 21171</td>\n",
              "      <td>7.2500</td>\n",
              "      <td>NaN</td>\n",
              "      <td>S</td>\n",
              "    </tr>\n",
              "    <tr>\n",
              "      <th>1</th>\n",
              "      <td>2</td>\n",
              "      <td>1</td>\n",
              "      <td>1</td>\n",
              "      <td>Cumings, Mrs. John Bradley (Florence Briggs Th...</td>\n",
              "      <td>female</td>\n",
              "      <td>38.0</td>\n",
              "      <td>1</td>\n",
              "      <td>0</td>\n",
              "      <td>PC 17599</td>\n",
              "      <td>71.2833</td>\n",
              "      <td>C85</td>\n",
              "      <td>C</td>\n",
              "    </tr>\n",
              "    <tr>\n",
              "      <th>2</th>\n",
              "      <td>3</td>\n",
              "      <td>1</td>\n",
              "      <td>3</td>\n",
              "      <td>Heikkinen, Miss. Laina</td>\n",
              "      <td>female</td>\n",
              "      <td>26.0</td>\n",
              "      <td>0</td>\n",
              "      <td>0</td>\n",
              "      <td>STON/O2. 3101282</td>\n",
              "      <td>7.9250</td>\n",
              "      <td>NaN</td>\n",
              "      <td>S</td>\n",
              "    </tr>\n",
              "    <tr>\n",
              "      <th>3</th>\n",
              "      <td>4</td>\n",
              "      <td>1</td>\n",
              "      <td>1</td>\n",
              "      <td>Futrelle, Mrs. Jacques Heath (Lily May Peel)</td>\n",
              "      <td>female</td>\n",
              "      <td>35.0</td>\n",
              "      <td>1</td>\n",
              "      <td>0</td>\n",
              "      <td>113803</td>\n",
              "      <td>53.1000</td>\n",
              "      <td>C123</td>\n",
              "      <td>S</td>\n",
              "    </tr>\n",
              "    <tr>\n",
              "      <th>4</th>\n",
              "      <td>5</td>\n",
              "      <td>0</td>\n",
              "      <td>3</td>\n",
              "      <td>Allen, Mr. William Henry</td>\n",
              "      <td>male</td>\n",
              "      <td>35.0</td>\n",
              "      <td>0</td>\n",
              "      <td>0</td>\n",
              "      <td>373450</td>\n",
              "      <td>8.0500</td>\n",
              "      <td>NaN</td>\n",
              "      <td>S</td>\n",
              "    </tr>\n",
              "  </tbody>\n",
              "</table>\n",
              "</div>\n",
              "    <div class=\"colab-df-buttons\">\n",
              "\n",
              "  <div class=\"colab-df-container\">\n",
              "    <button class=\"colab-df-convert\" onclick=\"convertToInteractive('df-dcfd9843-c9d8-46d5-be0b-43dfabbfde66')\"\n",
              "            title=\"Convert this dataframe to an interactive table.\"\n",
              "            style=\"display:none;\">\n",
              "\n",
              "  <svg xmlns=\"http://www.w3.org/2000/svg\" height=\"24px\" viewBox=\"0 -960 960 960\">\n",
              "    <path d=\"M120-120v-720h720v720H120Zm60-500h600v-160H180v160Zm220 220h160v-160H400v160Zm0 220h160v-160H400v160ZM180-400h160v-160H180v160Zm440 0h160v-160H620v160ZM180-180h160v-160H180v160Zm440 0h160v-160H620v160Z\"/>\n",
              "  </svg>\n",
              "    </button>\n",
              "\n",
              "  <style>\n",
              "    .colab-df-container {\n",
              "      display:flex;\n",
              "      gap: 12px;\n",
              "    }\n",
              "\n",
              "    .colab-df-convert {\n",
              "      background-color: #E8F0FE;\n",
              "      border: none;\n",
              "      border-radius: 50%;\n",
              "      cursor: pointer;\n",
              "      display: none;\n",
              "      fill: #1967D2;\n",
              "      height: 32px;\n",
              "      padding: 0 0 0 0;\n",
              "      width: 32px;\n",
              "    }\n",
              "\n",
              "    .colab-df-convert:hover {\n",
              "      background-color: #E2EBFA;\n",
              "      box-shadow: 0px 1px 2px rgba(60, 64, 67, 0.3), 0px 1px 3px 1px rgba(60, 64, 67, 0.15);\n",
              "      fill: #174EA6;\n",
              "    }\n",
              "\n",
              "    .colab-df-buttons div {\n",
              "      margin-bottom: 4px;\n",
              "    }\n",
              "\n",
              "    [theme=dark] .colab-df-convert {\n",
              "      background-color: #3B4455;\n",
              "      fill: #D2E3FC;\n",
              "    }\n",
              "\n",
              "    [theme=dark] .colab-df-convert:hover {\n",
              "      background-color: #434B5C;\n",
              "      box-shadow: 0px 1px 3px 1px rgba(0, 0, 0, 0.15);\n",
              "      filter: drop-shadow(0px 1px 2px rgba(0, 0, 0, 0.3));\n",
              "      fill: #FFFFFF;\n",
              "    }\n",
              "  </style>\n",
              "\n",
              "    <script>\n",
              "      const buttonEl =\n",
              "        document.querySelector('#df-dcfd9843-c9d8-46d5-be0b-43dfabbfde66 button.colab-df-convert');\n",
              "      buttonEl.style.display =\n",
              "        google.colab.kernel.accessAllowed ? 'block' : 'none';\n",
              "\n",
              "      async function convertToInteractive(key) {\n",
              "        const element = document.querySelector('#df-dcfd9843-c9d8-46d5-be0b-43dfabbfde66');\n",
              "        const dataTable =\n",
              "          await google.colab.kernel.invokeFunction('convertToInteractive',\n",
              "                                                    [key], {});\n",
              "        if (!dataTable) return;\n",
              "\n",
              "        const docLinkHtml = 'Like what you see? Visit the ' +\n",
              "          '<a target=\"_blank\" href=https://colab.research.google.com/notebooks/data_table.ipynb>data table notebook</a>'\n",
              "          + ' to learn more about interactive tables.';\n",
              "        element.innerHTML = '';\n",
              "        dataTable['output_type'] = 'display_data';\n",
              "        await google.colab.output.renderOutput(dataTable, element);\n",
              "        const docLink = document.createElement('div');\n",
              "        docLink.innerHTML = docLinkHtml;\n",
              "        element.appendChild(docLink);\n",
              "      }\n",
              "    </script>\n",
              "  </div>\n",
              "\n",
              "\n",
              "    <div id=\"df-2ccb64ff-472b-4fbd-b689-816e424f1acb\">\n",
              "      <button class=\"colab-df-quickchart\" onclick=\"quickchart('df-2ccb64ff-472b-4fbd-b689-816e424f1acb')\"\n",
              "                title=\"Suggest charts\"\n",
              "                style=\"display:none;\">\n",
              "\n",
              "<svg xmlns=\"http://www.w3.org/2000/svg\" height=\"24px\"viewBox=\"0 0 24 24\"\n",
              "     width=\"24px\">\n",
              "    <g>\n",
              "        <path d=\"M19 3H5c-1.1 0-2 .9-2 2v14c0 1.1.9 2 2 2h14c1.1 0 2-.9 2-2V5c0-1.1-.9-2-2-2zM9 17H7v-7h2v7zm4 0h-2V7h2v10zm4 0h-2v-4h2v4z\"/>\n",
              "    </g>\n",
              "</svg>\n",
              "      </button>\n",
              "\n",
              "<style>\n",
              "  .colab-df-quickchart {\n",
              "      --bg-color: #E8F0FE;\n",
              "      --fill-color: #1967D2;\n",
              "      --hover-bg-color: #E2EBFA;\n",
              "      --hover-fill-color: #174EA6;\n",
              "      --disabled-fill-color: #AAA;\n",
              "      --disabled-bg-color: #DDD;\n",
              "  }\n",
              "\n",
              "  [theme=dark] .colab-df-quickchart {\n",
              "      --bg-color: #3B4455;\n",
              "      --fill-color: #D2E3FC;\n",
              "      --hover-bg-color: #434B5C;\n",
              "      --hover-fill-color: #FFFFFF;\n",
              "      --disabled-bg-color: #3B4455;\n",
              "      --disabled-fill-color: #666;\n",
              "  }\n",
              "\n",
              "  .colab-df-quickchart {\n",
              "    background-color: var(--bg-color);\n",
              "    border: none;\n",
              "    border-radius: 50%;\n",
              "    cursor: pointer;\n",
              "    display: none;\n",
              "    fill: var(--fill-color);\n",
              "    height: 32px;\n",
              "    padding: 0;\n",
              "    width: 32px;\n",
              "  }\n",
              "\n",
              "  .colab-df-quickchart:hover {\n",
              "    background-color: var(--hover-bg-color);\n",
              "    box-shadow: 0 1px 2px rgba(60, 64, 67, 0.3), 0 1px 3px 1px rgba(60, 64, 67, 0.15);\n",
              "    fill: var(--button-hover-fill-color);\n",
              "  }\n",
              "\n",
              "  .colab-df-quickchart-complete:disabled,\n",
              "  .colab-df-quickchart-complete:disabled:hover {\n",
              "    background-color: var(--disabled-bg-color);\n",
              "    fill: var(--disabled-fill-color);\n",
              "    box-shadow: none;\n",
              "  }\n",
              "\n",
              "  .colab-df-spinner {\n",
              "    border: 2px solid var(--fill-color);\n",
              "    border-color: transparent;\n",
              "    border-bottom-color: var(--fill-color);\n",
              "    animation:\n",
              "      spin 1s steps(1) infinite;\n",
              "  }\n",
              "\n",
              "  @keyframes spin {\n",
              "    0% {\n",
              "      border-color: transparent;\n",
              "      border-bottom-color: var(--fill-color);\n",
              "      border-left-color: var(--fill-color);\n",
              "    }\n",
              "    20% {\n",
              "      border-color: transparent;\n",
              "      border-left-color: var(--fill-color);\n",
              "      border-top-color: var(--fill-color);\n",
              "    }\n",
              "    30% {\n",
              "      border-color: transparent;\n",
              "      border-left-color: var(--fill-color);\n",
              "      border-top-color: var(--fill-color);\n",
              "      border-right-color: var(--fill-color);\n",
              "    }\n",
              "    40% {\n",
              "      border-color: transparent;\n",
              "      border-right-color: var(--fill-color);\n",
              "      border-top-color: var(--fill-color);\n",
              "    }\n",
              "    60% {\n",
              "      border-color: transparent;\n",
              "      border-right-color: var(--fill-color);\n",
              "    }\n",
              "    80% {\n",
              "      border-color: transparent;\n",
              "      border-right-color: var(--fill-color);\n",
              "      border-bottom-color: var(--fill-color);\n",
              "    }\n",
              "    90% {\n",
              "      border-color: transparent;\n",
              "      border-bottom-color: var(--fill-color);\n",
              "    }\n",
              "  }\n",
              "</style>\n",
              "\n",
              "      <script>\n",
              "        async function quickchart(key) {\n",
              "          const quickchartButtonEl =\n",
              "            document.querySelector('#' + key + ' button');\n",
              "          quickchartButtonEl.disabled = true;  // To prevent multiple clicks.\n",
              "          quickchartButtonEl.classList.add('colab-df-spinner');\n",
              "          try {\n",
              "            const charts = await google.colab.kernel.invokeFunction(\n",
              "                'suggestCharts', [key], {});\n",
              "          } catch (error) {\n",
              "            console.error('Error during call to suggestCharts:', error);\n",
              "          }\n",
              "          quickchartButtonEl.classList.remove('colab-df-spinner');\n",
              "          quickchartButtonEl.classList.add('colab-df-quickchart-complete');\n",
              "        }\n",
              "        (() => {\n",
              "          let quickchartButtonEl =\n",
              "            document.querySelector('#df-2ccb64ff-472b-4fbd-b689-816e424f1acb button');\n",
              "          quickchartButtonEl.style.display =\n",
              "            google.colab.kernel.accessAllowed ? 'block' : 'none';\n",
              "        })();\n",
              "      </script>\n",
              "    </div>\n",
              "\n",
              "    </div>\n",
              "  </div>\n"
            ],
            "application/vnd.google.colaboratory.intrinsic+json": {
              "type": "dataframe",
              "variable_name": "df",
              "summary": "{\n  \"name\": \"df\",\n  \"rows\": 891,\n  \"fields\": [\n    {\n      \"column\": \"PassengerId\",\n      \"properties\": {\n        \"dtype\": \"number\",\n        \"std\": 257,\n        \"min\": 1,\n        \"max\": 891,\n        \"num_unique_values\": 891,\n        \"samples\": [\n          710,\n          440,\n          841\n        ],\n        \"semantic_type\": \"\",\n        \"description\": \"\"\n      }\n    },\n    {\n      \"column\": \"Survived\",\n      \"properties\": {\n        \"dtype\": \"number\",\n        \"std\": 0,\n        \"min\": 0,\n        \"max\": 1,\n        \"num_unique_values\": 2,\n        \"samples\": [\n          1,\n          0\n        ],\n        \"semantic_type\": \"\",\n        \"description\": \"\"\n      }\n    },\n    {\n      \"column\": \"Pclass\",\n      \"properties\": {\n        \"dtype\": \"number\",\n        \"std\": 0,\n        \"min\": 1,\n        \"max\": 3,\n        \"num_unique_values\": 3,\n        \"samples\": [\n          3,\n          1\n        ],\n        \"semantic_type\": \"\",\n        \"description\": \"\"\n      }\n    },\n    {\n      \"column\": \"Name\",\n      \"properties\": {\n        \"dtype\": \"string\",\n        \"num_unique_values\": 891,\n        \"samples\": [\n          \"Moubarek, Master. Halim Gonios (\\\"William George\\\")\",\n          \"Kvillner, Mr. Johan Henrik Johannesson\"\n        ],\n        \"semantic_type\": \"\",\n        \"description\": \"\"\n      }\n    },\n    {\n      \"column\": \"Sex\",\n      \"properties\": {\n        \"dtype\": \"category\",\n        \"num_unique_values\": 2,\n        \"samples\": [\n          \"female\",\n          \"male\"\n        ],\n        \"semantic_type\": \"\",\n        \"description\": \"\"\n      }\n    },\n    {\n      \"column\": \"Age\",\n      \"properties\": {\n        \"dtype\": \"number\",\n        \"std\": 14.526497332334044,\n        \"min\": 0.42,\n        \"max\": 80.0,\n        \"num_unique_values\": 88,\n        \"samples\": [\n          0.75,\n          22.0\n        ],\n        \"semantic_type\": \"\",\n        \"description\": \"\"\n      }\n    },\n    {\n      \"column\": \"SibSp\",\n      \"properties\": {\n        \"dtype\": \"number\",\n        \"std\": 1,\n        \"min\": 0,\n        \"max\": 8,\n        \"num_unique_values\": 7,\n        \"samples\": [\n          1,\n          0\n        ],\n        \"semantic_type\": \"\",\n        \"description\": \"\"\n      }\n    },\n    {\n      \"column\": \"Parch\",\n      \"properties\": {\n        \"dtype\": \"number\",\n        \"std\": 0,\n        \"min\": 0,\n        \"max\": 6,\n        \"num_unique_values\": 7,\n        \"samples\": [\n          0,\n          1\n        ],\n        \"semantic_type\": \"\",\n        \"description\": \"\"\n      }\n    },\n    {\n      \"column\": \"Ticket\",\n      \"properties\": {\n        \"dtype\": \"string\",\n        \"num_unique_values\": 681,\n        \"samples\": [\n          \"11774\",\n          \"248740\"\n        ],\n        \"semantic_type\": \"\",\n        \"description\": \"\"\n      }\n    },\n    {\n      \"column\": \"Fare\",\n      \"properties\": {\n        \"dtype\": \"number\",\n        \"std\": 49.693428597180905,\n        \"min\": 0.0,\n        \"max\": 512.3292,\n        \"num_unique_values\": 248,\n        \"samples\": [\n          11.2417,\n          51.8625\n        ],\n        \"semantic_type\": \"\",\n        \"description\": \"\"\n      }\n    },\n    {\n      \"column\": \"Cabin\",\n      \"properties\": {\n        \"dtype\": \"category\",\n        \"num_unique_values\": 147,\n        \"samples\": [\n          \"D45\",\n          \"B49\"\n        ],\n        \"semantic_type\": \"\",\n        \"description\": \"\"\n      }\n    },\n    {\n      \"column\": \"Embarked\",\n      \"properties\": {\n        \"dtype\": \"category\",\n        \"num_unique_values\": 3,\n        \"samples\": [\n          \"S\",\n          \"C\"\n        ],\n        \"semantic_type\": \"\",\n        \"description\": \"\"\n      }\n    }\n  ]\n}"
            }
          },
          "metadata": {},
          "execution_count": 192
        }
      ]
    },
    {
      "cell_type": "markdown",
      "source": [
        "### 1. Pré-processamento dos dados\n",
        "  a) Filtre apenas os passageiros adultos (idade ≥ 18).\n",
        "  \n",
        "  b) Crie uma variável binária indicando se o passageiro sobreviveu (1) ou não (0)."
      ],
      "metadata": {
        "id": "wBcISEGnrcIN"
      },
      "id": "wBcISEGnrcIN"
    },
    {
      "cell_type": "code",
      "source": [
        "df.dropna(subset=[\"Age\"])\n",
        "df_adultos = df[df[\"Age\"]>=18]\n",
        "df_adultos.info()"
      ],
      "metadata": {
        "colab": {
          "base_uri": "https://localhost:8080/"
        },
        "id": "xAzwWZhL1nl7",
        "outputId": "d3c83071-f904-4bab-ea8a-e0ed85e03d78"
      },
      "id": "xAzwWZhL1nl7",
      "execution_count": 197,
      "outputs": [
        {
          "output_type": "stream",
          "name": "stdout",
          "text": [
            "<class 'pandas.core.frame.DataFrame'>\n",
            "Index: 601 entries, 0 to 890\n",
            "Data columns (total 12 columns):\n",
            " #   Column       Non-Null Count  Dtype  \n",
            "---  ------       --------------  -----  \n",
            " 0   PassengerId  601 non-null    int64  \n",
            " 1   Survived     601 non-null    int64  \n",
            " 2   Pclass       601 non-null    int64  \n",
            " 3   Name         601 non-null    object \n",
            " 4   Sex          601 non-null    object \n",
            " 5   Age          601 non-null    float64\n",
            " 6   SibSp        601 non-null    int64  \n",
            " 7   Parch        601 non-null    int64  \n",
            " 8   Ticket       601 non-null    object \n",
            " 9   Fare         601 non-null    float64\n",
            " 10  Cabin        166 non-null    object \n",
            " 11  Embarked     599 non-null    object \n",
            "dtypes: float64(2), int64(5), object(5)\n",
            "memory usage: 61.0+ KB\n"
          ]
        }
      ]
    },
    {
      "cell_type": "markdown",
      "source": [
        "### 2. Modelagem a priori para θ\n",
        "  a) Escolha duas distribuições Beta para θ, por exemplo:\n",
        "     \n",
        "- Beta(1,1): não informativa (uniforme)\n",
        "     \n",
        "- Beta(2,5): refletindo a crença de que poucos adultos sobrevivem\n",
        "\n",
        "b) Justifique suas escolhas para as distribuições a priori."
      ],
      "metadata": {
        "id": "4AOE2YoLrdmo"
      },
      "id": "4AOE2YoLrdmo"
    },
    {
      "cell_type": "markdown",
      "source": [
        "Beta(1,1) assume que qualquer chance de sobrevivência (0 a 1) tem a mesma probabilidade antes de ver os dados. Não queremos influenciar nossa análise com conhecimento prévio.\n",
        "\n",
        "Beta(2,5) assume que poucos adultos sobreviveram. Representa nosso conhecimento prévio que a maioria de lá não sobreviveu, mas ainda permite que ajustamos com os dados. Não é nada absurdo.\n",
        "\n"
      ],
      "metadata": {
        "id": "awi31KoU3EDv"
      },
      "id": "awi31KoU3EDv"
    },
    {
      "cell_type": "markdown",
      "source": [
        "### 3. Cálculo da distribuição a posteriori\n",
        "  a) Determine os parâmetros da posteriori com base nos dados observados.\n",
        "\n",
        "  b) Plote as distribuições a priori e a posteriori em um mesmo gráfico.\n",
        "  \n",
        "  c) Compare e interprete as distribuições resultantes."
      ],
      "metadata": {
        "id": "HFKRSGDZre7w"
      },
      "id": "HFKRSGDZre7w"
    },
    {
      "cell_type": "markdown",
      "source": [
        "Nossos dados seguem a distribuição de Bernoulli.\n",
        "\n",
        "Nossa priori é $Beta(\\alpha, \\beta)$, portanto nossa posteriori é $Beta(\\alpha + sucessos, \\beta + falhas)$"
      ],
      "metadata": {
        "id": "Hi0ob6aC4Dzh"
      },
      "id": "Hi0ob6aC4Dzh"
    },
    {
      "cell_type": "code",
      "source": [
        "s = df_adultos[\"Survived\"].sum() # (1)\n",
        "f = len(df_adultos) - s # (0)\n",
        "s, f"
      ],
      "metadata": {
        "colab": {
          "base_uri": "https://localhost:8080/"
        },
        "id": "gtWNy5N65aTv",
        "outputId": "652abc0b-0d69-4a7c-fc45-11e107d32347"
      },
      "id": "gtWNy5N65aTv",
      "execution_count": 198,
      "outputs": [
        {
          "output_type": "execute_result",
          "data": {
            "text/plain": [
              "(np.int64(229), np.int64(372))"
            ]
          },
          "metadata": {},
          "execution_count": 198
        }
      ]
    },
    {
      "cell_type": "code",
      "source": [
        "from scipy.stats import beta\n",
        "\n",
        "# beta(1,1)\n",
        "a1, b1 = 1, 1\n",
        "\n",
        "# beta(2,5)\n",
        "a2, b2 = 2, 5\n",
        "\n",
        "x = np.linspace(0,1,1000)\n",
        "plt.plot(x, beta.pdf(x, a1, b1))\n",
        "plt.plot(x, beta.pdf(x, a1 + s, b1 + f))\n",
        "plt.show()\n",
        "\n",
        "plt.plot(x, beta.pdf(x, a2, b2))\n",
        "plt.plot(x, beta.pdf(x, a2 + s, b2 + f))\n",
        "plt.show()\n",
        "\n",
        "# sobrepostas\n",
        "plt.plot(x, beta.pdf(x, a1, b1))\n",
        "plt.plot(x, beta.pdf(x, a1 + s, b1 + f))\n",
        "plt.plot(x, beta.pdf(x, a2, b2))\n",
        "plt.plot(x, beta.pdf(x, a2 + s, b2 + f))\n",
        "plt.show()"
      ],
      "metadata": {
        "colab": {
          "base_uri": "https://localhost:8080/",
          "height": 1000
        },
        "id": "QmZNPwMW5poq",
        "outputId": "78ceb309-a067-43a2-a8ed-143a57782b96"
      },
      "id": "QmZNPwMW5poq",
      "execution_count": 211,
      "outputs": [
        {
          "output_type": "display_data",
          "data": {
            "text/plain": [
              "<Figure size 640x480 with 1 Axes>"
            ],
            "image/png": "[encoded data removed]"
          },
          "metadata": {}
        },
        {
          "output_type": "display_data",
          "data": {
            "text/plain": [
              "<Figure size 640x480 with 1 Axes>"
            ],
            "image/png": "[encoded data removed]"
          },
          "metadata": {}
        },
        {
          "output_type": "display_data",
          "data": {
            "text/plain": [
              "<Figure size 640x480 with 1 Axes>"
            ],
            "image/png": "[encoded data removed]"
          },
          "metadata": {}
        }
      ]
    },
    {
      "cell_type": "markdown",
      "source": [
        "Nota-se que ambas posterioris são muito similares, pois como temos muitos dados, a crença inicial é insignificante.\n",
        "\n",
        "Este é um exemplo de que na inferência bayesiana, com muitos dados, a influência da priori desaparece."
      ],
      "metadata": {
        "id": "5vNiMCil9leT"
      },
      "id": "5vNiMCil9leT"
    },
    {
      "cell_type": "markdown",
      "source": [
        "### 4. Estatísticas da posteriori\n",
        "  a) Calcule a média e o intervalo de credibilidade de 95% para θ, em cada cenário.\n",
        "  \n",
        "  b) Interprete os resultados obtidos, considerando o contexto do problema.\n",
        "\n"
      ],
      "metadata": {
        "id": "78T6JdSurgfJ"
      },
      "id": "78T6JdSurgfJ"
    },
    {
      "cell_type": "code",
      "source": [
        "a, b = 1 + s, 1 + f\n",
        "mu_1 = a / (a + b)\n",
        "\n",
        "beta.ppf([0.025, 0.975], a, b), mu_1"
      ],
      "metadata": {
        "colab": {
          "base_uri": "https://localhost:8080/"
        },
        "id": "Ppo6LKhT_uSC",
        "outputId": "1cf4a808-a477-4619-ce36-229d0b4bf4fd"
      },
      "id": "Ppo6LKhT_uSC",
      "execution_count": 206,
      "outputs": [
        {
          "output_type": "execute_result",
          "data": {
            "text/plain": [
              "(array([0.34307621, 0.42052123]), np.float64(0.3814262023217247))"
            ]
          },
          "metadata": {},
          "execution_count": 206
        }
      ]
    },
    {
      "cell_type": "code",
      "source": [
        "a, b = 2 + s, 5 + f\n",
        "mu_2 = a / (a+b)\n",
        "\n",
        "beta.ppf([0.025, 0.975], a, b), mu_2"
      ],
      "metadata": {
        "colab": {
          "base_uri": "https://localhost:8080/"
        },
        "id": "PZ1gS5f7ALFk",
        "outputId": "20f799b4-b262-4f71-87d1-fe87e4c48dcc"
      },
      "id": "PZ1gS5f7ALFk",
      "execution_count": 207,
      "outputs": [
        {
          "output_type": "execute_result",
          "data": {
            "text/plain": [
              "(array([0.34177411, 0.41884252]), np.float64(0.37993421052631576))"
            ]
          },
          "metadata": {},
          "execution_count": 207
        }
      ]
    },
    {
      "cell_type": "markdown",
      "source": [
        "Ambas as estimativas $\\theta$ são extremamente próximas, com intervalos parecidos e estreitos, indicando alta confiança que a taxa verdadeira de sucesso está nesse intervalo.\n",
        "\n",
        "A escolha da priori não influencia de forma significativa no resultado com esse grande volume de dados.\n",
        "\n",
        "Aplicando no nosso contexto, ambos os modelos estimam que 38% dos adultos sobrevivem ao titanic, com bastante confiança."
      ],
      "metadata": {
        "id": "AorLrrhGAisQ"
      },
      "id": "AorLrrhGAisQ"
    },
    {
      "cell_type": "markdown",
      "source": [
        "### 5. Discussão\n",
        "  - Discuta como as diferentes escolhas de priori influenciaram os resultados.\n",
        "  - Em que contextos o uso da abordagem bayesiana pode ser mais adequado do que abordagens frequentistas?"
      ],
      "metadata": {
        "id": "C8z8O2XurhVe"
      },
      "id": "C8z8O2XurhVe"
    },
    {
      "cell_type": "code",
      "source": [
        "# plots com apenas 10 sucessos e 10 falhas\n",
        "\n",
        "plt.plot(x, beta.pdf(x, 1, 1))\n",
        "plt.plot(x, beta.pdf(x, 1 + 10, 1 + 10))\n",
        "plt.plot(x, beta.pdf(x, 2, 5))\n",
        "plt.plot(x, beta.pdf(x, 2 + 10, 5 + 10))\n",
        "plt.show()"
      ],
      "metadata": {
        "colab": {
          "base_uri": "https://localhost:8080/",
          "height": 430
        },
        "id": "dJqxxRaPCAV1",
        "outputId": "abaaf1e8-4622-443f-d4ef-3ff27d7e9e04"
      },
      "id": "dJqxxRaPCAV1",
      "execution_count": 213,
      "outputs": [
        {
          "output_type": "display_data",
          "data": {
            "text/plain": [
              "<Figure size 640x480 with 1 Axes>"
            ],
            "image/png": "[encoded data removed]"
          },
          "metadata": {}
        }
      ]
    },
    {
      "cell_type": "markdown",
      "source": [
        "A inferência bayesiana pode ser prefirível quando temos poucos dados, e podemos nos guiar por \"crenças\" que impactarão bastante no resultado final."
      ],
      "metadata": {
        "id": "vweyDAKzCnhO"
      },
      "id": "vweyDAKzCnhO"
    }
  ],
  "metadata": {
    "colab": {
      "provenance": [],
      "include_colab_link": true
    },
    "language_info": {
      "name": "python"
    },
    "kernelspec": {
      "name": "python3",
      "display_name": "Python 3"
    }
  },
  "nbformat": 4,
  "nbformat_minor": 5
}